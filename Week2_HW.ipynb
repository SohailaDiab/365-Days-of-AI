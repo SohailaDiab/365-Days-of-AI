{
  "nbformat": 4,
  "nbformat_minor": 0,
  "metadata": {
    "colab": {
      "provenance": [],
      "collapsed_sections": [],
      "authorship_tag": "ABX9TyNR9nNDxbHv82wM2qznulMR",
      "include_colab_link": true
    },
    "kernelspec": {
      "name": "python3",
      "display_name": "Python 3"
    },
    "language_info": {
      "name": "python"
    }
  },
  "cells": [
    {
      "cell_type": "markdown",
      "metadata": {
        "id": "view-in-github",
        "colab_type": "text"
      },
      "source": [
        "<a href=\"https://colab.research.google.com/github/SohailaDiab/365-Days-of-AI/blob/main/Week2_HW.ipynb\" target=\"_parent\"><img src=\"https://colab.research.google.com/assets/colab-badge.svg\" alt=\"Open In Colab\"/></a>"
      ]
    },
    {
      "cell_type": "markdown",
      "source": [
        "# Business Understanding"
      ],
      "metadata": {
        "id": "92nVlga84AUO"
      }
    },
    {
      "cell_type": "markdown",
      "source": [
        "The goal of this homework is to create a regression model for predicting housing prices (column 'median_house_value')"
      ],
      "metadata": {
        "id": "mnOt38MI4H4n"
      }
    },
    {
      "cell_type": "markdown",
      "source": [
        "# Imports"
      ],
      "metadata": {
        "id": "7I-mSVQH30Gm"
      }
    },
    {
      "cell_type": "code",
      "source": [
        "import pandas as pd\n",
        "import numpy as np\n",
        "import matplotlib.pyplot as plt\n",
        "\n",
        "from sklearn.model_selection import train_test_split"
      ],
      "metadata": {
        "id": "sTX2DnQR4Z9o"
      },
      "execution_count": 22,
      "outputs": []
    },
    {
      "cell_type": "markdown",
      "source": [
        "# Dataset"
      ],
      "metadata": {
        "id": "idHKmxh5357S"
      }
    },
    {
      "cell_type": "code",
      "source": [
        "df = pd.read_csv(\"https://raw.githubusercontent.com/alexeygrigorev/datasets/master/housing.csv\")"
      ],
      "metadata": {
        "id": "AcCX4tmu4HgU"
      },
      "execution_count": 23,
      "outputs": []
    },
    {
      "cell_type": "code",
      "source": [
        "df.head()"
      ],
      "metadata": {
        "colab": {
          "base_uri": "https://localhost:8080/",
          "height": 206
        },
        "id": "ntgBMhik4kOK",
        "outputId": "06467441-576a-4cea-9b7b-91cbaf2c7e99"
      },
      "execution_count": 24,
      "outputs": [
        {
          "output_type": "execute_result",
          "data": {
            "text/plain": [
              "   longitude  latitude  housing_median_age  total_rooms  total_bedrooms  \\\n",
              "0    -122.23     37.88                41.0        880.0           129.0   \n",
              "1    -122.22     37.86                21.0       7099.0          1106.0   \n",
              "2    -122.24     37.85                52.0       1467.0           190.0   \n",
              "3    -122.25     37.85                52.0       1274.0           235.0   \n",
              "4    -122.25     37.85                52.0       1627.0           280.0   \n",
              "\n",
              "   population  households  median_income  median_house_value ocean_proximity  \n",
              "0       322.0       126.0         8.3252            452600.0        NEAR BAY  \n",
              "1      2401.0      1138.0         8.3014            358500.0        NEAR BAY  \n",
              "2       496.0       177.0         7.2574            352100.0        NEAR BAY  \n",
              "3       558.0       219.0         5.6431            341300.0        NEAR BAY  \n",
              "4       565.0       259.0         3.8462            342200.0        NEAR BAY  "
            ],
            "text/html": [
              "\n",
              "  <div id=\"df-87264840-6ea5-4638-a296-f9a24f37d581\">\n",
              "    <div class=\"colab-df-container\">\n",
              "      <div>\n",
              "<style scoped>\n",
              "    .dataframe tbody tr th:only-of-type {\n",
              "        vertical-align: middle;\n",
              "    }\n",
              "\n",
              "    .dataframe tbody tr th {\n",
              "        vertical-align: top;\n",
              "    }\n",
              "\n",
              "    .dataframe thead th {\n",
              "        text-align: right;\n",
              "    }\n",
              "</style>\n",
              "<table border=\"1\" class=\"dataframe\">\n",
              "  <thead>\n",
              "    <tr style=\"text-align: right;\">\n",
              "      <th></th>\n",
              "      <th>longitude</th>\n",
              "      <th>latitude</th>\n",
              "      <th>housing_median_age</th>\n",
              "      <th>total_rooms</th>\n",
              "      <th>total_bedrooms</th>\n",
              "      <th>population</th>\n",
              "      <th>households</th>\n",
              "      <th>median_income</th>\n",
              "      <th>median_house_value</th>\n",
              "      <th>ocean_proximity</th>\n",
              "    </tr>\n",
              "  </thead>\n",
              "  <tbody>\n",
              "    <tr>\n",
              "      <th>0</th>\n",
              "      <td>-122.23</td>\n",
              "      <td>37.88</td>\n",
              "      <td>41.0</td>\n",
              "      <td>880.0</td>\n",
              "      <td>129.0</td>\n",
              "      <td>322.0</td>\n",
              "      <td>126.0</td>\n",
              "      <td>8.3252</td>\n",
              "      <td>452600.0</td>\n",
              "      <td>NEAR BAY</td>\n",
              "    </tr>\n",
              "    <tr>\n",
              "      <th>1</th>\n",
              "      <td>-122.22</td>\n",
              "      <td>37.86</td>\n",
              "      <td>21.0</td>\n",
              "      <td>7099.0</td>\n",
              "      <td>1106.0</td>\n",
              "      <td>2401.0</td>\n",
              "      <td>1138.0</td>\n",
              "      <td>8.3014</td>\n",
              "      <td>358500.0</td>\n",
              "      <td>NEAR BAY</td>\n",
              "    </tr>\n",
              "    <tr>\n",
              "      <th>2</th>\n",
              "      <td>-122.24</td>\n",
              "      <td>37.85</td>\n",
              "      <td>52.0</td>\n",
              "      <td>1467.0</td>\n",
              "      <td>190.0</td>\n",
              "      <td>496.0</td>\n",
              "      <td>177.0</td>\n",
              "      <td>7.2574</td>\n",
              "      <td>352100.0</td>\n",
              "      <td>NEAR BAY</td>\n",
              "    </tr>\n",
              "    <tr>\n",
              "      <th>3</th>\n",
              "      <td>-122.25</td>\n",
              "      <td>37.85</td>\n",
              "      <td>52.0</td>\n",
              "      <td>1274.0</td>\n",
              "      <td>235.0</td>\n",
              "      <td>558.0</td>\n",
              "      <td>219.0</td>\n",
              "      <td>5.6431</td>\n",
              "      <td>341300.0</td>\n",
              "      <td>NEAR BAY</td>\n",
              "    </tr>\n",
              "    <tr>\n",
              "      <th>4</th>\n",
              "      <td>-122.25</td>\n",
              "      <td>37.85</td>\n",
              "      <td>52.0</td>\n",
              "      <td>1627.0</td>\n",
              "      <td>280.0</td>\n",
              "      <td>565.0</td>\n",
              "      <td>259.0</td>\n",
              "      <td>3.8462</td>\n",
              "      <td>342200.0</td>\n",
              "      <td>NEAR BAY</td>\n",
              "    </tr>\n",
              "  </tbody>\n",
              "</table>\n",
              "</div>\n",
              "      <button class=\"colab-df-convert\" onclick=\"convertToInteractive('df-87264840-6ea5-4638-a296-f9a24f37d581')\"\n",
              "              title=\"Convert this dataframe to an interactive table.\"\n",
              "              style=\"display:none;\">\n",
              "        \n",
              "  <svg xmlns=\"http://www.w3.org/2000/svg\" height=\"24px\"viewBox=\"0 0 24 24\"\n",
              "       width=\"24px\">\n",
              "    <path d=\"M0 0h24v24H0V0z\" fill=\"none\"/>\n",
              "    <path d=\"M18.56 5.44l.94 2.06.94-2.06 2.06-.94-2.06-.94-.94-2.06-.94 2.06-2.06.94zm-11 1L8.5 8.5l.94-2.06 2.06-.94-2.06-.94L8.5 2.5l-.94 2.06-2.06.94zm10 10l.94 2.06.94-2.06 2.06-.94-2.06-.94-.94-2.06-.94 2.06-2.06.94z\"/><path d=\"M17.41 7.96l-1.37-1.37c-.4-.4-.92-.59-1.43-.59-.52 0-1.04.2-1.43.59L10.3 9.45l-7.72 7.72c-.78.78-.78 2.05 0 2.83L4 21.41c.39.39.9.59 1.41.59.51 0 1.02-.2 1.41-.59l7.78-7.78 2.81-2.81c.8-.78.8-2.07 0-2.86zM5.41 20L4 18.59l7.72-7.72 1.47 1.35L5.41 20z\"/>\n",
              "  </svg>\n",
              "      </button>\n",
              "      \n",
              "  <style>\n",
              "    .colab-df-container {\n",
              "      display:flex;\n",
              "      flex-wrap:wrap;\n",
              "      gap: 12px;\n",
              "    }\n",
              "\n",
              "    .colab-df-convert {\n",
              "      background-color: #E8F0FE;\n",
              "      border: none;\n",
              "      border-radius: 50%;\n",
              "      cursor: pointer;\n",
              "      display: none;\n",
              "      fill: #1967D2;\n",
              "      height: 32px;\n",
              "      padding: 0 0 0 0;\n",
              "      width: 32px;\n",
              "    }\n",
              "\n",
              "    .colab-df-convert:hover {\n",
              "      background-color: #E2EBFA;\n",
              "      box-shadow: 0px 1px 2px rgba(60, 64, 67, 0.3), 0px 1px 3px 1px rgba(60, 64, 67, 0.15);\n",
              "      fill: #174EA6;\n",
              "    }\n",
              "\n",
              "    [theme=dark] .colab-df-convert {\n",
              "      background-color: #3B4455;\n",
              "      fill: #D2E3FC;\n",
              "    }\n",
              "\n",
              "    [theme=dark] .colab-df-convert:hover {\n",
              "      background-color: #434B5C;\n",
              "      box-shadow: 0px 1px 3px 1px rgba(0, 0, 0, 0.15);\n",
              "      filter: drop-shadow(0px 1px 2px rgba(0, 0, 0, 0.3));\n",
              "      fill: #FFFFFF;\n",
              "    }\n",
              "  </style>\n",
              "\n",
              "      <script>\n",
              "        const buttonEl =\n",
              "          document.querySelector('#df-87264840-6ea5-4638-a296-f9a24f37d581 button.colab-df-convert');\n",
              "        buttonEl.style.display =\n",
              "          google.colab.kernel.accessAllowed ? 'block' : 'none';\n",
              "\n",
              "        async function convertToInteractive(key) {\n",
              "          const element = document.querySelector('#df-87264840-6ea5-4638-a296-f9a24f37d581');\n",
              "          const dataTable =\n",
              "            await google.colab.kernel.invokeFunction('convertToInteractive',\n",
              "                                                     [key], {});\n",
              "          if (!dataTable) return;\n",
              "\n",
              "          const docLinkHtml = 'Like what you see? Visit the ' +\n",
              "            '<a target=\"_blank\" href=https://colab.research.google.com/notebooks/data_table.ipynb>data table notebook</a>'\n",
              "            + ' to learn more about interactive tables.';\n",
              "          element.innerHTML = '';\n",
              "          dataTable['output_type'] = 'display_data';\n",
              "          await google.colab.output.renderOutput(dataTable, element);\n",
              "          const docLink = document.createElement('div');\n",
              "          docLink.innerHTML = docLinkHtml;\n",
              "          element.appendChild(docLink);\n",
              "        }\n",
              "      </script>\n",
              "    </div>\n",
              "  </div>\n",
              "  "
            ]
          },
          "metadata": {},
          "execution_count": 24
        }
      ]
    },
    {
      "cell_type": "markdown",
      "source": [
        "# EDA"
      ],
      "metadata": {
        "id": "ucrtfyDI4h0f"
      }
    },
    {
      "cell_type": "markdown",
      "source": [
        ">Look at the median_house_value variable. Does it have a long tail?\n"
      ],
      "metadata": {
        "id": "KX7unBjjrn5E"
      }
    },
    {
      "cell_type": "code",
      "source": [
        "df.shape"
      ],
      "metadata": {
        "colab": {
          "base_uri": "https://localhost:8080/"
        },
        "id": "1hBwtPT044nP",
        "outputId": "a742912c-9697-4882-a0fd-2140b536075c"
      },
      "execution_count": 25,
      "outputs": [
        {
          "output_type": "execute_result",
          "data": {
            "text/plain": [
              "(20640, 10)"
            ]
          },
          "metadata": {},
          "execution_count": 25
        }
      ]
    },
    {
      "cell_type": "code",
      "execution_count": 26,
      "metadata": {
        "colab": {
          "base_uri": "https://localhost:8080/",
          "height": 265
        },
        "id": "TU2yXiM93Mc7",
        "outputId": "696c86a0-5396-4fa2-f812-39ebce60c946"
      },
      "outputs": [
        {
          "output_type": "display_data",
          "data": {
            "text/plain": [
              "<Figure size 432x288 with 1 Axes>"
            ],
            "image/png": "[encoded data removed]"
          },
          "metadata": {
            "needs_background": "light"
          }
        }
      ],
      "source": [
        "plt.hist(df['median_house_value'], bins=30);"
      ]
    },
    {
      "cell_type": "markdown",
      "source": [
        "We can see that `median_house_value`'s distribution is **right skewed**, with an outlier at the very end."
      ],
      "metadata": {
        "id": "nAVHXa-Mrw9X"
      }
    },
    {
      "cell_type": "markdown",
      "source": [
        "# Features"
      ],
      "metadata": {
        "id": "zZ6EfU_otXBd"
      }
    },
    {
      "cell_type": "markdown",
      "source": [
        "For the rest of the homework, you'll need to use only these columns:\n",
        "\n",
        "*   'latitude',\n",
        "*   'longitude',\n",
        "*   'housing_median_age',\n",
        "* 'total_rooms',\n",
        "* 'total_bedrooms',\n",
        "* 'population',\n",
        "* 'households',\n",
        "* 'median_income',\n",
        "* 'median_house_value'\n",
        "\n",
        "\n",
        "\n",
        "\n"
      ],
      "metadata": {
        "id": "rWO8ziwmtZjg"
      }
    },
    {
      "cell_type": "code",
      "source": [
        "df.columns"
      ],
      "metadata": {
        "id": "ipJ_2XQo38qK",
        "colab": {
          "base_uri": "https://localhost:8080/"
        },
        "outputId": "64e7108f-a11c-427f-8ea8-d296c724e6bc"
      },
      "execution_count": 27,
      "outputs": [
        {
          "output_type": "execute_result",
          "data": {
            "text/plain": [
              "Index(['longitude', 'latitude', 'housing_median_age', 'total_rooms',\n",
              "       'total_bedrooms', 'population', 'households', 'median_income',\n",
              "       'median_house_value', 'ocean_proximity'],\n",
              "      dtype='object')"
            ]
          },
          "metadata": {},
          "execution_count": 27
        }
      ]
    },
    {
      "cell_type": "code",
      "source": [
        "# Drop `ocean_proximity` column\n",
        "del df['ocean_proximity']"
      ],
      "metadata": {
        "id": "6nR-pFeRtrPo"
      },
      "execution_count": 28,
      "outputs": []
    },
    {
      "cell_type": "markdown",
      "source": [
        "# Question 1\n",
        "Find a feature with missing values. How many missing values does it have?"
      ],
      "metadata": {
        "id": "yLlS_rFc1cEe"
      }
    },
    {
      "cell_type": "code",
      "source": [
        "df.isna().sum()"
      ],
      "metadata": {
        "colab": {
          "base_uri": "https://localhost:8080/"
        },
        "id": "GsVjPZRdt1SW",
        "outputId": "5ecc20de-4cb9-4b3b-a94b-082b1a63cf5b"
      },
      "execution_count": 29,
      "outputs": [
        {
          "output_type": "execute_result",
          "data": {
            "text/plain": [
              "longitude               0\n",
              "latitude                0\n",
              "housing_median_age      0\n",
              "total_rooms             0\n",
              "total_bedrooms        207\n",
              "population              0\n",
              "households              0\n",
              "median_income           0\n",
              "median_house_value      0\n",
              "dtype: int64"
            ]
          },
          "metadata": {},
          "execution_count": 29
        }
      ]
    },
    {
      "cell_type": "markdown",
      "source": [
        "`total_bedrooms` has **207** missing values."
      ],
      "metadata": {
        "id": "AMhNf3022Pd3"
      }
    },
    {
      "cell_type": "markdown",
      "source": [
        "# Question 2\n",
        "What's the median (50% percentile) for variable 'population'?\n"
      ],
      "metadata": {
        "id": "AkvEz8v32Zz8"
      }
    },
    {
      "cell_type": "code",
      "source": [
        "df['population'].median()"
      ],
      "metadata": {
        "colab": {
          "base_uri": "https://localhost:8080/"
        },
        "id": "xn6BFHrTt3IN",
        "outputId": "8061d512-e911-47fd-cdb1-6f498a6c9e6c"
      },
      "execution_count": 30,
      "outputs": [
        {
          "output_type": "execute_result",
          "data": {
            "text/plain": [
              "1166.0"
            ]
          },
          "metadata": {},
          "execution_count": 30
        }
      ]
    },
    {
      "cell_type": "markdown",
      "source": [
        "The median for `population` is **1166**"
      ],
      "metadata": {
        "id": "jmBEWAuS2oXa"
      }
    },
    {
      "cell_type": "markdown",
      "source": [
        "\n",
        "\n",
        "---\n",
        "\n",
        "\n",
        "\n",
        "\n"
      ],
      "metadata": {
        "id": "nitBnJY-3ICi"
      }
    },
    {
      "cell_type": "markdown",
      "source": [
        "# Split the data\n",
        "\n",
        "* Shuffle the initial dataset, use seed 42.\n",
        "* Split your data in train/val/test sets, with 60%/20%/20% distribution.\n",
        "* Make sure that the target value ('median_house_value') is not in your dataframe.\n",
        "* Apply the log transformation to the median_house_value variable using the np.log1p() function."
      ],
      "metadata": {
        "id": "kUzYlDGQ2-1X"
      }
    },
    {
      "cell_type": "code",
      "source": [
        "df.head()"
      ],
      "metadata": {
        "colab": {
          "base_uri": "https://localhost:8080/",
          "height": 206
        },
        "id": "SNkdT_oU8sk9",
        "outputId": "cb9c755c-3e60-4387-aa02-ed2856534b5e"
      },
      "execution_count": 31,
      "outputs": [
        {
          "output_type": "execute_result",
          "data": {
            "text/plain": [
              "   longitude  latitude  housing_median_age  total_rooms  total_bedrooms  \\\n",
              "0    -122.23     37.88                41.0        880.0           129.0   \n",
              "1    -122.22     37.86                21.0       7099.0          1106.0   \n",
              "2    -122.24     37.85                52.0       1467.0           190.0   \n",
              "3    -122.25     37.85                52.0       1274.0           235.0   \n",
              "4    -122.25     37.85                52.0       1627.0           280.0   \n",
              "\n",
              "   population  households  median_income  median_house_value  \n",
              "0       322.0       126.0         8.3252            452600.0  \n",
              "1      2401.0      1138.0         8.3014            358500.0  \n",
              "2       496.0       177.0         7.2574            352100.0  \n",
              "3       558.0       219.0         5.6431            341300.0  \n",
              "4       565.0       259.0         3.8462            342200.0  "
            ],
            "text/html": [
              "\n",
              "  <div id=\"df-3ecc66db-98c5-4c50-bebc-024f56bf2072\">\n",
              "    <div class=\"colab-df-container\">\n",
              "      <div>\n",
              "<style scoped>\n",
              "    .dataframe tbody tr th:only-of-type {\n",
              "        vertical-align: middle;\n",
              "    }\n",
              "\n",
              "    .dataframe tbody tr th {\n",
              "        vertical-align: top;\n",
              "    }\n",
              "\n",
              "    .dataframe thead th {\n",
              "        text-align: right;\n",
              "    }\n",
              "</style>\n",
              "<table border=\"1\" class=\"dataframe\">\n",
              "  <thead>\n",
              "    <tr style=\"text-align: right;\">\n",
              "      <th></th>\n",
              "      <th>longitude</th>\n",
              "      <th>latitude</th>\n",
              "      <th>housing_median_age</th>\n",
              "      <th>total_rooms</th>\n",
              "      <th>total_bedrooms</th>\n",
              "      <th>population</th>\n",
              "      <th>households</th>\n",
              "      <th>median_income</th>\n",
              "      <th>median_house_value</th>\n",
              "    </tr>\n",
              "  </thead>\n",
              "  <tbody>\n",
              "    <tr>\n",
              "      <th>0</th>\n",
              "      <td>-122.23</td>\n",
              "      <td>37.88</td>\n",
              "      <td>41.0</td>\n",
              "      <td>880.0</td>\n",
              "      <td>129.0</td>\n",
              "      <td>322.0</td>\n",
              "      <td>126.0</td>\n",
              "      <td>8.3252</td>\n",
              "      <td>452600.0</td>\n",
              "    </tr>\n",
              "    <tr>\n",
              "      <th>1</th>\n",
              "      <td>-122.22</td>\n",
              "      <td>37.86</td>\n",
              "      <td>21.0</td>\n",
              "      <td>7099.0</td>\n",
              "      <td>1106.0</td>\n",
              "      <td>2401.0</td>\n",
              "      <td>1138.0</td>\n",
              "      <td>8.3014</td>\n",
              "      <td>358500.0</td>\n",
              "    </tr>\n",
              "    <tr>\n",
              "      <th>2</th>\n",
              "      <td>-122.24</td>\n",
              "      <td>37.85</td>\n",
              "      <td>52.0</td>\n",
              "      <td>1467.0</td>\n",
              "      <td>190.0</td>\n",
              "      <td>496.0</td>\n",
              "      <td>177.0</td>\n",
              "      <td>7.2574</td>\n",
              "      <td>352100.0</td>\n",
              "    </tr>\n",
              "    <tr>\n",
              "      <th>3</th>\n",
              "      <td>-122.25</td>\n",
              "      <td>37.85</td>\n",
              "      <td>52.0</td>\n",
              "      <td>1274.0</td>\n",
              "      <td>235.0</td>\n",
              "      <td>558.0</td>\n",
              "      <td>219.0</td>\n",
              "      <td>5.6431</td>\n",
              "      <td>341300.0</td>\n",
              "    </tr>\n",
              "    <tr>\n",
              "      <th>4</th>\n",
              "      <td>-122.25</td>\n",
              "      <td>37.85</td>\n",
              "      <td>52.0</td>\n",
              "      <td>1627.0</td>\n",
              "      <td>280.0</td>\n",
              "      <td>565.0</td>\n",
              "      <td>259.0</td>\n",
              "      <td>3.8462</td>\n",
              "      <td>342200.0</td>\n",
              "    </tr>\n",
              "  </tbody>\n",
              "</table>\n",
              "</div>\n",
              "      <button class=\"colab-df-convert\" onclick=\"convertToInteractive('df-3ecc66db-98c5-4c50-bebc-024f56bf2072')\"\n",
              "              title=\"Convert this dataframe to an interactive table.\"\n",
              "              style=\"display:none;\">\n",
              "        \n",
              "  <svg xmlns=\"http://www.w3.org/2000/svg\" height=\"24px\"viewBox=\"0 0 24 24\"\n",
              "       width=\"24px\">\n",
              "    <path d=\"M0 0h24v24H0V0z\" fill=\"none\"/>\n",
              "    <path d=\"M18.56 5.44l.94 2.06.94-2.06 2.06-.94-2.06-.94-.94-2.06-.94 2.06-2.06.94zm-11 1L8.5 8.5l.94-2.06 2.06-.94-2.06-.94L8.5 2.5l-.94 2.06-2.06.94zm10 10l.94 2.06.94-2.06 2.06-.94-2.06-.94-.94-2.06-.94 2.06-2.06.94z\"/><path d=\"M17.41 7.96l-1.37-1.37c-.4-.4-.92-.59-1.43-.59-.52 0-1.04.2-1.43.59L10.3 9.45l-7.72 7.72c-.78.78-.78 2.05 0 2.83L4 21.41c.39.39.9.59 1.41.59.51 0 1.02-.2 1.41-.59l7.78-7.78 2.81-2.81c.8-.78.8-2.07 0-2.86zM5.41 20L4 18.59l7.72-7.72 1.47 1.35L5.41 20z\"/>\n",
              "  </svg>\n",
              "      </button>\n",
              "      \n",
              "  <style>\n",
              "    .colab-df-container {\n",
              "      display:flex;\n",
              "      flex-wrap:wrap;\n",
              "      gap: 12px;\n",
              "    }\n",
              "\n",
              "    .colab-df-convert {\n",
              "      background-color: #E8F0FE;\n",
              "      border: none;\n",
              "      border-radius: 50%;\n",
              "      cursor: pointer;\n",
              "      display: none;\n",
              "      fill: #1967D2;\n",
              "      height: 32px;\n",
              "      padding: 0 0 0 0;\n",
              "      width: 32px;\n",
              "    }\n",
              "\n",
              "    .colab-df-convert:hover {\n",
              "      background-color: #E2EBFA;\n",
              "      box-shadow: 0px 1px 2px rgba(60, 64, 67, 0.3), 0px 1px 3px 1px rgba(60, 64, 67, 0.15);\n",
              "      fill: #174EA6;\n",
              "    }\n",
              "\n",
              "    [theme=dark] .colab-df-convert {\n",
              "      background-color: #3B4455;\n",
              "      fill: #D2E3FC;\n",
              "    }\n",
              "\n",
              "    [theme=dark] .colab-df-convert:hover {\n",
              "      background-color: #434B5C;\n",
              "      box-shadow: 0px 1px 3px 1px rgba(0, 0, 0, 0.15);\n",
              "      filter: drop-shadow(0px 1px 2px rgba(0, 0, 0, 0.3));\n",
              "      fill: #FFFFFF;\n",
              "    }\n",
              "  </style>\n",
              "\n",
              "      <script>\n",
              "        const buttonEl =\n",
              "          document.querySelector('#df-3ecc66db-98c5-4c50-bebc-024f56bf2072 button.colab-df-convert');\n",
              "        buttonEl.style.display =\n",
              "          google.colab.kernel.accessAllowed ? 'block' : 'none';\n",
              "\n",
              "        async function convertToInteractive(key) {\n",
              "          const element = document.querySelector('#df-3ecc66db-98c5-4c50-bebc-024f56bf2072');\n",
              "          const dataTable =\n",
              "            await google.colab.kernel.invokeFunction('convertToInteractive',\n",
              "                                                     [key], {});\n",
              "          if (!dataTable) return;\n",
              "\n",
              "          const docLinkHtml = 'Like what you see? Visit the ' +\n",
              "            '<a target=\"_blank\" href=https://colab.research.google.com/notebooks/data_table.ipynb>data table notebook</a>'\n",
              "            + ' to learn more about interactive tables.';\n",
              "          element.innerHTML = '';\n",
              "          dataTable['output_type'] = 'display_data';\n",
              "          await google.colab.output.renderOutput(dataTable, element);\n",
              "          const docLink = document.createElement('div');\n",
              "          docLink.innerHTML = docLinkHtml;\n",
              "          element.appendChild(docLink);\n",
              "        }\n",
              "      </script>\n",
              "    </div>\n",
              "  </div>\n",
              "  "
            ]
          },
          "metadata": {},
          "execution_count": 31
        }
      ]
    },
    {
      "cell_type": "markdown",
      "source": [
        "## Shuffle"
      ],
      "metadata": {
        "id": "FnQ4XuK_sALU"
      }
    },
    {
      "cell_type": "code",
      "source": [
        "# Shuffle the initial dataset, use seed 42.\n",
        "np.random.seed(42)\n",
        "\n",
        "# A way of doing it (however, the order changes every time)\n",
        "# df = df.sample(frac=1).reset_index(drop=True)\n",
        "\n",
        "# Generate the indicies and shuffle them\n",
        "n = len(df)\n",
        "idx = np.arange(n)\n",
        "np.random.shuffle(idx)\n",
        "\n",
        "df_shuffled = df.iloc[idx].reset_index(drop=True)"
      ],
      "metadata": {
        "id": "PcP6FHSX2e1M"
      },
      "execution_count": 32,
      "outputs": []
    },
    {
      "cell_type": "markdown",
      "source": [
        "### Prepare Feature Matrix X"
      ],
      "metadata": {
        "id": "0cxvUFYNDpEf"
      }
    },
    {
      "cell_type": "code",
      "source": [
        "# Prepare feature matrix\n",
        "\n",
        "def prepare_X(df, fill_zeros=False, fill_mean=False):\n",
        "  # This function should not modify the original df we have, \n",
        "  # so we will work with a copy\n",
        "  df = df.copy()\n",
        "\n",
        "  # Fill NaNs with 0 if True\n",
        "  if fill_zeros:\n",
        "    df = df.fillna(0)\n",
        "  # Fill NaNs with mean if True\n",
        "  if fill_mean:\n",
        "    mean = df['total_bedrooms'].mean()\n",
        "    df = df.fillna(mean)\n",
        "\n",
        "  # Extracting the feature matrix np array\n",
        "  X = df.values\n",
        "  return X"
      ],
      "metadata": {
        "id": "tHC7szqwDn5v"
      },
      "execution_count": 33,
      "outputs": []
    },
    {
      "cell_type": "markdown",
      "source": [
        "## Split into X and y"
      ],
      "metadata": {
        "id": "CMZIY0f-sCES"
      }
    },
    {
      "cell_type": "code",
      "source": [
        "# Split data into X (without labels) and y (labels)\n",
        "X = df_shuffled.iloc[:, :df.shape[1]-1]\n",
        "y = df_shuffled.iloc[:, -1:]"
      ],
      "metadata": {
        "id": "e8XErY3X3s0t"
      },
      "execution_count": 34,
      "outputs": []
    },
    {
      "cell_type": "markdown",
      "source": [
        "## Apply log transformation to y `median_house_value`"
      ],
      "metadata": {
        "id": "XvgOvmiXsxQX"
      }
    },
    {
      "cell_type": "code",
      "source": [
        "y = np.log1p(y)"
      ],
      "metadata": {
        "id": "PDAV88Uxs4TZ"
      },
      "execution_count": 35,
      "outputs": []
    },
    {
      "cell_type": "code",
      "source": [
        "y.describe()"
      ],
      "metadata": {
        "colab": {
          "base_uri": "https://localhost:8080/",
          "height": 300
        },
        "id": "GAVnXNKftV7H",
        "outputId": "fec57f25-f3ac-45d4-cf5b-637b562e2dff"
      },
      "execution_count": 36,
      "outputs": [
        {
          "output_type": "execute_result",
          "data": {
            "text/plain": [
              "       median_house_value\n",
              "count        20640.000000\n",
              "mean            12.084891\n",
              "std              0.569131\n",
              "min              9.615805\n",
              "25%             11.691916\n",
              "50%             12.099050\n",
              "75%             12.486451\n",
              "max             13.122367"
            ],
            "text/html": [
              "\n",
              "  <div id=\"df-236d67a4-e6a2-46b5-88da-a196cbd84d47\">\n",
              "    <div class=\"colab-df-container\">\n",
              "      <div>\n",
              "<style scoped>\n",
              "    .dataframe tbody tr th:only-of-type {\n",
              "        vertical-align: middle;\n",
              "    }\n",
              "\n",
              "    .dataframe tbody tr th {\n",
              "        vertical-align: top;\n",
              "    }\n",
              "\n",
              "    .dataframe thead th {\n",
              "        text-align: right;\n",
              "    }\n",
              "</style>\n",
              "<table border=\"1\" class=\"dataframe\">\n",
              "  <thead>\n",
              "    <tr style=\"text-align: right;\">\n",
              "      <th></th>\n",
              "      <th>median_house_value</th>\n",
              "    </tr>\n",
              "  </thead>\n",
              "  <tbody>\n",
              "    <tr>\n",
              "      <th>count</th>\n",
              "      <td>20640.000000</td>\n",
              "    </tr>\n",
              "    <tr>\n",
              "      <th>mean</th>\n",
              "      <td>12.084891</td>\n",
              "    </tr>\n",
              "    <tr>\n",
              "      <th>std</th>\n",
              "      <td>0.569131</td>\n",
              "    </tr>\n",
              "    <tr>\n",
              "      <th>min</th>\n",
              "      <td>9.615805</td>\n",
              "    </tr>\n",
              "    <tr>\n",
              "      <th>25%</th>\n",
              "      <td>11.691916</td>\n",
              "    </tr>\n",
              "    <tr>\n",
              "      <th>50%</th>\n",
              "      <td>12.099050</td>\n",
              "    </tr>\n",
              "    <tr>\n",
              "      <th>75%</th>\n",
              "      <td>12.486451</td>\n",
              "    </tr>\n",
              "    <tr>\n",
              "      <th>max</th>\n",
              "      <td>13.122367</td>\n",
              "    </tr>\n",
              "  </tbody>\n",
              "</table>\n",
              "</div>\n",
              "      <button class=\"colab-df-convert\" onclick=\"convertToInteractive('df-236d67a4-e6a2-46b5-88da-a196cbd84d47')\"\n",
              "              title=\"Convert this dataframe to an interactive table.\"\n",
              "              style=\"display:none;\">\n",
              "        \n",
              "  <svg xmlns=\"http://www.w3.org/2000/svg\" height=\"24px\"viewBox=\"0 0 24 24\"\n",
              "       width=\"24px\">\n",
              "    <path d=\"M0 0h24v24H0V0z\" fill=\"none\"/>\n",
              "    <path d=\"M18.56 5.44l.94 2.06.94-2.06 2.06-.94-2.06-.94-.94-2.06-.94 2.06-2.06.94zm-11 1L8.5 8.5l.94-2.06 2.06-.94-2.06-.94L8.5 2.5l-.94 2.06-2.06.94zm10 10l.94 2.06.94-2.06 2.06-.94-2.06-.94-.94-2.06-.94 2.06-2.06.94z\"/><path d=\"M17.41 7.96l-1.37-1.37c-.4-.4-.92-.59-1.43-.59-.52 0-1.04.2-1.43.59L10.3 9.45l-7.72 7.72c-.78.78-.78 2.05 0 2.83L4 21.41c.39.39.9.59 1.41.59.51 0 1.02-.2 1.41-.59l7.78-7.78 2.81-2.81c.8-.78.8-2.07 0-2.86zM5.41 20L4 18.59l7.72-7.72 1.47 1.35L5.41 20z\"/>\n",
              "  </svg>\n",
              "      </button>\n",
              "      \n",
              "  <style>\n",
              "    .colab-df-container {\n",
              "      display:flex;\n",
              "      flex-wrap:wrap;\n",
              "      gap: 12px;\n",
              "    }\n",
              "\n",
              "    .colab-df-convert {\n",
              "      background-color: #E8F0FE;\n",
              "      border: none;\n",
              "      border-radius: 50%;\n",
              "      cursor: pointer;\n",
              "      display: none;\n",
              "      fill: #1967D2;\n",
              "      height: 32px;\n",
              "      padding: 0 0 0 0;\n",
              "      width: 32px;\n",
              "    }\n",
              "\n",
              "    .colab-df-convert:hover {\n",
              "      background-color: #E2EBFA;\n",
              "      box-shadow: 0px 1px 2px rgba(60, 64, 67, 0.3), 0px 1px 3px 1px rgba(60, 64, 67, 0.15);\n",
              "      fill: #174EA6;\n",
              "    }\n",
              "\n",
              "    [theme=dark] .colab-df-convert {\n",
              "      background-color: #3B4455;\n",
              "      fill: #D2E3FC;\n",
              "    }\n",
              "\n",
              "    [theme=dark] .colab-df-convert:hover {\n",
              "      background-color: #434B5C;\n",
              "      box-shadow: 0px 1px 3px 1px rgba(0, 0, 0, 0.15);\n",
              "      filter: drop-shadow(0px 1px 2px rgba(0, 0, 0, 0.3));\n",
              "      fill: #FFFFFF;\n",
              "    }\n",
              "  </style>\n",
              "\n",
              "      <script>\n",
              "        const buttonEl =\n",
              "          document.querySelector('#df-236d67a4-e6a2-46b5-88da-a196cbd84d47 button.colab-df-convert');\n",
              "        buttonEl.style.display =\n",
              "          google.colab.kernel.accessAllowed ? 'block' : 'none';\n",
              "\n",
              "        async function convertToInteractive(key) {\n",
              "          const element = document.querySelector('#df-236d67a4-e6a2-46b5-88da-a196cbd84d47');\n",
              "          const dataTable =\n",
              "            await google.colab.kernel.invokeFunction('convertToInteractive',\n",
              "                                                     [key], {});\n",
              "          if (!dataTable) return;\n",
              "\n",
              "          const docLinkHtml = 'Like what you see? Visit the ' +\n",
              "            '<a target=\"_blank\" href=https://colab.research.google.com/notebooks/data_table.ipynb>data table notebook</a>'\n",
              "            + ' to learn more about interactive tables.';\n",
              "          element.innerHTML = '';\n",
              "          dataTable['output_type'] = 'display_data';\n",
              "          await google.colab.output.renderOutput(dataTable, element);\n",
              "          const docLink = document.createElement('div');\n",
              "          docLink.innerHTML = docLinkHtml;\n",
              "          element.appendChild(docLink);\n",
              "        }\n",
              "      </script>\n",
              "    </div>\n",
              "  </div>\n",
              "  "
            ]
          },
          "metadata": {},
          "execution_count": 36
        }
      ]
    },
    {
      "cell_type": "markdown",
      "source": [
        "## Split data into train, test, validation\n",
        "- train -> 60%\n",
        "- validation -> 20%\n",
        "- test -> 20%"
      ],
      "metadata": {
        "id": "YMLX1BNtr0CT"
      }
    },
    {
      "cell_type": "code",
      "source": [
        "# Split the data in training and remaining dataset\n",
        "X_train, X_rem, y_train, y_rem = train_test_split(X, y, train_size=0.6, shuffle=False)\n",
        "\n",
        "# Split the remaining dataset into validation and testing (50 50)\n",
        "X_valid, X_test, y_valid, y_test = train_test_split(X_rem,  y_rem, test_size=0.5, shuffle=False)\n",
        "\n",
        "y_train, y_valid, y_test = y_train.values, y_valid.values, y_test.values "
      ],
      "metadata": {
        "id": "nzN8ebaTpjja"
      },
      "execution_count": 37,
      "outputs": []
    },
    {
      "cell_type": "code",
      "source": [
        "print(X_train.shape), print(y_train.shape)\n",
        "print()\n",
        "print(X_valid.shape), print(y_valid.shape)\n",
        "print()\n",
        "print(X_test.shape), print(y_test.shape)"
      ],
      "metadata": {
        "colab": {
          "base_uri": "https://localhost:8080/"
        },
        "id": "9lNBZywopk1h",
        "outputId": "6c1f69a7-b6a0-4c6b-d7ed-cfa2401600c4"
      },
      "execution_count": 38,
      "outputs": [
        {
          "output_type": "stream",
          "name": "stdout",
          "text": [
            "(12384, 8)\n",
            "(12384, 1)\n",
            "\n",
            "(4128, 8)\n",
            "(4128, 1)\n",
            "\n",
            "(4128, 8)\n",
            "(4128, 1)\n"
          ]
        },
        {
          "output_type": "execute_result",
          "data": {
            "text/plain": [
              "(None, None)"
            ]
          },
          "metadata": {},
          "execution_count": 38
        }
      ]
    },
    {
      "cell_type": "markdown",
      "source": [
        "# Question 3\n",
        "- We need to deal with missing values for the column from Q1.\n",
        "- We have two options: fill it with 0 or with the mean of this variable.\n",
        "- Try both options. For each, train a linear regression model without regularization using the code from the lessons.\n",
        "- For computing the mean, use the training only!\n",
        "- Use the validation dataset to evaluate the models and compare the RMSE of each option.\n",
        "- Round the RMSE scores to 2 decimal digits using round(score, 2)\n",
        "Which option gives better RMSE?\n",
        "\n",
        "Options:\n",
        "\n",
        "- With 0\n",
        "- With mean\n",
        "- Both are equally good\n"
      ],
      "metadata": {
        "id": "PPusOkrSuA21"
      }
    },
    {
      "cell_type": "markdown",
      "source": [
        "### Linear Regression Function"
      ],
      "metadata": {
        "id": "PVYJ-IFaAg-1"
      }
    },
    {
      "cell_type": "code",
      "source": [
        "def train_linear_regression(X, y):\n",
        "  ones = np.ones(X.shape[0])\n",
        "  X = np.column_stack([ones, X])\n",
        "\n",
        "  XTX = X.T.dot(X)\n",
        "  XTX_inv = np.linalg.inv(XTX)\n",
        "  w = XTX_inv.dot(X.T).dot(y)\n",
        "\n",
        "  return w[0], w[1:]"
      ],
      "metadata": {
        "id": "KDs6VcFFpnvj"
      },
      "execution_count": 39,
      "outputs": []
    },
    {
      "cell_type": "markdown",
      "source": [
        "### Evaluation function (RMSE)"
      ],
      "metadata": {
        "id": "EX3GgmiHAmEC"
      }
    },
    {
      "cell_type": "code",
      "source": [
        "def rmse(y, y_pred):\n",
        "  ''' \n",
        "    Find the RMSE (Root Mean Squared Error)\n",
        "\n",
        "    input:\n",
        "      y: actual values\n",
        "      y_pred: prediction\n",
        "    output:\n",
        "      root mean squared error\n",
        "  '''\n",
        "  se = (y - y_pred) ** 2\n",
        "  mse = se.mean()\n",
        "  \n",
        "  return np.sqrt(mse)"
      ],
      "metadata": {
        "id": "5OsArvjMAl3h"
      },
      "execution_count": 40,
      "outputs": []
    },
    {
      "cell_type": "markdown",
      "source": [
        "## Option 1: Fill Nulls with 0"
      ],
      "metadata": {
        "id": "eZRqiCQB7DOT"
      }
    },
    {
      "cell_type": "code",
      "source": [
        "X_train_0 = prepare_X(X_train, fill_zeros=True)"
      ],
      "metadata": {
        "id": "mMRl2kea6Jgt"
      },
      "execution_count": 41,
      "outputs": []
    },
    {
      "cell_type": "code",
      "source": [
        "w0, w = train_linear_regression(X_train_0, y_train)\n",
        "print('Bias: ', w0)\n",
        "print('Weights: ', w)"
      ],
      "metadata": {
        "colab": {
          "base_uri": "https://localhost:8080/"
        },
        "id": "wfQWx_v_7UNM",
        "outputId": "1137fe94-e820-4c50-ae48-9e292cdd9fcf"
      },
      "execution_count": 42,
      "outputs": [
        {
          "output_type": "stream",
          "name": "stdout",
          "text": [
            "Bias:  [-11.68697524]\n",
            "Weights:  [[-2.76255120e-01]\n",
            " [-2.82087184e-01]\n",
            " [ 2.91329621e-03]\n",
            " [-8.64531514e-06]\n",
            " [ 1.50811922e-04]\n",
            " [-2.08205659e-04]\n",
            " [ 5.69546573e-04]\n",
            " [ 1.71308139e-01]]\n"
          ]
        }
      ]
    },
    {
      "cell_type": "code",
      "source": [
        "# Predict\n",
        "y_pred = w0 + X_train_0.dot(w)\n",
        "\n",
        "# Evaluate with RMSE\n",
        "round(rmse(y_train, y_pred), 2)"
      ],
      "metadata": {
        "colab": {
          "base_uri": "https://localhost:8080/"
        },
        "id": "IBqqDQnDCEcK",
        "outputId": "399bee48-441b-4b68-b4a0-b77a89b50e3b"
      },
      "execution_count": 43,
      "outputs": [
        {
          "output_type": "execute_result",
          "data": {
            "text/plain": [
              "0.34"
            ]
          },
          "metadata": {},
          "execution_count": 43
        }
      ]
    },
    {
      "cell_type": "markdown",
      "source": [
        "## Option 2: Fill Nulls with mean"
      ],
      "metadata": {
        "id": "s0p-_zNQ_xY7"
      }
    },
    {
      "cell_type": "code",
      "source": [
        "X_train_mean = prepare_X(X_train, fill_mean=True)"
      ],
      "metadata": {
        "id": "Gi8bR1Zv7-Zo"
      },
      "execution_count": 44,
      "outputs": []
    },
    {
      "cell_type": "code",
      "source": [
        "w0, w = train_linear_regression(X_train_mean, y_train)\n",
        "print('Bias: ', w0)\n",
        "print('Weights: ', w)"
      ],
      "metadata": {
        "colab": {
          "base_uri": "https://localhost:8080/"
        },
        "id": "00kS82H9_-aa",
        "outputId": "0fd4eaf3-45e5-4423-a6a8-11ab982e7975"
      },
      "execution_count": 45,
      "outputs": [
        {
          "output_type": "stream",
          "name": "stdout",
          "text": [
            "Bias:  [-11.75959087]\n",
            "Weights:  [[-2.76809637e-01]\n",
            " [-2.82182103e-01]\n",
            " [ 2.93033801e-03]\n",
            " [-1.48543785e-05]\n",
            " [ 2.48054046e-04]\n",
            " [-2.03763456e-04]\n",
            " [ 4.87004092e-04]\n",
            " [ 1.73086593e-01]]\n"
          ]
        }
      ]
    },
    {
      "cell_type": "code",
      "source": [
        "# Predict\n",
        "y_pred = w0 + X_train_mean.dot(w)\n",
        "\n",
        "# Evaluate with RMSE\n",
        "round(rmse(y_train, y_pred), 2)"
      ],
      "metadata": {
        "colab": {
          "base_uri": "https://localhost:8080/"
        },
        "id": "AgpleRGeAQCB",
        "outputId": "d4775162-3652-439c-ab71-5341ebe087e8"
      },
      "execution_count": 46,
      "outputs": [
        {
          "output_type": "execute_result",
          "data": {
            "text/plain": [
              "0.34"
            ]
          },
          "metadata": {},
          "execution_count": 46
        }
      ]
    },
    {
      "cell_type": "markdown",
      "source": [
        "**Fill nulls with 0:**\n",
        "\n",
        "RMSE = 0.34\n",
        "\n",
        "**Fill nulls with mean:**\n",
        "\n",
        "RMSE = 0.34\n",
        "\n",
        "> They are both equally good"
      ],
      "metadata": {
        "id": "rVnkrkHESAiQ"
      }
    },
    {
      "cell_type": "markdown",
      "source": [
        "# Question 4\n",
        "\n",
        "- Now let's train a regularized linear regression.\n",
        "- For this question, fill the NAs with 0.\n",
        "- Try different values of r from this list: [0, 0.000001, 0.0001, 0.001, 0.01, 0.1, 1, 5, 10].\n",
        "- Use RMSE to evaluate the model on the validation dataset.\n",
        "- Round the RMSE scores to 2 decimal digits.\n",
        "- Which r gives the best RMSE?\n",
        "\n",
        "If there are multiple options, select the smallest r.\n",
        "\n",
        "Options:\n",
        "- 0\n",
        "- 0.000001\n",
        "- 0.001\n",
        "- 0.0001"
      ],
      "metadata": {
        "id": "kNrBna6DST0A"
      }
    },
    {
      "cell_type": "markdown",
      "source": [
        "## LR Regularized Function"
      ],
      "metadata": {
        "id": "fCcCyXFpThjB"
      }
    },
    {
      "cell_type": "code",
      "source": [
        "def train_linear_regression_reg(X, y, r=0.001):\n",
        "  '''\n",
        "    inputs:\n",
        "      X : Feature matrix\n",
        "      y : Target values\n",
        "      r : Regularization parameter\n",
        "\n",
        "    output:\n",
        "      bias \n",
        "      vector of weights\n",
        "  '''\n",
        "  ones = np.ones(X.shape[0])\n",
        "  X = np.column_stack([ones, X])\n",
        "\n",
        "  XTX = X.T.dot(X)\n",
        "  # Regularization \n",
        "  XTX = XTX + r*np.eye(XTX.shape[0])\n",
        "  \n",
        "  XTX_inv = np.linalg.inv(XTX)\n",
        "  w = XTX_inv.dot(X.T).dot(y)\n",
        "\n",
        "  return w[0], w[1:]"
      ],
      "metadata": {
        "id": "EIT2uSdTRuct"
      },
      "execution_count": 47,
      "outputs": []
    },
    {
      "cell_type": "code",
      "source": [
        "X_train_0 = prepare_X(X_train, fill_zeros=True)"
      ],
      "metadata": {
        "id": "Zb3yB2LRUm4i"
      },
      "execution_count": 48,
      "outputs": []
    },
    {
      "cell_type": "code",
      "source": [
        "rs = [0, 0.000001, 0.0001, 0.001, 0.01, 0.1, 1, 5, 10]\n",
        "\n",
        "for reg in rs:\n",
        "  w0, w = train_linear_regression_reg(X_train_0, y_train, r=reg)\n",
        "\n",
        "  y_val_pred = w0 + prepare_X(X_valid).dot(w)\n",
        "\n",
        "  error = round(rmse(y_valid, y_val_pred), 2)\n",
        "\n",
        "  print(f'r: {reg},     w0: {w0},     RMSE: {error}')\n",
        "  print('---------------------------------------------------------------')"
      ],
      "metadata": {
        "colab": {
          "base_uri": "https://localhost:8080/"
        },
        "id": "-2knMNhwUulz",
        "outputId": "dbca60e6-5af9-47ef-9afd-943c2874a22b"
      },
      "execution_count": 49,
      "outputs": [
        {
          "output_type": "stream",
          "name": "stdout",
          "text": [
            "r: 0,     w0: [-11.68697524],     RMSE: 0.33\n",
            "---------------------------------------------------------------\n",
            "r: 1e-06,     w0: [-11.68695918],     RMSE: 0.33\n",
            "---------------------------------------------------------------\n",
            "r: 0.0001,     w0: [-11.68536887],     RMSE: 0.33\n",
            "---------------------------------------------------------------\n",
            "r: 0.001,     w0: [-11.67093132],     RMSE: 0.33\n",
            "---------------------------------------------------------------\n",
            "r: 0.01,     w0: [-11.52849359],     RMSE: 0.33\n",
            "---------------------------------------------------------------\n",
            "r: 0.1,     w0: [-10.27450028],     RMSE: 0.33\n",
            "---------------------------------------------------------------\n",
            "r: 1,     w0: [-4.9204809],     RMSE: 0.33\n",
            "---------------------------------------------------------------\n",
            "r: 5,     w0: [-1.48209575],     RMSE: 0.34\n",
            "---------------------------------------------------------------\n",
            "r: 10,     w0: [-0.78993118],     RMSE: 0.34\n",
            "---------------------------------------------------------------\n"
          ]
        }
      ]
    },
    {
      "cell_type": "code",
      "source": [
        "y_valid"
      ],
      "metadata": {
        "colab": {
          "base_uri": "https://localhost:8080/"
        },
        "id": "41MTyr4eQzFp",
        "outputId": "f543b8b2-8f22-40a2-be0f-d5e18177e0d8"
      },
      "execution_count": 50,
      "outputs": [
        {
          "output_type": "execute_result",
          "data": {
            "text/plain": [
              "array([[11.4414402 ],\n",
              "       [12.15162174],\n",
              "       [12.74081302],\n",
              "       ...,\n",
              "       [11.87965667],\n",
              "       [11.9492495 ],\n",
              "       [11.97540713]])"
            ]
          },
          "metadata": {},
          "execution_count": 50
        }
      ]
    },
    {
      "cell_type": "code",
      "source": [
        "y_val_pred"
      ],
      "metadata": {
        "colab": {
          "base_uri": "https://localhost:8080/"
        },
        "id": "nj1r_ePeQ1Xz",
        "outputId": "3884ff7e-77a1-4b2e-ba66-14c4e6cfe49c"
      },
      "execution_count": 51,
      "outputs": [
        {
          "output_type": "execute_result",
          "data": {
            "text/plain": [
              "array([[11.44695188],\n",
              "       [12.09616664],\n",
              "       [12.5672947 ],\n",
              "       ...,\n",
              "       [11.80166401],\n",
              "       [12.18742628],\n",
              "       [12.22333282]])"
            ]
          },
          "metadata": {},
          "execution_count": 51
        }
      ]
    },
    {
      "cell_type": "markdown",
      "source": [
        "> The best regularization parameter is 0."
      ],
      "metadata": {
        "id": "OklwUg9qXgLJ"
      }
    },
    {
      "cell_type": "markdown",
      "source": [
        "# Question 5\n",
        "- We used seed 42 for splitting the data. Let's find out how selecting the seed influences our score.\n",
        "- Try different seed values: [0, 1, 2, 3, 4, 5, 6, 7, 8, 9].\n",
        "- For each seed, do the train/validation/test split with 60%/20%/20% distribution.\n",
        "- Fill the missing values with 0 and train a model without regularization.\n",
        "- For each seed, evaluate the model on the validation dataset and collect the RMSE scores.\n",
        "- What's the standard deviation of all the scores? To compute the standard deviation, use np.std.\n",
        "- Round the result to 3 decimal digits (round(std, 3))\n",
        "\n",
        "> Note: Standard deviation shows how different the values are. If it's low, then all values are approximately the same. If it's high, the values are different. If standard deviation of scores is low, then our model is stable.\n",
        "\n",
        "**Options:**\n",
        "\n",
        "- 0.16\n",
        "- 0.00005\n",
        "- 0.005\n",
        "- 0.15555"
      ],
      "metadata": {
        "id": "K_HQnxD9YRTO"
      }
    },
    {
      "cell_type": "code",
      "source": [
        "seed_vals = [0, 1, 2, 3, 4, 5, 6, 7, 8, 9]\n",
        "scores = []\n",
        "for seed_val in seed_vals:\n",
        "  # Set seed\n",
        "  np.random.seed(seed_val)\n",
        "  # Shuffle dataset\n",
        "  n = len(df)\n",
        "  idx = np.arange(n)\n",
        "  np.random.shuffle(idx)\n",
        "\n",
        "  df_shuffled = df.iloc[idx].reset_index(drop=True)\n",
        "\n",
        "  # Split data into X (without labels) and y (labels)\n",
        "  X = df_shuffled.iloc[:, :df.shape[1]-1]\n",
        "  y = df_shuffled.iloc[:, -1:]\n",
        "\n",
        "  # Apply log transformation\n",
        "  y = np.log1p(y)\n",
        "\n",
        "  # Split into train, validation, test (60, 20, 20)\n",
        "  X_train, X_excess, y_train, y_excess = train_test_split(X, y, train_size=0.6, shuffle=False)\n",
        "  X_valid, X_test, y_valid, y_test = train_test_split(X_excess, y_excess, train_size=0.5, shuffle=False)\n",
        "  \n",
        "  # Turn y into array\n",
        "  y_train, y_valid, y_test = y_train.values, y_valid.values, y_test.values \n",
        "\n",
        "  # Train \n",
        "  w0, w = train_linear_regression(prepare_X(X_train, fill_zeros=True), y_train)\n",
        "  # Predict on validation\n",
        "  y_pred_val = w0 + prepare_X(X_valid, fill_zeros=True).dot(w)\n",
        "  # Evaluate with RMSE\n",
        "  errors = rmse(y_valid, y_pred_val)\n",
        "  scores.append(errors)\n",
        "\n",
        "  print(f'Seed: {seed_val},         w0: {w0},          RMSE:{errors}')\n",
        "  print('------------------------------------------------------------------------')"
      ],
      "metadata": {
        "colab": {
          "base_uri": "https://localhost:8080/"
        },
        "id": "UX3Ohpv_WQAF",
        "outputId": "9cd7e007-6aa5-426d-e680-5510e317a753"
      },
      "execution_count": 59,
      "outputs": [
        {
          "output_type": "stream",
          "name": "stdout",
          "text": [
            "Seed: 0,         w0: [-11.90038214],          RMSE:0.33884304805312054\n",
            "------------------------------------------------------------------------\n",
            "Seed: 1,         w0: [-11.73275737],          RMSE:0.3362387255956152\n",
            "------------------------------------------------------------------------\n",
            "Seed: 2,         w0: [-11.80672936],          RMSE:0.3320912318841953\n",
            "------------------------------------------------------------------------\n",
            "Seed: 3,         w0: [-11.58790035],          RMSE:0.34051536090333206\n",
            "------------------------------------------------------------------------\n",
            "Seed: 4,         w0: [-11.38947059],          RMSE:0.3389024066572496\n",
            "------------------------------------------------------------------------\n",
            "Seed: 5,         w0: [-11.44711428],          RMSE:0.3434866725718243\n",
            "------------------------------------------------------------------------\n",
            "Seed: 6,         w0: [-11.37051635],          RMSE:0.3451980953099226\n",
            "------------------------------------------------------------------------\n",
            "Seed: 7,         w0: [-12.47344892],          RMSE:0.33959899274099314\n",
            "------------------------------------------------------------------------\n",
            "Seed: 8,         w0: [-11.80028743],          RMSE:0.3466230873184584\n",
            "------------------------------------------------------------------------\n",
            "Seed: 9,         w0: [-11.45904683],          RMSE:0.33659261241692773\n",
            "------------------------------------------------------------------------\n"
          ]
        }
      ]
    },
    {
      "cell_type": "code",
      "source": [
        "np.round(np.std(scores),3)"
      ],
      "metadata": {
        "colab": {
          "base_uri": "https://localhost:8080/"
        },
        "id": "hacOIVPAO0JU",
        "outputId": "06dde2c7-f762-4a33-87a3-0b67dbb9229d"
      },
      "execution_count": 60,
      "outputs": [
        {
          "output_type": "execute_result",
          "data": {
            "text/plain": [
              "0.004"
            ]
          },
          "metadata": {},
          "execution_count": 60
        }
      ]
    },
    {
      "cell_type": "markdown",
      "source": [
        "> The standard deviation is approx. 0.005"
      ],
      "metadata": {
        "id": "aLnE5FJIVbzn"
      }
    },
    {
      "cell_type": "markdown",
      "source": [
        "# Question 6\n",
        "- Split the dataset like previously, use seed 9.\n",
        "- Combine train and validation datasets.\n",
        "- Fill the missing values with 0 and train a model with r=0.001.\n",
        "- What's the RMSE on the test dataset?\n",
        "\n",
        "**Options:**\n",
        "\n",
        "- 0.35\n",
        "- 0.135\n",
        "- 0.450\n",
        "- 0.245"
      ],
      "metadata": {
        "id": "Hc6PHiTWVhot"
      }
    },
    {
      "cell_type": "code",
      "source": [
        "# Set seed\n",
        "np.random.seed(9)\n",
        "# Shuffle dataset\n",
        "n = len(df)\n",
        "idx = np.arange(n)\n",
        "np.random.shuffle(idx)\n",
        "\n",
        "df_shuffled = df.iloc[idx].reset_index(drop=True)\n",
        "\n",
        "# Split data into X (without labels) and y (labels)\n",
        "X = df_shuffled.iloc[:, :df.shape[1]-1]\n",
        "y = df_shuffled.iloc[:, -1:]\n",
        "\n",
        "# Apply log transformation\n",
        "y = np.log1p(y)\n",
        "\n",
        "X_train, X_test, y_train, y_test = train_test_split(X, y, train_size=0.8, shuffle=False)\n",
        "\n",
        "# Turn y into array\n",
        "y_train, y_test = y_train.values, y_test.values \n",
        "\n",
        "# Train \n",
        "w0, w = train_linear_regression_reg(prepare_X(X_train, fill_zeros=True), y_train, r=0.001)\n",
        "\n",
        "# Predict on validation\n",
        "y_pred_train = w0 + prepare_X(X_train, fill_zeros=True).dot(w)\n",
        "\n",
        "# Evaluate with RMSE\n",
        "rmse(y_train, y_pred_train)"
      ],
      "metadata": {
        "colab": {
          "base_uri": "https://localhost:8080/"
        },
        "id": "ctmXOzp0Qrgi",
        "outputId": "d5f5d04f-3591-43e5-cfb8-ecf280a552cc"
      },
      "execution_count": 64,
      "outputs": [
        {
          "output_type": "execute_result",
          "data": {
            "text/plain": [
              "0.3397763880121206"
            ]
          },
          "metadata": {},
          "execution_count": 64
        }
      ]
    },
    {
      "cell_type": "markdown",
      "source": [
        "> Answer: RMSE is about 0.35"
      ],
      "metadata": {
        "id": "kfcj5qa7asyB"
      }
    }
  ]
}