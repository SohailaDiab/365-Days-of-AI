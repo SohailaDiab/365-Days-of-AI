{
  "nbformat": 4,
  "nbformat_minor": 0,
  "metadata": {
    "colab": {
      "provenance": [],
      "collapsed_sections": [],
      "authorship_tag": "ABX9TyMTc1rtuwZZrLqpygHQi/BX",
      "include_colab_link": true
    },
    "kernelspec": {
      "name": "python3",
      "display_name": "Python 3"
    },
    "language_info": {
      "name": "python"
    }
  },
  "cells": [
    {
      "cell_type": "markdown",
      "metadata": {
        "id": "view-in-github",
        "colab_type": "text"
      },
      "source": [
        "<a href=\"https://colab.research.google.com/github/SohailaDiab/365-Days-of-AI/blob/main/ChurnPrediction.ipynb\" target=\"_parent\"><img src=\"https://colab.research.google.com/assets/colab-badge.svg\" alt=\"Open In Colab\"/></a>"
      ]
    },
    {
      "cell_type": "markdown",
      "source": [
        "# **Churn Prediction - Classification**"
      ],
      "metadata": {
        "id": "Xkb4bSCkqeZQ"
      }
    },
    {
      "cell_type": "markdown",
      "source": [
        "[Dataset Used](https://www.kaggle.com/datasets/blastchar/telco-customer-churn)"
      ],
      "metadata": {
        "id": "6xoKGtW-qxJl"
      }
    },
    {
      "cell_type": "markdown",
      "source": [
        "# 1. Business Understanding\n",
        "\n",
        "**What is churn?**\n",
        "\n",
        "The churn rate, also known as the rate of attrition or customer churn, is the rate at which customers stop doing business with an entity.\n",
        "\n",
        "--\n",
        "\n",
        "We need to predict if a customer in a Telecom company if they will churn or not, so that we will be able to retain that customer by offering discounts."
      ],
      "metadata": {
        "id": "Z7snZnvyqql6"
      }
    },
    {
      "cell_type": "markdown",
      "source": [
        "# 2. Imports\n"
      ],
      "metadata": {
        "id": "mfXo6HDlsCpo"
      }
    },
    {
      "cell_type": "code",
      "source": [
        "import pandas as pd\n",
        "import numpy as np\n",
        "\n",
        "import matplotlib.pyplot as plt\n",
        "\n",
        "from sklearn.model_selection import train_test_split\n",
        "\n",
        "from IPython.display import display\n",
        "\n",
        "# Mutual information\n",
        "from sklearn.metrics import mutual_info_score \n",
        "# One-hot encoding\n",
        "from sklearn.feature_extraction import DictVectorizer\n",
        "# Logistic Regression\n",
        "from sklearn.linear_model import LogisticRegression"
      ],
      "metadata": {
        "id": "9h08j9MAsOdZ"
      },
      "execution_count": null,
      "outputs": []
    },
    {
      "cell_type": "markdown",
      "source": [
        "# 3. Data Preparation"
      ],
      "metadata": {
        "id": "Cf5wYwYir15u"
      }
    },
    {
      "cell_type": "code",
      "execution_count": null,
      "metadata": {
        "colab": {
          "base_uri": "https://localhost:8080/"
        },
        "id": "cLGu3VjGqdIW",
        "outputId": "a2fb5bda-af08-410d-8af3-4487a03fbd25"
      },
      "outputs": [
        {
          "output_type": "stream",
          "name": "stdout",
          "text": [
            "--2022-10-05 17:27:04--  https://raw.githubusercontent.com/alexeygrigorev/mlbookcamp-code/master/chapter-03-churn-prediction/WA_Fn-UseC_-Telco-Customer-Churn.csv\n",
            "Resolving raw.githubusercontent.com (raw.githubusercontent.com)... 185.199.108.133, 185.199.109.133, 185.199.110.133, ...\n",
            "Connecting to raw.githubusercontent.com (raw.githubusercontent.com)|185.199.108.133|:443... connected.\n",
            "HTTP request sent, awaiting response... 200 OK\n",
            "Length: 977501 (955K) [text/plain]\n",
            "Saving to: ‘data-week-3.csv’\n",
            "\n",
            "data-week-3.csv     100%[===================>] 954.59K  --.-KB/s    in 0.05s   \n",
            "\n",
            "2022-10-05 17:27:04 (19.8 MB/s) - ‘data-week-3.csv’ saved [977501/977501]\n",
            "\n"
          ]
        }
      ],
      "source": [
        "data = 'https://raw.githubusercontent.com/alexeygrigorev/mlbookcamp-code/master/chapter-03-churn-prediction/WA_Fn-UseC_-Telco-Customer-Churn.csv'\n",
        "!wget $data -O data-week-3.csv"
      ]
    },
    {
      "cell_type": "code",
      "source": [
        "df = pd.read_csv('data-week-3.csv')\n",
        "df.head()"
      ],
      "metadata": {
        "colab": {
          "base_uri": "https://localhost:8080/",
          "height": 386
        },
        "id": "QVlZgttose7B",
        "outputId": "702d5597-c494-4401-b05f-4f643879e05b"
      },
      "execution_count": null,
      "outputs": [
        {
          "output_type": "execute_result",
          "data": {
            "text/plain": [
              "   customerID  gender  SeniorCitizen Partner Dependents  tenure PhoneService  \\\n",
              "0  7590-VHVEG  Female              0     Yes         No       1           No   \n",
              "1  5575-GNVDE    Male              0      No         No      34          Yes   \n",
              "2  3668-QPYBK    Male              0      No         No       2          Yes   \n",
              "3  7795-CFOCW    Male              0      No         No      45           No   \n",
              "4  9237-HQITU  Female              0      No         No       2          Yes   \n",
              "\n",
              "      MultipleLines InternetService OnlineSecurity  ... DeviceProtection  \\\n",
              "0  No phone service             DSL             No  ...               No   \n",
              "1                No             DSL            Yes  ...              Yes   \n",
              "2                No             DSL            Yes  ...               No   \n",
              "3  No phone service             DSL            Yes  ...              Yes   \n",
              "4                No     Fiber optic             No  ...               No   \n",
              "\n",
              "  TechSupport StreamingTV StreamingMovies        Contract PaperlessBilling  \\\n",
              "0          No          No              No  Month-to-month              Yes   \n",
              "1          No          No              No        One year               No   \n",
              "2          No          No              No  Month-to-month              Yes   \n",
              "3         Yes          No              No        One year               No   \n",
              "4          No          No              No  Month-to-month              Yes   \n",
              "\n",
              "               PaymentMethod MonthlyCharges  TotalCharges Churn  \n",
              "0           Electronic check          29.85         29.85    No  \n",
              "1               Mailed check          56.95        1889.5    No  \n",
              "2               Mailed check          53.85        108.15   Yes  \n",
              "3  Bank transfer (automatic)          42.30       1840.75    No  \n",
              "4           Electronic check          70.70        151.65   Yes  \n",
              "\n",
              "[5 rows x 21 columns]"
            ],
            "text/html": [
              "\n",
              "  <div id=\"df-13361c93-ec67-49d9-9375-b9154a155c8d\">\n",
              "    <div class=\"colab-df-container\">\n",
              "      <div>\n",
              "<style scoped>\n",
              "    .dataframe tbody tr th:only-of-type {\n",
              "        vertical-align: middle;\n",
              "    }\n",
              "\n",
              "    .dataframe tbody tr th {\n",
              "        vertical-align: top;\n",
              "    }\n",
              "\n",
              "    .dataframe thead th {\n",
              "        text-align: right;\n",
              "    }\n",
              "</style>\n",
              "<table border=\"1\" class=\"dataframe\">\n",
              "  <thead>\n",
              "    <tr style=\"text-align: right;\">\n",
              "      <th></th>\n",
              "      <th>customerID</th>\n",
              "      <th>gender</th>\n",
              "      <th>SeniorCitizen</th>\n",
              "      <th>Partner</th>\n",
              "      <th>Dependents</th>\n",
              "      <th>tenure</th>\n",
              "      <th>PhoneService</th>\n",
              "      <th>MultipleLines</th>\n",
              "      <th>InternetService</th>\n",
              "      <th>OnlineSecurity</th>\n",
              "      <th>...</th>\n",
              "      <th>DeviceProtection</th>\n",
              "      <th>TechSupport</th>\n",
              "      <th>StreamingTV</th>\n",
              "      <th>StreamingMovies</th>\n",
              "      <th>Contract</th>\n",
              "      <th>PaperlessBilling</th>\n",
              "      <th>PaymentMethod</th>\n",
              "      <th>MonthlyCharges</th>\n",
              "      <th>TotalCharges</th>\n",
              "      <th>Churn</th>\n",
              "    </tr>\n",
              "  </thead>\n",
              "  <tbody>\n",
              "    <tr>\n",
              "      <th>0</th>\n",
              "      <td>7590-VHVEG</td>\n",
              "      <td>Female</td>\n",
              "      <td>0</td>\n",
              "      <td>Yes</td>\n",
              "      <td>No</td>\n",
              "      <td>1</td>\n",
              "      <td>No</td>\n",
              "      <td>No phone service</td>\n",
              "      <td>DSL</td>\n",
              "      <td>No</td>\n",
              "      <td>...</td>\n",
              "      <td>No</td>\n",
              "      <td>No</td>\n",
              "      <td>No</td>\n",
              "      <td>No</td>\n",
              "      <td>Month-to-month</td>\n",
              "      <td>Yes</td>\n",
              "      <td>Electronic check</td>\n",
              "      <td>29.85</td>\n",
              "      <td>29.85</td>\n",
              "      <td>No</td>\n",
              "    </tr>\n",
              "    <tr>\n",
              "      <th>1</th>\n",
              "      <td>5575-GNVDE</td>\n",
              "      <td>Male</td>\n",
              "      <td>0</td>\n",
              "      <td>No</td>\n",
              "      <td>No</td>\n",
              "      <td>34</td>\n",
              "      <td>Yes</td>\n",
              "      <td>No</td>\n",
              "      <td>DSL</td>\n",
              "      <td>Yes</td>\n",
              "      <td>...</td>\n",
              "      <td>Yes</td>\n",
              "      <td>No</td>\n",
              "      <td>No</td>\n",
              "      <td>No</td>\n",
              "      <td>One year</td>\n",
              "      <td>No</td>\n",
              "      <td>Mailed check</td>\n",
              "      <td>56.95</td>\n",
              "      <td>1889.5</td>\n",
              "      <td>No</td>\n",
              "    </tr>\n",
              "    <tr>\n",
              "      <th>2</th>\n",
              "      <td>3668-QPYBK</td>\n",
              "      <td>Male</td>\n",
              "      <td>0</td>\n",
              "      <td>No</td>\n",
              "      <td>No</td>\n",
              "      <td>2</td>\n",
              "      <td>Yes</td>\n",
              "      <td>No</td>\n",
              "      <td>DSL</td>\n",
              "      <td>Yes</td>\n",
              "      <td>...</td>\n",
              "      <td>No</td>\n",
              "      <td>No</td>\n",
              "      <td>No</td>\n",
              "      <td>No</td>\n",
              "      <td>Month-to-month</td>\n",
              "      <td>Yes</td>\n",
              "      <td>Mailed check</td>\n",
              "      <td>53.85</td>\n",
              "      <td>108.15</td>\n",
              "      <td>Yes</td>\n",
              "    </tr>\n",
              "    <tr>\n",
              "      <th>3</th>\n",
              "      <td>7795-CFOCW</td>\n",
              "      <td>Male</td>\n",
              "      <td>0</td>\n",
              "      <td>No</td>\n",
              "      <td>No</td>\n",
              "      <td>45</td>\n",
              "      <td>No</td>\n",
              "      <td>No phone service</td>\n",
              "      <td>DSL</td>\n",
              "      <td>Yes</td>\n",
              "      <td>...</td>\n",
              "      <td>Yes</td>\n",
              "      <td>Yes</td>\n",
              "      <td>No</td>\n",
              "      <td>No</td>\n",
              "      <td>One year</td>\n",
              "      <td>No</td>\n",
              "      <td>Bank transfer (automatic)</td>\n",
              "      <td>42.30</td>\n",
              "      <td>1840.75</td>\n",
              "      <td>No</td>\n",
              "    </tr>\n",
              "    <tr>\n",
              "      <th>4</th>\n",
              "      <td>9237-HQITU</td>\n",
              "      <td>Female</td>\n",
              "      <td>0</td>\n",
              "      <td>No</td>\n",
              "      <td>No</td>\n",
              "      <td>2</td>\n",
              "      <td>Yes</td>\n",
              "      <td>No</td>\n",
              "      <td>Fiber optic</td>\n",
              "      <td>No</td>\n",
              "      <td>...</td>\n",
              "      <td>No</td>\n",
              "      <td>No</td>\n",
              "      <td>No</td>\n",
              "      <td>No</td>\n",
              "      <td>Month-to-month</td>\n",
              "      <td>Yes</td>\n",
              "      <td>Electronic check</td>\n",
              "      <td>70.70</td>\n",
              "      <td>151.65</td>\n",
              "      <td>Yes</td>\n",
              "    </tr>\n",
              "  </tbody>\n",
              "</table>\n",
              "<p>5 rows × 21 columns</p>\n",
              "</div>\n",
              "      <button class=\"colab-df-convert\" onclick=\"convertToInteractive('df-13361c93-ec67-49d9-9375-b9154a155c8d')\"\n",
              "              title=\"Convert this dataframe to an interactive table.\"\n",
              "              style=\"display:none;\">\n",
              "        \n",
              "  <svg xmlns=\"http://www.w3.org/2000/svg\" height=\"24px\"viewBox=\"0 0 24 24\"\n",
              "       width=\"24px\">\n",
              "    <path d=\"M0 0h24v24H0V0z\" fill=\"none\"/>\n",
              "    <path d=\"M18.56 5.44l.94 2.06.94-2.06 2.06-.94-2.06-.94-.94-2.06-.94 2.06-2.06.94zm-11 1L8.5 8.5l.94-2.06 2.06-.94-2.06-.94L8.5 2.5l-.94 2.06-2.06.94zm10 10l.94 2.06.94-2.06 2.06-.94-2.06-.94-.94-2.06-.94 2.06-2.06.94z\"/><path d=\"M17.41 7.96l-1.37-1.37c-.4-.4-.92-.59-1.43-.59-.52 0-1.04.2-1.43.59L10.3 9.45l-7.72 7.72c-.78.78-.78 2.05 0 2.83L4 21.41c.39.39.9.59 1.41.59.51 0 1.02-.2 1.41-.59l7.78-7.78 2.81-2.81c.8-.78.8-2.07 0-2.86zM5.41 20L4 18.59l7.72-7.72 1.47 1.35L5.41 20z\"/>\n",
              "  </svg>\n",
              "      </button>\n",
              "      \n",
              "  <style>\n",
              "    .colab-df-container {\n",
              "      display:flex;\n",
              "      flex-wrap:wrap;\n",
              "      gap: 12px;\n",
              "    }\n",
              "\n",
              "    .colab-df-convert {\n",
              "      background-color: #E8F0FE;\n",
              "      border: none;\n",
              "      border-radius: 50%;\n",
              "      cursor: pointer;\n",
              "      display: none;\n",
              "      fill: #1967D2;\n",
              "      height: 32px;\n",
              "      padding: 0 0 0 0;\n",
              "      width: 32px;\n",
              "    }\n",
              "\n",
              "    .colab-df-convert:hover {\n",
              "      background-color: #E2EBFA;\n",
              "      box-shadow: 0px 1px 2px rgba(60, 64, 67, 0.3), 0px 1px 3px 1px rgba(60, 64, 67, 0.15);\n",
              "      fill: #174EA6;\n",
              "    }\n",
              "\n",
              "    [theme=dark] .colab-df-convert {\n",
              "      background-color: #3B4455;\n",
              "      fill: #D2E3FC;\n",
              "    }\n",
              "\n",
              "    [theme=dark] .colab-df-convert:hover {\n",
              "      background-color: #434B5C;\n",
              "      box-shadow: 0px 1px 3px 1px rgba(0, 0, 0, 0.15);\n",
              "      filter: drop-shadow(0px 1px 2px rgba(0, 0, 0, 0.3));\n",
              "      fill: #FFFFFF;\n",
              "    }\n",
              "  </style>\n",
              "\n",
              "      <script>\n",
              "        const buttonEl =\n",
              "          document.querySelector('#df-13361c93-ec67-49d9-9375-b9154a155c8d button.colab-df-convert');\n",
              "        buttonEl.style.display =\n",
              "          google.colab.kernel.accessAllowed ? 'block' : 'none';\n",
              "\n",
              "        async function convertToInteractive(key) {\n",
              "          const element = document.querySelector('#df-13361c93-ec67-49d9-9375-b9154a155c8d');\n",
              "          const dataTable =\n",
              "            await google.colab.kernel.invokeFunction('convertToInteractive',\n",
              "                                                     [key], {});\n",
              "          if (!dataTable) return;\n",
              "\n",
              "          const docLinkHtml = 'Like what you see? Visit the ' +\n",
              "            '<a target=\"_blank\" href=https://colab.research.google.com/notebooks/data_table.ipynb>data table notebook</a>'\n",
              "            + ' to learn more about interactive tables.';\n",
              "          element.innerHTML = '';\n",
              "          dataTable['output_type'] = 'display_data';\n",
              "          await google.colab.output.renderOutput(dataTable, element);\n",
              "          const docLink = document.createElement('div');\n",
              "          docLink.innerHTML = docLinkHtml;\n",
              "          element.appendChild(docLink);\n",
              "        }\n",
              "      </script>\n",
              "    </div>\n",
              "  </div>\n",
              "  "
            ]
          },
          "metadata": {},
          "execution_count": 3
        }
      ]
    },
    {
      "cell_type": "code",
      "source": [
        "# Transpose df to view all column\n",
        "df.head().T"
      ],
      "metadata": {
        "colab": {
          "base_uri": "https://localhost:8080/",
          "height": 821
        },
        "id": "BGXZ1C8ztGaq",
        "outputId": "51d484c8-5a5b-4a45-c061-26e6c1da40a6"
      },
      "execution_count": null,
      "outputs": [
        {
          "output_type": "execute_result",
          "data": {
            "text/plain": [
              "                                 0             1               2  \\\n",
              "customerID              7590-VHVEG    5575-GNVDE      3668-QPYBK   \n",
              "gender                      Female          Male            Male   \n",
              "SeniorCitizen                    0             0               0   \n",
              "Partner                        Yes            No              No   \n",
              "Dependents                      No            No              No   \n",
              "tenure                           1            34               2   \n",
              "PhoneService                    No           Yes             Yes   \n",
              "MultipleLines     No phone service            No              No   \n",
              "InternetService                DSL           DSL             DSL   \n",
              "OnlineSecurity                  No           Yes             Yes   \n",
              "OnlineBackup                   Yes            No             Yes   \n",
              "DeviceProtection                No           Yes              No   \n",
              "TechSupport                     No            No              No   \n",
              "StreamingTV                     No            No              No   \n",
              "StreamingMovies                 No            No              No   \n",
              "Contract            Month-to-month      One year  Month-to-month   \n",
              "PaperlessBilling               Yes            No             Yes   \n",
              "PaymentMethod     Electronic check  Mailed check    Mailed check   \n",
              "MonthlyCharges               29.85         56.95           53.85   \n",
              "TotalCharges                 29.85        1889.5          108.15   \n",
              "Churn                           No            No             Yes   \n",
              "\n",
              "                                          3                 4  \n",
              "customerID                       7795-CFOCW        9237-HQITU  \n",
              "gender                                 Male            Female  \n",
              "SeniorCitizen                             0                 0  \n",
              "Partner                                  No                No  \n",
              "Dependents                               No                No  \n",
              "tenure                                   45                 2  \n",
              "PhoneService                             No               Yes  \n",
              "MultipleLines              No phone service                No  \n",
              "InternetService                         DSL       Fiber optic  \n",
              "OnlineSecurity                          Yes                No  \n",
              "OnlineBackup                             No                No  \n",
              "DeviceProtection                        Yes                No  \n",
              "TechSupport                             Yes                No  \n",
              "StreamingTV                              No                No  \n",
              "StreamingMovies                          No                No  \n",
              "Contract                           One year    Month-to-month  \n",
              "PaperlessBilling                         No               Yes  \n",
              "PaymentMethod     Bank transfer (automatic)  Electronic check  \n",
              "MonthlyCharges                         42.3              70.7  \n",
              "TotalCharges                        1840.75            151.65  \n",
              "Churn                                    No               Yes  "
            ],
            "text/html": [
              "\n",
              "  <div id=\"df-0439203a-a081-4e71-a282-9f6973976b75\">\n",
              "    <div class=\"colab-df-container\">\n",
              "      <div>\n",
              "<style scoped>\n",
              "    .dataframe tbody tr th:only-of-type {\n",
              "        vertical-align: middle;\n",
              "    }\n",
              "\n",
              "    .dataframe tbody tr th {\n",
              "        vertical-align: top;\n",
              "    }\n",
              "\n",
              "    .dataframe thead th {\n",
              "        text-align: right;\n",
              "    }\n",
              "</style>\n",
              "<table border=\"1\" class=\"dataframe\">\n",
              "  <thead>\n",
              "    <tr style=\"text-align: right;\">\n",
              "      <th></th>\n",
              "      <th>0</th>\n",
              "      <th>1</th>\n",
              "      <th>2</th>\n",
              "      <th>3</th>\n",
              "      <th>4</th>\n",
              "    </tr>\n",
              "  </thead>\n",
              "  <tbody>\n",
              "    <tr>\n",
              "      <th>customerID</th>\n",
              "      <td>7590-VHVEG</td>\n",
              "      <td>5575-GNVDE</td>\n",
              "      <td>3668-QPYBK</td>\n",
              "      <td>7795-CFOCW</td>\n",
              "      <td>9237-HQITU</td>\n",
              "    </tr>\n",
              "    <tr>\n",
              "      <th>gender</th>\n",
              "      <td>Female</td>\n",
              "      <td>Male</td>\n",
              "      <td>Male</td>\n",
              "      <td>Male</td>\n",
              "      <td>Female</td>\n",
              "    </tr>\n",
              "    <tr>\n",
              "      <th>SeniorCitizen</th>\n",
              "      <td>0</td>\n",
              "      <td>0</td>\n",
              "      <td>0</td>\n",
              "      <td>0</td>\n",
              "      <td>0</td>\n",
              "    </tr>\n",
              "    <tr>\n",
              "      <th>Partner</th>\n",
              "      <td>Yes</td>\n",
              "      <td>No</td>\n",
              "      <td>No</td>\n",
              "      <td>No</td>\n",
              "      <td>No</td>\n",
              "    </tr>\n",
              "    <tr>\n",
              "      <th>Dependents</th>\n",
              "      <td>No</td>\n",
              "      <td>No</td>\n",
              "      <td>No</td>\n",
              "      <td>No</td>\n",
              "      <td>No</td>\n",
              "    </tr>\n",
              "    <tr>\n",
              "      <th>tenure</th>\n",
              "      <td>1</td>\n",
              "      <td>34</td>\n",
              "      <td>2</td>\n",
              "      <td>45</td>\n",
              "      <td>2</td>\n",
              "    </tr>\n",
              "    <tr>\n",
              "      <th>PhoneService</th>\n",
              "      <td>No</td>\n",
              "      <td>Yes</td>\n",
              "      <td>Yes</td>\n",
              "      <td>No</td>\n",
              "      <td>Yes</td>\n",
              "    </tr>\n",
              "    <tr>\n",
              "      <th>MultipleLines</th>\n",
              "      <td>No phone service</td>\n",
              "      <td>No</td>\n",
              "      <td>No</td>\n",
              "      <td>No phone service</td>\n",
              "      <td>No</td>\n",
              "    </tr>\n",
              "    <tr>\n",
              "      <th>InternetService</th>\n",
              "      <td>DSL</td>\n",
              "      <td>DSL</td>\n",
              "      <td>DSL</td>\n",
              "      <td>DSL</td>\n",
              "      <td>Fiber optic</td>\n",
              "    </tr>\n",
              "    <tr>\n",
              "      <th>OnlineSecurity</th>\n",
              "      <td>No</td>\n",
              "      <td>Yes</td>\n",
              "      <td>Yes</td>\n",
              "      <td>Yes</td>\n",
              "      <td>No</td>\n",
              "    </tr>\n",
              "    <tr>\n",
              "      <th>OnlineBackup</th>\n",
              "      <td>Yes</td>\n",
              "      <td>No</td>\n",
              "      <td>Yes</td>\n",
              "      <td>No</td>\n",
              "      <td>No</td>\n",
              "    </tr>\n",
              "    <tr>\n",
              "      <th>DeviceProtection</th>\n",
              "      <td>No</td>\n",
              "      <td>Yes</td>\n",
              "      <td>No</td>\n",
              "      <td>Yes</td>\n",
              "      <td>No</td>\n",
              "    </tr>\n",
              "    <tr>\n",
              "      <th>TechSupport</th>\n",
              "      <td>No</td>\n",
              "      <td>No</td>\n",
              "      <td>No</td>\n",
              "      <td>Yes</td>\n",
              "      <td>No</td>\n",
              "    </tr>\n",
              "    <tr>\n",
              "      <th>StreamingTV</th>\n",
              "      <td>No</td>\n",
              "      <td>No</td>\n",
              "      <td>No</td>\n",
              "      <td>No</td>\n",
              "      <td>No</td>\n",
              "    </tr>\n",
              "    <tr>\n",
              "      <th>StreamingMovies</th>\n",
              "      <td>No</td>\n",
              "      <td>No</td>\n",
              "      <td>No</td>\n",
              "      <td>No</td>\n",
              "      <td>No</td>\n",
              "    </tr>\n",
              "    <tr>\n",
              "      <th>Contract</th>\n",
              "      <td>Month-to-month</td>\n",
              "      <td>One year</td>\n",
              "      <td>Month-to-month</td>\n",
              "      <td>One year</td>\n",
              "      <td>Month-to-month</td>\n",
              "    </tr>\n",
              "    <tr>\n",
              "      <th>PaperlessBilling</th>\n",
              "      <td>Yes</td>\n",
              "      <td>No</td>\n",
              "      <td>Yes</td>\n",
              "      <td>No</td>\n",
              "      <td>Yes</td>\n",
              "    </tr>\n",
              "    <tr>\n",
              "      <th>PaymentMethod</th>\n",
              "      <td>Electronic check</td>\n",
              "      <td>Mailed check</td>\n",
              "      <td>Mailed check</td>\n",
              "      <td>Bank transfer (automatic)</td>\n",
              "      <td>Electronic check</td>\n",
              "    </tr>\n",
              "    <tr>\n",
              "      <th>MonthlyCharges</th>\n",
              "      <td>29.85</td>\n",
              "      <td>56.95</td>\n",
              "      <td>53.85</td>\n",
              "      <td>42.3</td>\n",
              "      <td>70.7</td>\n",
              "    </tr>\n",
              "    <tr>\n",
              "      <th>TotalCharges</th>\n",
              "      <td>29.85</td>\n",
              "      <td>1889.5</td>\n",
              "      <td>108.15</td>\n",
              "      <td>1840.75</td>\n",
              "      <td>151.65</td>\n",
              "    </tr>\n",
              "    <tr>\n",
              "      <th>Churn</th>\n",
              "      <td>No</td>\n",
              "      <td>No</td>\n",
              "      <td>Yes</td>\n",
              "      <td>No</td>\n",
              "      <td>Yes</td>\n",
              "    </tr>\n",
              "  </tbody>\n",
              "</table>\n",
              "</div>\n",
              "      <button class=\"colab-df-convert\" onclick=\"convertToInteractive('df-0439203a-a081-4e71-a282-9f6973976b75')\"\n",
              "              title=\"Convert this dataframe to an interactive table.\"\n",
              "              style=\"display:none;\">\n",
              "        \n",
              "  <svg xmlns=\"http://www.w3.org/2000/svg\" height=\"24px\"viewBox=\"0 0 24 24\"\n",
              "       width=\"24px\">\n",
              "    <path d=\"M0 0h24v24H0V0z\" fill=\"none\"/>\n",
              "    <path d=\"M18.56 5.44l.94 2.06.94-2.06 2.06-.94-2.06-.94-.94-2.06-.94 2.06-2.06.94zm-11 1L8.5 8.5l.94-2.06 2.06-.94-2.06-.94L8.5 2.5l-.94 2.06-2.06.94zm10 10l.94 2.06.94-2.06 2.06-.94-2.06-.94-.94-2.06-.94 2.06-2.06.94z\"/><path d=\"M17.41 7.96l-1.37-1.37c-.4-.4-.92-.59-1.43-.59-.52 0-1.04.2-1.43.59L10.3 9.45l-7.72 7.72c-.78.78-.78 2.05 0 2.83L4 21.41c.39.39.9.59 1.41.59.51 0 1.02-.2 1.41-.59l7.78-7.78 2.81-2.81c.8-.78.8-2.07 0-2.86zM5.41 20L4 18.59l7.72-7.72 1.47 1.35L5.41 20z\"/>\n",
              "  </svg>\n",
              "      </button>\n",
              "      \n",
              "  <style>\n",
              "    .colab-df-container {\n",
              "      display:flex;\n",
              "      flex-wrap:wrap;\n",
              "      gap: 12px;\n",
              "    }\n",
              "\n",
              "    .colab-df-convert {\n",
              "      background-color: #E8F0FE;\n",
              "      border: none;\n",
              "      border-radius: 50%;\n",
              "      cursor: pointer;\n",
              "      display: none;\n",
              "      fill: #1967D2;\n",
              "      height: 32px;\n",
              "      padding: 0 0 0 0;\n",
              "      width: 32px;\n",
              "    }\n",
              "\n",
              "    .colab-df-convert:hover {\n",
              "      background-color: #E2EBFA;\n",
              "      box-shadow: 0px 1px 2px rgba(60, 64, 67, 0.3), 0px 1px 3px 1px rgba(60, 64, 67, 0.15);\n",
              "      fill: #174EA6;\n",
              "    }\n",
              "\n",
              "    [theme=dark] .colab-df-convert {\n",
              "      background-color: #3B4455;\n",
              "      fill: #D2E3FC;\n",
              "    }\n",
              "\n",
              "    [theme=dark] .colab-df-convert:hover {\n",
              "      background-color: #434B5C;\n",
              "      box-shadow: 0px 1px 3px 1px rgba(0, 0, 0, 0.15);\n",
              "      filter: drop-shadow(0px 1px 2px rgba(0, 0, 0, 0.3));\n",
              "      fill: #FFFFFF;\n",
              "    }\n",
              "  </style>\n",
              "\n",
              "      <script>\n",
              "        const buttonEl =\n",
              "          document.querySelector('#df-0439203a-a081-4e71-a282-9f6973976b75 button.colab-df-convert');\n",
              "        buttonEl.style.display =\n",
              "          google.colab.kernel.accessAllowed ? 'block' : 'none';\n",
              "\n",
              "        async function convertToInteractive(key) {\n",
              "          const element = document.querySelector('#df-0439203a-a081-4e71-a282-9f6973976b75');\n",
              "          const dataTable =\n",
              "            await google.colab.kernel.invokeFunction('convertToInteractive',\n",
              "                                                     [key], {});\n",
              "          if (!dataTable) return;\n",
              "\n",
              "          const docLinkHtml = 'Like what you see? Visit the ' +\n",
              "            '<a target=\"_blank\" href=https://colab.research.google.com/notebooks/data_table.ipynb>data table notebook</a>'\n",
              "            + ' to learn more about interactive tables.';\n",
              "          element.innerHTML = '';\n",
              "          dataTable['output_type'] = 'display_data';\n",
              "          await google.colab.output.renderOutput(dataTable, element);\n",
              "          const docLink = document.createElement('div');\n",
              "          docLink.innerHTML = docLinkHtml;\n",
              "          element.appendChild(docLink);\n",
              "        }\n",
              "      </script>\n",
              "    </div>\n",
              "  </div>\n",
              "  "
            ]
          },
          "metadata": {},
          "execution_count": 4
        }
      ]
    },
    {
      "cell_type": "markdown",
      "source": [
        "## Change column names and values to make them consistent"
      ],
      "metadata": {
        "id": "mTfT7CBZt-Th"
      }
    },
    {
      "cell_type": "code",
      "source": [
        "# Column names to lowercase and replace space with underscore\n",
        "df.columns = df.columns.str.lower().str.replace(' ', '_')\n",
        "\n",
        "# Categorical column values to lowercase and replace space with underscore\n",
        "categorical_columns = list(df.dtypes[df.dtypes == 'object'].index)\n",
        "\n",
        "for c in categorical_columns:\n",
        "  df[c] = df[c].str.lower().str.replace(' ', '_')"
      ],
      "metadata": {
        "id": "nQFd2k1vtvd0"
      },
      "execution_count": null,
      "outputs": []
    },
    {
      "cell_type": "code",
      "source": [
        "df.head().T"
      ],
      "metadata": {
        "colab": {
          "base_uri": "https://localhost:8080/",
          "height": 789
        },
        "id": "-Q_5ui4aunOI",
        "outputId": "46d5338a-213d-4bce-fe1b-9a0433f8aed2"
      },
      "execution_count": null,
      "outputs": [
        {
          "output_type": "execute_result",
          "data": {
            "text/plain": [
              "                                 0             1               2  \\\n",
              "customerid              7590-vhveg    5575-gnvde      3668-qpybk   \n",
              "gender                      female          male            male   \n",
              "seniorcitizen                    0             0               0   \n",
              "partner                        yes            no              no   \n",
              "dependents                      no            no              no   \n",
              "tenure                           1            34               2   \n",
              "phoneservice                    no           yes             yes   \n",
              "multiplelines     no_phone_service            no              no   \n",
              "internetservice                dsl           dsl             dsl   \n",
              "onlinesecurity                  no           yes             yes   \n",
              "onlinebackup                   yes            no             yes   \n",
              "deviceprotection                no           yes              no   \n",
              "techsupport                     no            no              no   \n",
              "streamingtv                     no            no              no   \n",
              "streamingmovies                 no            no              no   \n",
              "contract            month-to-month      one_year  month-to-month   \n",
              "paperlessbilling               yes            no             yes   \n",
              "paymentmethod     electronic_check  mailed_check    mailed_check   \n",
              "monthlycharges               29.85         56.95           53.85   \n",
              "totalcharges                 29.85        1889.5          108.15   \n",
              "churn                           no            no             yes   \n",
              "\n",
              "                                          3                 4  \n",
              "customerid                       7795-cfocw        9237-hqitu  \n",
              "gender                                 male            female  \n",
              "seniorcitizen                             0                 0  \n",
              "partner                                  no                no  \n",
              "dependents                               no                no  \n",
              "tenure                                   45                 2  \n",
              "phoneservice                             no               yes  \n",
              "multiplelines              no_phone_service                no  \n",
              "internetservice                         dsl       fiber_optic  \n",
              "onlinesecurity                          yes                no  \n",
              "onlinebackup                             no                no  \n",
              "deviceprotection                        yes                no  \n",
              "techsupport                             yes                no  \n",
              "streamingtv                              no                no  \n",
              "streamingmovies                          no                no  \n",
              "contract                           one_year    month-to-month  \n",
              "paperlessbilling                         no               yes  \n",
              "paymentmethod     bank_transfer_(automatic)  electronic_check  \n",
              "monthlycharges                         42.3              70.7  \n",
              "totalcharges                        1840.75            151.65  \n",
              "churn                                    no               yes  "
            ],
            "text/html": [
              "\n",
              "  <div id=\"df-0a7a095a-d018-4657-9614-70a1c103c656\">\n",
              "    <div class=\"colab-df-container\">\n",
              "      <div>\n",
              "<style scoped>\n",
              "    .dataframe tbody tr th:only-of-type {\n",
              "        vertical-align: middle;\n",
              "    }\n",
              "\n",
              "    .dataframe tbody tr th {\n",
              "        vertical-align: top;\n",
              "    }\n",
              "\n",
              "    .dataframe thead th {\n",
              "        text-align: right;\n",
              "    }\n",
              "</style>\n",
              "<table border=\"1\" class=\"dataframe\">\n",
              "  <thead>\n",
              "    <tr style=\"text-align: right;\">\n",
              "      <th></th>\n",
              "      <th>0</th>\n",
              "      <th>1</th>\n",
              "      <th>2</th>\n",
              "      <th>3</th>\n",
              "      <th>4</th>\n",
              "    </tr>\n",
              "  </thead>\n",
              "  <tbody>\n",
              "    <tr>\n",
              "      <th>customerid</th>\n",
              "      <td>7590-vhveg</td>\n",
              "      <td>5575-gnvde</td>\n",
              "      <td>3668-qpybk</td>\n",
              "      <td>7795-cfocw</td>\n",
              "      <td>9237-hqitu</td>\n",
              "    </tr>\n",
              "    <tr>\n",
              "      <th>gender</th>\n",
              "      <td>female</td>\n",
              "      <td>male</td>\n",
              "      <td>male</td>\n",
              "      <td>male</td>\n",
              "      <td>female</td>\n",
              "    </tr>\n",
              "    <tr>\n",
              "      <th>seniorcitizen</th>\n",
              "      <td>0</td>\n",
              "      <td>0</td>\n",
              "      <td>0</td>\n",
              "      <td>0</td>\n",
              "      <td>0</td>\n",
              "    </tr>\n",
              "    <tr>\n",
              "      <th>partner</th>\n",
              "      <td>yes</td>\n",
              "      <td>no</td>\n",
              "      <td>no</td>\n",
              "      <td>no</td>\n",
              "      <td>no</td>\n",
              "    </tr>\n",
              "    <tr>\n",
              "      <th>dependents</th>\n",
              "      <td>no</td>\n",
              "      <td>no</td>\n",
              "      <td>no</td>\n",
              "      <td>no</td>\n",
              "      <td>no</td>\n",
              "    </tr>\n",
              "    <tr>\n",
              "      <th>tenure</th>\n",
              "      <td>1</td>\n",
              "      <td>34</td>\n",
              "      <td>2</td>\n",
              "      <td>45</td>\n",
              "      <td>2</td>\n",
              "    </tr>\n",
              "    <tr>\n",
              "      <th>phoneservice</th>\n",
              "      <td>no</td>\n",
              "      <td>yes</td>\n",
              "      <td>yes</td>\n",
              "      <td>no</td>\n",
              "      <td>yes</td>\n",
              "    </tr>\n",
              "    <tr>\n",
              "      <th>multiplelines</th>\n",
              "      <td>no_phone_service</td>\n",
              "      <td>no</td>\n",
              "      <td>no</td>\n",
              "      <td>no_phone_service</td>\n",
              "      <td>no</td>\n",
              "    </tr>\n",
              "    <tr>\n",
              "      <th>internetservice</th>\n",
              "      <td>dsl</td>\n",
              "      <td>dsl</td>\n",
              "      <td>dsl</td>\n",
              "      <td>dsl</td>\n",
              "      <td>fiber_optic</td>\n",
              "    </tr>\n",
              "    <tr>\n",
              "      <th>onlinesecurity</th>\n",
              "      <td>no</td>\n",
              "      <td>yes</td>\n",
              "      <td>yes</td>\n",
              "      <td>yes</td>\n",
              "      <td>no</td>\n",
              "    </tr>\n",
              "    <tr>\n",
              "      <th>onlinebackup</th>\n",
              "      <td>yes</td>\n",
              "      <td>no</td>\n",
              "      <td>yes</td>\n",
              "      <td>no</td>\n",
              "      <td>no</td>\n",
              "    </tr>\n",
              "    <tr>\n",
              "      <th>deviceprotection</th>\n",
              "      <td>no</td>\n",
              "      <td>yes</td>\n",
              "      <td>no</td>\n",
              "      <td>yes</td>\n",
              "      <td>no</td>\n",
              "    </tr>\n",
              "    <tr>\n",
              "      <th>techsupport</th>\n",
              "      <td>no</td>\n",
              "      <td>no</td>\n",
              "      <td>no</td>\n",
              "      <td>yes</td>\n",
              "      <td>no</td>\n",
              "    </tr>\n",
              "    <tr>\n",
              "      <th>streamingtv</th>\n",
              "      <td>no</td>\n",
              "      <td>no</td>\n",
              "      <td>no</td>\n",
              "      <td>no</td>\n",
              "      <td>no</td>\n",
              "    </tr>\n",
              "    <tr>\n",
              "      <th>streamingmovies</th>\n",
              "      <td>no</td>\n",
              "      <td>no</td>\n",
              "      <td>no</td>\n",
              "      <td>no</td>\n",
              "      <td>no</td>\n",
              "    </tr>\n",
              "    <tr>\n",
              "      <th>contract</th>\n",
              "      <td>month-to-month</td>\n",
              "      <td>one_year</td>\n",
              "      <td>month-to-month</td>\n",
              "      <td>one_year</td>\n",
              "      <td>month-to-month</td>\n",
              "    </tr>\n",
              "    <tr>\n",
              "      <th>paperlessbilling</th>\n",
              "      <td>yes</td>\n",
              "      <td>no</td>\n",
              "      <td>yes</td>\n",
              "      <td>no</td>\n",
              "      <td>yes</td>\n",
              "    </tr>\n",
              "    <tr>\n",
              "      <th>paymentmethod</th>\n",
              "      <td>electronic_check</td>\n",
              "      <td>mailed_check</td>\n",
              "      <td>mailed_check</td>\n",
              "      <td>bank_transfer_(automatic)</td>\n",
              "      <td>electronic_check</td>\n",
              "    </tr>\n",
              "    <tr>\n",
              "      <th>monthlycharges</th>\n",
              "      <td>29.85</td>\n",
              "      <td>56.95</td>\n",
              "      <td>53.85</td>\n",
              "      <td>42.3</td>\n",
              "      <td>70.7</td>\n",
              "    </tr>\n",
              "    <tr>\n",
              "      <th>totalcharges</th>\n",
              "      <td>29.85</td>\n",
              "      <td>1889.5</td>\n",
              "      <td>108.15</td>\n",
              "      <td>1840.75</td>\n",
              "      <td>151.65</td>\n",
              "    </tr>\n",
              "    <tr>\n",
              "      <th>churn</th>\n",
              "      <td>no</td>\n",
              "      <td>no</td>\n",
              "      <td>yes</td>\n",
              "      <td>no</td>\n",
              "      <td>yes</td>\n",
              "    </tr>\n",
              "  </tbody>\n",
              "</table>\n",
              "</div>\n",
              "      <button class=\"colab-df-convert\" onclick=\"convertToInteractive('df-0a7a095a-d018-4657-9614-70a1c103c656')\"\n",
              "              title=\"Convert this dataframe to an interactive table.\"\n",
              "              style=\"display:none;\">\n",
              "        \n",
              "  <svg xmlns=\"http://www.w3.org/2000/svg\" height=\"24px\"viewBox=\"0 0 24 24\"\n",
              "       width=\"24px\">\n",
              "    <path d=\"M0 0h24v24H0V0z\" fill=\"none\"/>\n",
              "    <path d=\"M18.56 5.44l.94 2.06.94-2.06 2.06-.94-2.06-.94-.94-2.06-.94 2.06-2.06.94zm-11 1L8.5 8.5l.94-2.06 2.06-.94-2.06-.94L8.5 2.5l-.94 2.06-2.06.94zm10 10l.94 2.06.94-2.06 2.06-.94-2.06-.94-.94-2.06-.94 2.06-2.06.94z\"/><path d=\"M17.41 7.96l-1.37-1.37c-.4-.4-.92-.59-1.43-.59-.52 0-1.04.2-1.43.59L10.3 9.45l-7.72 7.72c-.78.78-.78 2.05 0 2.83L4 21.41c.39.39.9.59 1.41.59.51 0 1.02-.2 1.41-.59l7.78-7.78 2.81-2.81c.8-.78.8-2.07 0-2.86zM5.41 20L4 18.59l7.72-7.72 1.47 1.35L5.41 20z\"/>\n",
              "  </svg>\n",
              "      </button>\n",
              "      \n",
              "  <style>\n",
              "    .colab-df-container {\n",
              "      display:flex;\n",
              "      flex-wrap:wrap;\n",
              "      gap: 12px;\n",
              "    }\n",
              "\n",
              "    .colab-df-convert {\n",
              "      background-color: #E8F0FE;\n",
              "      border: none;\n",
              "      border-radius: 50%;\n",
              "      cursor: pointer;\n",
              "      display: none;\n",
              "      fill: #1967D2;\n",
              "      height: 32px;\n",
              "      padding: 0 0 0 0;\n",
              "      width: 32px;\n",
              "    }\n",
              "\n",
              "    .colab-df-convert:hover {\n",
              "      background-color: #E2EBFA;\n",
              "      box-shadow: 0px 1px 2px rgba(60, 64, 67, 0.3), 0px 1px 3px 1px rgba(60, 64, 67, 0.15);\n",
              "      fill: #174EA6;\n",
              "    }\n",
              "\n",
              "    [theme=dark] .colab-df-convert {\n",
              "      background-color: #3B4455;\n",
              "      fill: #D2E3FC;\n",
              "    }\n",
              "\n",
              "    [theme=dark] .colab-df-convert:hover {\n",
              "      background-color: #434B5C;\n",
              "      box-shadow: 0px 1px 3px 1px rgba(0, 0, 0, 0.15);\n",
              "      filter: drop-shadow(0px 1px 2px rgba(0, 0, 0, 0.3));\n",
              "      fill: #FFFFFF;\n",
              "    }\n",
              "  </style>\n",
              "\n",
              "      <script>\n",
              "        const buttonEl =\n",
              "          document.querySelector('#df-0a7a095a-d018-4657-9614-70a1c103c656 button.colab-df-convert');\n",
              "        buttonEl.style.display =\n",
              "          google.colab.kernel.accessAllowed ? 'block' : 'none';\n",
              "\n",
              "        async function convertToInteractive(key) {\n",
              "          const element = document.querySelector('#df-0a7a095a-d018-4657-9614-70a1c103c656');\n",
              "          const dataTable =\n",
              "            await google.colab.kernel.invokeFunction('convertToInteractive',\n",
              "                                                     [key], {});\n",
              "          if (!dataTable) return;\n",
              "\n",
              "          const docLinkHtml = 'Like what you see? Visit the ' +\n",
              "            '<a target=\"_blank\" href=https://colab.research.google.com/notebooks/data_table.ipynb>data table notebook</a>'\n",
              "            + ' to learn more about interactive tables.';\n",
              "          element.innerHTML = '';\n",
              "          dataTable['output_type'] = 'display_data';\n",
              "          await google.colab.output.renderOutput(dataTable, element);\n",
              "          const docLink = document.createElement('div');\n",
              "          docLink.innerHTML = docLinkHtml;\n",
              "          element.appendChild(docLink);\n",
              "        }\n",
              "      </script>\n",
              "    </div>\n",
              "  </div>\n",
              "  "
            ]
          },
          "metadata": {},
          "execution_count": 6
        }
      ]
    },
    {
      "cell_type": "markdown",
      "source": [
        "## Change column types to the right one"
      ],
      "metadata": {
        "id": "GuKmnAZMvLNH"
      }
    },
    {
      "cell_type": "code",
      "source": [
        "df.dtypes"
      ],
      "metadata": {
        "colab": {
          "base_uri": "https://localhost:8080/"
        },
        "id": "LDxrXt1xumK8",
        "outputId": "50c3e5e4-8e93-405c-880d-242208c4ae83"
      },
      "execution_count": null,
      "outputs": [
        {
          "output_type": "execute_result",
          "data": {
            "text/plain": [
              "customerid           object\n",
              "gender               object\n",
              "seniorcitizen         int64\n",
              "partner              object\n",
              "dependents           object\n",
              "tenure                int64\n",
              "phoneservice         object\n",
              "multiplelines        object\n",
              "internetservice      object\n",
              "onlinesecurity       object\n",
              "onlinebackup         object\n",
              "deviceprotection     object\n",
              "techsupport          object\n",
              "streamingtv          object\n",
              "streamingmovies      object\n",
              "contract             object\n",
              "paperlessbilling     object\n",
              "paymentmethod        object\n",
              "monthlycharges      float64\n",
              "totalcharges         object\n",
              "churn                object\n",
              "dtype: object"
            ]
          },
          "metadata": {},
          "execution_count": 7
        }
      ]
    },
    {
      "cell_type": "markdown",
      "source": [
        "### totalcharges"
      ],
      "metadata": {
        "id": "rjgUvss91xD2"
      }
    },
    {
      "cell_type": "code",
      "source": [
        "# Total charges to numeric\n",
        "# it will give an error since the original df had some empty values that\n",
        "# changed to underscore when we swapped all spaces with underscores\n",
        "\n",
        "# to ignore such error and replace non-numerics with NaNs, \n",
        "#use the `errors` parameter\n",
        "df.totalcharges = pd.to_numeric(df.totalcharges, errors='coerce')\n",
        "\n",
        "# fill NaNs with 0s\n",
        "df.totalcharges = df.totalcharges.fillna(0)"
      ],
      "metadata": {
        "id": "OwQxfEeAu9Fb"
      },
      "execution_count": null,
      "outputs": []
    },
    {
      "cell_type": "markdown",
      "source": [
        "### churn"
      ],
      "metadata": {
        "id": "RRabFm8A1zxa"
      }
    },
    {
      "cell_type": "code",
      "source": [
        "df.churn.head()"
      ],
      "metadata": {
        "colab": {
          "base_uri": "https://localhost:8080/"
        },
        "id": "wlAZ1Xl60ygl",
        "outputId": "ee2c0b20-51e4-4b1f-d7fc-92442993c00c"
      },
      "execution_count": null,
      "outputs": [
        {
          "output_type": "execute_result",
          "data": {
            "text/plain": [
              "0     no\n",
              "1     no\n",
              "2    yes\n",
              "3     no\n",
              "4    yes\n",
              "Name: churn, dtype: object"
            ]
          },
          "metadata": {},
          "execution_count": 9
        }
      ]
    },
    {
      "cell_type": "code",
      "source": [
        "# yes -> true -> 1\n",
        "# no -> false -> 0\n",
        "# replace yes with 1 and no with 0\n",
        "\n",
        "df.churn = (df.churn=='yes').astype(int)"
      ],
      "metadata": {
        "id": "OX70r7PQz1Eu"
      },
      "execution_count": null,
      "outputs": []
    },
    {
      "cell_type": "markdown",
      "source": [
        "# 4. Setting up the validation framework\n",
        "perform the train/validation/test split with Scikit-Learn"
      ],
      "metadata": {
        "id": "t5y-SlRf2mhm"
      }
    },
    {
      "cell_type": "markdown",
      "source": [
        "## Split df into train/val/test"
      ],
      "metadata": {
        "id": "ZsWMUIm36Q0P"
      }
    },
    {
      "cell_type": "code",
      "source": [
        "# 80% -> df_full_train, 20% -> df_test\n",
        "df_full_train, df_test = train_test_split(df, test_size=0.2, random_state=1)\n",
        "\n",
        "# 60% of 80% -> train, 20% of 80% (25%) -> val\n",
        "df_train, df_val = train_test_split(df_full_train, test_size=0.25, random_state=1)"
      ],
      "metadata": {
        "id": "hV7JgXT-2L0S"
      },
      "execution_count": null,
      "outputs": []
    },
    {
      "cell_type": "code",
      "source": [
        "len(df_train), len(df_val), len(df_test)"
      ],
      "metadata": {
        "colab": {
          "base_uri": "https://localhost:8080/"
        },
        "id": "cjZrKZQI4AAh",
        "outputId": "e6870bcb-5e08-4b51-b67d-05793e4902d1"
      },
      "execution_count": null,
      "outputs": [
        {
          "output_type": "execute_result",
          "data": {
            "text/plain": [
              "(4225, 1409, 1409)"
            ]
          },
          "metadata": {},
          "execution_count": 12
        }
      ]
    },
    {
      "cell_type": "code",
      "source": [
        "# reset indicies\n",
        "df_train = df_train.reset_index(drop=True)\n",
        "df_val = df_val.reset_index(drop=True)\n",
        "df_test = df_test.reset_index(drop=True)"
      ],
      "metadata": {
        "id": "KSmOMh7R6ffS"
      },
      "execution_count": null,
      "outputs": []
    },
    {
      "cell_type": "markdown",
      "source": [
        "## Get the target variables"
      ],
      "metadata": {
        "id": "C94Aa5WQ64kS"
      }
    },
    {
      "cell_type": "code",
      "source": [
        "y_train = df_train.churn.values\n",
        "y_val = df_val.churn.values\n",
        "y_test = df_test.churn.values\n",
        "\n",
        "# delete target variable from features dataframe\n",
        "del df_train['churn']\n",
        "del df_val['churn']\n",
        "del df_test['churn']"
      ],
      "metadata": {
        "id": "EDfKKvkr604Z"
      },
      "execution_count": null,
      "outputs": []
    },
    {
      "cell_type": "markdown",
      "source": [
        "# 5. EDA\n",
        "- Check missing values\n",
        "- Look at the target variable (churn)\n",
        "- Look at numerical and categorical variables"
      ],
      "metadata": {
        "id": "Rpr08Wry8DeZ"
      }
    },
    {
      "cell_type": "code",
      "source": [
        "# We will use full train df with the target variable for EDA\n",
        "df_full_train = df_full_train.reset_index(drop=True)"
      ],
      "metadata": {
        "id": "CP1pP1zj7-Fy"
      },
      "execution_count": null,
      "outputs": []
    },
    {
      "cell_type": "markdown",
      "source": [
        "## 5.1. Check missing values"
      ],
      "metadata": {
        "id": "POyVT--B9pgT"
      }
    },
    {
      "cell_type": "code",
      "source": [
        "df_full_train.isnull().sum()"
      ],
      "metadata": {
        "colab": {
          "base_uri": "https://localhost:8080/"
        },
        "id": "81EHRIRM9nh7",
        "outputId": "c5b1f1aa-8f3b-447b-f4fa-4b4376a9d6d8"
      },
      "execution_count": null,
      "outputs": [
        {
          "output_type": "execute_result",
          "data": {
            "text/plain": [
              "customerid          0\n",
              "gender              0\n",
              "seniorcitizen       0\n",
              "partner             0\n",
              "dependents          0\n",
              "tenure              0\n",
              "phoneservice        0\n",
              "multiplelines       0\n",
              "internetservice     0\n",
              "onlinesecurity      0\n",
              "onlinebackup        0\n",
              "deviceprotection    0\n",
              "techsupport         0\n",
              "streamingtv         0\n",
              "streamingmovies     0\n",
              "contract            0\n",
              "paperlessbilling    0\n",
              "paymentmethod       0\n",
              "monthlycharges      0\n",
              "totalcharges        0\n",
              "churn               0\n",
              "dtype: int64"
            ]
          },
          "metadata": {},
          "execution_count": 16
        }
      ]
    },
    {
      "cell_type": "markdown",
      "source": [
        "There are no missing variables"
      ],
      "metadata": {
        "id": "a6zoTeDK910k"
      }
    },
    {
      "cell_type": "markdown",
      "source": [
        "## 5.2. Look at the target variable (churn)"
      ],
      "metadata": {
        "id": "_cZ5CQwn9-2q"
      }
    },
    {
      "cell_type": "code",
      "source": [
        "# Percentage of target values\n",
        "df_full_train.churn.value_counts(normalize=True)"
      ],
      "metadata": {
        "colab": {
          "base_uri": "https://localhost:8080/"
        },
        "id": "8nxRh6oZ9xZd",
        "outputId": "36cdec86-6110-40ff-83b8-806111be2186"
      },
      "execution_count": null,
      "outputs": [
        {
          "output_type": "execute_result",
          "data": {
            "text/plain": [
              "0    0.730032\n",
              "1    0.269968\n",
              "Name: churn, dtype: float64"
            ]
          },
          "metadata": {},
          "execution_count": 17
        }
      ]
    },
    {
      "cell_type": "markdown",
      "source": [
        "> 0.269968 is the **churn rate**"
      ],
      "metadata": {
        "id": "bhB6HItZ_Vo9"
      }
    },
    {
      "cell_type": "markdown",
      "source": [
        "- 27% are churning users\n",
        "- 73% are not churning users"
      ],
      "metadata": {
        "id": "xj7bpQR3_JeV"
      }
    },
    {
      "cell_type": "code",
      "source": [
        "# We can also find the churn rate using the mean\n",
        "# since churn = 1\n",
        "# global churn rate is the churn rate in the entire dataset\n",
        "global_churn_rate = df_full_train.churn.mean()\n",
        "round(global_churn_rate, 2)"
      ],
      "metadata": {
        "colab": {
          "base_uri": "https://localhost:8080/"
        },
        "id": "mo6kEWy_-KHq",
        "outputId": "5ae2152e-c586-4526-844f-6d6069d402b7"
      },
      "execution_count": null,
      "outputs": [
        {
          "output_type": "execute_result",
          "data": {
            "text/plain": [
              "0.27"
            ]
          },
          "metadata": {},
          "execution_count": 18
        }
      ]
    },
    {
      "cell_type": "markdown",
      "source": [
        "27% of the users are churning"
      ],
      "metadata": {
        "id": "rER9TnQBAJ7z"
      }
    },
    {
      "cell_type": "markdown",
      "source": [
        "## 5.3. Look at numerical and categorical variables"
      ],
      "metadata": {
        "id": "P1XgkzDgAXc3"
      }
    },
    {
      "cell_type": "code",
      "source": [
        "df_full_train.dtypes"
      ],
      "metadata": {
        "colab": {
          "base_uri": "https://localhost:8080/"
        },
        "id": "TolEQpAI_kw9",
        "outputId": "ede83426-8c08-49e1-af3d-85926394d2f1"
      },
      "execution_count": null,
      "outputs": [
        {
          "output_type": "execute_result",
          "data": {
            "text/plain": [
              "customerid           object\n",
              "gender               object\n",
              "seniorcitizen         int64\n",
              "partner              object\n",
              "dependents           object\n",
              "tenure                int64\n",
              "phoneservice         object\n",
              "multiplelines        object\n",
              "internetservice      object\n",
              "onlinesecurity       object\n",
              "onlinebackup         object\n",
              "deviceprotection     object\n",
              "techsupport          object\n",
              "streamingtv          object\n",
              "streamingmovies      object\n",
              "contract             object\n",
              "paperlessbilling     object\n",
              "paymentmethod        object\n",
              "monthlycharges      float64\n",
              "totalcharges        float64\n",
              "churn                 int64\n",
              "dtype: object"
            ]
          },
          "metadata": {},
          "execution_count": 19
        }
      ]
    },
    {
      "cell_type": "markdown",
      "source": [
        "**Numerical variables:**\n",
        "- tenure\n",
        "- monthlycharges\n",
        "- totalcharges\n",
        "\n",
        "The rest are categorical"
      ],
      "metadata": {
        "id": "L6m_DVcgAokm"
      }
    },
    {
      "cell_type": "code",
      "source": [
        "numerical = ['tenure',\n",
        "             'monthlycharges',\n",
        "             'totalcharges']"
      ],
      "metadata": {
        "id": "IDQWyBbvAbzp"
      },
      "execution_count": null,
      "outputs": []
    },
    {
      "cell_type": "code",
      "source": [
        "categorical = ['gender', 'seniorcitizen', 'partner', 'dependents', 'phoneservice', 'multiplelines', 'internetservice',\n",
        "       'onlinesecurity', 'onlinebackup', 'deviceprotection', 'techsupport',\n",
        "       'streamingtv', 'streamingmovies', 'contract', 'paperlessbilling',\n",
        "       'paymentmethod'] "
      ],
      "metadata": {
        "id": "ea5s1PJgBPUL"
      },
      "execution_count": null,
      "outputs": []
    },
    {
      "cell_type": "code",
      "source": [
        "df_full_train[categorical].nunique()"
      ],
      "metadata": {
        "colab": {
          "base_uri": "https://localhost:8080/"
        },
        "id": "TGd3S_NWBSP7",
        "outputId": "ca15bd75-52a9-4cfb-9c4b-f24d5091be88"
      },
      "execution_count": null,
      "outputs": [
        {
          "output_type": "execute_result",
          "data": {
            "text/plain": [
              "gender              2\n",
              "seniorcitizen       2\n",
              "partner             2\n",
              "dependents          2\n",
              "phoneservice        2\n",
              "multiplelines       3\n",
              "internetservice     3\n",
              "onlinesecurity      3\n",
              "onlinebackup        3\n",
              "deviceprotection    3\n",
              "techsupport         3\n",
              "streamingtv         3\n",
              "streamingmovies     3\n",
              "contract            3\n",
              "paperlessbilling    2\n",
              "paymentmethod       4\n",
              "dtype: int64"
            ]
          },
          "metadata": {},
          "execution_count": 22
        }
      ]
    },
    {
      "cell_type": "markdown",
      "source": [
        "We can see some are binary and some have more than 2"
      ],
      "metadata": {
        "id": "zXXhy7_UB1Jw"
      }
    },
    {
      "cell_type": "markdown",
      "source": [
        "# 6. Feature importance: Churn rate and risk ratio\n",
        "\n",
        "Feature importance analysis (part of EDA) - identifying which features affect our target variable\n",
        "\n",
        "- Churn rate\n",
        "- Risk ratio\n",
        "- Mutual information - later"
      ],
      "metadata": {
        "id": "L36HzaftCBeG"
      }
    },
    {
      "cell_type": "markdown",
      "source": [
        "### **Feature Importance Metrics**\n",
        "1. **Difference**\n",
        "\n",
        "Global - Group\n",
        "\n",
        "- diff<0 : More likely to churn\n",
        "- diff>0 : Less likely to churn\n",
        "\n",
        "3. **Risk Ratio**\n",
        "\n",
        "Risk = Group/Global\n",
        "\n",
        "- risk>1 : More likely to churn\n",
        "- risk<1 : Less likely to churn"
      ],
      "metadata": {
        "id": "mFTcF2_0ntmm"
      }
    },
    {
      "cell_type": "markdown",
      "source": [
        "## Churn rate"
      ],
      "metadata": {
        "id": "D8v1zs3finSn"
      }
    },
    {
      "cell_type": "markdown",
      "source": [
        "### Gender"
      ],
      "metadata": {
        "id": "zIhzchZ_kGII"
      }
    },
    {
      "cell_type": "code",
      "source": [
        "churn_female = df_full_train[df_full_train.gender == 'female'].churn.mean()\n",
        "churn_female"
      ],
      "metadata": {
        "colab": {
          "base_uri": "https://localhost:8080/"
        },
        "id": "pLbBjK-cBqa6",
        "outputId": "9076952d-0067-4daa-e9d9-144d0a0d2a83"
      },
      "execution_count": null,
      "outputs": [
        {
          "output_type": "execute_result",
          "data": {
            "text/plain": [
              "0.27682403433476394"
            ]
          },
          "metadata": {},
          "execution_count": 23
        }
      ]
    },
    {
      "cell_type": "code",
      "source": [
        "churn_male = df_full_train[df_full_train.gender == 'male'].churn.mean()\n",
        "churn_male"
      ],
      "metadata": {
        "colab": {
          "base_uri": "https://localhost:8080/"
        },
        "id": "9njl5kufi3UC",
        "outputId": "b219b22d-6af2-46c6-af21-3cf66626ccfb"
      },
      "execution_count": null,
      "outputs": [
        {
          "output_type": "execute_result",
          "data": {
            "text/plain": [
              "0.2632135306553911"
            ]
          },
          "metadata": {},
          "execution_count": 24
        }
      ]
    },
    {
      "cell_type": "code",
      "source": [
        "global_churn = df_full_train.churn.mean()\n",
        "global_churn"
      ],
      "metadata": {
        "colab": {
          "base_uri": "https://localhost:8080/"
        },
        "id": "FinKjI7cjIcu",
        "outputId": "bb7f8d56-a5b9-4fb2-c652-658c14ed1193"
      },
      "execution_count": null,
      "outputs": [
        {
          "output_type": "execute_result",
          "data": {
            "text/plain": [
              "0.26996805111821087"
            ]
          },
          "metadata": {},
          "execution_count": 25
        }
      ]
    },
    {
      "cell_type": "markdown",
      "source": [
        "We can see that there is almost no difference between female, male, and global churn"
      ],
      "metadata": {
        "id": "29wbW3fOkHm6"
      }
    },
    {
      "cell_type": "markdown",
      "source": [
        "### Partner"
      ],
      "metadata": {
        "id": "HfAOWnw9kNvo"
      }
    },
    {
      "cell_type": "code",
      "source": [
        "df_full_train.partner.value_counts()"
      ],
      "metadata": {
        "colab": {
          "base_uri": "https://localhost:8080/"
        },
        "id": "q7cj_-MmkA7C",
        "outputId": "e99ec381-274a-445b-d61d-35c077d9eedb"
      },
      "execution_count": null,
      "outputs": [
        {
          "output_type": "execute_result",
          "data": {
            "text/plain": [
              "no     2932\n",
              "yes    2702\n",
              "Name: partner, dtype: int64"
            ]
          },
          "metadata": {},
          "execution_count": 26
        }
      ]
    },
    {
      "cell_type": "code",
      "source": [
        "# Partner\n",
        "churn_partner = df_full_train[df_full_train.partner == 'yes'].churn.mean()\n",
        "churn_partner "
      ],
      "metadata": {
        "colab": {
          "base_uri": "https://localhost:8080/"
        },
        "id": "Z57B_sIhkVUC",
        "outputId": "576608e1-3aa9-40cb-f032-8341f2db691d"
      },
      "execution_count": null,
      "outputs": [
        {
          "output_type": "execute_result",
          "data": {
            "text/plain": [
              "0.20503330866025166"
            ]
          },
          "metadata": {},
          "execution_count": 27
        }
      ]
    },
    {
      "cell_type": "code",
      "source": [
        "global_churn - churn_partner "
      ],
      "metadata": {
        "colab": {
          "base_uri": "https://localhost:8080/"
        },
        "id": "sNkXzafJlCOo",
        "outputId": "9fe623fb-9b5a-481d-b17b-d67408650ad7"
      },
      "execution_count": null,
      "outputs": [
        {
          "output_type": "execute_result",
          "data": {
            "text/plain": [
              "0.06493474245795922"
            ]
          },
          "metadata": {},
          "execution_count": 28
        }
      ]
    },
    {
      "cell_type": "code",
      "source": [
        "# No Partner\n",
        "churn_no_partner = df_full_train[df_full_train.partner == 'no'].churn.mean()\n",
        "churn_no_partner "
      ],
      "metadata": {
        "colab": {
          "base_uri": "https://localhost:8080/"
        },
        "id": "3-4mOilWkmpm",
        "outputId": "270bbf16-c65e-4c4e-c85c-c75ae0889d8e"
      },
      "execution_count": null,
      "outputs": [
        {
          "output_type": "execute_result",
          "data": {
            "text/plain": [
              "0.3298090040927694"
            ]
          },
          "metadata": {},
          "execution_count": 29
        }
      ]
    },
    {
      "cell_type": "code",
      "source": [
        "global_churn - churn_no_partner"
      ],
      "metadata": {
        "colab": {
          "base_uri": "https://localhost:8080/"
        },
        "id": "jlrs5wbolLPW",
        "outputId": "2453ac85-b1d7-43a1-f6fc-ab6a08a3d5a2"
      },
      "execution_count": null,
      "outputs": [
        {
          "output_type": "execute_result",
          "data": {
            "text/plain": [
              "-0.05984095297455855"
            ]
          },
          "metadata": {},
          "execution_count": 30
        }
      ]
    },
    {
      "cell_type": "markdown",
      "source": [
        "Churn rate is approx. 5% more for people without partners than global churn rate."
      ],
      "metadata": {
        "id": "fv-EXiw-kt0h"
      }
    },
    {
      "cell_type": "markdown",
      "source": [
        "## Risk ratio"
      ],
      "metadata": {
        "id": "EnlgLvF9nitE"
      }
    },
    {
      "cell_type": "markdown",
      "source": [
        "### Partner"
      ],
      "metadata": {
        "id": "1cZq-OU6o3wj"
      }
    },
    {
      "cell_type": "code",
      "source": [
        "churn_no_partner/global_churn"
      ],
      "metadata": {
        "colab": {
          "base_uri": "https://localhost:8080/"
        },
        "id": "FOQt1kQJksEN",
        "outputId": "5763f60d-4b73-43b5-e0d3-6480ed140b95"
      },
      "execution_count": null,
      "outputs": [
        {
          "output_type": "execute_result",
          "data": {
            "text/plain": [
              "1.2216593879412643"
            ]
          },
          "metadata": {},
          "execution_count": 31
        }
      ]
    },
    {
      "cell_type": "code",
      "source": [
        "churn_partner/global_churn"
      ],
      "metadata": {
        "colab": {
          "base_uri": "https://localhost:8080/"
        },
        "id": "LgjeXU0to80n",
        "outputId": "558c1290-6065-4f86-f9ea-a0f441de0138"
      },
      "execution_count": null,
      "outputs": [
        {
          "output_type": "execute_result",
          "data": {
            "text/plain": [
              "0.7594724924338315"
            ]
          },
          "metadata": {},
          "execution_count": 32
        }
      ]
    },
    {
      "cell_type": "markdown",
      "source": [
        "For people without a partner, the churn rate is 22% higher, for people with partner the churn rate is 25% lower."
      ],
      "metadata": {
        "id": "NuTtsgHOpAVj"
      }
    },
    {
      "cell_type": "markdown",
      "source": [
        "![image.png](data:image/png;base64,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)"
      ],
      "metadata": {
        "id": "8Cwz4sz4r0FC"
      }
    },
    {
      "cell_type": "markdown",
      "source": [
        "To avoid manually calculating, implement this SQL query in pandas\n",
        "\n",
        "![image.png](data:image/png;base64,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)\n"
      ],
      "metadata": {
        "id": "QurWDFrnsKs2"
      }
    },
    {
      "cell_type": "code",
      "source": [
        "for c in categorical:\n",
        "  print(c)\n",
        "  df_group = df_full_train.groupby(c).churn.agg(['mean', 'count'])\n",
        "  df_group['diff'] = df_group['mean'] - global_churn\n",
        "  df_group['risk'] = df_group['mean'] / global_churn\n",
        "  display(df_group)\n",
        "  print('------------------------------------------------------------------------')"
      ],
      "metadata": {
        "colab": {
          "base_uri": "https://localhost:8080/",
          "height": 1000
        },
        "id": "g0vQJEv8sKD8",
        "outputId": "e7eb5fe4-ad35-4d49-aab6-52933219ac89"
      },
      "execution_count": null,
      "outputs": [
        {
          "output_type": "stream",
          "name": "stdout",
          "text": [
            "gender\n"
          ]
        },
        {
          "output_type": "display_data",
          "data": {
            "text/plain": [
              "            mean  count      diff      risk\n",
              "gender                                     \n",
              "female  0.276824   2796  0.006856  1.025396\n",
              "male    0.263214   2838 -0.006755  0.974980"
            ],
            "text/html": [
              "\n",
              "  <div id=\"df-e76795a6-925e-4bcb-a847-dbc87e299d09\">\n",
              "    <div class=\"colab-df-container\">\n",
              "      <div>\n",
              "<style scoped>\n",
              "    .dataframe tbody tr th:only-of-type {\n",
              "        vertical-align: middle;\n",
              "    }\n",
              "\n",
              "    .dataframe tbody tr th {\n",
              "        vertical-align: top;\n",
              "    }\n",
              "\n",
              "    .dataframe thead th {\n",
              "        text-align: right;\n",
              "    }\n",
              "</style>\n",
              "<table border=\"1\" class=\"dataframe\">\n",
              "  <thead>\n",
              "    <tr style=\"text-align: right;\">\n",
              "      <th></th>\n",
              "      <th>mean</th>\n",
              "      <th>count</th>\n",
              "      <th>diff</th>\n",
              "      <th>risk</th>\n",
              "    </tr>\n",
              "    <tr>\n",
              "      <th>gender</th>\n",
              "      <th></th>\n",
              "      <th></th>\n",
              "      <th></th>\n",
              "      <th></th>\n",
              "    </tr>\n",
              "  </thead>\n",
              "  <tbody>\n",
              "    <tr>\n",
              "      <th>female</th>\n",
              "      <td>0.276824</td>\n",
              "      <td>2796</td>\n",
              "      <td>0.006856</td>\n",
              "      <td>1.025396</td>\n",
              "    </tr>\n",
              "    <tr>\n",
              "      <th>male</th>\n",
              "      <td>0.263214</td>\n",
              "      <td>2838</td>\n",
              "      <td>-0.006755</td>\n",
              "      <td>0.974980</td>\n",
              "    </tr>\n",
              "  </tbody>\n",
              "</table>\n",
              "</div>\n",
              "      <button class=\"colab-df-convert\" onclick=\"convertToInteractive('df-e76795a6-925e-4bcb-a847-dbc87e299d09')\"\n",
              "              title=\"Convert this dataframe to an interactive table.\"\n",
              "              style=\"display:none;\">\n",
              "        \n",
              "  <svg xmlns=\"http://www.w3.org/2000/svg\" height=\"24px\"viewBox=\"0 0 24 24\"\n",
              "       width=\"24px\">\n",
              "    <path d=\"M0 0h24v24H0V0z\" fill=\"none\"/>\n",
              "    <path d=\"M18.56 5.44l.94 2.06.94-2.06 2.06-.94-2.06-.94-.94-2.06-.94 2.06-2.06.94zm-11 1L8.5 8.5l.94-2.06 2.06-.94-2.06-.94L8.5 2.5l-.94 2.06-2.06.94zm10 10l.94 2.06.94-2.06 2.06-.94-2.06-.94-.94-2.06-.94 2.06-2.06.94z\"/><path d=\"M17.41 7.96l-1.37-1.37c-.4-.4-.92-.59-1.43-.59-.52 0-1.04.2-1.43.59L10.3 9.45l-7.72 7.72c-.78.78-.78 2.05 0 2.83L4 21.41c.39.39.9.59 1.41.59.51 0 1.02-.2 1.41-.59l7.78-7.78 2.81-2.81c.8-.78.8-2.07 0-2.86zM5.41 20L4 18.59l7.72-7.72 1.47 1.35L5.41 20z\"/>\n",
              "  </svg>\n",
              "      </button>\n",
              "      \n",
              "  <style>\n",
              "    .colab-df-container {\n",
              "      display:flex;\n",
              "      flex-wrap:wrap;\n",
              "      gap: 12px;\n",
              "    }\n",
              "\n",
              "    .colab-df-convert {\n",
              "      background-color: #E8F0FE;\n",
              "      border: none;\n",
              "      border-radius: 50%;\n",
              "      cursor: pointer;\n",
              "      display: none;\n",
              "      fill: #1967D2;\n",
              "      height: 32px;\n",
              "      padding: 0 0 0 0;\n",
              "      width: 32px;\n",
              "    }\n",
              "\n",
              "    .colab-df-convert:hover {\n",
              "      background-color: #E2EBFA;\n",
              "      box-shadow: 0px 1px 2px rgba(60, 64, 67, 0.3), 0px 1px 3px 1px rgba(60, 64, 67, 0.15);\n",
              "      fill: #174EA6;\n",
              "    }\n",
              "\n",
              "    [theme=dark] .colab-df-convert {\n",
              "      background-color: #3B4455;\n",
              "      fill: #D2E3FC;\n",
              "    }\n",
              "\n",
              "    [theme=dark] .colab-df-convert:hover {\n",
              "      background-color: #434B5C;\n",
              "      box-shadow: 0px 1px 3px 1px rgba(0, 0, 0, 0.15);\n",
              "      filter: drop-shadow(0px 1px 2px rgba(0, 0, 0, 0.3));\n",
              "      fill: #FFFFFF;\n",
              "    }\n",
              "  </style>\n",
              "\n",
              "      <script>\n",
              "        const buttonEl =\n",
              "          document.querySelector('#df-e76795a6-925e-4bcb-a847-dbc87e299d09 button.colab-df-convert');\n",
              "        buttonEl.style.display =\n",
              "          google.colab.kernel.accessAllowed ? 'block' : 'none';\n",
              "\n",
              "        async function convertToInteractive(key) {\n",
              "          const element = document.querySelector('#df-e76795a6-925e-4bcb-a847-dbc87e299d09');\n",
              "          const dataTable =\n",
              "            await google.colab.kernel.invokeFunction('convertToInteractive',\n",
              "                                                     [key], {});\n",
              "          if (!dataTable) return;\n",
              "\n",
              "          const docLinkHtml = 'Like what you see? Visit the ' +\n",
              "            '<a target=\"_blank\" href=https://colab.research.google.com/notebooks/data_table.ipynb>data table notebook</a>'\n",
              "            + ' to learn more about interactive tables.';\n",
              "          element.innerHTML = '';\n",
              "          dataTable['output_type'] = 'display_data';\n",
              "          await google.colab.output.renderOutput(dataTable, element);\n",
              "          const docLink = document.createElement('div');\n",
              "          docLink.innerHTML = docLinkHtml;\n",
              "          element.appendChild(docLink);\n",
              "        }\n",
              "      </script>\n",
              "    </div>\n",
              "  </div>\n",
              "  "
            ]
          },
          "metadata": {}
        },
        {
          "output_type": "stream",
          "name": "stdout",
          "text": [
            "------------------------------------------------------------------------\n",
            "seniorcitizen\n"
          ]
        },
        {
          "output_type": "display_data",
          "data": {
            "text/plain": [
              "                   mean  count      diff      risk\n",
              "seniorcitizen                                     \n",
              "0              0.242270   4722 -0.027698  0.897403\n",
              "1              0.413377    912  0.143409  1.531208"
            ],
            "text/html": [
              "\n",
              "  <div id=\"df-4a36b04c-2c14-4cc4-a07e-0bab1e76b9f0\">\n",
              "    <div class=\"colab-df-container\">\n",
              "      <div>\n",
              "<style scoped>\n",
              "    .dataframe tbody tr th:only-of-type {\n",
              "        vertical-align: middle;\n",
              "    }\n",
              "\n",
              "    .dataframe tbody tr th {\n",
              "        vertical-align: top;\n",
              "    }\n",
              "\n",
              "    .dataframe thead th {\n",
              "        text-align: right;\n",
              "    }\n",
              "</style>\n",
              "<table border=\"1\" class=\"dataframe\">\n",
              "  <thead>\n",
              "    <tr style=\"text-align: right;\">\n",
              "      <th></th>\n",
              "      <th>mean</th>\n",
              "      <th>count</th>\n",
              "      <th>diff</th>\n",
              "      <th>risk</th>\n",
              "    </tr>\n",
              "    <tr>\n",
              "      <th>seniorcitizen</th>\n",
              "      <th></th>\n",
              "      <th></th>\n",
              "      <th></th>\n",
              "      <th></th>\n",
              "    </tr>\n",
              "  </thead>\n",
              "  <tbody>\n",
              "    <tr>\n",
              "      <th>0</th>\n",
              "      <td>0.242270</td>\n",
              "      <td>4722</td>\n",
              "      <td>-0.027698</td>\n",
              "      <td>0.897403</td>\n",
              "    </tr>\n",
              "    <tr>\n",
              "      <th>1</th>\n",
              "      <td>0.413377</td>\n",
              "      <td>912</td>\n",
              "      <td>0.143409</td>\n",
              "      <td>1.531208</td>\n",
              "    </tr>\n",
              "  </tbody>\n",
              "</table>\n",
              "</div>\n",
              "      <button class=\"colab-df-convert\" onclick=\"convertToInteractive('df-4a36b04c-2c14-4cc4-a07e-0bab1e76b9f0')\"\n",
              "              title=\"Convert this dataframe to an interactive table.\"\n",
              "              style=\"display:none;\">\n",
              "        \n",
              "  <svg xmlns=\"http://www.w3.org/2000/svg\" height=\"24px\"viewBox=\"0 0 24 24\"\n",
              "       width=\"24px\">\n",
              "    <path d=\"M0 0h24v24H0V0z\" fill=\"none\"/>\n",
              "    <path d=\"M18.56 5.44l.94 2.06.94-2.06 2.06-.94-2.06-.94-.94-2.06-.94 2.06-2.06.94zm-11 1L8.5 8.5l.94-2.06 2.06-.94-2.06-.94L8.5 2.5l-.94 2.06-2.06.94zm10 10l.94 2.06.94-2.06 2.06-.94-2.06-.94-.94-2.06-.94 2.06-2.06.94z\"/><path d=\"M17.41 7.96l-1.37-1.37c-.4-.4-.92-.59-1.43-.59-.52 0-1.04.2-1.43.59L10.3 9.45l-7.72 7.72c-.78.78-.78 2.05 0 2.83L4 21.41c.39.39.9.59 1.41.59.51 0 1.02-.2 1.41-.59l7.78-7.78 2.81-2.81c.8-.78.8-2.07 0-2.86zM5.41 20L4 18.59l7.72-7.72 1.47 1.35L5.41 20z\"/>\n",
              "  </svg>\n",
              "      </button>\n",
              "      \n",
              "  <style>\n",
              "    .colab-df-container {\n",
              "      display:flex;\n",
              "      flex-wrap:wrap;\n",
              "      gap: 12px;\n",
              "    }\n",
              "\n",
              "    .colab-df-convert {\n",
              "      background-color: #E8F0FE;\n",
              "      border: none;\n",
              "      border-radius: 50%;\n",
              "      cursor: pointer;\n",
              "      display: none;\n",
              "      fill: #1967D2;\n",
              "      height: 32px;\n",
              "      padding: 0 0 0 0;\n",
              "      width: 32px;\n",
              "    }\n",
              "\n",
              "    .colab-df-convert:hover {\n",
              "      background-color: #E2EBFA;\n",
              "      box-shadow: 0px 1px 2px rgba(60, 64, 67, 0.3), 0px 1px 3px 1px rgba(60, 64, 67, 0.15);\n",
              "      fill: #174EA6;\n",
              "    }\n",
              "\n",
              "    [theme=dark] .colab-df-convert {\n",
              "      background-color: #3B4455;\n",
              "      fill: #D2E3FC;\n",
              "    }\n",
              "\n",
              "    [theme=dark] .colab-df-convert:hover {\n",
              "      background-color: #434B5C;\n",
              "      box-shadow: 0px 1px 3px 1px rgba(0, 0, 0, 0.15);\n",
              "      filter: drop-shadow(0px 1px 2px rgba(0, 0, 0, 0.3));\n",
              "      fill: #FFFFFF;\n",
              "    }\n",
              "  </style>\n",
              "\n",
              "      <script>\n",
              "        const buttonEl =\n",
              "          document.querySelector('#df-4a36b04c-2c14-4cc4-a07e-0bab1e76b9f0 button.colab-df-convert');\n",
              "        buttonEl.style.display =\n",
              "          google.colab.kernel.accessAllowed ? 'block' : 'none';\n",
              "\n",
              "        async function convertToInteractive(key) {\n",
              "          const element = document.querySelector('#df-4a36b04c-2c14-4cc4-a07e-0bab1e76b9f0');\n",
              "          const dataTable =\n",
              "            await google.colab.kernel.invokeFunction('convertToInteractive',\n",
              "                                                     [key], {});\n",
              "          if (!dataTable) return;\n",
              "\n",
              "          const docLinkHtml = 'Like what you see? Visit the ' +\n",
              "            '<a target=\"_blank\" href=https://colab.research.google.com/notebooks/data_table.ipynb>data table notebook</a>'\n",
              "            + ' to learn more about interactive tables.';\n",
              "          element.innerHTML = '';\n",
              "          dataTable['output_type'] = 'display_data';\n",
              "          await google.colab.output.renderOutput(dataTable, element);\n",
              "          const docLink = document.createElement('div');\n",
              "          docLink.innerHTML = docLinkHtml;\n",
              "          element.appendChild(docLink);\n",
              "        }\n",
              "      </script>\n",
              "    </div>\n",
              "  </div>\n",
              "  "
            ]
          },
          "metadata": {}
        },
        {
          "output_type": "stream",
          "name": "stdout",
          "text": [
            "------------------------------------------------------------------------\n",
            "partner\n"
          ]
        },
        {
          "output_type": "display_data",
          "data": {
            "text/plain": [
              "             mean  count      diff      risk\n",
              "partner                                     \n",
              "no       0.329809   2932  0.059841  1.221659\n",
              "yes      0.205033   2702 -0.064935  0.759472"
            ],
            "text/html": [
              "\n",
              "  <div id=\"df-8a3dc0fe-d9f4-47b3-844e-1d7e852d1224\">\n",
              "    <div class=\"colab-df-container\">\n",
              "      <div>\n",
              "<style scoped>\n",
              "    .dataframe tbody tr th:only-of-type {\n",
              "        vertical-align: middle;\n",
              "    }\n",
              "\n",
              "    .dataframe tbody tr th {\n",
              "        vertical-align: top;\n",
              "    }\n",
              "\n",
              "    .dataframe thead th {\n",
              "        text-align: right;\n",
              "    }\n",
              "</style>\n",
              "<table border=\"1\" class=\"dataframe\">\n",
              "  <thead>\n",
              "    <tr style=\"text-align: right;\">\n",
              "      <th></th>\n",
              "      <th>mean</th>\n",
              "      <th>count</th>\n",
              "      <th>diff</th>\n",
              "      <th>risk</th>\n",
              "    </tr>\n",
              "    <tr>\n",
              "      <th>partner</th>\n",
              "      <th></th>\n",
              "      <th></th>\n",
              "      <th></th>\n",
              "      <th></th>\n",
              "    </tr>\n",
              "  </thead>\n",
              "  <tbody>\n",
              "    <tr>\n",
              "      <th>no</th>\n",
              "      <td>0.329809</td>\n",
              "      <td>2932</td>\n",
              "      <td>0.059841</td>\n",
              "      <td>1.221659</td>\n",
              "    </tr>\n",
              "    <tr>\n",
              "      <th>yes</th>\n",
              "      <td>0.205033</td>\n",
              "      <td>2702</td>\n",
              "      <td>-0.064935</td>\n",
              "      <td>0.759472</td>\n",
              "    </tr>\n",
              "  </tbody>\n",
              "</table>\n",
              "</div>\n",
              "      <button class=\"colab-df-convert\" onclick=\"convertToInteractive('df-8a3dc0fe-d9f4-47b3-844e-1d7e852d1224')\"\n",
              "              title=\"Convert this dataframe to an interactive table.\"\n",
              "              style=\"display:none;\">\n",
              "        \n",
              "  <svg xmlns=\"http://www.w3.org/2000/svg\" height=\"24px\"viewBox=\"0 0 24 24\"\n",
              "       width=\"24px\">\n",
              "    <path d=\"M0 0h24v24H0V0z\" fill=\"none\"/>\n",
              "    <path d=\"M18.56 5.44l.94 2.06.94-2.06 2.06-.94-2.06-.94-.94-2.06-.94 2.06-2.06.94zm-11 1L8.5 8.5l.94-2.06 2.06-.94-2.06-.94L8.5 2.5l-.94 2.06-2.06.94zm10 10l.94 2.06.94-2.06 2.06-.94-2.06-.94-.94-2.06-.94 2.06-2.06.94z\"/><path d=\"M17.41 7.96l-1.37-1.37c-.4-.4-.92-.59-1.43-.59-.52 0-1.04.2-1.43.59L10.3 9.45l-7.72 7.72c-.78.78-.78 2.05 0 2.83L4 21.41c.39.39.9.59 1.41.59.51 0 1.02-.2 1.41-.59l7.78-7.78 2.81-2.81c.8-.78.8-2.07 0-2.86zM5.41 20L4 18.59l7.72-7.72 1.47 1.35L5.41 20z\"/>\n",
              "  </svg>\n",
              "      </button>\n",
              "      \n",
              "  <style>\n",
              "    .colab-df-container {\n",
              "      display:flex;\n",
              "      flex-wrap:wrap;\n",
              "      gap: 12px;\n",
              "    }\n",
              "\n",
              "    .colab-df-convert {\n",
              "      background-color: #E8F0FE;\n",
              "      border: none;\n",
              "      border-radius: 50%;\n",
              "      cursor: pointer;\n",
              "      display: none;\n",
              "      fill: #1967D2;\n",
              "      height: 32px;\n",
              "      padding: 0 0 0 0;\n",
              "      width: 32px;\n",
              "    }\n",
              "\n",
              "    .colab-df-convert:hover {\n",
              "      background-color: #E2EBFA;\n",
              "      box-shadow: 0px 1px 2px rgba(60, 64, 67, 0.3), 0px 1px 3px 1px rgba(60, 64, 67, 0.15);\n",
              "      fill: #174EA6;\n",
              "    }\n",
              "\n",
              "    [theme=dark] .colab-df-convert {\n",
              "      background-color: #3B4455;\n",
              "      fill: #D2E3FC;\n",
              "    }\n",
              "\n",
              "    [theme=dark] .colab-df-convert:hover {\n",
              "      background-color: #434B5C;\n",
              "      box-shadow: 0px 1px 3px 1px rgba(0, 0, 0, 0.15);\n",
              "      filter: drop-shadow(0px 1px 2px rgba(0, 0, 0, 0.3));\n",
              "      fill: #FFFFFF;\n",
              "    }\n",
              "  </style>\n",
              "\n",
              "      <script>\n",
              "        const buttonEl =\n",
              "          document.querySelector('#df-8a3dc0fe-d9f4-47b3-844e-1d7e852d1224 button.colab-df-convert');\n",
              "        buttonEl.style.display =\n",
              "          google.colab.kernel.accessAllowed ? 'block' : 'none';\n",
              "\n",
              "        async function convertToInteractive(key) {\n",
              "          const element = document.querySelector('#df-8a3dc0fe-d9f4-47b3-844e-1d7e852d1224');\n",
              "          const dataTable =\n",
              "            await google.colab.kernel.invokeFunction('convertToInteractive',\n",
              "                                                     [key], {});\n",
              "          if (!dataTable) return;\n",
              "\n",
              "          const docLinkHtml = 'Like what you see? Visit the ' +\n",
              "            '<a target=\"_blank\" href=https://colab.research.google.com/notebooks/data_table.ipynb>data table notebook</a>'\n",
              "            + ' to learn more about interactive tables.';\n",
              "          element.innerHTML = '';\n",
              "          dataTable['output_type'] = 'display_data';\n",
              "          await google.colab.output.renderOutput(dataTable, element);\n",
              "          const docLink = document.createElement('div');\n",
              "          docLink.innerHTML = docLinkHtml;\n",
              "          element.appendChild(docLink);\n",
              "        }\n",
              "      </script>\n",
              "    </div>\n",
              "  </div>\n",
              "  "
            ]
          },
          "metadata": {}
        },
        {
          "output_type": "stream",
          "name": "stdout",
          "text": [
            "------------------------------------------------------------------------\n",
            "dependents\n"
          ]
        },
        {
          "output_type": "display_data",
          "data": {
            "text/plain": [
              "                mean  count      diff      risk\n",
              "dependents                                     \n",
              "no          0.313760   3968  0.043792  1.162212\n",
              "yes         0.165666   1666 -0.104302  0.613651"
            ],
            "text/html": [
              "\n",
              "  <div id=\"df-9429a00f-0b43-40c4-9533-96230ffa4e4d\">\n",
              "    <div class=\"colab-df-container\">\n",
              "      <div>\n",
              "<style scoped>\n",
              "    .dataframe tbody tr th:only-of-type {\n",
              "        vertical-align: middle;\n",
              "    }\n",
              "\n",
              "    .dataframe tbody tr th {\n",
              "        vertical-align: top;\n",
              "    }\n",
              "\n",
              "    .dataframe thead th {\n",
              "        text-align: right;\n",
              "    }\n",
              "</style>\n",
              "<table border=\"1\" class=\"dataframe\">\n",
              "  <thead>\n",
              "    <tr style=\"text-align: right;\">\n",
              "      <th></th>\n",
              "      <th>mean</th>\n",
              "      <th>count</th>\n",
              "      <th>diff</th>\n",
              "      <th>risk</th>\n",
              "    </tr>\n",
              "    <tr>\n",
              "      <th>dependents</th>\n",
              "      <th></th>\n",
              "      <th></th>\n",
              "      <th></th>\n",
              "      <th></th>\n",
              "    </tr>\n",
              "  </thead>\n",
              "  <tbody>\n",
              "    <tr>\n",
              "      <th>no</th>\n",
              "      <td>0.313760</td>\n",
              "      <td>3968</td>\n",
              "      <td>0.043792</td>\n",
              "      <td>1.162212</td>\n",
              "    </tr>\n",
              "    <tr>\n",
              "      <th>yes</th>\n",
              "      <td>0.165666</td>\n",
              "      <td>1666</td>\n",
              "      <td>-0.104302</td>\n",
              "      <td>0.613651</td>\n",
              "    </tr>\n",
              "  </tbody>\n",
              "</table>\n",
              "</div>\n",
              "      <button class=\"colab-df-convert\" onclick=\"convertToInteractive('df-9429a00f-0b43-40c4-9533-96230ffa4e4d')\"\n",
              "              title=\"Convert this dataframe to an interactive table.\"\n",
              "              style=\"display:none;\">\n",
              "        \n",
              "  <svg xmlns=\"http://www.w3.org/2000/svg\" height=\"24px\"viewBox=\"0 0 24 24\"\n",
              "       width=\"24px\">\n",
              "    <path d=\"M0 0h24v24H0V0z\" fill=\"none\"/>\n",
              "    <path d=\"M18.56 5.44l.94 2.06.94-2.06 2.06-.94-2.06-.94-.94-2.06-.94 2.06-2.06.94zm-11 1L8.5 8.5l.94-2.06 2.06-.94-2.06-.94L8.5 2.5l-.94 2.06-2.06.94zm10 10l.94 2.06.94-2.06 2.06-.94-2.06-.94-.94-2.06-.94 2.06-2.06.94z\"/><path d=\"M17.41 7.96l-1.37-1.37c-.4-.4-.92-.59-1.43-.59-.52 0-1.04.2-1.43.59L10.3 9.45l-7.72 7.72c-.78.78-.78 2.05 0 2.83L4 21.41c.39.39.9.59 1.41.59.51 0 1.02-.2 1.41-.59l7.78-7.78 2.81-2.81c.8-.78.8-2.07 0-2.86zM5.41 20L4 18.59l7.72-7.72 1.47 1.35L5.41 20z\"/>\n",
              "  </svg>\n",
              "      </button>\n",
              "      \n",
              "  <style>\n",
              "    .colab-df-container {\n",
              "      display:flex;\n",
              "      flex-wrap:wrap;\n",
              "      gap: 12px;\n",
              "    }\n",
              "\n",
              "    .colab-df-convert {\n",
              "      background-color: #E8F0FE;\n",
              "      border: none;\n",
              "      border-radius: 50%;\n",
              "      cursor: pointer;\n",
              "      display: none;\n",
              "      fill: #1967D2;\n",
              "      height: 32px;\n",
              "      padding: 0 0 0 0;\n",
              "      width: 32px;\n",
              "    }\n",
              "\n",
              "    .colab-df-convert:hover {\n",
              "      background-color: #E2EBFA;\n",
              "      box-shadow: 0px 1px 2px rgba(60, 64, 67, 0.3), 0px 1px 3px 1px rgba(60, 64, 67, 0.15);\n",
              "      fill: #174EA6;\n",
              "    }\n",
              "\n",
              "    [theme=dark] .colab-df-convert {\n",
              "      background-color: #3B4455;\n",
              "      fill: #D2E3FC;\n",
              "    }\n",
              "\n",
              "    [theme=dark] .colab-df-convert:hover {\n",
              "      background-color: #434B5C;\n",
              "      box-shadow: 0px 1px 3px 1px rgba(0, 0, 0, 0.15);\n",
              "      filter: drop-shadow(0px 1px 2px rgba(0, 0, 0, 0.3));\n",
              "      fill: #FFFFFF;\n",
              "    }\n",
              "  </style>\n",
              "\n",
              "      <script>\n",
              "        const buttonEl =\n",
              "          document.querySelector('#df-9429a00f-0b43-40c4-9533-96230ffa4e4d button.colab-df-convert');\n",
              "        buttonEl.style.display =\n",
              "          google.colab.kernel.accessAllowed ? 'block' : 'none';\n",
              "\n",
              "        async function convertToInteractive(key) {\n",
              "          const element = document.querySelector('#df-9429a00f-0b43-40c4-9533-96230ffa4e4d');\n",
              "          const dataTable =\n",
              "            await google.colab.kernel.invokeFunction('convertToInteractive',\n",
              "                                                     [key], {});\n",
              "          if (!dataTable) return;\n",
              "\n",
              "          const docLinkHtml = 'Like what you see? Visit the ' +\n",
              "            '<a target=\"_blank\" href=https://colab.research.google.com/notebooks/data_table.ipynb>data table notebook</a>'\n",
              "            + ' to learn more about interactive tables.';\n",
              "          element.innerHTML = '';\n",
              "          dataTable['output_type'] = 'display_data';\n",
              "          await google.colab.output.renderOutput(dataTable, element);\n",
              "          const docLink = document.createElement('div');\n",
              "          docLink.innerHTML = docLinkHtml;\n",
              "          element.appendChild(docLink);\n",
              "        }\n",
              "      </script>\n",
              "    </div>\n",
              "  </div>\n",
              "  "
            ]
          },
          "metadata": {}
        },
        {
          "output_type": "stream",
          "name": "stdout",
          "text": [
            "------------------------------------------------------------------------\n",
            "phoneservice\n"
          ]
        },
        {
          "output_type": "display_data",
          "data": {
            "text/plain": [
              "                  mean  count      diff      risk\n",
              "phoneservice                                     \n",
              "no            0.241316    547 -0.028652  0.893870\n",
              "yes           0.273049   5087  0.003081  1.011412"
            ],
            "text/html": [
              "\n",
              "  <div id=\"df-32f58960-8697-47ea-95b2-94f1447a14b7\">\n",
              "    <div class=\"colab-df-container\">\n",
              "      <div>\n",
              "<style scoped>\n",
              "    .dataframe tbody tr th:only-of-type {\n",
              "        vertical-align: middle;\n",
              "    }\n",
              "\n",
              "    .dataframe tbody tr th {\n",
              "        vertical-align: top;\n",
              "    }\n",
              "\n",
              "    .dataframe thead th {\n",
              "        text-align: right;\n",
              "    }\n",
              "</style>\n",
              "<table border=\"1\" class=\"dataframe\">\n",
              "  <thead>\n",
              "    <tr style=\"text-align: right;\">\n",
              "      <th></th>\n",
              "      <th>mean</th>\n",
              "      <th>count</th>\n",
              "      <th>diff</th>\n",
              "      <th>risk</th>\n",
              "    </tr>\n",
              "    <tr>\n",
              "      <th>phoneservice</th>\n",
              "      <th></th>\n",
              "      <th></th>\n",
              "      <th></th>\n",
              "      <th></th>\n",
              "    </tr>\n",
              "  </thead>\n",
              "  <tbody>\n",
              "    <tr>\n",
              "      <th>no</th>\n",
              "      <td>0.241316</td>\n",
              "      <td>547</td>\n",
              "      <td>-0.028652</td>\n",
              "      <td>0.893870</td>\n",
              "    </tr>\n",
              "    <tr>\n",
              "      <th>yes</th>\n",
              "      <td>0.273049</td>\n",
              "      <td>5087</td>\n",
              "      <td>0.003081</td>\n",
              "      <td>1.011412</td>\n",
              "    </tr>\n",
              "  </tbody>\n",
              "</table>\n",
              "</div>\n",
              "      <button class=\"colab-df-convert\" onclick=\"convertToInteractive('df-32f58960-8697-47ea-95b2-94f1447a14b7')\"\n",
              "              title=\"Convert this dataframe to an interactive table.\"\n",
              "              style=\"display:none;\">\n",
              "        \n",
              "  <svg xmlns=\"http://www.w3.org/2000/svg\" height=\"24px\"viewBox=\"0 0 24 24\"\n",
              "       width=\"24px\">\n",
              "    <path d=\"M0 0h24v24H0V0z\" fill=\"none\"/>\n",
              "    <path d=\"M18.56 5.44l.94 2.06.94-2.06 2.06-.94-2.06-.94-.94-2.06-.94 2.06-2.06.94zm-11 1L8.5 8.5l.94-2.06 2.06-.94-2.06-.94L8.5 2.5l-.94 2.06-2.06.94zm10 10l.94 2.06.94-2.06 2.06-.94-2.06-.94-.94-2.06-.94 2.06-2.06.94z\"/><path d=\"M17.41 7.96l-1.37-1.37c-.4-.4-.92-.59-1.43-.59-.52 0-1.04.2-1.43.59L10.3 9.45l-7.72 7.72c-.78.78-.78 2.05 0 2.83L4 21.41c.39.39.9.59 1.41.59.51 0 1.02-.2 1.41-.59l7.78-7.78 2.81-2.81c.8-.78.8-2.07 0-2.86zM5.41 20L4 18.59l7.72-7.72 1.47 1.35L5.41 20z\"/>\n",
              "  </svg>\n",
              "      </button>\n",
              "      \n",
              "  <style>\n",
              "    .colab-df-container {\n",
              "      display:flex;\n",
              "      flex-wrap:wrap;\n",
              "      gap: 12px;\n",
              "    }\n",
              "\n",
              "    .colab-df-convert {\n",
              "      background-color: #E8F0FE;\n",
              "      border: none;\n",
              "      border-radius: 50%;\n",
              "      cursor: pointer;\n",
              "      display: none;\n",
              "      fill: #1967D2;\n",
              "      height: 32px;\n",
              "      padding: 0 0 0 0;\n",
              "      width: 32px;\n",
              "    }\n",
              "\n",
              "    .colab-df-convert:hover {\n",
              "      background-color: #E2EBFA;\n",
              "      box-shadow: 0px 1px 2px rgba(60, 64, 67, 0.3), 0px 1px 3px 1px rgba(60, 64, 67, 0.15);\n",
              "      fill: #174EA6;\n",
              "    }\n",
              "\n",
              "    [theme=dark] .colab-df-convert {\n",
              "      background-color: #3B4455;\n",
              "      fill: #D2E3FC;\n",
              "    }\n",
              "\n",
              "    [theme=dark] .colab-df-convert:hover {\n",
              "      background-color: #434B5C;\n",
              "      box-shadow: 0px 1px 3px 1px rgba(0, 0, 0, 0.15);\n",
              "      filter: drop-shadow(0px 1px 2px rgba(0, 0, 0, 0.3));\n",
              "      fill: #FFFFFF;\n",
              "    }\n",
              "  </style>\n",
              "\n",
              "      <script>\n",
              "        const buttonEl =\n",
              "          document.querySelector('#df-32f58960-8697-47ea-95b2-94f1447a14b7 button.colab-df-convert');\n",
              "        buttonEl.style.display =\n",
              "          google.colab.kernel.accessAllowed ? 'block' : 'none';\n",
              "\n",
              "        async function convertToInteractive(key) {\n",
              "          const element = document.querySelector('#df-32f58960-8697-47ea-95b2-94f1447a14b7');\n",
              "          const dataTable =\n",
              "            await google.colab.kernel.invokeFunction('convertToInteractive',\n",
              "                                                     [key], {});\n",
              "          if (!dataTable) return;\n",
              "\n",
              "          const docLinkHtml = 'Like what you see? Visit the ' +\n",
              "            '<a target=\"_blank\" href=https://colab.research.google.com/notebooks/data_table.ipynb>data table notebook</a>'\n",
              "            + ' to learn more about interactive tables.';\n",
              "          element.innerHTML = '';\n",
              "          dataTable['output_type'] = 'display_data';\n",
              "          await google.colab.output.renderOutput(dataTable, element);\n",
              "          const docLink = document.createElement('div');\n",
              "          docLink.innerHTML = docLinkHtml;\n",
              "          element.appendChild(docLink);\n",
              "        }\n",
              "      </script>\n",
              "    </div>\n",
              "  </div>\n",
              "  "
            ]
          },
          "metadata": {}
        },
        {
          "output_type": "stream",
          "name": "stdout",
          "text": [
            "------------------------------------------------------------------------\n",
            "multiplelines\n"
          ]
        },
        {
          "output_type": "display_data",
          "data": {
            "text/plain": [
              "                      mean  count      diff      risk\n",
              "multiplelines                                        \n",
              "no                0.257407   2700 -0.012561  0.953474\n",
              "no_phone_service  0.241316    547 -0.028652  0.893870\n",
              "yes               0.290742   2387  0.020773  1.076948"
            ],
            "text/html": [
              "\n",
              "  <div id=\"df-00d97e9a-5cd9-4340-bc94-4de77c3bb795\">\n",
              "    <div class=\"colab-df-container\">\n",
              "      <div>\n",
              "<style scoped>\n",
              "    .dataframe tbody tr th:only-of-type {\n",
              "        vertical-align: middle;\n",
              "    }\n",
              "\n",
              "    .dataframe tbody tr th {\n",
              "        vertical-align: top;\n",
              "    }\n",
              "\n",
              "    .dataframe thead th {\n",
              "        text-align: right;\n",
              "    }\n",
              "</style>\n",
              "<table border=\"1\" class=\"dataframe\">\n",
              "  <thead>\n",
              "    <tr style=\"text-align: right;\">\n",
              "      <th></th>\n",
              "      <th>mean</th>\n",
              "      <th>count</th>\n",
              "      <th>diff</th>\n",
              "      <th>risk</th>\n",
              "    </tr>\n",
              "    <tr>\n",
              "      <th>multiplelines</th>\n",
              "      <th></th>\n",
              "      <th></th>\n",
              "      <th></th>\n",
              "      <th></th>\n",
              "    </tr>\n",
              "  </thead>\n",
              "  <tbody>\n",
              "    <tr>\n",
              "      <th>no</th>\n",
              "      <td>0.257407</td>\n",
              "      <td>2700</td>\n",
              "      <td>-0.012561</td>\n",
              "      <td>0.953474</td>\n",
              "    </tr>\n",
              "    <tr>\n",
              "      <th>no_phone_service</th>\n",
              "      <td>0.241316</td>\n",
              "      <td>547</td>\n",
              "      <td>-0.028652</td>\n",
              "      <td>0.893870</td>\n",
              "    </tr>\n",
              "    <tr>\n",
              "      <th>yes</th>\n",
              "      <td>0.290742</td>\n",
              "      <td>2387</td>\n",
              "      <td>0.020773</td>\n",
              "      <td>1.076948</td>\n",
              "    </tr>\n",
              "  </tbody>\n",
              "</table>\n",
              "</div>\n",
              "      <button class=\"colab-df-convert\" onclick=\"convertToInteractive('df-00d97e9a-5cd9-4340-bc94-4de77c3bb795')\"\n",
              "              title=\"Convert this dataframe to an interactive table.\"\n",
              "              style=\"display:none;\">\n",
              "        \n",
              "  <svg xmlns=\"http://www.w3.org/2000/svg\" height=\"24px\"viewBox=\"0 0 24 24\"\n",
              "       width=\"24px\">\n",
              "    <path d=\"M0 0h24v24H0V0z\" fill=\"none\"/>\n",
              "    <path d=\"M18.56 5.44l.94 2.06.94-2.06 2.06-.94-2.06-.94-.94-2.06-.94 2.06-2.06.94zm-11 1L8.5 8.5l.94-2.06 2.06-.94-2.06-.94L8.5 2.5l-.94 2.06-2.06.94zm10 10l.94 2.06.94-2.06 2.06-.94-2.06-.94-.94-2.06-.94 2.06-2.06.94z\"/><path d=\"M17.41 7.96l-1.37-1.37c-.4-.4-.92-.59-1.43-.59-.52 0-1.04.2-1.43.59L10.3 9.45l-7.72 7.72c-.78.78-.78 2.05 0 2.83L4 21.41c.39.39.9.59 1.41.59.51 0 1.02-.2 1.41-.59l7.78-7.78 2.81-2.81c.8-.78.8-2.07 0-2.86zM5.41 20L4 18.59l7.72-7.72 1.47 1.35L5.41 20z\"/>\n",
              "  </svg>\n",
              "      </button>\n",
              "      \n",
              "  <style>\n",
              "    .colab-df-container {\n",
              "      display:flex;\n",
              "      flex-wrap:wrap;\n",
              "      gap: 12px;\n",
              "    }\n",
              "\n",
              "    .colab-df-convert {\n",
              "      background-color: #E8F0FE;\n",
              "      border: none;\n",
              "      border-radius: 50%;\n",
              "      cursor: pointer;\n",
              "      display: none;\n",
              "      fill: #1967D2;\n",
              "      height: 32px;\n",
              "      padding: 0 0 0 0;\n",
              "      width: 32px;\n",
              "    }\n",
              "\n",
              "    .colab-df-convert:hover {\n",
              "      background-color: #E2EBFA;\n",
              "      box-shadow: 0px 1px 2px rgba(60, 64, 67, 0.3), 0px 1px 3px 1px rgba(60, 64, 67, 0.15);\n",
              "      fill: #174EA6;\n",
              "    }\n",
              "\n",
              "    [theme=dark] .colab-df-convert {\n",
              "      background-color: #3B4455;\n",
              "      fill: #D2E3FC;\n",
              "    }\n",
              "\n",
              "    [theme=dark] .colab-df-convert:hover {\n",
              "      background-color: #434B5C;\n",
              "      box-shadow: 0px 1px 3px 1px rgba(0, 0, 0, 0.15);\n",
              "      filter: drop-shadow(0px 1px 2px rgba(0, 0, 0, 0.3));\n",
              "      fill: #FFFFFF;\n",
              "    }\n",
              "  </style>\n",
              "\n",
              "      <script>\n",
              "        const buttonEl =\n",
              "          document.querySelector('#df-00d97e9a-5cd9-4340-bc94-4de77c3bb795 button.colab-df-convert');\n",
              "        buttonEl.style.display =\n",
              "          google.colab.kernel.accessAllowed ? 'block' : 'none';\n",
              "\n",
              "        async function convertToInteractive(key) {\n",
              "          const element = document.querySelector('#df-00d97e9a-5cd9-4340-bc94-4de77c3bb795');\n",
              "          const dataTable =\n",
              "            await google.colab.kernel.invokeFunction('convertToInteractive',\n",
              "                                                     [key], {});\n",
              "          if (!dataTable) return;\n",
              "\n",
              "          const docLinkHtml = 'Like what you see? Visit the ' +\n",
              "            '<a target=\"_blank\" href=https://colab.research.google.com/notebooks/data_table.ipynb>data table notebook</a>'\n",
              "            + ' to learn more about interactive tables.';\n",
              "          element.innerHTML = '';\n",
              "          dataTable['output_type'] = 'display_data';\n",
              "          await google.colab.output.renderOutput(dataTable, element);\n",
              "          const docLink = document.createElement('div');\n",
              "          docLink.innerHTML = docLinkHtml;\n",
              "          element.appendChild(docLink);\n",
              "        }\n",
              "      </script>\n",
              "    </div>\n",
              "  </div>\n",
              "  "
            ]
          },
          "metadata": {}
        },
        {
          "output_type": "stream",
          "name": "stdout",
          "text": [
            "------------------------------------------------------------------------\n",
            "internetservice\n"
          ]
        },
        {
          "output_type": "display_data",
          "data": {
            "text/plain": [
              "                     mean  count      diff      risk\n",
              "internetservice                                     \n",
              "dsl              0.192347   1934 -0.077621  0.712482\n",
              "fiber_optic      0.425171   2479  0.155203  1.574895\n",
              "no               0.077805   1221 -0.192163  0.288201"
            ],
            "text/html": [
              "\n",
              "  <div id=\"df-500c13a5-af3f-4ed9-adc7-d93e0daf0bab\">\n",
              "    <div class=\"colab-df-container\">\n",
              "      <div>\n",
              "<style scoped>\n",
              "    .dataframe tbody tr th:only-of-type {\n",
              "        vertical-align: middle;\n",
              "    }\n",
              "\n",
              "    .dataframe tbody tr th {\n",
              "        vertical-align: top;\n",
              "    }\n",
              "\n",
              "    .dataframe thead th {\n",
              "        text-align: right;\n",
              "    }\n",
              "</style>\n",
              "<table border=\"1\" class=\"dataframe\">\n",
              "  <thead>\n",
              "    <tr style=\"text-align: right;\">\n",
              "      <th></th>\n",
              "      <th>mean</th>\n",
              "      <th>count</th>\n",
              "      <th>diff</th>\n",
              "      <th>risk</th>\n",
              "    </tr>\n",
              "    <tr>\n",
              "      <th>internetservice</th>\n",
              "      <th></th>\n",
              "      <th></th>\n",
              "      <th></th>\n",
              "      <th></th>\n",
              "    </tr>\n",
              "  </thead>\n",
              "  <tbody>\n",
              "    <tr>\n",
              "      <th>dsl</th>\n",
              "      <td>0.192347</td>\n",
              "      <td>1934</td>\n",
              "      <td>-0.077621</td>\n",
              "      <td>0.712482</td>\n",
              "    </tr>\n",
              "    <tr>\n",
              "      <th>fiber_optic</th>\n",
              "      <td>0.425171</td>\n",
              "      <td>2479</td>\n",
              "      <td>0.155203</td>\n",
              "      <td>1.574895</td>\n",
              "    </tr>\n",
              "    <tr>\n",
              "      <th>no</th>\n",
              "      <td>0.077805</td>\n",
              "      <td>1221</td>\n",
              "      <td>-0.192163</td>\n",
              "      <td>0.288201</td>\n",
              "    </tr>\n",
              "  </tbody>\n",
              "</table>\n",
              "</div>\n",
              "      <button class=\"colab-df-convert\" onclick=\"convertToInteractive('df-500c13a5-af3f-4ed9-adc7-d93e0daf0bab')\"\n",
              "              title=\"Convert this dataframe to an interactive table.\"\n",
              "              style=\"display:none;\">\n",
              "        \n",
              "  <svg xmlns=\"http://www.w3.org/2000/svg\" height=\"24px\"viewBox=\"0 0 24 24\"\n",
              "       width=\"24px\">\n",
              "    <path d=\"M0 0h24v24H0V0z\" fill=\"none\"/>\n",
              "    <path d=\"M18.56 5.44l.94 2.06.94-2.06 2.06-.94-2.06-.94-.94-2.06-.94 2.06-2.06.94zm-11 1L8.5 8.5l.94-2.06 2.06-.94-2.06-.94L8.5 2.5l-.94 2.06-2.06.94zm10 10l.94 2.06.94-2.06 2.06-.94-2.06-.94-.94-2.06-.94 2.06-2.06.94z\"/><path d=\"M17.41 7.96l-1.37-1.37c-.4-.4-.92-.59-1.43-.59-.52 0-1.04.2-1.43.59L10.3 9.45l-7.72 7.72c-.78.78-.78 2.05 0 2.83L4 21.41c.39.39.9.59 1.41.59.51 0 1.02-.2 1.41-.59l7.78-7.78 2.81-2.81c.8-.78.8-2.07 0-2.86zM5.41 20L4 18.59l7.72-7.72 1.47 1.35L5.41 20z\"/>\n",
              "  </svg>\n",
              "      </button>\n",
              "      \n",
              "  <style>\n",
              "    .colab-df-container {\n",
              "      display:flex;\n",
              "      flex-wrap:wrap;\n",
              "      gap: 12px;\n",
              "    }\n",
              "\n",
              "    .colab-df-convert {\n",
              "      background-color: #E8F0FE;\n",
              "      border: none;\n",
              "      border-radius: 50%;\n",
              "      cursor: pointer;\n",
              "      display: none;\n",
              "      fill: #1967D2;\n",
              "      height: 32px;\n",
              "      padding: 0 0 0 0;\n",
              "      width: 32px;\n",
              "    }\n",
              "\n",
              "    .colab-df-convert:hover {\n",
              "      background-color: #E2EBFA;\n",
              "      box-shadow: 0px 1px 2px rgba(60, 64, 67, 0.3), 0px 1px 3px 1px rgba(60, 64, 67, 0.15);\n",
              "      fill: #174EA6;\n",
              "    }\n",
              "\n",
              "    [theme=dark] .colab-df-convert {\n",
              "      background-color: #3B4455;\n",
              "      fill: #D2E3FC;\n",
              "    }\n",
              "\n",
              "    [theme=dark] .colab-df-convert:hover {\n",
              "      background-color: #434B5C;\n",
              "      box-shadow: 0px 1px 3px 1px rgba(0, 0, 0, 0.15);\n",
              "      filter: drop-shadow(0px 1px 2px rgba(0, 0, 0, 0.3));\n",
              "      fill: #FFFFFF;\n",
              "    }\n",
              "  </style>\n",
              "\n",
              "      <script>\n",
              "        const buttonEl =\n",
              "          document.querySelector('#df-500c13a5-af3f-4ed9-adc7-d93e0daf0bab button.colab-df-convert');\n",
              "        buttonEl.style.display =\n",
              "          google.colab.kernel.accessAllowed ? 'block' : 'none';\n",
              "\n",
              "        async function convertToInteractive(key) {\n",
              "          const element = document.querySelector('#df-500c13a5-af3f-4ed9-adc7-d93e0daf0bab');\n",
              "          const dataTable =\n",
              "            await google.colab.kernel.invokeFunction('convertToInteractive',\n",
              "                                                     [key], {});\n",
              "          if (!dataTable) return;\n",
              "\n",
              "          const docLinkHtml = 'Like what you see? Visit the ' +\n",
              "            '<a target=\"_blank\" href=https://colab.research.google.com/notebooks/data_table.ipynb>data table notebook</a>'\n",
              "            + ' to learn more about interactive tables.';\n",
              "          element.innerHTML = '';\n",
              "          dataTable['output_type'] = 'display_data';\n",
              "          await google.colab.output.renderOutput(dataTable, element);\n",
              "          const docLink = document.createElement('div');\n",
              "          docLink.innerHTML = docLinkHtml;\n",
              "          element.appendChild(docLink);\n",
              "        }\n",
              "      </script>\n",
              "    </div>\n",
              "  </div>\n",
              "  "
            ]
          },
          "metadata": {}
        },
        {
          "output_type": "stream",
          "name": "stdout",
          "text": [
            "------------------------------------------------------------------------\n",
            "onlinesecurity\n"
          ]
        },
        {
          "output_type": "display_data",
          "data": {
            "text/plain": [
              "                         mean  count      diff      risk\n",
              "onlinesecurity                                          \n",
              "no                   0.420921   2801  0.150953  1.559152\n",
              "no_internet_service  0.077805   1221 -0.192163  0.288201\n",
              "yes                  0.153226   1612 -0.116742  0.567570"
            ],
            "text/html": [
              "\n",
              "  <div id=\"df-8e5f7077-739d-416f-9360-5a8a277283be\">\n",
              "    <div class=\"colab-df-container\">\n",
              "      <div>\n",
              "<style scoped>\n",
              "    .dataframe tbody tr th:only-of-type {\n",
              "        vertical-align: middle;\n",
              "    }\n",
              "\n",
              "    .dataframe tbody tr th {\n",
              "        vertical-align: top;\n",
              "    }\n",
              "\n",
              "    .dataframe thead th {\n",
              "        text-align: right;\n",
              "    }\n",
              "</style>\n",
              "<table border=\"1\" class=\"dataframe\">\n",
              "  <thead>\n",
              "    <tr style=\"text-align: right;\">\n",
              "      <th></th>\n",
              "      <th>mean</th>\n",
              "      <th>count</th>\n",
              "      <th>diff</th>\n",
              "      <th>risk</th>\n",
              "    </tr>\n",
              "    <tr>\n",
              "      <th>onlinesecurity</th>\n",
              "      <th></th>\n",
              "      <th></th>\n",
              "      <th></th>\n",
              "      <th></th>\n",
              "    </tr>\n",
              "  </thead>\n",
              "  <tbody>\n",
              "    <tr>\n",
              "      <th>no</th>\n",
              "      <td>0.420921</td>\n",
              "      <td>2801</td>\n",
              "      <td>0.150953</td>\n",
              "      <td>1.559152</td>\n",
              "    </tr>\n",
              "    <tr>\n",
              "      <th>no_internet_service</th>\n",
              "      <td>0.077805</td>\n",
              "      <td>1221</td>\n",
              "      <td>-0.192163</td>\n",
              "      <td>0.288201</td>\n",
              "    </tr>\n",
              "    <tr>\n",
              "      <th>yes</th>\n",
              "      <td>0.153226</td>\n",
              "      <td>1612</td>\n",
              "      <td>-0.116742</td>\n",
              "      <td>0.567570</td>\n",
              "    </tr>\n",
              "  </tbody>\n",
              "</table>\n",
              "</div>\n",
              "      <button class=\"colab-df-convert\" onclick=\"convertToInteractive('df-8e5f7077-739d-416f-9360-5a8a277283be')\"\n",
              "              title=\"Convert this dataframe to an interactive table.\"\n",
              "              style=\"display:none;\">\n",
              "        \n",
              "  <svg xmlns=\"http://www.w3.org/2000/svg\" height=\"24px\"viewBox=\"0 0 24 24\"\n",
              "       width=\"24px\">\n",
              "    <path d=\"M0 0h24v24H0V0z\" fill=\"none\"/>\n",
              "    <path d=\"M18.56 5.44l.94 2.06.94-2.06 2.06-.94-2.06-.94-.94-2.06-.94 2.06-2.06.94zm-11 1L8.5 8.5l.94-2.06 2.06-.94-2.06-.94L8.5 2.5l-.94 2.06-2.06.94zm10 10l.94 2.06.94-2.06 2.06-.94-2.06-.94-.94-2.06-.94 2.06-2.06.94z\"/><path d=\"M17.41 7.96l-1.37-1.37c-.4-.4-.92-.59-1.43-.59-.52 0-1.04.2-1.43.59L10.3 9.45l-7.72 7.72c-.78.78-.78 2.05 0 2.83L4 21.41c.39.39.9.59 1.41.59.51 0 1.02-.2 1.41-.59l7.78-7.78 2.81-2.81c.8-.78.8-2.07 0-2.86zM5.41 20L4 18.59l7.72-7.72 1.47 1.35L5.41 20z\"/>\n",
              "  </svg>\n",
              "      </button>\n",
              "      \n",
              "  <style>\n",
              "    .colab-df-container {\n",
              "      display:flex;\n",
              "      flex-wrap:wrap;\n",
              "      gap: 12px;\n",
              "    }\n",
              "\n",
              "    .colab-df-convert {\n",
              "      background-color: #E8F0FE;\n",
              "      border: none;\n",
              "      border-radius: 50%;\n",
              "      cursor: pointer;\n",
              "      display: none;\n",
              "      fill: #1967D2;\n",
              "      height: 32px;\n",
              "      padding: 0 0 0 0;\n",
              "      width: 32px;\n",
              "    }\n",
              "\n",
              "    .colab-df-convert:hover {\n",
              "      background-color: #E2EBFA;\n",
              "      box-shadow: 0px 1px 2px rgba(60, 64, 67, 0.3), 0px 1px 3px 1px rgba(60, 64, 67, 0.15);\n",
              "      fill: #174EA6;\n",
              "    }\n",
              "\n",
              "    [theme=dark] .colab-df-convert {\n",
              "      background-color: #3B4455;\n",
              "      fill: #D2E3FC;\n",
              "    }\n",
              "\n",
              "    [theme=dark] .colab-df-convert:hover {\n",
              "      background-color: #434B5C;\n",
              "      box-shadow: 0px 1px 3px 1px rgba(0, 0, 0, 0.15);\n",
              "      filter: drop-shadow(0px 1px 2px rgba(0, 0, 0, 0.3));\n",
              "      fill: #FFFFFF;\n",
              "    }\n",
              "  </style>\n",
              "\n",
              "      <script>\n",
              "        const buttonEl =\n",
              "          document.querySelector('#df-8e5f7077-739d-416f-9360-5a8a277283be button.colab-df-convert');\n",
              "        buttonEl.style.display =\n",
              "          google.colab.kernel.accessAllowed ? 'block' : 'none';\n",
              "\n",
              "        async function convertToInteractive(key) {\n",
              "          const element = document.querySelector('#df-8e5f7077-739d-416f-9360-5a8a277283be');\n",
              "          const dataTable =\n",
              "            await google.colab.kernel.invokeFunction('convertToInteractive',\n",
              "                                                     [key], {});\n",
              "          if (!dataTable) return;\n",
              "\n",
              "          const docLinkHtml = 'Like what you see? Visit the ' +\n",
              "            '<a target=\"_blank\" href=https://colab.research.google.com/notebooks/data_table.ipynb>data table notebook</a>'\n",
              "            + ' to learn more about interactive tables.';\n",
              "          element.innerHTML = '';\n",
              "          dataTable['output_type'] = 'display_data';\n",
              "          await google.colab.output.renderOutput(dataTable, element);\n",
              "          const docLink = document.createElement('div');\n",
              "          docLink.innerHTML = docLinkHtml;\n",
              "          element.appendChild(docLink);\n",
              "        }\n",
              "      </script>\n",
              "    </div>\n",
              "  </div>\n",
              "  "
            ]
          },
          "metadata": {}
        },
        {
          "output_type": "stream",
          "name": "stdout",
          "text": [
            "------------------------------------------------------------------------\n",
            "onlinebackup\n"
          ]
        },
        {
          "output_type": "display_data",
          "data": {
            "text/plain": [
              "                         mean  count      diff      risk\n",
              "onlinebackup                                            \n",
              "no                   0.404323   2498  0.134355  1.497672\n",
              "no_internet_service  0.077805   1221 -0.192163  0.288201\n",
              "yes                  0.217232   1915 -0.052736  0.804660"
            ],
            "text/html": [
              "\n",
              "  <div id=\"df-5c6c4242-9122-4265-b083-dc22abc66ace\">\n",
              "    <div class=\"colab-df-container\">\n",
              "      <div>\n",
              "<style scoped>\n",
              "    .dataframe tbody tr th:only-of-type {\n",
              "        vertical-align: middle;\n",
              "    }\n",
              "\n",
              "    .dataframe tbody tr th {\n",
              "        vertical-align: top;\n",
              "    }\n",
              "\n",
              "    .dataframe thead th {\n",
              "        text-align: right;\n",
              "    }\n",
              "</style>\n",
              "<table border=\"1\" class=\"dataframe\">\n",
              "  <thead>\n",
              "    <tr style=\"text-align: right;\">\n",
              "      <th></th>\n",
              "      <th>mean</th>\n",
              "      <th>count</th>\n",
              "      <th>diff</th>\n",
              "      <th>risk</th>\n",
              "    </tr>\n",
              "    <tr>\n",
              "      <th>onlinebackup</th>\n",
              "      <th></th>\n",
              "      <th></th>\n",
              "      <th></th>\n",
              "      <th></th>\n",
              "    </tr>\n",
              "  </thead>\n",
              "  <tbody>\n",
              "    <tr>\n",
              "      <th>no</th>\n",
              "      <td>0.404323</td>\n",
              "      <td>2498</td>\n",
              "      <td>0.134355</td>\n",
              "      <td>1.497672</td>\n",
              "    </tr>\n",
              "    <tr>\n",
              "      <th>no_internet_service</th>\n",
              "      <td>0.077805</td>\n",
              "      <td>1221</td>\n",
              "      <td>-0.192163</td>\n",
              "      <td>0.288201</td>\n",
              "    </tr>\n",
              "    <tr>\n",
              "      <th>yes</th>\n",
              "      <td>0.217232</td>\n",
              "      <td>1915</td>\n",
              "      <td>-0.052736</td>\n",
              "      <td>0.804660</td>\n",
              "    </tr>\n",
              "  </tbody>\n",
              "</table>\n",
              "</div>\n",
              "      <button class=\"colab-df-convert\" onclick=\"convertToInteractive('df-5c6c4242-9122-4265-b083-dc22abc66ace')\"\n",
              "              title=\"Convert this dataframe to an interactive table.\"\n",
              "              style=\"display:none;\">\n",
              "        \n",
              "  <svg xmlns=\"http://www.w3.org/2000/svg\" height=\"24px\"viewBox=\"0 0 24 24\"\n",
              "       width=\"24px\">\n",
              "    <path d=\"M0 0h24v24H0V0z\" fill=\"none\"/>\n",
              "    <path d=\"M18.56 5.44l.94 2.06.94-2.06 2.06-.94-2.06-.94-.94-2.06-.94 2.06-2.06.94zm-11 1L8.5 8.5l.94-2.06 2.06-.94-2.06-.94L8.5 2.5l-.94 2.06-2.06.94zm10 10l.94 2.06.94-2.06 2.06-.94-2.06-.94-.94-2.06-.94 2.06-2.06.94z\"/><path d=\"M17.41 7.96l-1.37-1.37c-.4-.4-.92-.59-1.43-.59-.52 0-1.04.2-1.43.59L10.3 9.45l-7.72 7.72c-.78.78-.78 2.05 0 2.83L4 21.41c.39.39.9.59 1.41.59.51 0 1.02-.2 1.41-.59l7.78-7.78 2.81-2.81c.8-.78.8-2.07 0-2.86zM5.41 20L4 18.59l7.72-7.72 1.47 1.35L5.41 20z\"/>\n",
              "  </svg>\n",
              "      </button>\n",
              "      \n",
              "  <style>\n",
              "    .colab-df-container {\n",
              "      display:flex;\n",
              "      flex-wrap:wrap;\n",
              "      gap: 12px;\n",
              "    }\n",
              "\n",
              "    .colab-df-convert {\n",
              "      background-color: #E8F0FE;\n",
              "      border: none;\n",
              "      border-radius: 50%;\n",
              "      cursor: pointer;\n",
              "      display: none;\n",
              "      fill: #1967D2;\n",
              "      height: 32px;\n",
              "      padding: 0 0 0 0;\n",
              "      width: 32px;\n",
              "    }\n",
              "\n",
              "    .colab-df-convert:hover {\n",
              "      background-color: #E2EBFA;\n",
              "      box-shadow: 0px 1px 2px rgba(60, 64, 67, 0.3), 0px 1px 3px 1px rgba(60, 64, 67, 0.15);\n",
              "      fill: #174EA6;\n",
              "    }\n",
              "\n",
              "    [theme=dark] .colab-df-convert {\n",
              "      background-color: #3B4455;\n",
              "      fill: #D2E3FC;\n",
              "    }\n",
              "\n",
              "    [theme=dark] .colab-df-convert:hover {\n",
              "      background-color: #434B5C;\n",
              "      box-shadow: 0px 1px 3px 1px rgba(0, 0, 0, 0.15);\n",
              "      filter: drop-shadow(0px 1px 2px rgba(0, 0, 0, 0.3));\n",
              "      fill: #FFFFFF;\n",
              "    }\n",
              "  </style>\n",
              "\n",
              "      <script>\n",
              "        const buttonEl =\n",
              "          document.querySelector('#df-5c6c4242-9122-4265-b083-dc22abc66ace button.colab-df-convert');\n",
              "        buttonEl.style.display =\n",
              "          google.colab.kernel.accessAllowed ? 'block' : 'none';\n",
              "\n",
              "        async function convertToInteractive(key) {\n",
              "          const element = document.querySelector('#df-5c6c4242-9122-4265-b083-dc22abc66ace');\n",
              "          const dataTable =\n",
              "            await google.colab.kernel.invokeFunction('convertToInteractive',\n",
              "                                                     [key], {});\n",
              "          if (!dataTable) return;\n",
              "\n",
              "          const docLinkHtml = 'Like what you see? Visit the ' +\n",
              "            '<a target=\"_blank\" href=https://colab.research.google.com/notebooks/data_table.ipynb>data table notebook</a>'\n",
              "            + ' to learn more about interactive tables.';\n",
              "          element.innerHTML = '';\n",
              "          dataTable['output_type'] = 'display_data';\n",
              "          await google.colab.output.renderOutput(dataTable, element);\n",
              "          const docLink = document.createElement('div');\n",
              "          docLink.innerHTML = docLinkHtml;\n",
              "          element.appendChild(docLink);\n",
              "        }\n",
              "      </script>\n",
              "    </div>\n",
              "  </div>\n",
              "  "
            ]
          },
          "metadata": {}
        },
        {
          "output_type": "stream",
          "name": "stdout",
          "text": [
            "------------------------------------------------------------------------\n",
            "deviceprotection\n"
          ]
        },
        {
          "output_type": "display_data",
          "data": {
            "text/plain": [
              "                         mean  count      diff      risk\n",
              "deviceprotection                                        \n",
              "no                   0.395875   2473  0.125907  1.466379\n",
              "no_internet_service  0.077805   1221 -0.192163  0.288201\n",
              "yes                  0.230412   1940 -0.039556  0.853480"
            ],
            "text/html": [
              "\n",
              "  <div id=\"df-eb2c7f11-b36c-4c8c-985e-372c1d9ac7a7\">\n",
              "    <div class=\"colab-df-container\">\n",
              "      <div>\n",
              "<style scoped>\n",
              "    .dataframe tbody tr th:only-of-type {\n",
              "        vertical-align: middle;\n",
              "    }\n",
              "\n",
              "    .dataframe tbody tr th {\n",
              "        vertical-align: top;\n",
              "    }\n",
              "\n",
              "    .dataframe thead th {\n",
              "        text-align: right;\n",
              "    }\n",
              "</style>\n",
              "<table border=\"1\" class=\"dataframe\">\n",
              "  <thead>\n",
              "    <tr style=\"text-align: right;\">\n",
              "      <th></th>\n",
              "      <th>mean</th>\n",
              "      <th>count</th>\n",
              "      <th>diff</th>\n",
              "      <th>risk</th>\n",
              "    </tr>\n",
              "    <tr>\n",
              "      <th>deviceprotection</th>\n",
              "      <th></th>\n",
              "      <th></th>\n",
              "      <th></th>\n",
              "      <th></th>\n",
              "    </tr>\n",
              "  </thead>\n",
              "  <tbody>\n",
              "    <tr>\n",
              "      <th>no</th>\n",
              "      <td>0.395875</td>\n",
              "      <td>2473</td>\n",
              "      <td>0.125907</td>\n",
              "      <td>1.466379</td>\n",
              "    </tr>\n",
              "    <tr>\n",
              "      <th>no_internet_service</th>\n",
              "      <td>0.077805</td>\n",
              "      <td>1221</td>\n",
              "      <td>-0.192163</td>\n",
              "      <td>0.288201</td>\n",
              "    </tr>\n",
              "    <tr>\n",
              "      <th>yes</th>\n",
              "      <td>0.230412</td>\n",
              "      <td>1940</td>\n",
              "      <td>-0.039556</td>\n",
              "      <td>0.853480</td>\n",
              "    </tr>\n",
              "  </tbody>\n",
              "</table>\n",
              "</div>\n",
              "      <button class=\"colab-df-convert\" onclick=\"convertToInteractive('df-eb2c7f11-b36c-4c8c-985e-372c1d9ac7a7')\"\n",
              "              title=\"Convert this dataframe to an interactive table.\"\n",
              "              style=\"display:none;\">\n",
              "        \n",
              "  <svg xmlns=\"http://www.w3.org/2000/svg\" height=\"24px\"viewBox=\"0 0 24 24\"\n",
              "       width=\"24px\">\n",
              "    <path d=\"M0 0h24v24H0V0z\" fill=\"none\"/>\n",
              "    <path d=\"M18.56 5.44l.94 2.06.94-2.06 2.06-.94-2.06-.94-.94-2.06-.94 2.06-2.06.94zm-11 1L8.5 8.5l.94-2.06 2.06-.94-2.06-.94L8.5 2.5l-.94 2.06-2.06.94zm10 10l.94 2.06.94-2.06 2.06-.94-2.06-.94-.94-2.06-.94 2.06-2.06.94z\"/><path d=\"M17.41 7.96l-1.37-1.37c-.4-.4-.92-.59-1.43-.59-.52 0-1.04.2-1.43.59L10.3 9.45l-7.72 7.72c-.78.78-.78 2.05 0 2.83L4 21.41c.39.39.9.59 1.41.59.51 0 1.02-.2 1.41-.59l7.78-7.78 2.81-2.81c.8-.78.8-2.07 0-2.86zM5.41 20L4 18.59l7.72-7.72 1.47 1.35L5.41 20z\"/>\n",
              "  </svg>\n",
              "      </button>\n",
              "      \n",
              "  <style>\n",
              "    .colab-df-container {\n",
              "      display:flex;\n",
              "      flex-wrap:wrap;\n",
              "      gap: 12px;\n",
              "    }\n",
              "\n",
              "    .colab-df-convert {\n",
              "      background-color: #E8F0FE;\n",
              "      border: none;\n",
              "      border-radius: 50%;\n",
              "      cursor: pointer;\n",
              "      display: none;\n",
              "      fill: #1967D2;\n",
              "      height: 32px;\n",
              "      padding: 0 0 0 0;\n",
              "      width: 32px;\n",
              "    }\n",
              "\n",
              "    .colab-df-convert:hover {\n",
              "      background-color: #E2EBFA;\n",
              "      box-shadow: 0px 1px 2px rgba(60, 64, 67, 0.3), 0px 1px 3px 1px rgba(60, 64, 67, 0.15);\n",
              "      fill: #174EA6;\n",
              "    }\n",
              "\n",
              "    [theme=dark] .colab-df-convert {\n",
              "      background-color: #3B4455;\n",
              "      fill: #D2E3FC;\n",
              "    }\n",
              "\n",
              "    [theme=dark] .colab-df-convert:hover {\n",
              "      background-color: #434B5C;\n",
              "      box-shadow: 0px 1px 3px 1px rgba(0, 0, 0, 0.15);\n",
              "      filter: drop-shadow(0px 1px 2px rgba(0, 0, 0, 0.3));\n",
              "      fill: #FFFFFF;\n",
              "    }\n",
              "  </style>\n",
              "\n",
              "      <script>\n",
              "        const buttonEl =\n",
              "          document.querySelector('#df-eb2c7f11-b36c-4c8c-985e-372c1d9ac7a7 button.colab-df-convert');\n",
              "        buttonEl.style.display =\n",
              "          google.colab.kernel.accessAllowed ? 'block' : 'none';\n",
              "\n",
              "        async function convertToInteractive(key) {\n",
              "          const element = document.querySelector('#df-eb2c7f11-b36c-4c8c-985e-372c1d9ac7a7');\n",
              "          const dataTable =\n",
              "            await google.colab.kernel.invokeFunction('convertToInteractive',\n",
              "                                                     [key], {});\n",
              "          if (!dataTable) return;\n",
              "\n",
              "          const docLinkHtml = 'Like what you see? Visit the ' +\n",
              "            '<a target=\"_blank\" href=https://colab.research.google.com/notebooks/data_table.ipynb>data table notebook</a>'\n",
              "            + ' to learn more about interactive tables.';\n",
              "          element.innerHTML = '';\n",
              "          dataTable['output_type'] = 'display_data';\n",
              "          await google.colab.output.renderOutput(dataTable, element);\n",
              "          const docLink = document.createElement('div');\n",
              "          docLink.innerHTML = docLinkHtml;\n",
              "          element.appendChild(docLink);\n",
              "        }\n",
              "      </script>\n",
              "    </div>\n",
              "  </div>\n",
              "  "
            ]
          },
          "metadata": {}
        },
        {
          "output_type": "stream",
          "name": "stdout",
          "text": [
            "------------------------------------------------------------------------\n",
            "techsupport\n"
          ]
        },
        {
          "output_type": "display_data",
          "data": {
            "text/plain": [
              "                         mean  count      diff      risk\n",
              "techsupport                                             \n",
              "no                   0.418914   2781  0.148946  1.551717\n",
              "no_internet_service  0.077805   1221 -0.192163  0.288201\n",
              "yes                  0.159926   1632 -0.110042  0.592390"
            ],
            "text/html": [
              "\n",
              "  <div id=\"df-fcfe0ac5-02e0-4e8a-b2ae-d0c7a10ae628\">\n",
              "    <div class=\"colab-df-container\">\n",
              "      <div>\n",
              "<style scoped>\n",
              "    .dataframe tbody tr th:only-of-type {\n",
              "        vertical-align: middle;\n",
              "    }\n",
              "\n",
              "    .dataframe tbody tr th {\n",
              "        vertical-align: top;\n",
              "    }\n",
              "\n",
              "    .dataframe thead th {\n",
              "        text-align: right;\n",
              "    }\n",
              "</style>\n",
              "<table border=\"1\" class=\"dataframe\">\n",
              "  <thead>\n",
              "    <tr style=\"text-align: right;\">\n",
              "      <th></th>\n",
              "      <th>mean</th>\n",
              "      <th>count</th>\n",
              "      <th>diff</th>\n",
              "      <th>risk</th>\n",
              "    </tr>\n",
              "    <tr>\n",
              "      <th>techsupport</th>\n",
              "      <th></th>\n",
              "      <th></th>\n",
              "      <th></th>\n",
              "      <th></th>\n",
              "    </tr>\n",
              "  </thead>\n",
              "  <tbody>\n",
              "    <tr>\n",
              "      <th>no</th>\n",
              "      <td>0.418914</td>\n",
              "      <td>2781</td>\n",
              "      <td>0.148946</td>\n",
              "      <td>1.551717</td>\n",
              "    </tr>\n",
              "    <tr>\n",
              "      <th>no_internet_service</th>\n",
              "      <td>0.077805</td>\n",
              "      <td>1221</td>\n",
              "      <td>-0.192163</td>\n",
              "      <td>0.288201</td>\n",
              "    </tr>\n",
              "    <tr>\n",
              "      <th>yes</th>\n",
              "      <td>0.159926</td>\n",
              "      <td>1632</td>\n",
              "      <td>-0.110042</td>\n",
              "      <td>0.592390</td>\n",
              "    </tr>\n",
              "  </tbody>\n",
              "</table>\n",
              "</div>\n",
              "      <button class=\"colab-df-convert\" onclick=\"convertToInteractive('df-fcfe0ac5-02e0-4e8a-b2ae-d0c7a10ae628')\"\n",
              "              title=\"Convert this dataframe to an interactive table.\"\n",
              "              style=\"display:none;\">\n",
              "        \n",
              "  <svg xmlns=\"http://www.w3.org/2000/svg\" height=\"24px\"viewBox=\"0 0 24 24\"\n",
              "       width=\"24px\">\n",
              "    <path d=\"M0 0h24v24H0V0z\" fill=\"none\"/>\n",
              "    <path d=\"M18.56 5.44l.94 2.06.94-2.06 2.06-.94-2.06-.94-.94-2.06-.94 2.06-2.06.94zm-11 1L8.5 8.5l.94-2.06 2.06-.94-2.06-.94L8.5 2.5l-.94 2.06-2.06.94zm10 10l.94 2.06.94-2.06 2.06-.94-2.06-.94-.94-2.06-.94 2.06-2.06.94z\"/><path d=\"M17.41 7.96l-1.37-1.37c-.4-.4-.92-.59-1.43-.59-.52 0-1.04.2-1.43.59L10.3 9.45l-7.72 7.72c-.78.78-.78 2.05 0 2.83L4 21.41c.39.39.9.59 1.41.59.51 0 1.02-.2 1.41-.59l7.78-7.78 2.81-2.81c.8-.78.8-2.07 0-2.86zM5.41 20L4 18.59l7.72-7.72 1.47 1.35L5.41 20z\"/>\n",
              "  </svg>\n",
              "      </button>\n",
              "      \n",
              "  <style>\n",
              "    .colab-df-container {\n",
              "      display:flex;\n",
              "      flex-wrap:wrap;\n",
              "      gap: 12px;\n",
              "    }\n",
              "\n",
              "    .colab-df-convert {\n",
              "      background-color: #E8F0FE;\n",
              "      border: none;\n",
              "      border-radius: 50%;\n",
              "      cursor: pointer;\n",
              "      display: none;\n",
              "      fill: #1967D2;\n",
              "      height: 32px;\n",
              "      padding: 0 0 0 0;\n",
              "      width: 32px;\n",
              "    }\n",
              "\n",
              "    .colab-df-convert:hover {\n",
              "      background-color: #E2EBFA;\n",
              "      box-shadow: 0px 1px 2px rgba(60, 64, 67, 0.3), 0px 1px 3px 1px rgba(60, 64, 67, 0.15);\n",
              "      fill: #174EA6;\n",
              "    }\n",
              "\n",
              "    [theme=dark] .colab-df-convert {\n",
              "      background-color: #3B4455;\n",
              "      fill: #D2E3FC;\n",
              "    }\n",
              "\n",
              "    [theme=dark] .colab-df-convert:hover {\n",
              "      background-color: #434B5C;\n",
              "      box-shadow: 0px 1px 3px 1px rgba(0, 0, 0, 0.15);\n",
              "      filter: drop-shadow(0px 1px 2px rgba(0, 0, 0, 0.3));\n",
              "      fill: #FFFFFF;\n",
              "    }\n",
              "  </style>\n",
              "\n",
              "      <script>\n",
              "        const buttonEl =\n",
              "          document.querySelector('#df-fcfe0ac5-02e0-4e8a-b2ae-d0c7a10ae628 button.colab-df-convert');\n",
              "        buttonEl.style.display =\n",
              "          google.colab.kernel.accessAllowed ? 'block' : 'none';\n",
              "\n",
              "        async function convertToInteractive(key) {\n",
              "          const element = document.querySelector('#df-fcfe0ac5-02e0-4e8a-b2ae-d0c7a10ae628');\n",
              "          const dataTable =\n",
              "            await google.colab.kernel.invokeFunction('convertToInteractive',\n",
              "                                                     [key], {});\n",
              "          if (!dataTable) return;\n",
              "\n",
              "          const docLinkHtml = 'Like what you see? Visit the ' +\n",
              "            '<a target=\"_blank\" href=https://colab.research.google.com/notebooks/data_table.ipynb>data table notebook</a>'\n",
              "            + ' to learn more about interactive tables.';\n",
              "          element.innerHTML = '';\n",
              "          dataTable['output_type'] = 'display_data';\n",
              "          await google.colab.output.renderOutput(dataTable, element);\n",
              "          const docLink = document.createElement('div');\n",
              "          docLink.innerHTML = docLinkHtml;\n",
              "          element.appendChild(docLink);\n",
              "        }\n",
              "      </script>\n",
              "    </div>\n",
              "  </div>\n",
              "  "
            ]
          },
          "metadata": {}
        },
        {
          "output_type": "stream",
          "name": "stdout",
          "text": [
            "------------------------------------------------------------------------\n",
            "streamingtv\n"
          ]
        },
        {
          "output_type": "display_data",
          "data": {
            "text/plain": [
              "                         mean  count      diff      risk\n",
              "streamingtv                                             \n",
              "no                   0.342832   2246  0.072864  1.269897\n",
              "no_internet_service  0.077805   1221 -0.192163  0.288201\n",
              "yes                  0.302723   2167  0.032755  1.121328"
            ],
            "text/html": [
              "\n",
              "  <div id=\"df-588ae94d-a93a-44b9-96fe-22c76d2d50e5\">\n",
              "    <div class=\"colab-df-container\">\n",
              "      <div>\n",
              "<style scoped>\n",
              "    .dataframe tbody tr th:only-of-type {\n",
              "        vertical-align: middle;\n",
              "    }\n",
              "\n",
              "    .dataframe tbody tr th {\n",
              "        vertical-align: top;\n",
              "    }\n",
              "\n",
              "    .dataframe thead th {\n",
              "        text-align: right;\n",
              "    }\n",
              "</style>\n",
              "<table border=\"1\" class=\"dataframe\">\n",
              "  <thead>\n",
              "    <tr style=\"text-align: right;\">\n",
              "      <th></th>\n",
              "      <th>mean</th>\n",
              "      <th>count</th>\n",
              "      <th>diff</th>\n",
              "      <th>risk</th>\n",
              "    </tr>\n",
              "    <tr>\n",
              "      <th>streamingtv</th>\n",
              "      <th></th>\n",
              "      <th></th>\n",
              "      <th></th>\n",
              "      <th></th>\n",
              "    </tr>\n",
              "  </thead>\n",
              "  <tbody>\n",
              "    <tr>\n",
              "      <th>no</th>\n",
              "      <td>0.342832</td>\n",
              "      <td>2246</td>\n",
              "      <td>0.072864</td>\n",
              "      <td>1.269897</td>\n",
              "    </tr>\n",
              "    <tr>\n",
              "      <th>no_internet_service</th>\n",
              "      <td>0.077805</td>\n",
              "      <td>1221</td>\n",
              "      <td>-0.192163</td>\n",
              "      <td>0.288201</td>\n",
              "    </tr>\n",
              "    <tr>\n",
              "      <th>yes</th>\n",
              "      <td>0.302723</td>\n",
              "      <td>2167</td>\n",
              "      <td>0.032755</td>\n",
              "      <td>1.121328</td>\n",
              "    </tr>\n",
              "  </tbody>\n",
              "</table>\n",
              "</div>\n",
              "      <button class=\"colab-df-convert\" onclick=\"convertToInteractive('df-588ae94d-a93a-44b9-96fe-22c76d2d50e5')\"\n",
              "              title=\"Convert this dataframe to an interactive table.\"\n",
              "              style=\"display:none;\">\n",
              "        \n",
              "  <svg xmlns=\"http://www.w3.org/2000/svg\" height=\"24px\"viewBox=\"0 0 24 24\"\n",
              "       width=\"24px\">\n",
              "    <path d=\"M0 0h24v24H0V0z\" fill=\"none\"/>\n",
              "    <path d=\"M18.56 5.44l.94 2.06.94-2.06 2.06-.94-2.06-.94-.94-2.06-.94 2.06-2.06.94zm-11 1L8.5 8.5l.94-2.06 2.06-.94-2.06-.94L8.5 2.5l-.94 2.06-2.06.94zm10 10l.94 2.06.94-2.06 2.06-.94-2.06-.94-.94-2.06-.94 2.06-2.06.94z\"/><path d=\"M17.41 7.96l-1.37-1.37c-.4-.4-.92-.59-1.43-.59-.52 0-1.04.2-1.43.59L10.3 9.45l-7.72 7.72c-.78.78-.78 2.05 0 2.83L4 21.41c.39.39.9.59 1.41.59.51 0 1.02-.2 1.41-.59l7.78-7.78 2.81-2.81c.8-.78.8-2.07 0-2.86zM5.41 20L4 18.59l7.72-7.72 1.47 1.35L5.41 20z\"/>\n",
              "  </svg>\n",
              "      </button>\n",
              "      \n",
              "  <style>\n",
              "    .colab-df-container {\n",
              "      display:flex;\n",
              "      flex-wrap:wrap;\n",
              "      gap: 12px;\n",
              "    }\n",
              "\n",
              "    .colab-df-convert {\n",
              "      background-color: #E8F0FE;\n",
              "      border: none;\n",
              "      border-radius: 50%;\n",
              "      cursor: pointer;\n",
              "      display: none;\n",
              "      fill: #1967D2;\n",
              "      height: 32px;\n",
              "      padding: 0 0 0 0;\n",
              "      width: 32px;\n",
              "    }\n",
              "\n",
              "    .colab-df-convert:hover {\n",
              "      background-color: #E2EBFA;\n",
              "      box-shadow: 0px 1px 2px rgba(60, 64, 67, 0.3), 0px 1px 3px 1px rgba(60, 64, 67, 0.15);\n",
              "      fill: #174EA6;\n",
              "    }\n",
              "\n",
              "    [theme=dark] .colab-df-convert {\n",
              "      background-color: #3B4455;\n",
              "      fill: #D2E3FC;\n",
              "    }\n",
              "\n",
              "    [theme=dark] .colab-df-convert:hover {\n",
              "      background-color: #434B5C;\n",
              "      box-shadow: 0px 1px 3px 1px rgba(0, 0, 0, 0.15);\n",
              "      filter: drop-shadow(0px 1px 2px rgba(0, 0, 0, 0.3));\n",
              "      fill: #FFFFFF;\n",
              "    }\n",
              "  </style>\n",
              "\n",
              "      <script>\n",
              "        const buttonEl =\n",
              "          document.querySelector('#df-588ae94d-a93a-44b9-96fe-22c76d2d50e5 button.colab-df-convert');\n",
              "        buttonEl.style.display =\n",
              "          google.colab.kernel.accessAllowed ? 'block' : 'none';\n",
              "\n",
              "        async function convertToInteractive(key) {\n",
              "          const element = document.querySelector('#df-588ae94d-a93a-44b9-96fe-22c76d2d50e5');\n",
              "          const dataTable =\n",
              "            await google.colab.kernel.invokeFunction('convertToInteractive',\n",
              "                                                     [key], {});\n",
              "          if (!dataTable) return;\n",
              "\n",
              "          const docLinkHtml = 'Like what you see? Visit the ' +\n",
              "            '<a target=\"_blank\" href=https://colab.research.google.com/notebooks/data_table.ipynb>data table notebook</a>'\n",
              "            + ' to learn more about interactive tables.';\n",
              "          element.innerHTML = '';\n",
              "          dataTable['output_type'] = 'display_data';\n",
              "          await google.colab.output.renderOutput(dataTable, element);\n",
              "          const docLink = document.createElement('div');\n",
              "          docLink.innerHTML = docLinkHtml;\n",
              "          element.appendChild(docLink);\n",
              "        }\n",
              "      </script>\n",
              "    </div>\n",
              "  </div>\n",
              "  "
            ]
          },
          "metadata": {}
        },
        {
          "output_type": "stream",
          "name": "stdout",
          "text": [
            "------------------------------------------------------------------------\n",
            "streamingmovies\n"
          ]
        },
        {
          "output_type": "display_data",
          "data": {
            "text/plain": [
              "                         mean  count      diff      risk\n",
              "streamingmovies                                         \n",
              "no                   0.338906   2213  0.068938  1.255358\n",
              "no_internet_service  0.077805   1221 -0.192163  0.288201\n",
              "yes                  0.307273   2200  0.037305  1.138182"
            ],
            "text/html": [
              "\n",
              "  <div id=\"df-6dd2db3d-7d6d-4d72-b22f-fa4f89aa993e\">\n",
              "    <div class=\"colab-df-container\">\n",
              "      <div>\n",
              "<style scoped>\n",
              "    .dataframe tbody tr th:only-of-type {\n",
              "        vertical-align: middle;\n",
              "    }\n",
              "\n",
              "    .dataframe tbody tr th {\n",
              "        vertical-align: top;\n",
              "    }\n",
              "\n",
              "    .dataframe thead th {\n",
              "        text-align: right;\n",
              "    }\n",
              "</style>\n",
              "<table border=\"1\" class=\"dataframe\">\n",
              "  <thead>\n",
              "    <tr style=\"text-align: right;\">\n",
              "      <th></th>\n",
              "      <th>mean</th>\n",
              "      <th>count</th>\n",
              "      <th>diff</th>\n",
              "      <th>risk</th>\n",
              "    </tr>\n",
              "    <tr>\n",
              "      <th>streamingmovies</th>\n",
              "      <th></th>\n",
              "      <th></th>\n",
              "      <th></th>\n",
              "      <th></th>\n",
              "    </tr>\n",
              "  </thead>\n",
              "  <tbody>\n",
              "    <tr>\n",
              "      <th>no</th>\n",
              "      <td>0.338906</td>\n",
              "      <td>2213</td>\n",
              "      <td>0.068938</td>\n",
              "      <td>1.255358</td>\n",
              "    </tr>\n",
              "    <tr>\n",
              "      <th>no_internet_service</th>\n",
              "      <td>0.077805</td>\n",
              "      <td>1221</td>\n",
              "      <td>-0.192163</td>\n",
              "      <td>0.288201</td>\n",
              "    </tr>\n",
              "    <tr>\n",
              "      <th>yes</th>\n",
              "      <td>0.307273</td>\n",
              "      <td>2200</td>\n",
              "      <td>0.037305</td>\n",
              "      <td>1.138182</td>\n",
              "    </tr>\n",
              "  </tbody>\n",
              "</table>\n",
              "</div>\n",
              "      <button class=\"colab-df-convert\" onclick=\"convertToInteractive('df-6dd2db3d-7d6d-4d72-b22f-fa4f89aa993e')\"\n",
              "              title=\"Convert this dataframe to an interactive table.\"\n",
              "              style=\"display:none;\">\n",
              "        \n",
              "  <svg xmlns=\"http://www.w3.org/2000/svg\" height=\"24px\"viewBox=\"0 0 24 24\"\n",
              "       width=\"24px\">\n",
              "    <path d=\"M0 0h24v24H0V0z\" fill=\"none\"/>\n",
              "    <path d=\"M18.56 5.44l.94 2.06.94-2.06 2.06-.94-2.06-.94-.94-2.06-.94 2.06-2.06.94zm-11 1L8.5 8.5l.94-2.06 2.06-.94-2.06-.94L8.5 2.5l-.94 2.06-2.06.94zm10 10l.94 2.06.94-2.06 2.06-.94-2.06-.94-.94-2.06-.94 2.06-2.06.94z\"/><path d=\"M17.41 7.96l-1.37-1.37c-.4-.4-.92-.59-1.43-.59-.52 0-1.04.2-1.43.59L10.3 9.45l-7.72 7.72c-.78.78-.78 2.05 0 2.83L4 21.41c.39.39.9.59 1.41.59.51 0 1.02-.2 1.41-.59l7.78-7.78 2.81-2.81c.8-.78.8-2.07 0-2.86zM5.41 20L4 18.59l7.72-7.72 1.47 1.35L5.41 20z\"/>\n",
              "  </svg>\n",
              "      </button>\n",
              "      \n",
              "  <style>\n",
              "    .colab-df-container {\n",
              "      display:flex;\n",
              "      flex-wrap:wrap;\n",
              "      gap: 12px;\n",
              "    }\n",
              "\n",
              "    .colab-df-convert {\n",
              "      background-color: #E8F0FE;\n",
              "      border: none;\n",
              "      border-radius: 50%;\n",
              "      cursor: pointer;\n",
              "      display: none;\n",
              "      fill: #1967D2;\n",
              "      height: 32px;\n",
              "      padding: 0 0 0 0;\n",
              "      width: 32px;\n",
              "    }\n",
              "\n",
              "    .colab-df-convert:hover {\n",
              "      background-color: #E2EBFA;\n",
              "      box-shadow: 0px 1px 2px rgba(60, 64, 67, 0.3), 0px 1px 3px 1px rgba(60, 64, 67, 0.15);\n",
              "      fill: #174EA6;\n",
              "    }\n",
              "\n",
              "    [theme=dark] .colab-df-convert {\n",
              "      background-color: #3B4455;\n",
              "      fill: #D2E3FC;\n",
              "    }\n",
              "\n",
              "    [theme=dark] .colab-df-convert:hover {\n",
              "      background-color: #434B5C;\n",
              "      box-shadow: 0px 1px 3px 1px rgba(0, 0, 0, 0.15);\n",
              "      filter: drop-shadow(0px 1px 2px rgba(0, 0, 0, 0.3));\n",
              "      fill: #FFFFFF;\n",
              "    }\n",
              "  </style>\n",
              "\n",
              "      <script>\n",
              "        const buttonEl =\n",
              "          document.querySelector('#df-6dd2db3d-7d6d-4d72-b22f-fa4f89aa993e button.colab-df-convert');\n",
              "        buttonEl.style.display =\n",
              "          google.colab.kernel.accessAllowed ? 'block' : 'none';\n",
              "\n",
              "        async function convertToInteractive(key) {\n",
              "          const element = document.querySelector('#df-6dd2db3d-7d6d-4d72-b22f-fa4f89aa993e');\n",
              "          const dataTable =\n",
              "            await google.colab.kernel.invokeFunction('convertToInteractive',\n",
              "                                                     [key], {});\n",
              "          if (!dataTable) return;\n",
              "\n",
              "          const docLinkHtml = 'Like what you see? Visit the ' +\n",
              "            '<a target=\"_blank\" href=https://colab.research.google.com/notebooks/data_table.ipynb>data table notebook</a>'\n",
              "            + ' to learn more about interactive tables.';\n",
              "          element.innerHTML = '';\n",
              "          dataTable['output_type'] = 'display_data';\n",
              "          await google.colab.output.renderOutput(dataTable, element);\n",
              "          const docLink = document.createElement('div');\n",
              "          docLink.innerHTML = docLinkHtml;\n",
              "          element.appendChild(docLink);\n",
              "        }\n",
              "      </script>\n",
              "    </div>\n",
              "  </div>\n",
              "  "
            ]
          },
          "metadata": {}
        },
        {
          "output_type": "stream",
          "name": "stdout",
          "text": [
            "------------------------------------------------------------------------\n",
            "contract\n"
          ]
        },
        {
          "output_type": "display_data",
          "data": {
            "text/plain": [
              "                    mean  count      diff      risk\n",
              "contract                                           \n",
              "month-to-month  0.431701   3104  0.161733  1.599082\n",
              "one_year        0.120573   1186 -0.149395  0.446621\n",
              "two_year        0.028274   1344 -0.241694  0.104730"
            ],
            "text/html": [
              "\n",
              "  <div id=\"df-0a9a85ac-c3c5-4453-a5bd-390becb32564\">\n",
              "    <div class=\"colab-df-container\">\n",
              "      <div>\n",
              "<style scoped>\n",
              "    .dataframe tbody tr th:only-of-type {\n",
              "        vertical-align: middle;\n",
              "    }\n",
              "\n",
              "    .dataframe tbody tr th {\n",
              "        vertical-align: top;\n",
              "    }\n",
              "\n",
              "    .dataframe thead th {\n",
              "        text-align: right;\n",
              "    }\n",
              "</style>\n",
              "<table border=\"1\" class=\"dataframe\">\n",
              "  <thead>\n",
              "    <tr style=\"text-align: right;\">\n",
              "      <th></th>\n",
              "      <th>mean</th>\n",
              "      <th>count</th>\n",
              "      <th>diff</th>\n",
              "      <th>risk</th>\n",
              "    </tr>\n",
              "    <tr>\n",
              "      <th>contract</th>\n",
              "      <th></th>\n",
              "      <th></th>\n",
              "      <th></th>\n",
              "      <th></th>\n",
              "    </tr>\n",
              "  </thead>\n",
              "  <tbody>\n",
              "    <tr>\n",
              "      <th>month-to-month</th>\n",
              "      <td>0.431701</td>\n",
              "      <td>3104</td>\n",
              "      <td>0.161733</td>\n",
              "      <td>1.599082</td>\n",
              "    </tr>\n",
              "    <tr>\n",
              "      <th>one_year</th>\n",
              "      <td>0.120573</td>\n",
              "      <td>1186</td>\n",
              "      <td>-0.149395</td>\n",
              "      <td>0.446621</td>\n",
              "    </tr>\n",
              "    <tr>\n",
              "      <th>two_year</th>\n",
              "      <td>0.028274</td>\n",
              "      <td>1344</td>\n",
              "      <td>-0.241694</td>\n",
              "      <td>0.104730</td>\n",
              "    </tr>\n",
              "  </tbody>\n",
              "</table>\n",
              "</div>\n",
              "      <button class=\"colab-df-convert\" onclick=\"convertToInteractive('df-0a9a85ac-c3c5-4453-a5bd-390becb32564')\"\n",
              "              title=\"Convert this dataframe to an interactive table.\"\n",
              "              style=\"display:none;\">\n",
              "        \n",
              "  <svg xmlns=\"http://www.w3.org/2000/svg\" height=\"24px\"viewBox=\"0 0 24 24\"\n",
              "       width=\"24px\">\n",
              "    <path d=\"M0 0h24v24H0V0z\" fill=\"none\"/>\n",
              "    <path d=\"M18.56 5.44l.94 2.06.94-2.06 2.06-.94-2.06-.94-.94-2.06-.94 2.06-2.06.94zm-11 1L8.5 8.5l.94-2.06 2.06-.94-2.06-.94L8.5 2.5l-.94 2.06-2.06.94zm10 10l.94 2.06.94-2.06 2.06-.94-2.06-.94-.94-2.06-.94 2.06-2.06.94z\"/><path d=\"M17.41 7.96l-1.37-1.37c-.4-.4-.92-.59-1.43-.59-.52 0-1.04.2-1.43.59L10.3 9.45l-7.72 7.72c-.78.78-.78 2.05 0 2.83L4 21.41c.39.39.9.59 1.41.59.51 0 1.02-.2 1.41-.59l7.78-7.78 2.81-2.81c.8-.78.8-2.07 0-2.86zM5.41 20L4 18.59l7.72-7.72 1.47 1.35L5.41 20z\"/>\n",
              "  </svg>\n",
              "      </button>\n",
              "      \n",
              "  <style>\n",
              "    .colab-df-container {\n",
              "      display:flex;\n",
              "      flex-wrap:wrap;\n",
              "      gap: 12px;\n",
              "    }\n",
              "\n",
              "    .colab-df-convert {\n",
              "      background-color: #E8F0FE;\n",
              "      border: none;\n",
              "      border-radius: 50%;\n",
              "      cursor: pointer;\n",
              "      display: none;\n",
              "      fill: #1967D2;\n",
              "      height: 32px;\n",
              "      padding: 0 0 0 0;\n",
              "      width: 32px;\n",
              "    }\n",
              "\n",
              "    .colab-df-convert:hover {\n",
              "      background-color: #E2EBFA;\n",
              "      box-shadow: 0px 1px 2px rgba(60, 64, 67, 0.3), 0px 1px 3px 1px rgba(60, 64, 67, 0.15);\n",
              "      fill: #174EA6;\n",
              "    }\n",
              "\n",
              "    [theme=dark] .colab-df-convert {\n",
              "      background-color: #3B4455;\n",
              "      fill: #D2E3FC;\n",
              "    }\n",
              "\n",
              "    [theme=dark] .colab-df-convert:hover {\n",
              "      background-color: #434B5C;\n",
              "      box-shadow: 0px 1px 3px 1px rgba(0, 0, 0, 0.15);\n",
              "      filter: drop-shadow(0px 1px 2px rgba(0, 0, 0, 0.3));\n",
              "      fill: #FFFFFF;\n",
              "    }\n",
              "  </style>\n",
              "\n",
              "      <script>\n",
              "        const buttonEl =\n",
              "          document.querySelector('#df-0a9a85ac-c3c5-4453-a5bd-390becb32564 button.colab-df-convert');\n",
              "        buttonEl.style.display =\n",
              "          google.colab.kernel.accessAllowed ? 'block' : 'none';\n",
              "\n",
              "        async function convertToInteractive(key) {\n",
              "          const element = document.querySelector('#df-0a9a85ac-c3c5-4453-a5bd-390becb32564');\n",
              "          const dataTable =\n",
              "            await google.colab.kernel.invokeFunction('convertToInteractive',\n",
              "                                                     [key], {});\n",
              "          if (!dataTable) return;\n",
              "\n",
              "          const docLinkHtml = 'Like what you see? Visit the ' +\n",
              "            '<a target=\"_blank\" href=https://colab.research.google.com/notebooks/data_table.ipynb>data table notebook</a>'\n",
              "            + ' to learn more about interactive tables.';\n",
              "          element.innerHTML = '';\n",
              "          dataTable['output_type'] = 'display_data';\n",
              "          await google.colab.output.renderOutput(dataTable, element);\n",
              "          const docLink = document.createElement('div');\n",
              "          docLink.innerHTML = docLinkHtml;\n",
              "          element.appendChild(docLink);\n",
              "        }\n",
              "      </script>\n",
              "    </div>\n",
              "  </div>\n",
              "  "
            ]
          },
          "metadata": {}
        },
        {
          "output_type": "stream",
          "name": "stdout",
          "text": [
            "------------------------------------------------------------------------\n",
            "paperlessbilling\n"
          ]
        },
        {
          "output_type": "display_data",
          "data": {
            "text/plain": [
              "                      mean  count      diff      risk\n",
              "paperlessbilling                                     \n",
              "no                0.172071   2313 -0.097897  0.637375\n",
              "yes               0.338151   3321  0.068183  1.252560"
            ],
            "text/html": [
              "\n",
              "  <div id=\"df-9a40dd02-5a51-4d82-acf0-66000a9013b2\">\n",
              "    <div class=\"colab-df-container\">\n",
              "      <div>\n",
              "<style scoped>\n",
              "    .dataframe tbody tr th:only-of-type {\n",
              "        vertical-align: middle;\n",
              "    }\n",
              "\n",
              "    .dataframe tbody tr th {\n",
              "        vertical-align: top;\n",
              "    }\n",
              "\n",
              "    .dataframe thead th {\n",
              "        text-align: right;\n",
              "    }\n",
              "</style>\n",
              "<table border=\"1\" class=\"dataframe\">\n",
              "  <thead>\n",
              "    <tr style=\"text-align: right;\">\n",
              "      <th></th>\n",
              "      <th>mean</th>\n",
              "      <th>count</th>\n",
              "      <th>diff</th>\n",
              "      <th>risk</th>\n",
              "    </tr>\n",
              "    <tr>\n",
              "      <th>paperlessbilling</th>\n",
              "      <th></th>\n",
              "      <th></th>\n",
              "      <th></th>\n",
              "      <th></th>\n",
              "    </tr>\n",
              "  </thead>\n",
              "  <tbody>\n",
              "    <tr>\n",
              "      <th>no</th>\n",
              "      <td>0.172071</td>\n",
              "      <td>2313</td>\n",
              "      <td>-0.097897</td>\n",
              "      <td>0.637375</td>\n",
              "    </tr>\n",
              "    <tr>\n",
              "      <th>yes</th>\n",
              "      <td>0.338151</td>\n",
              "      <td>3321</td>\n",
              "      <td>0.068183</td>\n",
              "      <td>1.252560</td>\n",
              "    </tr>\n",
              "  </tbody>\n",
              "</table>\n",
              "</div>\n",
              "      <button class=\"colab-df-convert\" onclick=\"convertToInteractive('df-9a40dd02-5a51-4d82-acf0-66000a9013b2')\"\n",
              "              title=\"Convert this dataframe to an interactive table.\"\n",
              "              style=\"display:none;\">\n",
              "        \n",
              "  <svg xmlns=\"http://www.w3.org/2000/svg\" height=\"24px\"viewBox=\"0 0 24 24\"\n",
              "       width=\"24px\">\n",
              "    <path d=\"M0 0h24v24H0V0z\" fill=\"none\"/>\n",
              "    <path d=\"M18.56 5.44l.94 2.06.94-2.06 2.06-.94-2.06-.94-.94-2.06-.94 2.06-2.06.94zm-11 1L8.5 8.5l.94-2.06 2.06-.94-2.06-.94L8.5 2.5l-.94 2.06-2.06.94zm10 10l.94 2.06.94-2.06 2.06-.94-2.06-.94-.94-2.06-.94 2.06-2.06.94z\"/><path d=\"M17.41 7.96l-1.37-1.37c-.4-.4-.92-.59-1.43-.59-.52 0-1.04.2-1.43.59L10.3 9.45l-7.72 7.72c-.78.78-.78 2.05 0 2.83L4 21.41c.39.39.9.59 1.41.59.51 0 1.02-.2 1.41-.59l7.78-7.78 2.81-2.81c.8-.78.8-2.07 0-2.86zM5.41 20L4 18.59l7.72-7.72 1.47 1.35L5.41 20z\"/>\n",
              "  </svg>\n",
              "      </button>\n",
              "      \n",
              "  <style>\n",
              "    .colab-df-container {\n",
              "      display:flex;\n",
              "      flex-wrap:wrap;\n",
              "      gap: 12px;\n",
              "    }\n",
              "\n",
              "    .colab-df-convert {\n",
              "      background-color: #E8F0FE;\n",
              "      border: none;\n",
              "      border-radius: 50%;\n",
              "      cursor: pointer;\n",
              "      display: none;\n",
              "      fill: #1967D2;\n",
              "      height: 32px;\n",
              "      padding: 0 0 0 0;\n",
              "      width: 32px;\n",
              "    }\n",
              "\n",
              "    .colab-df-convert:hover {\n",
              "      background-color: #E2EBFA;\n",
              "      box-shadow: 0px 1px 2px rgba(60, 64, 67, 0.3), 0px 1px 3px 1px rgba(60, 64, 67, 0.15);\n",
              "      fill: #174EA6;\n",
              "    }\n",
              "\n",
              "    [theme=dark] .colab-df-convert {\n",
              "      background-color: #3B4455;\n",
              "      fill: #D2E3FC;\n",
              "    }\n",
              "\n",
              "    [theme=dark] .colab-df-convert:hover {\n",
              "      background-color: #434B5C;\n",
              "      box-shadow: 0px 1px 3px 1px rgba(0, 0, 0, 0.15);\n",
              "      filter: drop-shadow(0px 1px 2px rgba(0, 0, 0, 0.3));\n",
              "      fill: #FFFFFF;\n",
              "    }\n",
              "  </style>\n",
              "\n",
              "      <script>\n",
              "        const buttonEl =\n",
              "          document.querySelector('#df-9a40dd02-5a51-4d82-acf0-66000a9013b2 button.colab-df-convert');\n",
              "        buttonEl.style.display =\n",
              "          google.colab.kernel.accessAllowed ? 'block' : 'none';\n",
              "\n",
              "        async function convertToInteractive(key) {\n",
              "          const element = document.querySelector('#df-9a40dd02-5a51-4d82-acf0-66000a9013b2');\n",
              "          const dataTable =\n",
              "            await google.colab.kernel.invokeFunction('convertToInteractive',\n",
              "                                                     [key], {});\n",
              "          if (!dataTable) return;\n",
              "\n",
              "          const docLinkHtml = 'Like what you see? Visit the ' +\n",
              "            '<a target=\"_blank\" href=https://colab.research.google.com/notebooks/data_table.ipynb>data table notebook</a>'\n",
              "            + ' to learn more about interactive tables.';\n",
              "          element.innerHTML = '';\n",
              "          dataTable['output_type'] = 'display_data';\n",
              "          await google.colab.output.renderOutput(dataTable, element);\n",
              "          const docLink = document.createElement('div');\n",
              "          docLink.innerHTML = docLinkHtml;\n",
              "          element.appendChild(docLink);\n",
              "        }\n",
              "      </script>\n",
              "    </div>\n",
              "  </div>\n",
              "  "
            ]
          },
          "metadata": {}
        },
        {
          "output_type": "stream",
          "name": "stdout",
          "text": [
            "------------------------------------------------------------------------\n",
            "paymentmethod\n"
          ]
        },
        {
          "output_type": "display_data",
          "data": {
            "text/plain": [
              "                               mean  count      diff      risk\n",
              "paymentmethod                                                 \n",
              "bank_transfer_(automatic)  0.168171   1219 -0.101797  0.622928\n",
              "credit_card_(automatic)    0.164339   1217 -0.105630  0.608733\n",
              "electronic_check           0.455890   1893  0.185922  1.688682\n",
              "mailed_check               0.193870   1305 -0.076098  0.718121"
            ],
            "text/html": [
              "\n",
              "  <div id=\"df-373287f3-a301-48ac-98a3-0fb8cf3030d2\">\n",
              "    <div class=\"colab-df-container\">\n",
              "      <div>\n",
              "<style scoped>\n",
              "    .dataframe tbody tr th:only-of-type {\n",
              "        vertical-align: middle;\n",
              "    }\n",
              "\n",
              "    .dataframe tbody tr th {\n",
              "        vertical-align: top;\n",
              "    }\n",
              "\n",
              "    .dataframe thead th {\n",
              "        text-align: right;\n",
              "    }\n",
              "</style>\n",
              "<table border=\"1\" class=\"dataframe\">\n",
              "  <thead>\n",
              "    <tr style=\"text-align: right;\">\n",
              "      <th></th>\n",
              "      <th>mean</th>\n",
              "      <th>count</th>\n",
              "      <th>diff</th>\n",
              "      <th>risk</th>\n",
              "    </tr>\n",
              "    <tr>\n",
              "      <th>paymentmethod</th>\n",
              "      <th></th>\n",
              "      <th></th>\n",
              "      <th></th>\n",
              "      <th></th>\n",
              "    </tr>\n",
              "  </thead>\n",
              "  <tbody>\n",
              "    <tr>\n",
              "      <th>bank_transfer_(automatic)</th>\n",
              "      <td>0.168171</td>\n",
              "      <td>1219</td>\n",
              "      <td>-0.101797</td>\n",
              "      <td>0.622928</td>\n",
              "    </tr>\n",
              "    <tr>\n",
              "      <th>credit_card_(automatic)</th>\n",
              "      <td>0.164339</td>\n",
              "      <td>1217</td>\n",
              "      <td>-0.105630</td>\n",
              "      <td>0.608733</td>\n",
              "    </tr>\n",
              "    <tr>\n",
              "      <th>electronic_check</th>\n",
              "      <td>0.455890</td>\n",
              "      <td>1893</td>\n",
              "      <td>0.185922</td>\n",
              "      <td>1.688682</td>\n",
              "    </tr>\n",
              "    <tr>\n",
              "      <th>mailed_check</th>\n",
              "      <td>0.193870</td>\n",
              "      <td>1305</td>\n",
              "      <td>-0.076098</td>\n",
              "      <td>0.718121</td>\n",
              "    </tr>\n",
              "  </tbody>\n",
              "</table>\n",
              "</div>\n",
              "      <button class=\"colab-df-convert\" onclick=\"convertToInteractive('df-373287f3-a301-48ac-98a3-0fb8cf3030d2')\"\n",
              "              title=\"Convert this dataframe to an interactive table.\"\n",
              "              style=\"display:none;\">\n",
              "        \n",
              "  <svg xmlns=\"http://www.w3.org/2000/svg\" height=\"24px\"viewBox=\"0 0 24 24\"\n",
              "       width=\"24px\">\n",
              "    <path d=\"M0 0h24v24H0V0z\" fill=\"none\"/>\n",
              "    <path d=\"M18.56 5.44l.94 2.06.94-2.06 2.06-.94-2.06-.94-.94-2.06-.94 2.06-2.06.94zm-11 1L8.5 8.5l.94-2.06 2.06-.94-2.06-.94L8.5 2.5l-.94 2.06-2.06.94zm10 10l.94 2.06.94-2.06 2.06-.94-2.06-.94-.94-2.06-.94 2.06-2.06.94z\"/><path d=\"M17.41 7.96l-1.37-1.37c-.4-.4-.92-.59-1.43-.59-.52 0-1.04.2-1.43.59L10.3 9.45l-7.72 7.72c-.78.78-.78 2.05 0 2.83L4 21.41c.39.39.9.59 1.41.59.51 0 1.02-.2 1.41-.59l7.78-7.78 2.81-2.81c.8-.78.8-2.07 0-2.86zM5.41 20L4 18.59l7.72-7.72 1.47 1.35L5.41 20z\"/>\n",
              "  </svg>\n",
              "      </button>\n",
              "      \n",
              "  <style>\n",
              "    .colab-df-container {\n",
              "      display:flex;\n",
              "      flex-wrap:wrap;\n",
              "      gap: 12px;\n",
              "    }\n",
              "\n",
              "    .colab-df-convert {\n",
              "      background-color: #E8F0FE;\n",
              "      border: none;\n",
              "      border-radius: 50%;\n",
              "      cursor: pointer;\n",
              "      display: none;\n",
              "      fill: #1967D2;\n",
              "      height: 32px;\n",
              "      padding: 0 0 0 0;\n",
              "      width: 32px;\n",
              "    }\n",
              "\n",
              "    .colab-df-convert:hover {\n",
              "      background-color: #E2EBFA;\n",
              "      box-shadow: 0px 1px 2px rgba(60, 64, 67, 0.3), 0px 1px 3px 1px rgba(60, 64, 67, 0.15);\n",
              "      fill: #174EA6;\n",
              "    }\n",
              "\n",
              "    [theme=dark] .colab-df-convert {\n",
              "      background-color: #3B4455;\n",
              "      fill: #D2E3FC;\n",
              "    }\n",
              "\n",
              "    [theme=dark] .colab-df-convert:hover {\n",
              "      background-color: #434B5C;\n",
              "      box-shadow: 0px 1px 3px 1px rgba(0, 0, 0, 0.15);\n",
              "      filter: drop-shadow(0px 1px 2px rgba(0, 0, 0, 0.3));\n",
              "      fill: #FFFFFF;\n",
              "    }\n",
              "  </style>\n",
              "\n",
              "      <script>\n",
              "        const buttonEl =\n",
              "          document.querySelector('#df-373287f3-a301-48ac-98a3-0fb8cf3030d2 button.colab-df-convert');\n",
              "        buttonEl.style.display =\n",
              "          google.colab.kernel.accessAllowed ? 'block' : 'none';\n",
              "\n",
              "        async function convertToInteractive(key) {\n",
              "          const element = document.querySelector('#df-373287f3-a301-48ac-98a3-0fb8cf3030d2');\n",
              "          const dataTable =\n",
              "            await google.colab.kernel.invokeFunction('convertToInteractive',\n",
              "                                                     [key], {});\n",
              "          if (!dataTable) return;\n",
              "\n",
              "          const docLinkHtml = 'Like what you see? Visit the ' +\n",
              "            '<a target=\"_blank\" href=https://colab.research.google.com/notebooks/data_table.ipynb>data table notebook</a>'\n",
              "            + ' to learn more about interactive tables.';\n",
              "          element.innerHTML = '';\n",
              "          dataTable['output_type'] = 'display_data';\n",
              "          await google.colab.output.renderOutput(dataTable, element);\n",
              "          const docLink = document.createElement('div');\n",
              "          docLink.innerHTML = docLinkHtml;\n",
              "          element.appendChild(docLink);\n",
              "        }\n",
              "      </script>\n",
              "    </div>\n",
              "  </div>\n",
              "  "
            ]
          },
          "metadata": {}
        },
        {
          "output_type": "stream",
          "name": "stdout",
          "text": [
            "------------------------------------------------------------------------\n"
          ]
        }
      ]
    },
    {
      "cell_type": "markdown",
      "source": [
        "For example:\n",
        "\n",
        "A customer that has no partner, no kids and has a month-to-month contract would be very likely to churn.\n",
        "\n",
        "On the other hand, if a customer has a partner, has kids and has a 2-year contract, we would be pretty sure they are going to stay and not churn."
      ],
      "metadata": {
        "id": "T41b2Y0zwbBr"
      }
    },
    {
      "cell_type": "markdown",
      "source": [
        "# 7. Feature importance: Mutual information\n",
        "\n",
        "Mutual information - concept from information theory, it tells us how much we can learn about one variable if we know the value of another.\n",
        "\n",
        "A way to measure the importance of categorical variables.\n",
        "\n",
        "- https://en.wikipedia.org/wiki/Mutual_information"
      ],
      "metadata": {
        "id": "8HYbBujT6gdz"
      }
    },
    {
      "cell_type": "markdown",
      "source": [
        "**Example of the relationship we are interested in:**\n",
        "\n",
        "How much do we learn about churn if we observed the value of contract?\n",
        "\n",
        "If we know that a customer has a month-to-month contract, how much do we know about churn?"
      ],
      "metadata": {
        "id": "xrdLgC287q83"
      }
    },
    {
      "cell_type": "markdown",
      "source": [
        "### Gender"
      ],
      "metadata": {
        "id": "dUyJ8EYD9NoX"
      }
    },
    {
      "cell_type": "code",
      "source": [
        "mutual_info_score(df_full_train.churn, df_full_train.gender)"
      ],
      "metadata": {
        "colab": {
          "base_uri": "https://localhost:8080/"
        },
        "id": "LNMugqkysFxB",
        "outputId": "ea9267ef-5a99-44e1-bdc5-efd0bfde4562"
      },
      "execution_count": null,
      "outputs": [
        {
          "output_type": "execute_result",
          "data": {
            "text/plain": [
              "0.0001174846211139946"
            ]
          },
          "metadata": {},
          "execution_count": 34
        }
      ]
    },
    {
      "cell_type": "markdown",
      "source": [
        "We see that the value is very low, meaning that gender is not informative.\n",
        "\n",
        "If we know that a customer is female, we learn nothing about whether they're going to churn or not."
      ],
      "metadata": {
        "id": "lHeoV-EO9V63"
      }
    },
    {
      "cell_type": "markdown",
      "source": [
        "### Contract"
      ],
      "metadata": {
        "id": "gyRga_ub9KmI"
      }
    },
    {
      "cell_type": "code",
      "source": [
        "# How much do we learn about churn by observing the contract variable\n",
        "mutual_info_score(df_full_train.churn, df_full_train.contract)"
      ],
      "metadata": {
        "colab": {
          "base_uri": "https://localhost:8080/"
        },
        "id": "fkpkhzansF7-",
        "outputId": "c7d14df3-843e-4bb4-fd11-88aaaca70f19"
      },
      "execution_count": null,
      "outputs": [
        {
          "output_type": "execute_result",
          "data": {
            "text/plain": [
              "0.0983203874041556"
            ]
          },
          "metadata": {},
          "execution_count": 35
        }
      ]
    },
    {
      "cell_type": "markdown",
      "source": [
        "On the other hand, for example if we know that a person has a month-to-month contract, we learn a lot and can tell if the person has a higher risk of churning.\n",
        "\n",
        "The information we get from learning about the contract is far more important than we get learning about gender."
      ],
      "metadata": {
        "id": "gwtOOt0D9uB3"
      }
    },
    {
      "cell_type": "markdown",
      "source": [
        "## Apply metric to all categorical variables"
      ],
      "metadata": {
        "id": "ABrYQl0R-Yue"
      }
    },
    {
      "cell_type": "code",
      "source": [
        "def mutual_info_churn_score(series):\n",
        "  return mutual_info_score(series, df_full_train.churn)"
      ],
      "metadata": {
        "id": "pl0dJdh5-mLz"
      },
      "execution_count": null,
      "outputs": []
    },
    {
      "cell_type": "code",
      "source": [
        "mi = df_full_train[categorical].apply(mutual_info_churn_score)\n",
        "mi.sort_values(ascending=False)"
      ],
      "metadata": {
        "colab": {
          "base_uri": "https://localhost:8080/"
        },
        "id": "cR9b-uPzo-0n",
        "outputId": "d26608b1-3853-457e-9d6f-108f764cb2ee"
      },
      "execution_count": null,
      "outputs": [
        {
          "output_type": "execute_result",
          "data": {
            "text/plain": [
              "contract            0.098320\n",
              "onlinesecurity      0.063085\n",
              "techsupport         0.061032\n",
              "internetservice     0.055868\n",
              "onlinebackup        0.046923\n",
              "deviceprotection    0.043453\n",
              "paymentmethod       0.043210\n",
              "streamingtv         0.031853\n",
              "streamingmovies     0.031581\n",
              "paperlessbilling    0.017589\n",
              "dependents          0.012346\n",
              "partner             0.009968\n",
              "seniorcitizen       0.009410\n",
              "multiplelines       0.000857\n",
              "phoneservice        0.000229\n",
              "gender              0.000117\n",
              "dtype: float64"
            ]
          },
          "metadata": {},
          "execution_count": 37
        }
      ]
    },
    {
      "cell_type": "markdown",
      "source": [
        "This is actually the kind of signals that ML models pick when training. It learns these kinds of patterns and it's what allows the model to actually make predictions later when we don't know what the churn value is for particular customers."
      ],
      "metadata": {
        "id": "-QLHm_fi_miK"
      }
    },
    {
      "cell_type": "markdown",
      "source": [
        "# 8. Feature importance: Correlation\n",
        "\n",
        "What about numerical columns?\n",
        "### Correlation coefficient\n",
        "\n",
        "- Way of measuring the degree of dependency between 2 variables.\n",
        "\n",
        "- Denoted by `r`.\n",
        "\n",
        "- It is a number between -1 and 1\n",
        "\n",
        "  - If negative, as value of x increases, value of y decreases (called negative correlation).\n",
        "\n",
        "  - If positive, as value of x increases, value of y increases as well (called positive correlation).\n",
        "\n",
        "- If a correlation is between **0.0 and 0.1**, it is considered a **very low correlation**. Meaning, and increase of one value **barely** leads to an increase of the other variable.\n",
        "\n",
        "- If a correlation is between **0.2 and 0.5**, it is a **moderate correlation**. Meaning, the increase of the value of a variable **sometimes** leads to an increase of the other variable.\n",
        "\n",
        "- If a correlation is between **0.6 and 1.0**, it is a **strong correlation**. Meaning, the increase of the value of a variable **often/always** leads to an increase of the other variable.\n",
        "\n",
        "This goes for negative values as well."
      ],
      "metadata": {
        "id": "0p5kF_cuABF_"
      }
    },
    {
      "cell_type": "markdown",
      "source": [
        "## Correlation between numerical variables and churn\n",
        "\n",
        "Let's take `tenure`, which contains real numbers ranging from 0 to 72\n",
        "\n",
        "**Positive correlation:** More tenure leads to higher churn rate\n",
        "\n",
        "**Negative correlation:** More tenure leads to lower churn rate\n",
        "\n",
        "**Zero correlation:** Tenure has no effect on churn"
      ],
      "metadata": {
        "id": "jpoT5MHLOupF"
      }
    },
    {
      "cell_type": "code",
      "source": [
        "df_full_train[numerical].corrwith(df_full_train.churn)"
      ],
      "metadata": {
        "colab": {
          "base_uri": "https://localhost:8080/"
        },
        "id": "d_PcylcC-7JN",
        "outputId": "2b486c64-eb06-48b3-8e53-da8b5b4ad8ac"
      },
      "execution_count": null,
      "outputs": [
        {
          "output_type": "execute_result",
          "data": {
            "text/plain": [
              "tenure           -0.351885\n",
              "monthlycharges    0.196805\n",
              "totalcharges     -0.196353\n",
              "dtype: float64"
            ]
          },
          "metadata": {},
          "execution_count": 38
        }
      ]
    },
    {
      "cell_type": "markdown",
      "source": [
        "- When tenure increases, the longer the customer stays and less likely they churn. (Tenure increases, churn rate decreases)\n",
        "- The more people pay, the less likely they churn. (totalcharges increases, churn rate decreases)\n",
        "- The higher the monthly charges are, the most likely customers are to leave. (monthlycharges increases, churn increases)\n"
      ],
      "metadata": {
        "id": "LGwbnZ_YPiKs"
      }
    },
    {
      "cell_type": "markdown",
      "source": [
        "### Tenure"
      ],
      "metadata": {
        "id": "YFUhWpr8Rhm1"
      }
    },
    {
      "cell_type": "code",
      "source": [
        "# Churn rate for customers who were with the company for 2 months or less\n",
        "df_full_train[df_full_train.tenure <=2].churn.mean()"
      ],
      "metadata": {
        "colab": {
          "base_uri": "https://localhost:8080/"
        },
        "id": "ERfyEXydPaXB",
        "outputId": "bc48910e-0e98-42f0-e400-752474843f63"
      },
      "execution_count": null,
      "outputs": [
        {
          "output_type": "execute_result",
          "data": {
            "text/plain": [
              "0.5953420669577875"
            ]
          },
          "metadata": {},
          "execution_count": 39
        }
      ]
    },
    {
      "cell_type": "code",
      "source": [
        "# Churn rate for customers who were with the company between 2 and 12 months \n",
        "df_full_train[(df_full_train.tenure > 2) & (df_full_train.tenure <=12 )].churn.mean()"
      ],
      "metadata": {
        "colab": {
          "base_uri": "https://localhost:8080/"
        },
        "id": "K4iWvNtWQXWq",
        "outputId": "5277ef65-8b38-42be-8ad3-baea8ef1832d"
      },
      "execution_count": null,
      "outputs": [
        {
          "output_type": "execute_result",
          "data": {
            "text/plain": [
              "0.3994413407821229"
            ]
          },
          "metadata": {},
          "execution_count": 40
        }
      ]
    },
    {
      "cell_type": "code",
      "source": [
        "# Churn rate for customers who were with the company for more than a year\n",
        "df_full_train[df_full_train.tenure > 12].churn.mean()"
      ],
      "metadata": {
        "colab": {
          "base_uri": "https://localhost:8080/"
        },
        "id": "PFrjPLofQtuk",
        "outputId": "251ecef4-92ad-49f4-b890-5c62bcd32077"
      },
      "execution_count": null,
      "outputs": [
        {
          "output_type": "execute_result",
          "data": {
            "text/plain": [
              "0.17634908339788277"
            ]
          },
          "metadata": {},
          "execution_count": 41
        }
      ]
    },
    {
      "cell_type": "markdown",
      "source": [
        "![image.png](data:image/png;base64,iVBORw0KGgoAAAANSUhEUgAAAWwAAAE1CAYAAADDHtqGAAAAAXNSR0IArs4c6QAAAARnQU1BAACxjwv8YQUAAAAJcEhZcwAADsMAAA7DAcdvqGQAAP+lSURBVHhe7F0FgFzV1f7GZTXuIUYIkpCQYMESCO4EdyjuLdaWttCWn7a0RQotUgoU9+LuEiAhwUmAuOv6uP3nO/e92UkIluzM7Ib37d55fv1+99xzzbVi6fQc1hn81DIu25q1W+fin6vVlA50yzaFcIspvE9/Zy1jhekHwSVvupBJZyVcHng8Pvn029wsNdqDHxw4cNBWcMUj838oM30LbHJrtYZnhTSh17whJ9kc6a2U+DbXeN82hB0G2/wwsPJhmDweL+SAbJbELZXBD7eiKFDnteJYE6wwrVMHDhwYSIHJrbXQtq/y4oq2zG5bahHWImllMlmNAK/XC6/Ho/fyEcKDRkIpY+K7gkl/fNvz7/Yjn3okjKtWrUTA70dFZRjJZFII3K1k/p3OFhWU/AUk7e8OggMHDjoIXNHmr3OCdSzU1kcWKaiEKUTtD/gRCIT4APFYVMg7LecuITFD3IRRi9iOFrKafY9YC9sVPl4b1vKJwiXVRVYqk1xGL0morS8X+oWwz+X4bfZZcLndEqYM9t9vf2yz7Rj86S9/QWP9Kgl/wHrjuyB++h771xUiF3yf1wvwfZHqwMFPBT+k1JSvvLgizV8qYa/phe/2NunAHNleoDSdSqURCoURDNcgGYugrm6VElm3bl3knZxKnW63R7+ie26bsC2HtdKwYNvOO9bj/Pn3RafSlLxo7KNNcieXRTKVRFVVFdzesNxPIxlv1vs0xma3nEPD4na5kaFqQ/68Pq88WwssDwUDQbz73nvYYaeJ2HvPkXj22WcQjUa1GaVBLIR8s1qzq+C0KKD73+uG7ck1PevAwU8JdkH5IYWyfGVGla3qLH8K3LcJp9UY8tM/uWawaFxiBUmrU5eeWLG8Dv/3+yuxww67YPPNR2HgwDE46qhjkYgnEfAHlKRtkiRxuYTIjRGPCEl6PV49z+ZEInfxvYwaqoRVIqa7wqo5qle+xVCfrBWCSL4eq4LweH2o6dQfb7z+Ds4+4wxc8bsrEIkkrAqEfqK9Qs6eICoqOsk9H6prOqOqpsbYKRVPbk0Duid+9wYxZ848dad/vwFinReZdE6InzYL2ecoyYs7cqQbem0b7fikH+RZmxpWWwyXuMdI+05D2EcHDn6qKCwL32cI+1hakDEMWhlYjRJ03lAfK0ZIUI18xutshh+IJUK01/7tamy11WhcceV1aGmO4MQTTsAvfnEK/vfkO7jmmn/AF+yEtEiv4cpakcRD4pZQittlkSFJVujN60cgVCU2CuGl0+KGWi/uZNSQiPVegd+MDwR8wGuxy+fzwx+sVNImKfu8AVzz16uw2x5H4eZ/P4o/XHkzXnrpFXmnQlU0dJtaG3+oM67+yzU46KBDsXD+IqxYtgI+v18sF1csv+Rh+Z/kPnXqh3pr6NBh8p6JUlM52RFKqMfXYggJS5v/tdr+/aA/HeOYn7r5MVjb98U3wi4FxVpJkGQs9/LvtJ6rJJrla26VIimBUoVwwvEn4OJfXo2+ffvgkQdvxdRpH+Ca66/Fn/96K447+gA8//wrYgFVDF55/hBmfj0HQSFU4WqxUyRrIVSXy48bbvgX/vrnP9Ej2pGXJfkKYQYrOguZ1lh6YXkmRKwSuhzD4TC8Pp9K6DRUyyxcsBinnvwzfPzxZ/Jdf/zrX7fgokv/hJ5dKzBmpJAqfaOqbIkAsYO69YqKaixZuAA33/RvTHpnKvbd90BMmLAn5s2dj1CQahRxWQjabRmSsVck93i0Ae+/974+HzJkCN/Sc76rrQH+8ajkXQC+VjQjP2rk3IEDBxsMLAk7X9KNIUlTUlTTem7I3IN0Oouq2k6oW1mHww47Avc/9Cou/PkJeP31V3HQxMNFws1h5fLFYlczjj/uWCErOUUQL774Mg4/6hw89dSzcPs6IZXKIplIi/Rdizvv/C8uuPBK3HTzrUqmbnGHcmI8nsDFvzgXEw/eF0uWLEFYpPOMJZVz9ElTU5Oci5RMJ+R9j78S77zzLm7/79NYtGgpPv3wDZx7wRXoVOXTCoFqG6+Q9Lbbbo+Wxkb9imTq9gXw8MOPYN6iOgkf8Mnn88Usxr333q/PGAZWIFS5ZKXWSqVT8AUq8PlnX+D997+CTwh64MCBSMajWgHYJK1EvQZXE3q7aKbAbSapAwcONgiIqEq1giFqbUhLGSdJr64Osc4tVQjfpTrk7LPPw4uvfIjLfnkqrv7b9aipqUSsZSnSmSiCIZHCU43YavRw9OnTE/FIPT766CO6iR122EF+U/IexVwPVi1fIlLwzfpsyxEjpTKoRTwRR0V1jUjnL4q0fj+++PwLIdKUVjGJeFwk9CCefPJJbL755njiiScQrqyW57TPJRWBis+IxZI49bQzVIq+4847hdybMXfRMpx2yjEYJNJwJBrV93wizWeScTz37HN6La/Db9Tf+Oyzz5EjOYs0TTbkKBgSNyfKACG8/PJroGtbbz0UQ4cORSKRsOKKFZ11XAvkkRqqTopiJBD0h0lP46YDBw46NliqlTgMg5ibRKGURkHNNpQwK4VI7/7vXXjg4Zdx2CG74neXX45I80q0RJrFDjJEBsKBQpwkbi9OOfUEkbpdWL5imZAJ0KtXT3knhWAghNouA1Sf/OkX89ULu00YL8986i699+ILL+n9Bx58AAMGDUOTSMUVlVWYPWcuLv3lr7FkWU6JmN8YeJDRigC45ZZ/Y8q0L3HKiUdg6MZDceaZ5wgRe3Da6aciLQTNyS6ppPjVF8SsWXPxwQfT2E2IuEjYffp01/OVK1ep2ocqGqpg3PK9x+2D3x9CItIolcYz6tbuu++OQLgG6ZRUKnl53wav126087LNjUm3PApOHThw0HFBYUwI0SJtu2C38okY+VHDIW8ZnRzSUFePq6++GjWVbvzf//2fEJh8LO9wkgxB+wxhUHbPYfy4XYTwPPjs00/Ru2cQlVVV8tyNJUuWYtKbL+KOO+7S7zYe1A2HTpwoknmz6qmb6usxadK76N3Di42HbIxkrElHnPiDVXj2mecxa04ztt9mEA488ECkE01qB3XlHGJIvP7WNPTrXYvTTz8dZ5x5JtJSAfzlL5djy61GIhqNobKCUrn4012Jdye9h5UNcQQChvgPOfgQdO0aQl1dndiXypMvJVdSMXXer772Oia9/xlCUhnts8/ecj8tpN5K0wYmHr5h8vFaTCNOOXDgYIMBe+9MwV6zcJN31uCeVDoNj78KkydPwRdfLsexxx6OwUMGK6lRb2vssD8kaRuJPBqLIRqJYeHCJSK59kWXboPwxquvYsKEvbDzrgfgtVffVSI86qij0LvfRojF4qgSKX7p0mX48ssV2GKLEQgGQ4gIyXbr1hML583DnXferRXDGWecie4isXPssyFTcc9SdRADBgzC5ZdfgTff+QDHHHEgzjzjdDQ3rBIJmcTMyTysZLz46ONP9X2qWliLbbnlltrJGY/HVcImtLWRpfRq1C4PPfiw3h83fiyGD98CqUSLtCRMpfW9aI2m4hkHDhxsUCDDrR1rI3G99uGpp4wa4KijjhYbhODcppNNoQcjhaqR63C4AqtWrcLcBU3YYezOmDd7OvbZeyKam1qw/z67IiXvHH34/rj00ksRaTYdgXCH8fY7k1Q/fNBBB8MXrBAyDGL58lU44YSf4ePPFmDo4G4i2e6LWEtER4qozlYcrBfJXK0QAn9r0od47sU39XrrbcbAH67WoYS2Lp7HXKYF06aZoXmJeAJ9enbFZptthqRI1tSLq25c7Kb1nIATlhbCG2+8gUcffUzccOGkE09CqLLamhz07VG6GhhPxTYOHDjYoPAD2cWAKo9cOoKpU6ehOuzCpptuimwqUiBVWiStMOc6NM/nF2l5ud7t23cAzjvvF0hmPXjooUdw5BFH6P0995yAUEUIaSFEeyr7G6+/pSQ5Zsw2cu1HQEj7lJ+dgdffMuQ6ePBQdOnSRaVgs14JWcoj0nxEn++7147YcouBOHzi3iJJUx3yF9SvWqRStJnAY/y2amUdFi9apN+0JJIYOXIkevfpg5hI9PQHJWwXo0oka4/bDDe87bbb0CyPx26zJfbae09EWxokflhxqTUOHDhw0Ob4EYTNFek8aGxsxPx589GrdzdUVJiJJxzmpvy8FpAUPVanHvHc8y/i6edew8nHH45d9zhAJNXX9f6gwQOFrIV4fZzoYiqGjz/+GL26h3V8c0qenXXG2Xj2xbfRq1tn/WbwoCHCz0Ly6ZRKvlRhpOLN+GDqVJV8r7/+WrzwwnO474H7cPyxB2PR0ia5fgGBcKXVPZeF1++TymQJFi1apnMOia233lqnsbNlEInEEI3G4fJ4RYJOo6K6Fk898Tj+979XtBI477yzUVXbTfwnFQ0lcapN1jAOHDhw0Bb4Ue13jpKgyiAmEm11dbXqgSkNs4OQRGVQwNxySwkrl8GXX36lt1569W0M6t8Nf7maE2RymDt3jt7v3bunEG9Sx1S73CIli3S7ZPES9O/XX6e1n3na6bj9v49i4oF74uSTT9ZvzEQVM/GFHaK+YLVUAG/irUmfY+TwARg4eDBqaqvkFR+OOfYo/eZ/jz+h35jJL1n4JAxfff01Yinjc6pVdt5pR1RK+Dp16oSGhoRWUvyGo0nqVtThyj/+SVU1Rx2+Nw474hCkE3Uq4TvU7MCBg2LiR6lECJI2xyCTJF2qhuD6z2uK1+aaBKbPXO68yoFEec45Z6JT125Ix1eiqakBXnmFahVOP7f5nuNLOIRusZD2wYdMxJ13P45tRw/FXXfdJe8aWbhT51r5NXpoHe6Sc+P555/XZ5sM3UQeeYRw66SSqRcJfpBI4G58+NEnIjU3mconmZQ3fVi4cKF+Q0VM356d5F2uCeLCgIEDkJCbqs7JeRAMd8X1192ADz6cjT49Qipd57KU7kUCl/ctrztw4MBBUfCjCJsjJDh2muqCVavqEG2JgmpjkjYnwXAUCUkwkaCkLO/LM47CSMbiWLTYEPao4YNx3PFHIZduhjcoJJ1LC5HCGk4nNC3Ex2F5ldWdcPhhR2DpyqjqrI88bIJIx48iUNEFy5cvUbsqKyvkl7rorEj7frQ0L8VLL72sz4aPGC6/1K3nEI9HsNFG/bDttlti5sylmDN7Lvw+cZQzOoVm5883hE1svfVo9OzVHcgkMHbsdnrvzTffRiZXidv/fRP++Kd/qi7/b3/7G0aPHo3m5mY6If+OfO3AgYPi4kcRdjabRjgcEkLrhZmzV4j02oCKikohTJcSOXW+1bVdxHQV6dinpM0RJIlEPE+yxxx7JLp064RYrEWu3EL+YQifqw7aSKlmll5WpNbf/OZXuOHaP+LxR2/Hf26/zag30AQdiSfwUjQXomQnYCAYxOzZs/DllwtVih81akt5Fhdp3Kht3O4KbL/91vrda6+/Ll95LYrNYJEl/VNI33HHbeGTigRICHmPVL+8/MrLeOi+2/DLX/5a9es/P/cEHH744VhVt0o7Lan2MdI1bWwlbofEHThw0Jb4UYTNCSTeYBV22WUnCqa46667EU9SJeLWzrllS1dg2pRp+GDyFCHJnC5rSjKrqAgLsbnRuSaAY487EqlkTCRxYWmRjkdQEhaCnTZ1qnYach1qSrCxeBRV1RU49cyzsOc++8q7OZ2STlRXV+oxFuNokJyuLcLhhfPmzlUVxubDumObbcYgKZI19exGZZPFQQcdqNcXXniFuPc+qiqrEI/FUF9Xp/b17h7CXnvvLlYmEY22YLvttsHOO26GKR98ieNOOhuRuBvnnHkM/u+qP0prgkvG+pXkjdpHLMgbIWpr2ViLyR04cOBgvfEjCDsnUrP85qI4/vhj0L1LEJf99mocctABOO20M3DAAQdj/PjdMHbH/XHgAYcKeS9DSKRvqklIWpdf/jvcffdN6NSpRtfjoBScTrbg5JNPwo7bD1WS1tXwhOWoeqGOnKS4avkCNNUvh1luleznVvUGMWPGdPnNmlEluZQu2xoMBrDvfvugc7cuSCYS4JrYAX9QpPx6jBi+Ba6/7nKcd95x6Ny5swTGhZhUNJz4Q2yz7dYYOHAjpFMJddvv9+KGG67H4YeOx+67boV//uMKJWtWFEmpdPhc1+smOcv332YcOHDgoC2gW4RZ598PIUwu+sSFll579U38/IILMHOOIbtwwIXu3asxbtwuGL/rOOy15+6qjuCQO0rZYZGyScZRITuqPXiPDlOXTKmaz8waIDmdHUkypV6a5yRe2pVIJhAOhTF//nyMGrUbxo0fgSeffgaNdSt14kxaSP29d9/FyJGj0LVrV20RkEpJ9NSxczx1TU2tnAeFlBukBVCBloaVGD58OFY2ZPHs0/dg/Lgd5buETpahD6nm4ZC+TCoJj7jBSTocxkhViVGF2NH3w6PRgQMHDtYFP5KwxZBL5SRU0QUtjfWYNWs2OHOQw/x69uyBiuru8hJ10HWIRCNmyJ8QJj/leiJZa1KMoWujszbEbjYoIEFzkoo/GMLCBfOFWNPo1auHki6lcqpKampq8Oqrr8qzFCbsvjsiQqKGQIHqTl1Eam7Sjk+jsuBwO6pNuCRqWgi/As888ywef/wJbDVqlM5SvOOOO+hFnPfzX+giVnRHR53wX44q/ctfWvyuFQ0dslFwrmEqeOTAgQMHbYkfR9g2hMQovYY4XTwQRi5DKZpTuNOWVJuz1BTsqLTX4eD4amFAuakSqsttXRsZlSRNXTjX6OA07wfuvU/XAOH3N954Hfbee0/EEyKdu9jJmDW71shXzc0t4haJmWOrWTmwYqBkHoA7FxX7hGTlTe52w6F8Xo8Pe+65F957b7pWDhMP2hUXXXQxqqoqRZr2o1PnGng8YokF2qlX1q3VyJqQy2/cKwIkmvLQBREdOHDwk8M6EjZJSshMSJLkTaKmRGqvVMdfWsp3Usm0Srd+n0eet5JbK2Hzml+4hEDdIhWH8Morr+GQiUcjnfXrCI/ttt4ETz75mJBqSOwV+zJmLRCSMQnY7fVhxfIVqK+rR52YhYsWYv78udhLiHnEiC1VlcJ6IxgKC1FPxk47H4CjjtgDC+bPx/sfzNQKIBygjt6Nf/3zLzj6uJ+hsW6xTqrRSoAw3taDHT79te63FWxitkmZ14VOaEy1sZsOHDjoGLDY6EdCCENJSyRlStZeITqSMR9QAiaj6FA6ucmp3FU1PeAPmL0RldjFGJh3aSh1c4icMKRI1P9EPOnCpRedgdFbDsY7Ig1zIwEuAMXRJyRfqjy4RdfkyVPx+yuuxFFHHoeDDpqIPfY+BqefcRmeevJJJeBMlioYOpXTmYpT3p/MOgannXoqbr/jdpxx6mEYt9NwbLrpAIwbtw023niotBiiOmlHKyQJKeuUvCqk4Lgak64nGCN0zSth83GYooQzIOdey5msFWUOWTtw8NPFuknYhVDmNmtlU2LmRBmO19YJM8ks3nxjElauXIHxu+6Inj27i1SclE+EmuQ7w9t0nlPeU6jt0gevvvQidtvjMGwxrB8+nT4Dl1/2K/zhqn/gqj/+Ar/6zW/R3LBc1S4c6/30k49j4qFnqA00lSEXTjrpaOy7397YacftdZGnWDymI0XoRiBQgUMOnohXXn0TX3/9KbqLf7jLeSoeVf8HK6hmySLS1KRkb1oQYrdUJkrQRQQlaVYtOcahVFr+jJA11Tnir7RXKh76RzzjYoVhva8nDhw4+MlA5eL1gjAHdcPhykodiseV80IVNWiob8Gpp5yFgw8+ESf+7CL85z93wh/srJ2LStb6MX9JjF6RloNCmm7ccYdZ5/qss86RZ2FszCnmgo8+MutVh6u6IRiuwaMPP6qr/lVUVaJ7lwrtKOzZsxt+97vLsefeB0tlkUIkEhE/uS3p3afrk3z99Uz06NEFleLfupUrUb9ymfo5nU6joa4OkeZm7WRUKTpPijyxTREg1mbEvVjQi/eal+KmT97GA/M/xQy/hKGmAgiayTmsNOgd6t4drnbg4KeH9SRsQ2DUJ8+eNQuNDU0i1YbRWN+Io48+Ho898RqGDt1I35kxnYs/USXCzkX5TozhRKotckKg1fj0o6l4+KEn0a9XJ0w87DB5P4EhgzdWSXzOnHloEnvfnzQJJxx3PH522sXYZZfxmPLuy7jn3rsxbEhfzJyzHFOmTJbvkmJ3Fl5r2Veec4svokH82KNHD+20pD+4y7rfH0BICJyrD/IeJ+Lo6BbSYgl0ECRjtk7iyOChd17H7x+9G5c8fAfOufOf+M/U1zEr2ohswIe0hINkrWFh5BFFqkMcOHDQ/rBehE3yoB6ZnX2HHXoknn/+JZGi++GPf/gTXnvzYxx60F74zWW/03e5UwwXWsrTn5K1ISuqI7IuHx555DEkRQA/9tjj0b3nALnvwWAh7NpKLtC0BBMnHo7d9pgo0vYnuP/em3DbbbegT9/emLDnQdh///3V2mQyIb8cyscZmOKIkJxympxywg7JmyNYOGWe5Ez1Cs3TTzwplcp0VaMojOf4s4YpBqjqAEJZF8YO2xwn7n8w9pqwJ5bkErjqmYdx/r0346mZn6A54IGHMzelNeCRio9xp0b8qiqSHwj7/R/zjQMHDsqPdSdsITuOrvAF/FiwcDE++nSJStczv3wf11x/J/r37qRqkHff5fZfLkyYMEE+IsGYz0mIbNiTLLn918J5s3D3Xfcg6HPhmGOOQ3NTHSZPegP//Ne/hLhzWLK8GZOnfI5LLzwTb731JvY7gGqPuLUmSdwswiTgWidcH4RSOV1Q4rXc0lEp8kBX6fME8frrr2PnnXfG+PG74shjzsLnX3wBt9cvL1tEaJlWTxcH6lVBIJ3F/puMwkVj98HF2+2PP518Fg7afS98GWvEb/93L6575SksSEfh8no4ThFeCQv/bKyNgNckZp6ycrCNAwcOOg7WnbBZ2GlcXsTj7EgkWVbjxhtv1rWh//rXv6OlJSKE+28MHdRLN+LNps3muvqdBU5m4Vjuxx//H+YvrkMoFMTvr/g9DtzvAB0v/ddrbtS1qol/33odrrjyGnTpUoNI8zKpCLLwB6jqyGH5CrOjjU4552a4heRFcpKD1+NVPXta3OQ7VIEQixfX45STDsY+e++NlqYGlby1o5EflYjU1H/iZFU0he4tCfSLRrGTtzMu2WE//PaUM9Glfx/85/3XcNn/7sb7KxcJu/vhkYrMy2n+8q0mxff4le/Zhu4VRpEDBw7aP1h21w1KajzxIB5Lgrw5d84C3HfvQxg9chh22WUcTjzxBHh8Xlx40QWo7lyjq/Zx9AXBb6mWCAaCiEea5Lv7xQ65DvrwxDPP47W3JqG2phZ/vvIK7D5+R/2mspLSc7NI1c3w+ThBRuwQ1uHEnZUrVilJ19ZyjWxK2AV0pOxE/5qd3Tm2OptKYLfddsOkd9/BtA/fxPXXX4dQOGxel3eplzcX5lAKqDfF+MTtUAaoFuLu1RDBPjX98YdDj8d+43bFqzOn45LH7sR9Mz5Ak7QmYl4X0tS5r8W/36byYLJxmCANX/mW1xw4cNDOsO6ELcWefyzu0UhCiNCFJ554GnWNCfTvPxAXX3IJXnz1LRx0wHgcf/yxiDZTcuU4bf1EwU1rg6EQXnjhJbw/dSZ22mkUnn/hORx39CFC5AFEY1FdF2SbbbinI7BkCZdBDcDlpqrC6KM5CiTS0ixS8mJ0qvLqFPlsisuptgaNzlF/TSLm+iSUsHnOUSRsDXBfSM6Y5Mp9fE4pnOoeLkKlQSwh6BxXVMmI93NSgQV8flRGkxjurcb54w7Czw49HCu8OVz1zEO4+uWHMS/ejJzUXtlUSkfDrIa1+J1vZCRC0mJ4br9iJYkDBw7aMdaLsF1Wked465Z4DlOnfgqf2PjI/57GXfc+gm1Hb4rLLvu1ECDX8qBeQ9639cHs/BOi4e41Dzz4sLzjwn777YMtttwCf7n6Kpxz5omIp6HrTr/++mv6ybJly+Q3rWSqVCMVACX2lpYWneHItbn9/qB2hmrFkAdHfnBsuFslbK78R29Q4o4nEromSbCiViT3GN544y0sXmJmOZYShTplI/2Kn+WcS1D5JZkqYin0TqZx/OZjcd6hx6LzgL7497uv4g/PPoz3Vi1EKuSD1+2FRyoZO1FzcmLsEDA+6AbPHThw0CGxHoQthV9LPyVc7i4uVJrKwOULoEJ3ggF23313IeCRQoRRkWT5MonWfMeFlLj86ptvvYkHHnoRW2zaGwcfciBiLauEVLO4+pq/4rq/XYlEIo23356i3331lRkaSNJVCAHxnPY3NMRQ26lWF43ivpCrUZOc8p7P7xVpuhOWLV8uEnWT6sv5fkNDI/59yz+w55574tBDT8PcuXPlXa5HIvYUWFNqUKVB8mZLJiBkXCEVY1dpzRzYfRh+e9RJmDBuPCYtmY2LHvwPbpn0MpYioUTvknTwsnWQMTNLNaIkIHoq8UBS5wxKJr4dPL7hwIGD9o31ImxTyM0KegS3+zrx2CNx4/V/R2XQj9vvvBOL5s/Vzr10xuo5FJhOPUMiDz7wgJLG+eefhz59esh7CbjdGUSaluPkU0/ErbfeIN9Td83OwSVCvEmRlEnY/IozKz2qWiG4c8xVV/7BTJgpVInIq1lK+CJhDx++GZYsj2HSpEkisa/AP2/4p1Qse+LiS/+CpUvj+OvVl2LnnXdBVKR22l0OJiuUtm2QtD0S3lr57RKNYptUGJeNPwgXHn48fJ2qce3rz+CXj9+Dl1fOQ2NVAEm/Ll6uxMy1BtUGRoSEiSQujR64xdCZNZxy4MBBO8U6E3brcDK3SMEc+8yx1p3x29/+CiecfDoOOGAvzF9Yjw8//Agub1BnOFocrWStuuRkHB999BFCAYh0u4cSr1C56qizuRTqVy3FoUcegcsuu1DVGfPmzUd93XLhXRK2kQ9J/ty8l52QdY0p3HLLrar75loghaBKJJdLigQ9USuAE088CeNEQv3N7/6ORUtiOObIPfDOO8/gtDPPE3KnEsEOX/nwDeIWL7HtQOm5KpFBv3gWR200Cr897ATsuOPOeHHOF/j1o//FbZNfw2JXGi4JJ9VD7MSkPZz2npaTNfXX39Y56cCBg/aFdZewpZCbcp5FJNqkZ1tvMwo9e/fQ813G7azHTz75WH5FxrNGMZDoSbLs+OOGAIceeigGDuym24MZRjfgzuhenwuZZCPOO+8sDN+sHxYtbUFTU1OrSkTs0k0PhIT8fuObrUaP0JEiHN/dipxI7S5Empuwy/idcdUfWQFUqz2nnnwInn7yDtx2x10YtPEwJGINWnHw/fYiehYSNw+UlDljNChBr5TKabuK7rh4wmE4Y+KRQHUY17zwGH79+F14deHXiAS8iLODlkMZM1klaiVsBs9E2eqVggMHDtot1p2wWcjZxEYaK5abTWy547jHR/VFSgjXkKrZfoudgBY7CChhU90Qi7TgnHPOxqOPPQJu7cX7uv609S53UucQPn/Qiz/84XL84Yqfo0+fPrphL2ETf/fu3dGvfx8h6mqcfPLJupYJ79vge6bCyCEZj4qbZ2LKlFd0As71N96AsTtRBdKA5saV5l1WRe2RxDTOzcEmW58wcKglhr7JFE4Yth3+eOyp2HGb7fHijE9w8YO34aZ3X8KCTAzeijC81G2nJS0se2iFbRw4cND+sU6EbbiMq8qRlNNYsmyRFvoddthW1Q4k7EJpeTVakAMfkUA5bI6jMYZusgnc7JSUf6oybMI2a4C4hLSbsN8B++KCX1yk6godbmfZSZLnPpH//e/teODef2HiIYcIKXOcttkAWO2R9zmyhFIzdempdAq9+/ZGtx5dkYpHEGtpVNt00wV7BEp7heU10xlpjN/lQU0yi57RJHYK9sAV+xyLcw4/FpmaSvztpf/hksf+i1cWfY24xLGbMyTFeAqS3sSkAwcO2jt+PGGzZAsRkgwNd3iwauUKVFX4dHPcZKxRX7I0IDpkjmoTQ8JkmVYJluTM5VabG+uVnM3aH/Iaxce8MUP0+E5TwzIzJI8WWyIm192ORJsxcuRw7LH3ntoByne0w1CgZE07+CcWUYLPCGE3N4pE3dQgknhK/WpvvmCTfHtHoRqD46oZtoDESaCxBX3iCZwi0vb/HfkzjB+zHd5fPBcXPnIHrp3yMhYGsshUBKVKlfiWuNDotowNO+odOHDQvvDjCVtKtlmTQ2iY0mjOi02GbYK99toBvXr1QjTGIX5mCrjP68GML78URokbadxigTw5CDlSF0tpWJ8UskYe8kTu852AP6Dkrfd4IvaRgKl+icdjiAgB++U9VgT0m23M+3Kg/VoBcB9Jr0rUWpFY9zsydLy1BIUr+VG3XRONY+fqXrj8gGNwyn4Ho8Xnxj/eeRG/e+I+TF25COmAT5cF4IgRDT6NiVIHDhy0U3gu+/V5V1jn3w+rMFMy44WRWjMYM3o0dt9jD4SCQeU9f4Bk7cX0Lz7EcccdgxGjRiIejZjlTsUOWkOiNIbntrHvkYjNkW+bA1+w3pFLRf7EPOY3ugYISVlflntSIRS8ZmHNO/a1TV0dByRY+p6Gw/T0XCKDVaArlkAoncPwvkPQu18fLIg14Z2Z0/HR7K9RWRHG4B59hdwzukmCRJ5+zNDTDsI+OnDgoH3gR++abncMquAq4LnZZSan+zd6PNQd8z5VEllwynoqlZB7GWuo3Xc5ZwiXZJuwhgEGfB5kMmYKur5B/YVthfrHELQytnVUorH8qrDfz0PfKIB9zRe/8XKHwJohYij0nqRPTOTvaCiIL1wR3Pvea3hu0hvwxZI4YsyOOHbLsdisa2+kWqLwkrTFUFLXTwuiwpa8nRElDhyUD+u1Ca+eCoGSGEUmNjf0aDoDvV4Se0YNSzo59ZugReZ74WXhCy+aGptw0UWX6LTxa6/9O7p22wiJ+DJwz8fVCVtO6LZYbGvUjVTO23ymp2vBmh7hNV/+1g/aPRgCOxRrgnFDlUmkwo8lcv7cos9w7xsvYu6cOdiqtifO2HUf7LLRpuiakco3IxWvVI65gp3jGc32VceNIQcOOj5+nEqEsFiBvGgKsaV+0KLcanSBJt0A1xC1eXdNWO/LQ0roXk8AWVcIF194Ke6+72lMnz4PSxcvRjLRhH79++mMSTNC5Dtge+E7saZv1u67DQEmKlzwSCJ4kimEJU027twbwzbZGE3JOD5ePB9vfv4xlrU0oGvPHqiprNLKjt8xXVXlIoZtI8bS90atAwcOioYfT9g/CDZrfkfxVo40bECpOR5P6fjpm/95E/509b/Qv3cPHXo2edqnSCVjus5IwG/tbdgmUA9YKDzfQGG1cDjr0Z1OoUegCiOHbIIuPbtjbuNKvPr5h/ho/myVrLt36oLKQBC5tFmmliavHvkJRJUDB+0VRSLsHwAp+OQAHRudzqGyujOmTZmKE088FVWVNTj99NMxadJ7SKSSuP22mzBss00QjVobILQpyEA/DRYiYTPSvSTtRBLBVBYDe/TBwMEDkBAR+tMl8/H2jE+xpLFON4LoXFOLoNsDT5pDAK21GX9AVP00YtOBg9Kj9IRtlWY2ujmCIyHEEQiEMevr2TjuuJNR35TCNX/7P0yb9iGmffKJStQDNuqJXcaP01mK7OS0bTCmrdCWdrVTSNwz+l3CvCRtkrE/k0HvcBW2GbQFevfpibkNqzBl9pd4f9YMLIs1oXuvXqj0+OHOSopJWqhqW5hflSaUvuVSSdy2W4wDBw6Kg3XrdFwP2NpRm3izGY4IcePoI47C629Oxfnnnorzzj0HgwdvioEDN8JXsxdgp+23xEuvPKuTcLgioL0Ot5o8Yzj4fpikNlHGbYrlXEiXS91yw4R0OIBPkg14cPJbePnTqVhVV4fhfQZi/2EjsffwMegbrIWPW5Llsjpyh/Zw0KRJUTOqpDAljGsOHDhoK5ROwpaSTLLmzi+UzMwOMH4hiyx+fv6FePypV3HgfhNwy3/uw1NPPIKHHnsGV135O8yY/iGmfjwLhxy0N/puNFj12UoRhUMXFKtdOFgrGEdWPKl0bM7Zh+DLueFNptFVWjsjNhqGjQb2R1wo/ZP5s/H+jM/w9aL5SEqcV9fWwM/ROmRjkbppg3ZMyh+r4AIXHDhw0MYoKWEbqVrIWgq6R5rZWdTgj7+/Ajf/+z5sN2Zz3HTzzajp1A033nANPvzoM9xw/V/R3NKESe9OE5IAJkzYX77mUq7cHsx0ohk5zqGJHwc7vjgKhO0VOZejrpudSMOfzaBPdWdsvfFm6NOzJxqySUyZNxOTvvocX69YDFfAh67VNagOhXXndndG0iJLyduSqU3COHDgoI1RWpWIFOQMRx54fHC5K3HDtdfgl7/5MzbduA/+98TjGDp0E8SjUWy//VjMX7AAixbNkeM8jN1+DzQ1R/DKy49h5/G7oaVxmRA+SYZeF2MrUR38KDDaGIOqGhHDTQ04fI/bkiXlbsrrQSzgxefZJrz81ad459MPMePLGaj0+jG23xBM3GYnjO49ED08IV0J0O/1qqqE33PnG60HxD51xIEDB+uN0hA2S63lishhcl2Ju/97O846+1fo2b0bHn30bmyz/Q7IpeK6n+LgIVtipx1H4Nlnn4Y/VIU/XP4bXPXnm7HdNpviyWeeQtAvkmHOjPFWo3YrNTj4kbBJm2AMFuqheeSGB41BD5rdPixwNeGlj6fgpU8+wMyF89HFF8LY/hvjoK3GYlsh7k4uv65jwtYPZ0tyRUFji0jghY7Y5w4cOPhRKIlKRGciSiGl9JVDGLf/51ace/5v0Ld3dzz00F3YbvvtUL9yGSpru+CDKZNw592P4IjD9sVe++6LpvqV2GqrrfD2W6/inXe/QCxSj/ET9tBp1NxpxrbfwbqBMZfnVQuFfMptyfzpLEKpJPq4gxjdawiGD9kYnbp1w4poCz5eMBvvzPwCX69aipTfg4raanj9Pl1UilNXdXEpK31MN7PYbzmabxiJ4cGBAwffjZIQtpK1tLvZRXX9ddfhV5f9GQP6dsf9D9yB7caOR6R5lY7zDYZrcM9dt+P1N97HRb84A8M2G4WW5jp07tIVo7cagyf+9yReef199O5RhdFb74RUKoJy7bu4ocHmzrWBHYpeoVvqqr2SkD2CVRjWfQA2GzpYZ0fOXLlUhwF+NH8W5q9cAZfXja5VNQhIfcrhg0x3dmzmCZumwLHvctuBAwetKC5hSylk85iE7fHX4pZbbsZvfvc3DNu4J+69978YM2YrNDUuRzAUlJeFDPx+IfRr8fWs+fjD738pRF2DRCKGSEsEgzbeHF26VAqZv4vXXn0Ru+y8DQYNGqhD/ey1rB0UFxSUqdpwpdLwSrz38IWwhRD3FoOHoKKmBnMaVuJdIe5pInUvb2lEdUUFutV2RkBaQ9wMmLu1F0rcNnjlpKADB9+PohM2h++FpeA+9siDOOPMyzBqy0G47/57MWLk1ohEVsDv5y4vVG240dLUjCuuuFIKuhu/+91v5X4KXM+aG/ZmM0mM2XpbuLJRTJ02ExsP6Y1tt99xjck0DooJW99NNUlIJOZw1oWAkHffihqM6DMMg4cMgDsYxLymVaom+Vgk7sZkTNeAqa2s1t1uchxR4jHbwNnE7RC2Awc/DEXtdMwIEZNsGxuasO12O4uk7MLbb78o0vIgNDesQiDIMQmEG35fGJ9//hW23GoXHLDvjnjiyf/pfo5asEUy464xbpd5/4MPpmDo0CHo3LmT7hjjoDSw1Rg8sHOShh2LaUnnhMeFVMiHenk6pWEeHnnvDV13O1bXgE279cJew8dgv5Fj0SdYoR2TOhSQrS9aaB8t0P6iZUoHDjowiiqakmi5Uwx3Ok+mwiI9/xxDNtkc9SuXIxg0CzlxbRAdl+3z44svvtDvRo7cUnzmB3dE1/WupR2uWg8XOy0z2HHHsaiurtbn2k53UBKoOoRMKoYHjgShyXk8CEhWCkdS6BqNY69OA/H7vY/E+fsdgS022wJfxZrwt1efxoWP3o7HZ3yIpdkkEsL2GWk9cfy2h/ptSWBWznZqOqnqwME3UVSVCHXLJNUqIde999oFO+20kxRrbnIgBZRrLluSFQnbH6zGA/ffh7fenoIzTj8BW4wYhUw6ZmZEciQgC7S8ywnV1FvzeyVrJXR1zkEZwKhnMvDIJVw5kcaTyqAy68Hgzn0wavPN0blTFyyNRfDx4rmYPOsrLG2s063MutbUIgyP7niTYV4gYbNmZsWgtjtw4KAQRZWwdbgdpTGRooaPGIFwOCiSdkIKJTsizVoU9p6L3JFmxowZ+h07E0V2k3s2GdAeoWppeqtULhKdGcpHum89OCgPCiVvd87MmAxIRVsZi2FIxo8TNhmLPx52Ag7fZU+gSzXu//R9XP7sg/jn5FfxWawOCVWNyceZNFycWEX7JH3ZQclUpnHgwIGUhaJPnLF4lUSrl263St1eIV3ey3ComC8gpO7GdtvtgOnT52PevE/Qq09PRFualdzJzUY9At0rkjdYCah8XlzfO1gH5KtSOeGMR6pNUgHqt914O7oAT38wCR/M+Bx1q1Zi8669cNiosdh/s9Ho5QnCHUuZrcrYAtOmFS0y+cdJagc/dZRupqMeXMhSslbpibrrrEjcaVRV1WLJ4hUYNWobkZ5z+OKLT1BdU4kkF3oiW5PY5V2OBqFxyLr9gkltG00fK+0zku4ptwvRcADLkcbkZXPwyOQ38MGsr1SFslP/oThm+3HYusdAhCRPcBNhHQooRxf3BxV72PFMOMnu4KeKkk5NJ9lqRxMJWwovZyrGE0l06tILH34wDVttvTu2HbMx3pv8LuLRJvmEJG2PEuFGvGaUiKpR6GvLXgftC0wW6tpUtSFHJhFHk+QkLROSpnF5mPIHMSvThBfmfIGnpryNOXPmYFB1Z+w/fGvsvckIbNK5B4KJDHw55hVJd+q2Jd84pO3gp4yi6rC/D61Fz4tVq+r0ijudwMVFhDLyiHprStMs+Cz6AqektnswidgzQZLmkVDy5qihnDV+OxLBwJQXRw/ZCpftfyQm7rI7Gt1Z3DzpRVzx7IN4evanWOWVPOD3wCMfczQJW1am74L5wYGDnx7KStgse7o+tnhj6dKleq9fv37yG1CdJV8wum+ey68laedJ2z46aHdg0uRJm2lHI9cce81VASs9PnSBBz1iGYyr6oNLdjwAlxx8DDYfthmmNCzVTsnfP/8wXl82Gw0+IWyvG24hbM6WZKemWJc3Dhz8VLBehK2FcD1LjM25SxYbwu7bt6/8eixitp4WHPSWU0o7DJhcStw0VrrpiBIhXo9knmqXB9WxFPqlsji013BcfsjxOHG/iQh07YKHp0/DxU/cgxsnv4KvovVI+jzgmtteNa585rWzQ1vkRwcO2jN+MGHbhaGwUGgzl4VvXSHfsvORBN3cHNFbnBDDB5SmCbsJTPBMr9bHTQclRz7fFJzrfSFejsEnCftTGYSiEQxPBXDuJjvj/4S4D95xApp9bvzr7Zdw6ZP34NGvpmJ2NoJIwIU0N6YUGymxE7TSzo+FbjhwsCHhR0nYWuDMaZ4817dc2ITc0NCox9raWvm1Sp4NyxFnYFfHRmFeKSRUci4NJ95UpHPoFo9jp4qeuHTng/DzA47ExoM3xnsrF+P3LzyK3z/3IF6YOx0rM3Fk3C7Tic18IRYwM9PYWccm7kLjwEFHxo8i7ML8znNdT4JHvfMdsArQNyG2qISdwdJly/RO1y5d5VckJ70S8NtC46DDYW2tsG/cY1aQA3dnD2ZyqIok0SOewP59huGX+x+BI/fcF4EeXfHE7M/x2+cewrVvP4/3Vy1EozeLLGfOyte6GqAI3nbecbKNgw0N30/YeeZcHRmRhqiTlLKVHwnwrfgWO9ipaCTsDOqsUSI+v1+v+czBhgMSdKH5Buz7kuzMT163B9U5D7rF0tjG2wlnD98Vlx50NPbdZQLqvcB/Pn0XFzx+F65950VMa1qBFm9Ox3rbkjZzD60zihOHtB1sGPh+wi7M6XJOCcbnYuePuZWRUpbKZVpHAqzN8FPrfDXQPrErl8kiFovrLS4WZb5w8FMEU555KS2GAzqDkkU7xTPo3RLD3hW98Zux++DXex+OsSPHYGE6jls+eB0XP3UP7vpqGr5GHC1hr+7urnlLyNvOcnaO+kYedOCgA+G7J84UZm6WASkAQS0ILqS4RKY7g6TPjaRINnyVq64RPC9Qaih4xYkzupiTSM+cEJNJS5EUKcrl8mObrXfA9K/nYerkVzFy9FZoblgKr9dMlHHw00G+gjeXOtuRRjIMUkLhJPJY0I95rjRenvsFnvvoPXw66yuEcm5s33MjHL3deGzTe4BI5274KF5zirscaJgHC3PlWiV9Bw7aMb6VsO1p5Bw0y574EIQ8m5oRmzUHmenTsWDZclQM3xz9J4xDveR8lWbEJl0qk8VCSh4lJVJ5hvQtz31cYU83KzCz19JC2B4h60gkiVEjt0FzSzOmTn0Xg4cOREvjKl3Vz8FPDzZpE3Y/iZIrVWhySEqLLiqCQtTvxxy04JlPp+GFz6dhwcKF6BeowP5bcO3tbTCsojPCJG2xjYOOmA8pSNCOvJ0OHHQgfIeELUQrBQOuDCq5/OW8RYg+8ihmvv0OIiLtrPIF0GmH7bHTBedipRB70OPRDiPzqUcLBvXcSRYWVxZUdATlmtPRuahPTsg4m8rC7w6iqb4Fm206EqFQEFOmvI3e/Xsg0lSvErmDnyZs1QVJlafWpblmPpIbKcl3iZAPdVL5T2lZjOe/+AhvfjgFLXX1GN6zH04YsxP2GrI5urr9cIlwkBKhIa1T3E1F4BC2g46GbyVs1UmLNFwppJ2ePgNLr7sW82Z8iaHjd0O3gw8BevZGTiScdKdaNAgpB4SE/SRiKRQpOWap8pBv3dkUatNpxGJRBCqrEff6kZD3M8LFbrlf6Q1j5bImDB06HD16dMP7k99Ct+41InU36fKaDhwQzAmFuaGQuOPS+Iv4XFju8uLlhZ/hyY/ew8dfTkc4lsLx2+yMI7faHoNF2g7mOCFLpGz5jqIAM75mfttih8AdtHN8O2EL2VbIMTdrDuZddRWWLJ2P7c89D7mdd0VOiBcZs/oapRxKzZwAo7vHSGFIS873yPeVUqoy079A/IWXMG3efGxx8s9QO2oU0tFmKTBZNLdEUNmpJ+YurMewzbbGxkP64t333kBNbRhRvuMQdhHAOO14zLRmTlgtFBQOJA/G5BgL+zEbMdw76TU8++G7SLY0Y2SPvjhgxLbYd9Mx6JoVwUJyH/OWbppgWaHomFHj4CeEb+gcNL9KxvVRf93YgIabb8Wi2bOx/e9+Bxx0IJIiVcfTLBzSJEUG3nQSVZkkQjm5yiVFuk4JcVMyTwOzZ6Hl/67CwhtvQfPrr8El9rlc8s3SRVh022146a9/Q8PixWhuauJAPiHqGoTC4XzHpINioePFLfNlIZfa12o4/lqEBW4MXJNIY1gugAu23wuXHnECBm08BJPrF+HqVx/HDe88i8/rliLN/SepmhPCJpjVaHhp7jhw0D6xBmGzQ8Y0F/2Sg+OvvYpP3nkLW596CnI77YJMXAjZ64HLy11FsqhMJOD66FNE734IK+99EJ4F8xH25ESCEbJubEL6hn8hOGUaNq70omvnStT27ArUrULjv/+Dz+67D8P69UfXPv0QaWlR1zktPRAM6uy1ckA7u6RVQMOiyxl0OovONtYzfW69U2wYPxljo+A0f58H+/7avjEofEvwjeftH3aMrxnzei35hiNDgi1JdI0ksHeXwbhkn0Nx8Pbj4KquwF1T38CfXnkMT8/5FHUeaRlyQSn5kItRcdMEs0zC2uLNgYP2gQLCNtRE9UbA4wUWL8Pnt92OfmNGwX/4RKREqo5zRpnk8IxI1YFAEBCynnXZH7Hy+lux8Pqb8fkf/4zclA/gz6SRu/seND/2LNxiV33Wg57jdgL69UH0ltsw9X/PYc+jj8bw004BKmvQZBF2ZUWFeMOtS6qavvzSQjlYYBZ0NRMwlAosgjZ3C4x40ZC7gN4tMGtc5k0h7OrRVJHfNOqDnDy3jVzb7+aP1v01v2MMtvrR9ElQXcUjO4N14hPfsP3fgfBtPmarjEuw+t0eVMKDzrEktg90xQXb7o2LDjgCwwYPwTsr5+NXT96Df7wl0nbzSsS5gZFI6FyIyl7ClbDjzYGD9gSWcIVdqJFN6nXqpdewdPFyDDr6SORqahDNZnSYH42b0xsz8s1rbyP1xQxsNHggRu+wPTB5Gub+9TrgtbcQffwJBEWCWRWoROPu49H/tLOQe/8DfHLXvRiy1wR4TjlFJGmxJ5tCU3OzuhkOh+WXJYVEUvrSQhfJXxyYSPdZdNlBtZqsLT920zlvGHdyZhs2tVd7TiM/2gTP3xD75Ug9qs4WtQzP0zTyUlqfGcNFkjTa1ci5XOe/4TPb8F019JP4WSpAY0jW8tyVlaTjRCcOcjNe2RDAdNP0Y3rJCTfzrRDSrolm0TeawaE9NsGV+xyFw3fcFZnKAP49+VX85pn78eTC6VjqzSImYnZOhBFmO3sNdhpT0WlyOXBQdihhG8JhBs0ixLHPK+uw6Jnn0HfECGD0aKRSaTPETt6jTMjZZ2hsRvOMGcj07Q6cdATwy19gzP77IDbtE+B/T6HB48HyoYNQc/rJGPTr34hLAdTdegd83bphozNPR662Mxp0J5EAVq2qpzdQWVklvyIx0q0SM4kWTiE6NpH9wnbSYqZPdGYnpS81DL08d1G/L4YbCdPoeHWlR2NEVJM4ZaE395Wt5YoHJVIavZYT6xmJwjYkDtKp0Kr+8T0e+Z4a6zu+y2vbD/qO3Ke/PXL0CLsLF4kRqVPeCwiJMXlzOakOchnzPa3cUGBFD9OIUcQYY74Nu72oFtLeytcJ52+3N3550DEYsdnm+GDZfPzxqQdw87sv4Otove6Ew3TRSlsTw9hhWeuQtoOyw3PZr8+7ghmTTWSvFGLqrvH+VHz433sw6vhj4NlpLKLptBRuoQF55BE68FPMq6vH17ffhq5jt0b1z88DKoKau+cLWffZYTtUH3ssavfdF7799wOCYSTvewhT//ckxl54ATBBpJxkXCRIIX+RwF947kW89sYkub0TJuyxO1IJqkhYVEoECZeqNiT8oWgLYtOnwxuJIldfj9zKlUB9HdyRCDyJOAKZlMRRWuJBWhpCymrkOy6uD2mFsFlNXSqv3UKiXJDIR8IU630Sb/6MxHEmDX8iCV8sBk80Co/YTfv9Eif+dApBGnknJMTKYyCZgD+eED+16Df+uLyXSoi9Ype0iPyZJAJyHsiKvUm5pl9XiZ+XL0du8VIxS5BbuhTZFSvgTstzISavbmYsJ0rvGx7WDBMnarHyYmU8uLYXtthkmLZkvlq5GFPnfo0ZC+YgGAyia+fOUrnZyifTMiFZE2qn/GyI8eWgY0CH9TFTJsWEhSj8Ippkb7oNb/33Xuzy39uQHbkZYkIaYd0ZxqVjrP0pOf9qJiYddzQGnnw8el1wvpBaPTJ33oV3rrkJO//9j8gdeyKysSZ4kingy6/x1XkXAv37YuiN1yMX9CLu5UxHoKqmB3518eX4899uxJVXXILLLv8NIk3LQeFbxaQigkWSLriErN0k0XgE2bffwpTrbkCvzt2tYYtCwkLOvmAAgZpqVPToAV/fPnD1lJaF3EMgABfFVpfK33kxLJcWGTmRkJqQR4kDIVoI6eakIuB5Tkg1HYsiFZOKSwg5I/EbqgjBFw7DI/a6aDcXwmJrQ97JNjQh2SJELB72Bnxwh8LSJAmb98JiGGGMa9q/fBWiy5Yh3tiEmFQIaalkOKY+I3Z5xP/eTYag5957o2r4lmiSNKDkzdTdUMEkYTpTamZrhBNoMuEQlkvF+8r86Xho2lv46MvP0dtfiQNHbouDN98aQ2u6S2Vp3qfu3warONbtTOo8kztwUCLkCTsqRNxZSIuS3qqLLsXXS5dju7v+I6TkQ2buXCRnzRGydiEwfAsE+vQDXnsTL11wHra54jeoOfY44K03sfTSX6GuIozNbv4XEv36IpmIoqquAc2X/xFfTPsQ2954A7Jbb42UEEhWyEMOqKztjvPPvgj/+NftuPavV+CCi36BaPNyI/wVlbApOVFO5gzMHLxChvF77kL2vrtRt1gk00EDUD1qNNwBL7ISjpaGVVKRNKthTeMjQUp8sCxThaMbxRrKNmVZCDgtFSD1oRymyM5cqlGoDuFHbpFw3UL0Xq+QLztzJcBZkX4zKflGJHGdEZoW38n71MtyA2JWCVyDhdP8M4kMssm0jtbxuMVeeTHHSoME7/YhUOlHoKoCHqkE/GKox84K8TctWY5lCxaheastsfuNN6OxtpO2AFzUBW2gBGQTNsEUYprxRs7rRlTi/2N3A25/52W8Mf1jRBoaMaKmJ44aszP2GDoStULRQUkGxqv28agdYjbQuHLQvqGEnZXC3CLZsIcQChYtwqennoLKYUMw8K9/0kkvTfc/jIZ587BCCnb17hMw/JJLgOdexNOXX479brgW2H57RC/9DT579XWM/O2v4TvqcCRiLZLRM4jeeQ+m/OtWDD/ndHQ+/XRERdp0+4OGyKQEVFZ3xYnHnYb/3vswbrrxzzjj7LOQiK6UZxyZXTywEzHLzX7FH1Uc3rV4KWaeehqGfDUdq0IedLnsMuDQw5EVInd7pIgmRXJtESlZWhJYsQpY1QA0NyEhz1VCFhLPCcmys0ub0yRjn093CneLFO4TiQ5BMexYlaY3whXm6BfpmCsUynuUwKWWk2NcJOWIuRZJHQGRtDmChu9x53jea5SKo1780CL+ioq/WLmJxI2qSki73phquiH2S+WQkzC42EqaPw+48k94bf5ijL//ISRGbolUPKob3W6ohJ2HRDEraIKVH9VV1P23BD1Y6KW0/RUenfI2Pp8zE5U5L/bYYiscNnoHjOzUC5VSearySOK5kPQdOCglWglbcnIPksbnn+H9U07AtkcfAmw5Ah//7kr4EzlsOm5nJOfMxjMzvsTB998PfDAVz/7lT9jn1luQnPEVPrnmRvTfZx90v+K3yIb8cKfiiD/9LD7/89/Rffx49Lvsl8jU1iCayohEKATCjC8SYTBQhYMOPApPPfcy7vnvP3HM8Ucj0rxCJcliFgijm6RKhJ2JWYSosnjhZeDmG/DJyiUYcdu/pSLaCS2NEYR8XpZwfiR+ZkkVsOSzgtNWgBiVoGlbq6d5pURMQ1hSuTKHxLk+V/DY+p25a71XcF+h7vEoz3gqpMNhaaqJoXRtf0YPiv9YifBIlVfQJZJ0SsJ5wS/w5mvvYud77kVuFwljtEUkdbFsDac2dLBR4ZV4SUj8RCRu4qEQPo2vxMOfvIc3vvgEixcvxvBuvXHUVjti74GboVe4Cl6Jay5wxopZt7Gzk8g+OnBQRFDxIJDcRiIgsbQ0oTKTBBrqkbzpVqQSaWx63pnA+WfC06cXumXSIvlJoRfpchA7rj6Yhrl33oWaTTdF9+OPR06kSV069bMv8NWN/0Jw8GD0O/tsZEJhRISsc0JaWZESSZi63KpIuFHqXQVVlSIdcoZkCUC1gnYKiuEQumxAyHSPXYChg9BAsguJ9JtJIS7+jUj8NItUG0mlERWpNy7knkjEkEzGkUglkEgnpdCnIXK2mGyBySAuLYW4SN8xGpGeo4m4mJjYE0UkEUFUJPdoSs6lgmsRE5V34iJhJ8SNZCwqRtyS+KaJ0yTkOU1SzoV8E1l5F3RfTFqu5V5c/BVLi99Foo5JOCPC5s0SBsY1JAzUtxuJOi0tDI4Y+ekxjdZp8sORQT4h4EopCpWSD0d5q3H2thNw7h4HYcymW2B2pAE3vPkcrnn9aUxdtUjiMYO05BmVsmmBQ9YOSgiLsCXPaaYTaSzoRb+qGuDFt1A3+XOMGDsWOGB/ZCZPxqpJ76HHoEFArz5C7DH0iySReuABxP1ebHzeWcgOG4q0EACWLseya29ATKzb/JKLkR00UKezV0um9i1bDpeYkBATZUyOLyYBEdU1NSK1pIx0baPgtG1hpGESN6VmSllSO0kJziDJwqcdflIk3Ua/q3pmqk4krG4+C/iE5P1qMgUmbZ/LO1l/ADnLqOpDjEvuu/w+Oac90jD3iRscsOGVCkzsd3ENcHnmEsOjGkr4YnjPJd9ATE7Os2LSYlJynRaTkXPed3F3cfGvR+zyeX3wSQXppf+pTvGJPzxs4Uh4Ja65QJcZlvjThI6zlnxAdQeH/1WlcuifcGFin81wxX5H4rid94S/pgoPz5iG3z7zIO6Y9hbmJJqRkpJDTZlHKkG2cJhPOc7dgYNiQglb16pmc1qkMvTujepRWyOzuAldmf+ETKP33ocVf7sWy7M+bHz8sUD//kIaQcRRgSZpRo4QCTy70/Yi4SXgE7ta7rwHX330BbY97wJkR2+lEmNFIAQsW4FZ116DT676I1omvQ2/SJ2JRFIXgSICQSE3kjhJVO8UE8YFVlQMv/wrkXFmoVCdxIypyzh+gpK42b3EELySPcuoGL7FpjU3dVjNyNtqVrvP94Wg7ed0K2/s561u2MaoWcTwPv0hhv7hu3osuOYzvm8ULmLEkzoKhuEUW/RXWg2MZ6ktrXs/TVixKilsDM+ZBpUZF2rjSYz0VuHs0RPwi30nYrvRYzAz3oAbJ72AP7/8GN5dMQ8RySbsu+C4fOYjbakoadM4cND2UFZi4Q5IluUANlR3Ao49EZEdt0dTrx5omP4F5t/7IOo6d8fmF50N7LUncnEh2B13QOaYA9HlV5cC++yFhEjMIXasffYFPnzgYQzYf3/goIOl+Z+UJrlkYJ9IpR9MhfellxCaMhmTr70OWLJCWuhZLF+xUjO8XyRT6gaNnri4VGLTmpEtc/BQv+xh559HziVapNDSD3zP/BkK1lmDGmNK1fKp3F/D8J4xa4ZBruWejmmnffq+SNlibOImmdvuFhoTH6sbJf4CU/itecciIzldjUa8IoVTKsywP0Hc1fj+acGOj3ycCHiu+U+OPrkIxtPoEo3hgJ5D8Lu9D8PPxu2NniLQvDjnC/zmqXtx9yfvYKFX8rcrraWHErcZrfPTi08HpQFZRyD0I6TKMdY5jzSZR4xA9RW/QedfnI/uxxyPYeeej83+9Ge4Jh6KnJAyl17NjdoC3X51CbITdkPa7ReeE7IT8o3c/yAyoQAGnHwicpUVwltGT60i3sqVGFJRiZFjdwQWLNYxw+l0BvUNjQhKU55T0zkEzviomGCBssnQojYWMpK2V8KhZJZWTxSl8NHR4gZwNahTEgw9Mh38ftNhlkqx2tA/RRGC2uFgp4scWZEFpUxURFPYJBvAySN2wiX7H4GdthqDuckIrnnzWVzz2lOYumIBWnJpHe/OFhDzux3nDhy0JZSwmbl0nQm5Svg8SOdSyPbrhezBByB3wvHIHXwQskM3QSbrFlL3IyPSMlccSQoZx1IZxEQy9LuF6BYtwYy338KI8TsDQwYgLZI4Oxa91J2SAIcOQbOcxyZ/gG4DBgJduiDSEhHpPIXKykrdcYbrGisolevRHIoBCqQ2IVMNo6QtlUaaE1CoVxdyo+qgiF4oGuhn29jQkKgem5WS/KekOS/3tUXTEQNZIrBTMiikXdsSw7jafrhwwkE4eufd4e5cjftmTMWfXn8KLy78Ci3urG5rR+GHfQTMUtroceCgjUABSzOVaTpz/Yq0EDEQc+eQlJspeSElpJsQk3J7qfYU7pX3JBNnqPNl85pSG8dNJ5Ool/fdA/oL8fmt3vQcAj4vcokYMHI4Op1wAhYP3wIjT/sZ0K8nIhGzUl+YEzxE8rOXVi0Vf9AdTkvXjjcWLqk0ciJ5Is4qSXzfgYnM0pAoKEVrWCQd4fdxuROdeKM35R2HWL4DEkUeqdSqPH5Ux1PYLBPE6VuOwzn7HIKhIshMrV+MP7zwCP7zwZuYl2jWEUean9hH0IHzj4P2B0slYsq1Kgi4LobkMs68U3WGSGTc7ss8MxlQd5cRI1RtJiDItyRn9OqFoWefjegmGwvpkfAMYbNTJumRs3AIuSMPw+C/XIXMzjvIc6kUkkLkAh9n/lGitRiyuPxha4aN/whtxFIJGQrBnZErnYxi1AX862hYGwHrTD2muEjYXNTKxYqJyapPHawJ5nWbcCW6NJ64KFgwlka3ljgO6L4xfinS9sHbjkdUnv7rvZfx+5cexdsNC9EUcElLVKRt+cZOCqZJoXHg4MeCvWcmY/JCchE7w3hF0ZvErKMOKCnIizotWsnbojD5MV/IU5J7wIu+JxyLnuN2QVKH6hmL6Qgn51CFkgr4ka2sQIRSuUjsEc7oE4RDAV1EnhKf2l10sPgZ4uY/CySkOaszBaWxkOaSr/Q+44SvbgAwwZBfaUUwlZPRuN5RdZCD74SdJ1npcehl0CvSdiyDrQNdcPHY/XGOEHe33n3w3OzP8ZuH78TjX0zBqkwSaWmpqtbNsoAx7cS2g3UFy63CHmXAv5wczUgIpTPraBYIWtPknwkBc3nKWCqOBIc6sQOvMGdKhtX9HsVwQgfXEqHz9qSZYCCg62WYdntpUEjEusAP/cTp4nI/xenhNqzC1lHxDe/7uauhFUYJa34YZemivuOCcSSGw//CIoRUJnLoHk/hyE3G4OL9j8Q2W47CrGgj/vryE7j+7Wfwcd0SJPwcjWQit4NnJQdlRp6wiXyhlRPhbMvYpE1jyPnbDKVoJWKO85UPSP5rwgzZk7f1kUskbGuWY1UVApS+LR12qaC+Ec+yDaEBrqjUey2NjRIOORPToWcCajrQWGHggcMn5ZBOCGHzRNCBQ1gWMNqoVgpJK7FCxO6aaBq7Vm+EX+55KA7fZQ+4aqtxx4dv44rnHsRTX32EFZm4NNxyun4J1yon4a8Ndrlz4GBtWI2wC4v2aoakrcZkJmMK7/EbM0DM1toZEl8dJD5ynw570ocuHb9NdOpUI4TtKzlhE/Q3R7kpqC6Q8xRVNVIBsWbpyITNFFVIEJhOesPj1TBydUA+6LihKx/ycUbylUgNiaBSEYthi0wY54zZA+ftcTAGDxiE91ctwh+fewj/fu9lzIzVIym0rWTNssADjZYhy8i1tl6tawcOCpEnbDvzGDCnFJrvRuu3lkqFRslhTXtoCPvcjXTKDOMLh80aJIbJ7fdKh3w1EQjoAv+6bnWGhcr2aweGlbAaRlZCfk4OkuBpZekQ9vpC409+zAbAcfSKpnBs35H43e4TccC2OyMa8OLWya/hjy8/hleWzMIqT0ZHYlHi5mgSrnFOY1mjRM20ss8dOLCRJ+xWCOVKLmk1cuc7jPmi1RD8zogLazGrve1GMkkpjzwZaLWgRFjNOVYurCyCQfg8ImFz2VIuY8pwasXTwUGJjsGg8XFEjoSRKxTKfR2WaaWlg3UDo49zDrh2S9jl0dUfx9b0wgW7HICT9jgAfQYNwqsLvsaVzz6Mez54E3NjjYhn01ICbDWJKWsskHa5KkwSO+ls4+CnibUQ9o/DasRdcP7DQJWITdhmWnqp5b1v+Nfr1ckPKn1aa3Jra6GDw4RAfhkWrrIoKZ/jYlcSfh3lwxOHCdYLzEqsFDm6imvzhBIZ9E5mccTGo3HRXhOxy5ZjsNCVwj/ffxVXPf8I3lz4NZpEzma0k7g54UZHZIlZW8Hke7ZZ74LroEOizdL9xxF1KxrZuSfgynKKdbSnTUAJWwnbI4QtFQl17VI6yuml9YFWoDxaxgREzirCOgs/zaGXJAhtXfCZg7aA6asxy7bWZN3oGc9it5r+uGTc/jhxt/1R3bMHXpg/A1e+8Cj+PfUNTI/WIcpWHdOC6SMSd47nzI9rwBaK8mnq4CeFslXUugu7sASnphM6pM9GGcgjn/mFyXQ8OCf+cLlZ8Yxu0NtBYRfs1sItZ9z5Rg5Zq1L6KS7+VDRYWYVcy45sqjoqcm5UR5MYng3h7M12xq/2PBTjRm6DZe4s/vHeK7j0+Yfw9KIvsTAXQ9LvhoczUeVbkjbto9DATkjVa9tJJfd5WmgcbPgoe8vK1mH7uV40Ua7cZ5OWVBx+MfYGunpbCscGATuMuo+kSyRsQ9gGG0og2xc4xp2di6rfTmVRG49hzy6DcMmEA3HSrvugR58+eHP5PPzh6Qdw+/uv4fOG5WgWIheO1+Ti5slMGaZSIWnbxM2DdeqQ9k8AZSNsM1QuixTX4BaEQyL1Cdg812ahTS6lzoUi3XCafIa76khlwjUkVFzq4MiHgATt8cIrRifOcLEtCaM+7/jBbJ9gvDIPSTx7MlkE4lEMc4VxyuY74bcHHIXdt9keqzw53P7Bm7j8qfvx2PQPsCjRgqyHM43lM/nGbuSptM2juXTwE0N5CFtymyFskT6s1fl0lIhcG7LWWyWBnfHzTrKQiIRt1AUZjaASeqdo0ALPykfb6dTTeyWMUlmmTaeXwwDFQ2H+ofrJJ6wbiqfRWSrMcZW9ceG4/XH6Hgdh0NCheK9uCa58+XFc//bzmNawFC2ujKrofNwEmLptKTcqYVv2FcJJwg0fZZOwlZjFpLkAkSDAKeFyzXGpulazLdUWORcWFiZ1TMja5ZVoYUUifuAkh8JhfR1YnW3FpYQlGIaXKyOyUhJjQlfcgJnUNrCb9DQ/NTCWKSEzTwUkAqriKWya9uGkIVvjsv2OxAE7jIOruhL3zJiGXz/zAO6dPgULMjGk5CvmRS66pvYw/ni0jIOfBspH2EqCHIdtCJtLqypKnPvUOfFLfqQEJWx2OlpD+gi77uiIoNdp8tzIcIZC8HJN7Dxh558WBey05UbHaTnynJWeVoQliVc7BuiPVlNO0Dfc0Ijri3A4X0U8g86RKLb31eJXY/fBhXscglGbbY4ZkXr8/fVn8Zc3n8Y79YtQ580h6xWBwsqrOhvSWJk/lgLtIQ5/qigbYdsckebGBoLVRomUAcY7ku2lMLDZys4eXvPP9isLBTMqL61b7RviSfWzZRSsffxeHfeejSdUJcLt0dq0UqK7FjlnXVyGgGu1GG0MfcJlxFqXFisyNKHEHS4Arr5oX7B95Xd7VU3SS+SXiX23wK/2nIjDxo5HdfeueOKLD/GHZx7CvVPfwrxoM1ISJiXtrDXsVMPYtljTTl6u6YxD2qVH+SRsTX4pyJYO2wzzE5QrE7AAWI5zhxz1l3bIkVrWjvaeX+nv1gJt9Q+QNb1CDuEQ0tGoSNgprSxNn0JbwVR03BCDa6FXiAeCS1YgO28+ghwqybXRxTndw5JvFysiGXb54UqMqqkX9yjZc2XKcoOtCzXWNfOfT4w/kUKFpMtwdwVOG7MLfr73oRi96eb4OtmMG999GVe/+jjeXT4fMe4dIukmQrfqttuyIK8tesQZBd2xW0c0DkqLMkvYUqitYWWt64iUB8Y7dN+t6gLtDNVlYhlF38zBa8nT7RIM0WqxygshbH8wiDRHwnBfR4aRYW/TQAk5StKGc9JymrcIS/5yLab+5vdo/mI6gsEQUtwkQt6hIZmmxW1VE4ixCYNetSVQmtXCIeB14TtrPucN3kuLhVkXd4pnBSF/crNNg7o+KPA0k4A6aq4AWBXPoK8kzz7dBuOSPQ/BxO3GIditMx778kP87tkHcfdn72NepFHzp0/jmpVj2waM6UDDNGHaGDWOcYLGQelRPsJWiBxmZdhi61F/EOgXkXJURWBJ2MZXBaWqg2K12PX64KuoQFa3QjPrfrdpCEmQkrV8LOEuL7LPv4jUc8+jYtpHmPv6W/KCBxl2LgtzZqSi5hrpKT22koJNFLyXkvdU/0275ZrQ53I0REIJmtdUw5hnBI889YhQEI5F4UvG5Dqr9nJOYXsFw0kSruSEm3gCI9yVOH/bvXD+Xodgi02G4atYPa56+XHdBPjD+iVoVlFXSpCEU3fDt7EOQdT449EyhJ7b962jg/KgzITdDiGFnx2PqiIQo/rsNXKoZlzLdCxYWmN2OAphU7qGNL+5hoWijQLEypfSLIevIZVF7JOPMLBvN2y703ZI1jcIw5IuScAp+LNJhLNpVZv4LIbh2i2ccEKiDaYzCIsdwbRZR1pn/7k4YiILby4DXzaDQDqFgFSuPvE/w0JDUiaPhVJpVDY3YtED96Lhw8nw+b1Ik9pJPMa5dgt6j1vwBRJpdJOK9cAeQ/GbvQ/DxO13RbhrZzwy6xP89oVH8PjcTzEPcST8UhFK/GgcEeuRnnRbVR88iuHWaFxRkOokWquGD23joCQoO2HrSnHtBSzhEiNUEWjzktyg91vz/prHjgKGgxRJiZSr9SlhczVCe8W+ooSIdmYQT0TRFPbCtcsOSPv8QuJUNbFzNwt/tAWZr75G04wvhZgS8OqwNXlGAk+mEVi6DO4ZX8M1fxGCHNEiLJLNpIU8hKjF3mBzE3yLFiA1by788SQkZJJ2WZW6Wdly0gnenoQp116L5i++MEM25bl2erbzRNRKhScSDjN2O4EtA51w7jZ74Mzd9sPAoUPx7qqFuOql/+Gmd17C9JY6JCR4tpDNosXkJtQu++I7YBUB/c6MRmEFSLK2VhWU+8xHObVccg3dstxzUHwwbcoIl864ay/QzCdk7RYJO8uCziamPuBPK35Ixm+voOqAY81RW4OcEHaWe1eyY5WBb7NwGQUXCzZzWLhLFyxaVQdstBG8vXsgSZKVOA6IhB+Z9B5mXXMtpt50E5LLV0hdIoSeFKk6nQaEYFtuuQ31f/obll//TzS+8458k4Rb0sWXSSH5/vtofuABtNz6b3x5/fVY9eFU7X9IyPO0kEuA5P/1TLTceRf6h6swaPPNdMEr5RpN7PYNkifjkYaVj1+uw9EkesRTOKjf5vj5ngdj55FjUO/N4Y6P3xHifgzvrJiPqM8MTfVK5OvuNpYdxA8lbc3zNiFLfJK02d/EzbZ1r1e+sp7qFwc/HuUh7ILEJTkSbTtKYV1gyZicBej1IUPCkAy6Jll3ZDAoGhx2MlZUaqdgiotvUZJqY9DGNJlRnAptvS1ijXE0ffgxtt5jd12ZLsjVGafPwOzrrkN61UoM235b+MIhncxTJaSADyZj1V+uxqInn0RmyRIkp7yH6X+9Gk1vvYUQx+wvX4X6G/6JZddeh+YXXkDulVfwyWOPicMekTBdCHJjjC9novkfN2Dul19jy2MOg2urrRChlE4iao2Ndg0lbRo5Z0kJClnW5tzoFkthR19XXLrr/jhx/N7o3b8fXpr/JX777AP497TXMaNlFRISxSoxS9ky6gy18ntJW2IfWXEsS02/vKvxxW+sobdaYlWtJeAPjWW3g+JC4758kGYryUNQjq3BCmEXYRZ4rxC2djpSgtD/DSU3UjfMg8R5RYUW5gyH9rVx+BhflGC5MTNH2mCHHdBz9Gh8cf+DaPr4U9Rm5V4ihtzzzyO+YAFGnXoyBpx4InI1VfAk40DDSkT+8x8s+2w6eh2wD3r++XIMOuIgdF60CDMffoSZBViyFCEh4iHBEPoMH4Eh1TXwJFLyLINaIZrwvAVovvFfmCtSePWBeyJwxBHI+oOSvNSUU0JkvlPK6RCwidtGSPJpTSSGTRNenL7pWFy624HYdcQYLE7HcOOkl/Cn157EqyvnY6lLWiJMBwHTpNCOb4OOCpFvUlJxJiQtm/1u1HldaHZlhLit4QGsBPLn/HFQCpSdsO0JM2kWbFbn5YLtthzdHCWiZP3tOfGHNC3bG+hlDRELcFWlFt44964sQoFzieWqGWeF3Ls7+p11KsK1tZj517+j/r93I/fGG8i8/TY8lRXIDBwg8Z1AXAjC5/cBr7+Bme++h+47bY/q885BbvutgYMPQN+N+qP565nAqnqgcyd4aqoRc3kRlbp1kYiE/aVS0Akyixai5aabMfPFV9BFJPr+Z5+NTJceSGZc8LrEfi6FR9JmxSX/ZpJP+09TJpNtuIafl+PpxdO10QR27TIAv9zjEBw7bi/UdumMF77+FL9/8n7c99F7mJNoRlyKWY6qDAljnrS/I7w5SQv2dzRJdL0ydwYe+OANvPX5R4hx2WFJU6pcTAo7KCXKR9hWprEl7KS1poh2dJQFlhzNzCiVCIdIUZKjd+z8bWPN646EvN8DfuVtXU9EwPvfF64fSmq0h6+xvstoa0XSdtQIjLj0F+jWqzsW3HEnMkLc8YVLEAmEkBKyzbq4l6YXiESRePddxINB9DzqaGR69UWa27XVdEKoS1dUcFw3K/eN+qHygP3QGKzCqtlz4R+3CwYKOWOVSOd33oO5zz2HTjtsg97nno1sn75UiyPr8Ys7HqTFd+z0ZP+jT4iJI7QNfkDgyojC+Nf4FcPO2Qoh4nAkjsEZH04aviPO3/UAjB0xCvMTLfjH28/j+jefw+RVi9HopoTsbl2P5FsSnPmCo3TSAR8+j9Xh2hf/hwfffR3NbBn53JJeGSVsVZV8ix0OioOyEbahR5fugUc0NjToXUo9FnWWGJa6QKRrl8+PXEoyZzplivAGkikZDA0KK6NQiKMXkSJhFxDBt6Hw+fe9a+KMaSlRKMcUVwYUxzI7bI9+v7oII446VIg5hmUiGW525JEIDhmMaCyGADugm1uwfOZMdN58E2D7bdDCsfChsI4sSTZH4fNIfvH5kJUmOk46Bj1/dQ76XnQeNj7nDKBbV6QfexJzH3oEnUeOwIALz0d6yEAkMlm4ORVfPGRmX6YRiEaQnDYNje+/B2+0RZv3JgN0DFBKbk0GF8JSjqqTOfSMp3HwRiNw6Z4Tcej24xDs2RUPzJiKy595APd/OhnzY03geHVVZ1hs22oPIfEj+YNqkRaPC098MhmfLp2PHXfYARO228HMApZKThdp6zjRtcGgbIRtw94arIVNc8k6+Vp79VxUEqgWnRI/O7U45E1IQsdhG5rr8DBRKr+MYN1DU8Ks65EzjAbfFe0/PBbMm/yl4fSjuC+ICAeFDRkKHH88Ep27ItavL7occjBSfi+4kYW2roRc40KmgW5d1I+xdEJIQmxZugRLFy9GqHcvoKoaiWQKWbEjfdBEZA+VCkDIGkLAK+99AN4unUSyPh2ZUVsgHouL60LUbC2JhBhIxFAZE4n9jTex/A9X4tOr/oz6Dz9GQCT9tEiOPzyM5Yet2tB4ljQlCVfl3KhKJDDSU4Ozt9kNZ+95EDbbdFNMj9bj6teexHWTXsB7y+ejUSotHaturDCwLkjYOWl+rMwlMOXr6RjYoxf23GIrVCalPGirk2VUSoXD2CVHmQk7Z62DzUXjRNKTWptltlygBKaEHQgKcYiELVKfNg+t5x0ZpmhRqjJHjWhNfd4oRgiVRswpC7i4GXeJBO2W9F68HDMXLULNtlsDQq5NQjBWK13VHWmRqtVHkh9CQixIRJCe9AYWN6xC5+3GCGGHkch5kXaFEI/nkIxKpbNiFaIPPChWL0GvE48CthstZB2TFrxXR8OQsEOcZDPjK0Sfex7p/9yBrp/NQPfpX2Pp5Kk6OiiVa9+ErVL1t3gwH9sS1xwvHYgn0DuRxaE9N8Nlux+CQ8aOh69zDR6aMQ1XvvmUTrqZn4kh7TOTbRg/Nv+SiF3SilmWaMbyFSuwec++2Li6C3zxlE7kYREtn+ryp43yEbaVObp0FklKQMLWjKLZofSgqxnmWK+QSrgCGapEWpo1Y6oksYHkz9ZgyBkvGDYx7P23kqTtoRaLBCiECb9UhrPnoSHSgj5jtkKOFba47RWJjs1sCIGw4zEVjam0XcVvP/kMy//3OKoG90X3cTuYfOLiMqNeVZGE2HH91tuY/9or6DZ2DKoP3EeIyExXp92sDWiNdia/+z4W/v0apOpWoXLgAITlQSXTXBUFctHB05lxQ/0zw831tiuTCYwOdMbpW4/HWRMOwMCBAzG1cTmuff0Z3PbOy/i0fhlSAan8KDlrvIodQvhC+2iKRrXS6xyqQlDi25RPOmIZByVHmQjbIkE51tTW6J1UyhB2+cDpzCzcYvx+uNI5XRypg5ff1bBaWERUY1C15JUg3tn89rmFQtNR5GZORy7og3vQIKkkKdz6xC8exIQ00KkGXfr1RWruPGD5Sp3lWH/rnVhR34KBRxwBDB6MTDIFl3xDZU4gIGS9dBFannwCKbGz35GHIdO1E6Lyjpv6VnWbARWHsmm46lbAL3ktdOABQK/eaBLC7zp0E3mcFf+5O356WwFgWaLxSwSEY0n0SQCHbjQcPx+3H8aNGI1Gvwt3f/Yernr1cby88Gu0uHPw+tgayanagzHBuNOsIS0eXlM9SHT4OOrAKBNhU5YxJBGy9nJsbGzU2YW8b5evkoLlmUc6Tj8JG8QbGoxf+FNq/5QAVvkrCRi3frbnY41IzPhU18JAnz6Icesr0oF4Jkl2CAbQadw4YNly1N90E+r+/jfM++gzbHT4oag4/EikXULU8prqpSW/aMK8+xbmfDwVPcftBOy4A2LygssrknxOJGuxV6pieCi90xcrl6KnEDoGD8HyTz5H5dZjxIwWTkrCR71MR09n2/9W2lJqDkhlWC1x0Tmewm61/XDRLvvjyLG7ore0MF5dOBOXP30//jvtTcxsqUdUWkFc/IxrtYQlLXxBP+qbGnX1Sm5VpgRewnzjYHWUTyWiaNVhNzY2Ic2OPhbGUjKJBbpIKVCV1pUhjZhsS0vZ/FMMtHIRwyNGbrTeKy644JKPhB2Pon7JElR07wpUVSDJERyWXzjEM8s8sPPO6CqkvXDyFCyKNGPQqceh9rTTkA1WIU4S5hfCHEGmVSKB9KRJSIhkWLvDdkB1rRC6V2w0E2QYPpcO5BN72S/h9aJ5eT3qb/k3vvZ70Pek45Du1hkJq9Nzw0hpgQRcdd56bhbECuekRRtNYKhI26dvMRY/33V/7Lz5SCxJx/CPSS/iz288jVeWzMJKL6egZ1AbCEkLuBaLG+tQH48wgTac+OmgKA9hW4WTEo+PK8cJWoQcE1znQe+XFsyENCo9kARqqiFlGUmpRMxY7A0nmzKIJsBUS/FULkoQPrtFxfVSG5ri8HXqwhX4zZheuU3DUQ4ppr9I3t0vuADDf/trDP/DH1B9/HHIVtcoKbs5rlv9Le/TTkkf3o9V1KCJKhWSOfXbOvawNVw6V4b3thiFFl81Fjc1Y/OzToJ/150RoTpOH8vz1k82DDCuGCw7zqQVEUxm0DWWxoTa/rhISHvituNQ07snnpn5Gf70wmO4e9o7mFO/CmFPAD179MCipgbMXrUcOR9HdDGmHJQLpWVHuzDokT9ZVITDvEAkEjVDu8pA2ETeSzS11bqgXay+Xju+SkFopQCDke8nSIvMq0GTm/khGt+EHSXrC8pmnO0Pbwipnn3g7b+RGT6pMC5Qak57PEhLHsgMHIj0+PHIDN8SWX8IyTTVZabvw8jB8i5VHB4XKvbZF72OPBj+wRuLEC0SOyfgWHYSOVK7S4iewwon7IGBl5yDYb86H7VHTERWvue7dqWcr1g2JFhB4oGGY6k5tT2USGILfzXO234PnLvbgRg5dBgWZuO4ecpruPa1x/HVsiU6u3R5vBkfz5ulaZO3xEFZUFp2LEjoLEcMSIGrrq7W63g8rnoy3XmmTDDek99wEH6vNKSpEhFi23BUIhI2OygSNmoIPCQ3BtxKG+vwDVBCWx9QSZHjsL5wBTY962z02mMvZEXsDWoLa3XLE24P4lJRxqNxxJMpJEUyVulXYHufR97TrdzGjcOQCy9CxYiRSKbS1gqQxk6Su64dkpOKwOtHtmtXZA86GNhrL6T9ASSF833yvitrSNtI5hsmGCMMHo8MpV9+gyJp94pncFDvYbhkz4Mxceyu8HbthP/N/BTXvfQI5kUakKoI4uP5s9AQj0gDlGomE7dq14YbXe0SZZCw7RRmaue005Ec3dTUhLitErGlwCKj0BXTZKSf5KIyjIqQF5GVyyn6C6nZfu64YAgYNK6boRfNEXCIc5AdrCq1fj/sd9aFvL0kXakcOFXdNX4X+EaNEnLNCGkYfTTtNuRq/QkxuL1CpNrisu/JGUlVj1Ldi0lSIhc7M0LGSbmRE3fULg2m2JvPS2ZHm6RI1Cl3Tt51I+kSAuf7yjzy3jqEqyOBwbODyFjl6n3cR7JSWh61Im2P8tXgnDG746xd98emwzbFzFXL8M4XnyJVHcRHyxfgsyUL4JZKLiWV4gbZEukAKClha2Gzj1riskrYAZFmGxsiiIlE5aF0pC/pJyWDcdJyWKTAQFCkr7o6INYCL/26QYDddSxoEp5oTEnPX1kllybk3wa7aCoJrmM55XfkxITXg5gU+HhGirwQeJ6sLbtJnsbwnIS7OtEUXumZEHtSTEIEbdMZyZu00yZrUov9jTk3w/wsd+g6H+WPGy60XhLTGteGtBlPrFCDsRR6CnEf0XszXL774dhjy+3RzRPQ0TgLcwm8PPtzcGI75ytwrLfG4gYeZ+0NpSFspqwNZhglCEpDWZHwgkLaAZGujVokT+Y2Cr8tEjTzytHKgiJhV6vkmWpu1C20NhzCVuWAVJQS4EjUjI3mzjMFYIEuRFuXR8Y1daieb2tJ0X3bfC/kJfNv5Zkf9NHqgWrrALZj2CRtw44xGvYNUJUUyrlRG09hO19XXLjzfjh2u93Rt7ITkj4vXvjiQ3yyZDYC4ZDIWtmfVNy1F5RUwjZZw4IUMJ0uLIRdVVWps9ISUrvzPok8nxtKlCnUZyz0JDOROis6dUIm0gLOdqRGpMDnHRZKlgwJh841NWuceypMp29h+NYk7aJA/MKktaW+vJt60zI/xB98z8E6QwlcjEY1pWYxAbkKRJoxJOnCz4bvgFPG7oUB3XpidrQRr8/4BCmyhnygpP1D0shBm6E0hG0VvkJBlRIROxnD4TBqa2v1Xoz7C8o79iytkmYG9SMdl6PXD1/nziLyJ5FtaIBXmu683dHB6OQ6Sjpco7kZOa9kgJoqfcbCqgf9bXtQmuf6ytQjUyWREQk7KUcuzUSTkPtcLJ/PqeYwaSFGnhWSeqGhnWsa3UFdDN2g0YkzNLRnDbMmeKfQEIXu2O5uSLDDxGDRMP1TkhdCUgZqJTH6JHM4auPROG3cfqiWMvGKEPaMZQvh8ftNOaUlG1ictGeUWMImjDpEypDW0D6vFxVWs7yZ+wuqlyy1SLHY41ug6gK66wsAVTXIpYBkHZd91ScdGnZUqg6bklF9HdwcV1tZiRxH7DDcAv4WNpvbAkoK8sclndhdlZYkNiToEXJ150k2JQ6n5H6a5/JRWr7l+2wJ0LDdZZ8bI3YJaXAUNQ0JP6VG0k3CkFYj9ojhaO9WY+xiMAsJPGuZ/D3xB99rfXfDgh2mNcNmKj6euRCSSOyWSGOvnsMwYdS2mFG/HE9+NBkxyTo+j0fXHXFQOpSOsCVdLSHOghQGIQ6OAqCUTXCkiKGM8mQCRgZXLuOynqiphYuEXS+VyOoe79DQURepFDJNjfByhIgQdib3zclBq1+tO4wMxjUtRGpLZ1CRTMgxiepEDJ2WL0XnBQvQeeECdF2+HN0iEdSkkvCnE/Dl0hA6F2OmlXOqNHdDN8bM3POK8Yn13JzWHI07etRnWXknAy/tkaOxj+tiiB0WDVP9RkmRnWi2Yaca48TuXMtJnjA6W6FxKyu0VfyUGyZ1jCkEr1khcvR7KJNDj0waew4diZoe3fHslx9jet0yeFhOJE4clA6lIex87qbcIpAfHlkIOIzPlrCjXKFNnrAAUQovNchZGUqbVFrXdlL1QYab1LKwlt47RYAEyC2iUSKOmIQrwHiXytLEdnECaNRbQqYcprdwCaJTp8Lf0oTI5Pex/I7/oP62m7HiVjG3/wfLH3kEjW+8gdSnH8E7fxZCK5ci3NyAQCIqJg5/3sQQikURbmpBuK4OFctWoELsDs9biNDc+QjNE7NgPsJL5V7dSoTrxTTVIdRcj1BLI4LybVDs8IpdHppkEp50Gm7OAxBicnPsvXXtyQi5U4okL6mkbp2K2RCyBMNgm0Joq4hGEo/ty2A8jZGd+mP0FiMwq3EVXvviY8RYma5R0TsoLlzR5q+Z94oLpqmVwynJqUQjhYATN6preuD4Y0/C3fc/huuv+R3O+/n5iDSvsMZjlzYzpISoSQZBTnO88y5Mu+JP6HvGaej+m18jmpXGOZnHAn3W1qqDNoUV1ypH2tIhWzPUD8+ZhRXHH4uVoUps+t+7kezfH3HuuuL1mmFexgZNsnWFbYfIpmKPCxXCdEtuuBELPpyCbS48H59fdwMS0Qi6Dh2MeHMTok3NyEqFHRA/UPIPd+6EEPsRxLi7iPHasyLFX0KkmZjQRXME7sZmycRRIJaEmb2ZgYtb6UhauqlnZacqVT+UBjlJx+eHWyopl9jHnYV0J3BuzMtZl/Kd8g/TWU44DZ4VnLe6Bv6evZDuVIsE9xUTUNJvq7gqJVikClsJNJRPGACtXHnK84LMzXCy5dlYVYXH6r7C7++8GcOruuIfR5yKoeFaHZdt4s2876B4KCthp1M51HTqidNPORO33n4frv7TJbj4l5cg2rJK3ys1YVO36pEme5gF+5HH8MnFv0L3Y45Ez//7o0gTQn7MyRbos45G2BxKFyRhf/EZFhx3DGL9N8LQ2+5AvEcPpOIx3RCZYbJjfV2Dx+9Jayz+aamVg0KWnq9mY/LZ56BWCHTIz07Al++8i0132xXYehQgEjeHT3In9OTCxWhcvAwNcp6WVkCqsQE+qSwpoee45ofkm5zHhaTcS8u5R9KKE2y8Qrpe7l4k73H2I/Xy2UQK2RS3eRPJmC2nFNUhHL6m6wOqWsWsD0lPM8L0RLMdBQZWYJyN6a+ohnejQajceQf4Bw+Au1tXZKhKkrc7EmnTn4V+zAlTxyReYtkU/BJ/HB3CdPPowiuEeVsnFkkeagj58Kk/gYvvuxl1s+fjn0echn0GbY5ULP5Nyx0UBWUmbO6t2gNnn3Eu/nXrXfjdZWfj91f+QZrrK/mifMMPSwcStltIoYKE/fyL+Pycc1Gz717o+7e/I+4PGP22BfqsYxE2dDx5gOLUB5Mx++QTgNGjMeiftyBSWSVkmFKSWpOwC1PghwY3Hzfyk0rGUUnVy+NP4L2r/4rtzjsHmV494OEa1JU1yPilNSMEnFUxTz4RFvQkRWKLCAlwaYAVkhe432ciIVJ0VPJNGu6ApE8ooEuxIhTUpQR0XRKmGyskkbS5vRvEHo70EdaVc66XK3ZwZyOpnDTzSSWRFP9lpFJJif2sDJTsJX8agUFagYkkIotXoO7rWagOepEbsBEq99gdPQ84AE3yDnXnhfHVnlGYlmlpISQDXrwx9yt8snwBunbrhu6hKlT7g6j2BnWnHh0rLzmIi2lJ5KAuncHk6BLc9urTSC5agRsPP0UJO8lt2Gh5e4+ADQBlJexUKovazn1w6YWX4upr/oWzTj8C/7z5n4hF6vSzshC2FPYKkazw9jv4+rRTgG23xcY3/hOJqmoR0MzKcgSPHYmwJcpBpYKf6oLXX8OMM05F9T57ofc116ExJ81+ecEeC7NmrPPaDuoPC7L9haRzMoaKikpA4vCVRx7CbvfeBXTtLIQh/vAEkaLkrB18RtalxMo1Lrg7jKSGIU7JK5JrGCDe0vf0lwkg32ngaHifB3lPw0Dy1jMx/JZHeY97Fuqu+JSv9TPrWs/VAutffjhmnas2fvYpWh59CJ+/+iZye+2O7a7/BxqlgmAnJ20m+GVHAP2bFMk6UunHX555BA9+OAn+zjWoFbKuDYZRHeDsYy8CgaBEId+WfCTxsyrajJl1y1Hf2Ihx/TbG5XtOxNCKztBhoh0l8B0czNGlhZWwhrh55kFNjVkAKqIb8bKhyQe2KS10kSE6K9IbNwjOJkUqY4bUUll6/6wr1laZ2MTCaekUQj0cncOhWSQx61FbQFvQYjL0BONTLnLiZo7SMCXjykokxE2ShhnxIZKqSHF+leq4V6MbcZF64+kE4qm4vJdESiTrVEaOIiHTcP3qeDwlAnRW3sshLnwbz7rFXjFyjIubCbmfSGV0zRJu2suZtDxynDFXBKSyhJsmcHGppMeLpJBUUkg4JUfu9J7y+pEKhZHk2t177YrKvSegi9+FgT26S3PFqyTWkWCGUppczEWcOB197IhR2GHUGNR26oQmid9ZDSsweeEsvDF7Op6f8RFe+OpTOX6Ml+U4fdE8dPaHsN9mo3Dy+L3Rt6oTssxItFDsdVB8lJ6wBSo1CczKfDkhbDNxJslmq6b+WtimRFCXSdCBgI4Rz3L2pWRK9XP5vLVOWK0MyYVZW0NOmpvNWv5VFUwM87wIJU6Jm/aKs1kSLQmOErUQqsft0xEG2nknxE4Jmv4zkjRfkx+2Bnxe5MRk9ejLG3YYcqNYl6QRtxjzCLl6PDyKEbJ1i3GJkRvIScWbY8VkfZvlYlFyTNH4fUiKSYg9tolbJibux4TYmzUM4vdkHC1SCXTp21crdDMjt2OAacHUV8Oolbj3JzPYqe/GuHTvibh094Nx7m4H4ZRd98PxQsZH77KX7kpzxHa74Kix43HMjrvh7N0OwKUiVV+8x8HYtnt/BCT4um2Y/KvFDoqOshA2QQI0e8SlUVklTWZBjJ0XUmjZ+aXg4xIiP7SNBVEKOddWyFEXmibtlNgz6wn1reE+BcuTIUMx0SiDBBfHYVu647aECtbWuaE0FzzcfJd6aOqURQpm3cE8wCxAvxE80vAeJUDTMUj7cpIkWTMmWizX92iBnDFMqvLRZrm4xkqBlYA810pA7KJfbLf4TTaXkdeMeot5kKsxrmY8rYb7QuZI/NTjSsWdkkNGCH41j3dAMOz+TA6ViRSGZPzYo9NGOHrgSJy0yTY4fcSOOHercfj5NhNw/phdccGY3fT6xE23w27dB2IjBBFKctgj9dsaqQ5KhLIRNmESm5sYmH0duesMdytX/aUpj6WFFnJzZIFkxaGELSTADjlDEh0TeZ+T0ISwdfPbSpGwGS7eb9NyRxtptIrQuATXZmmJItfQJNcecV/u6WgEY6hB55HjFFxyn38eeY/XFAmNtG4mtai2W64NCRcYccw2dJjJRcNKg7foD7WH9+RH05MPCkyhHWr0MzomeZLELUilpdIxNnYoaFjMqfqe51458acyCIiwFI7FUBtL6m403eMZ9Exk0SueQ0857x6Xcirv+MR4OIyPG3tI/DEKHZQOZSVsIytxz1uRvgQtLRFdAIprGpsndvYqDTRDq8NyJv8k7DRHFYj01lEJ24RH4tqOSrJVJKLTtoPW0qpMCftxW4Bu2TFlbJarrl2QkcKeWblKVRX0hkayekzIVt+zjHXPNvazNf/sd/PXSsitppDMTTjNe/n7a/lTOwsM01xH2fDSx+VghbA5ykTuq70dBPnKxzoneDDJYFoSzO9cSdHHsee8J3GraisxPPI5N+htjS2xjWXCss9B8VE2ws5ndWm+cnt9gns6pqTZaW+nX2owAxZGiJI0mYWF07rHzN1RUOhTlimVpUk+QjjkRA9VIqu91TYgIeTjkSM1GGdVlaqmiDc0yrW0XOgXy2n6zTaUhrXDUo5marS5x1dXM/y81YrV7FjNyAs82uD79BuPhe99F/IVtSVhp7WjzRY3Og7sOPuh0LjlN9ZRjVwwOfPFwD46KAnKRtia9kz1bCa/ES9X6+OsKapEyiHNsgjm95SUo9crBZT+YOG0TEeFKWsS39T1Njcr93irqlUv3NZgGc4TKuOTbtTWwO/1IVYnhC1v2K6aM8a89ScfZfOG5G3umbdaQSLWo2UIJec1DMEDDVOWOnGjFzfX9jNer9XIM013GsmvGl0FcWa7sUGjNbjm3DZE4TMHRUfZCJuwC0MwaFQiaSHrtD0io0xQt+m8HNlMtAlNCVv+zEiL9o/CMkXoOcOVFemQswopLIbCOv7ZoO3iXKPPnFrxKa5XVmgnboprs8hT4z9DxHnfynt8YjTarca2z7aT0C/kRqH5NtB5m6T5Wt7Y99a8bxmClVyesAk5sEOU+cMGn1hPOyRaQ2Kw5rWD9oOyEjYzPceycvEnDlbgruk6ttWWckuJfAm1TniQcy2I1lElVB47SukU79pEZrwsv4xfaclwerfUlEjzWsmo7QK1mm0aj2KkteLxuJFlJ648td9RspUjYZNnnlzXOF/NWN98FwrftY2NNb+X175hCD0nQdOjjCuBEra+YGxtrVI6Hhg/eiwwhH3fQftCWQmb0lcmYwjbJz6hDjvDmWUkyFJnGMs9I1GLYaEkNAebh5qhbUIvtf9+JAqJkMifZzLIiYTtYr9BwK+jLoqRCeieGv4wyrzs1PKaPgF5YsXiN2Df57HwfE3kyfg7jA2efpv5PvAdTXMKERxaI1DCtn2oNeLafNhx8F1x56B9oRhl9QeD2ZyTD6jD9npdqr/mLjTGW+XJNSr70WklZrki41i3eM/8EXKnnZdT+ln9bR8ZplQSaZGwXYEAuP4GKyg7GPa76wvj1hrRw7gTo/H5HeDTtZn1xXrZyXijofqIp1YLkOGzw/jtVZADB22HMhK2KTIswByN4fd7dQoxpw+X01uFhKIFO39tFcmOWi4ZDJJOPImESNhu9huEw9LKb5Ww2zRoVrStbqfGqDntIGAFzmgzF3agzA1HEnVQapSRsAWa702B4IgMzgLnWGy9W87CQH+Jp+iFvAqE4HkHLaSm4hH/i3SdFML2cx2RUMhI2IVhbANo9Flm9fiSC2W5gmM7h/pQAyM/jCv72oGDMqC8hC1ggaCEzUH5ImBbEjZRxsJMcrMKZauEbatCWHbth7wwp+0VtvdU1UN/C1knW1oQ5nIAPm6kyjdKEAjtsLPjksfC8w4AjSLTt1KgFHPgoKQoI2GbTM9fHe9swayAJnfLVBry/CzIk7Xx6mpQ0ub9dlxq1duW/zQo9HMsjmQiAV9IJGzuqCL31hK89UJhlGjdxhsZe8eewqftH+p9a/IUO055qm0vCRhDQuPAQalQfglbCgJnNpqV+0jYptOxXAVBCYbFVPxFvxlp2vjNgLKq+K6DlNS8z0k4DEs8ingyA09YJGzddov32zY8hbGVB90XR2yaa0PnigoWEK1oaAIBveYuNrzON07WGmAHDtoeZSRsU2Q5SoSk6KW0JzCjRFgCylOkteytWQDFf/QjfaS8xz+SX3m8+KOhwaFfObohGkE8Dfhraw1hM/5/QEDWjJLvA9+3jUIJe/Uo4/n3u1xeaFrzhP4PhShkIxmJWSqe9u9/BxsWyiphsyBQeqFKxJ7tmNGxrmX1VisskrFKrHVtSdg28ozUfkHf6vhyVjLRKBIiIAZqOlMXxQfmpe/BD3trdVBwt6NO3eZBfy10gLjjet3qTfpfJGwOP03ELMK2wuTAQalQVma0ic/n9+t2RESrhF1G0FuWKfSJ3uKPFFQe2issr6/uR8M6QHML584gUFUtl2bNljVje83v1zyuE9ZwZ73sKhXEw0YtZs7hN7sQpWJRJex8eCQwhWFz4KBYKD1hayHgwagV2MlICdvPTVQF0ahIL/pSGYsAS6j4i37TBnEBu+S9VUbv/VjQ+7oCIlsvjc26tLOvslLD+X2j6+zH3/HKD0YHijILJtT6y0wreZS7ECUiQthS6zFOO16YHHRklFHCtgqDNDlJ2LaEzU0Myg6LsG39eiHagrhKCsv7Xp5w0fmmCLKS6h7uZM6wkYhKQTvqlhzUvQ4EqdF0nwX6W/IpF7BKx+Lg5rwqdDBM5k0HDoqOMhK2kU7Y5OQ4bHtoH5dYLWsRUD4hueSEs7+7NLZn6qG3NX4t4+MVB7o3tyhhu7jbjNzS0dHfEcY2gzWdWzcD6FBwCWFLBDGOfD5d3D/Lrc5Ewl6zMnfgoNgoI2EXQDI+J84Q8bgUBhYSvSoTWA6FsFmZ6C7qBegIRdT2ox4ZkRIG7iCiW6U3NyHLqOYGvNZjCo9FCZjYmbdb0peHLDeT7CgQvzPa8sTs5Zo3XmQ4rI8S9hp5w4GDYqOshM2yrJCMTymbSJNUpGiXoyjk/UOIdK27YpsSa9004Hv6bjsur9pUV0/yRPiSp9wqPR5H1i9xHQ7os6IGQd23jpK+2mehncrtOuoM8h5UxYc59bjhEcLWJWK1f8OBg9KijIRdQBZSkG2VSIakUkbYHEN9b1aMh8uQsjLJP+hYYBzrSAeKulIZZmIReEnWFdwe7Js6+jaFbTUnQzGNRcpOUzrtQJHJIGghYfxJHuWIJg0DVTvFjDsHDtaCMhK2KbZmaF8BYXM97HJByl9enyvkRmlf/eV1G9KzHnUkkFNULcGfXAYpIRs3t2TTbdk4ZI2hKlbILHu1L8AlAqobWbag6B+BdWj34F7uNmEz7jIaho6ZHxx0bJSVsFVTrWzCsmARtk5NL09RpldMIZRfabrnOHSLunVLXdPRUBiLyss5thpShqTdps+gqCCp0V01Ru2VZYUsBF4epdePB/NofqEEj1A3VTvMKFa+/amCW8tlOJLKunZQGpSeiawUthPalrBtHbaOzCgXCjlECqSOYCFhk3U6WAG1Wwr0NgnaSNI5qYesFgwJW4NUXOJUd9Vt8p1HK0F6yrrV7kFvGq9qRMJF0makMgxyr5jBYBrmW3w/EExSNd/zLTc45ubGcFG1w871gm/FZOQ6LffzlCznhWmm6//ItVZmBfcdFBelJ2wrcVdP49bMoB19diYpFzTHSiZm5aGLUpV51Mq6Ih/JrfIsKyHzwBjzJP9imyNP2BKPXlbKVoddxwPDYUnYzA35fFqqnGHL+nIUr+hO8iRc6xlBck1LFCfkMiHeS2ttnX+ch9mFfs0/krgLGUmnlBzT8pHLK2H1yDMhdVZStCaXycInz8PLV6J5xlfwJVOStOVbrO2nhtIQdmFqWudrJrDL2kMxv7xqmZAvA+m0GTNMkpF/lVZIPB0IKgjqmSULyg13PoACEyhzXiRo/UBfSNyRsDOxhCQyfdMx4tKOPxNXbm0l6IqS2eLu7q/OaRwZw+GlJFQaQ516V/+ykqaUiPnMJR+6OJVVyNasgCl5WBKB9vEdfU9DZb41oE3S+qGRW255I5CKITBnFrJzZ8PLnfZZDHIZeHIpeFeuwMK77sKH/70T7nhMh+QaQcBBsVEawrbANLWTdfUE5uQZZi7JTJyNV07QXyyIqZQhbGkC67Vt9BXJ6rb/C4PRniD+Uj8yOPpnbpJktKDS3zT2Uz1vGxRaZfwgRsiaaq9MMqkvGP90BDC+BPpD1Z0QNtU6YhgG3uaxOOGh7YZsDbmasqFesVyltJyxCJtScEge1tY3wD39c4SaVsGLjKYBN1smsWfdci42tGqfKR1zjLykj1SkAbmqSgpZv/UGlv/tOsz6z+3w1tcJKUtlRSJvbkbjgw/hqyf+h9raKriC8oW0Nqyi4aDIKClh22mqictCrLCynyVhsyOj9c3Sgq4al+U3zYwuGVF12MaXJLtW8mvf0FgVj6qflaTNXbPjt55aKE5obOtNQZYfITrums5RKlSJFFM6bUswHHbcMTAalyRsDUNh7OUjtE3AhhDtNvbT7qwSJo3eUxZnWtLwThY+ya/eJUvQcv99+OrPf8WSl18SiTirg3S88p5PJG9/JgefCEVqB8PCM7HHLeXRl04gEGlB9t1JiN/wT6SefRErnn0ByTlztXXkjsURe+5FzLnnfgwcux22+9kJSAX9Opqqo6RnR0dJCdvAkk41s9iZ3BQEIi+5lguW3zgOm34x/hK/Wue8NEcrg1qHdgfxF2NSY5N+5pkGjWHhA3Nt0PaBsG3UeFLjhtfnQzolErYlnbZr2HGjkdUKDQ8ZkPlBXsqqLlsf8MectxGUtOmUekbcy0m8idFz+aU23aNkCwTEH4FlS9Fwx3+QuPsuuN/9APNffkMEjyz8UrmE5i9E7r0PEHnlLTRN+Qj+eEJJWsMgMrcvl4a/qQHJ555F7IZ/ITtzLgbUViCcSMKVlvfEJN54B/Nuux3hAf0x8NRTkOjWFfG0VMDimTWiyUGRUHrCNnnPIo7WVNb8Lih3p6N6iYaSPv1JlQjVNXn/WRWOGBamMnr1B8L2oAmAHc8KE4yiQtOZjoqE7fN5kEvFhLCTSjaFXukYoOJA/M28ofmjVfgwxnqtzcDEMXSt6gyXCBHCziRZE3suQ7ZyL1hXh7p778GKxx5F51EjsWnvbujS0gL3ypVIvvIyltx4Exr+fh2a//EvfHTNjUh+NQd+t0/VfulsikPMgdlzELvtTmSnfYbKmgo0y62qAf0Q6N0beOcDLLz5P0B1FYaeeyaygwYiluSwV6/60HSCygcOiooySNgWvoUpCkm81KDLKkGxo5GdjuIXDyeYCGmv5i+els+bPw6FfpWw5SvKIsezTSt0hdzGdTiC1HcmI0AqrvzW6rni+mV9sJrvxM8cJaIBomFcWveLCWtsiJK2+sH2kEsk7mwSgWgEkcefxFcPPoTO220L14knIibv9RbhJ/7U05h9zXVo/OgjhHp3Q9+KEJIfTENm8VJ4/ULYkg84plpno2Zy8EcSIrUDjS0RrAr6MODwg4BlS7DsuuvR1NCIYeeehcSYrZCQ8Hv9QfEbKYQRYCKBlbPtPQdtj9ISdmHGVuKQo5W6SpSCso7DFqg3+COEzTLpDwSEsEUyzDeDTTAs73YIGBlNIJ5ejbBLEAY6o7vdiAjnV8JOaIcu/UJf0XQYuES+lpYC1WWq1mEmkNaXRqf1SlvCtpPStIv6ajGU8SnKspORozdCqSSSL76Mr++4BxWbbIIuv7gACIewaOUKVHXuitScBUCP3hh2wdnodPEF8A7ph+oKP2p6dBd7KBVz4TWxk3r5oYMRnDgRyVGjEB82DFVHHoqqQYOx/NZ/Y8ncmRh48vHA+HGIis/SXj88ugEG01es0nJrZSg5ONJ2cVBSwlaisBKSTTE9tdOYmV9gVCLlSW1Dx+YMyaQStk7jloKal7CtQ/7YEVDgV43nAoZhuPJha2MwNllZqO0imXoDQTPTkVO75WlB9cc32i3U//xh3GnlLRnDWq2PI180jBKHdh5uK9i2mfHXrWRN9VJc4tBD9xYtwYo77kYuGMamZ5wBbLopMH+OWaZ44EBUHXEUNj/vPGDCrkCnTogtmAd/905w9e2FlKV/9kkYMh4vUFUF1xETUXvhuehx4c/RZadxWPXQo1j00cfoN/Eg1B60HxI+qbBEiGFLwythZqemdoaS9I1nFflWgIM2RYkJ2zoR2BncZPLWzF4s8vjhEH+wQIoUSKFDZwRafuOvOetAKPTwanFcvHhezUkxxiUXvEEhbEaqRXYdA1ZcMc6oDiFB2xK2nBfm2+LkXdpvDEmbrRW6m6IKgxtXz5mPZZ/OwNCtx8C75SjJt0lg1Uok6ZU+vYCttkRqCyFxjqWuW4UlS5egeqN+Qt5VaJZ3U2J1WuwS6kaWncKdaoCtRwMDBqDhf49j3ltvo+e+e6HLcccgGQ4jKZK0WyTrpHzjk289s2eh/p234Vu5XK85ZNARr4uHkhK2SUb5lX87a7O5Z67M03JPnNGCSZNJKW/nWEi/MRSuI8GoQGwyMTHN+C2I4zaO7jWjSTsdqU4gYVsSdofga9UZq/xs4o+dzz6vSNh2GBguE78M9ZrhbivQG0a+NqoRSvhc+VD1zrW16DRsGGYsXo74ijrAHwJWrkKGvYj9+utsxwgt4SbXy5fJoxWoHbyRqk1S8swt73mE+KnqSYnJ+qUSiMcRe+hBLHjiCXQZuy16nXoyckL+SSkLHB7oEtJOsyXs9yL7xRf46i9XY8F/74B3+VLNSpzA46A4KK2EbR1JGMzseq1pa5qWREYnztCUE+IzKZDqP0slYqbmtoagY8DyJw8s9VLI2EegcW3Ft3lFnhUxSJqabDKHQtbi/1yAijft+GzfoFe1w0/DYLcSOHlbQqBkTZhqsG3RWrVy6J7OYuSVpGNACDvLuBw2FAMvOAfpTTaRaBUpOp1FZuESeLnJcpfuiEt6U+Whfl+0EOmWKLr17QPEoqhZWYfaxcuQ+XIWMvWNugqhn+9+8hnm3/cwQgMHYaMzTkd24EYqSPmksvKKHwIS/CBVLok4/BsNRC94sPi/96Lu+ecRFPeyQvwsLcbntnHQFpDUKR1MspkMTsJuTUZ3XgdmFieSIl6GWpo+U1dZCNk5JhdedjpaflndR6X337pA+UQrG4FIZCyUnK0nYhXv6H1DAnpZFOisOhJBMIwcJWwhlo4RezYoRcuBUq3kB504I/HIfEHCLszJbQlNuoIz2x1mR+7RmXL7kK2oBHbbBVufewYq+wsRN9YjtmQpAp1qRfquFv7OIsQPuLn15zNQkxJ7Zs9B3X33ofHuu7H4X7fgk5tuwcqvZ0rjQcIn+b7+hRexIpFGf+rEh49AKpFCRsLOdaIoYQcSSSx8/gXEZs4CNtscmxx3PPpKlCx48RV4GlukbpBWiHqc/i00DtYXJSVsG2w8avLJj5FQWrcI03UarGxaehRkKk6hlkuPz2/IZg1QTdcRVHX0omm6y4kUXkqHOnuTFSTJplRhoEPcGV8kMJIdlyIoVyr/YFikY6KIcShxJmFgx3iOhC1olbCLA2M7f21jKg+2+KhqSomf0pI/o9Vhkf5FuIjHEG2sQ6BzDVAl9+QbH1uJH3+OxlffQLegH6kPP0Tzw4+g5bVX0PzVF/DLe6Gaaug6M5kUotk0eu41Af7x45EUkpbU0pavVk70glS6c594GivenCQtUEnTrUaiZ7daZFaugiuekKxV0EnvoE1RWsKWDMZ01MQsPBfYKhEzPKh80AxJqKQv/qIukGRT4C2elteXPwIWIVP/SbJk01bHElvxXUzp8BsQstNqWSpDXeFN0r59x6NdqUgsae1sCJvZIZtKWnmX93ksXlhse41vbEmbVy5JUiFtMVG2XJh5EzGkW1pQIdI1hJzzi329+Q4av5iNij49Edhvf/Q44ggM+NkJ2OT8s7GdmC5DByGbFiHF70OPQw/GgGOOQpZLCUie4bIRLJdcjySZkXdCQWzefwBWvvAS0q+8Crw/GU31EXTt3QsIB0USF6FgtdgoPHewPigpYTOja+Ix/VhYLcPMp810vW2u9dUSI5+t6AeLsFUaXRPl8Nw6QqNajHqZhK0StlwxXBJO3i9WcFZvgciFSHqcDk3CVhKQc03vYnmgTcC8aHlQJeygLpKUSwhx0e8Cs8wp49JcFwPGBfrGPrN9JmVHItrLFfron1QCiWQUvqBI2xxFIhU0qG9ethS+lFwOHATvscfCdeSRSB14IGLbbYNE585CxFKRC0FT/5wdsSWyQ4fqEqseN/fb1+5OTc8E1ZU+Nzbafz9UhUJouOUW1D30EOpru6D3PvsAlRVambnYQZv3a6ufHawfSkrYq0HLgE3YFPiMV8zaDOUrweqyFEgkTceYSzsdrWIi13a2K58PfzzoZ1WLUCUiRke+WH0GGg47MMUMFO2W1oqqEhLsH5AbdmS2c9DrqodnRVdZKXkji0xzi9IY7xeSaDHR6kqhe0KlkjF1T3qWJa8HjX4vohztIfcoFavkLdJ2A7m7Tx+VgmNeN+JSAcUyOcTFcFaEHJByeZHIuZGUCiAj5xxKSHtyrBAkzVxiv+4KNWILbHzm6chuOwbx7bdDz/NOg2/XXYXkJUZ06Vn6jX6kcdBWKD1hW+ln8bR1nct3OpphfQJN8NJDnSVhxxPqR3/Ab92UyoW/Bf7Kq0/aOZSsCQkQm7ZmbQ9zj7+rp8X6gfZZrn3TOiHsbCaNXDxOT1k32z9IyPmwVFRwRjhSLRwsJ09Wi7w2iMDvQasLpqIwlQXrEqpH5KSyCjU77oCqzTfX+5oalLYH9MfKzjWoEMmZLR0SvF/SIyBSuE+kal02VjI37fDKPbdb0krObVdMeomsLSTPDQ44ZhujRqD7qT9DbyHuqn33RbamGmm+auUtB22P0hK2ZAAdHWIVVtMZZjJCfnlVVUUw55U+0emqFkAakQKZYT3WKBF9ZhlF/qS9oiD+7FMlbKkQ8/FOWOlR8HpbIx+nlOzFfR3a10HAaGHFrJUcwxAOC8m5kRAJm9eanyUzFDH6voHWrMczVsBZKcg57RxERRUGnnIa+uy1t3YU6nht+nv77dHrtKNRMWaMzqzXMOl0d+NzvmLnC57zUs/5TEOoN/TIcdYpEbDSYnda4iNdUSn3ON9RvmcrivaYDxy0MUpL2AWwiVvJwrom8sP6ygT1BXOskAp94aYeUPy2Zv4zvm3PWEuJ4S2LZBgmXjMcq4WlDQNmW2Wvw6JSvRyVsK30bvcQQuOfTgYhy3XuDL/Pg+aVKzUslDh5u9StLTpnDP+EsMUv9GPG40dmyDCke/XVWYkcsUFVR3bjjTHk9NOQ22iAlDFuWSAyNtcmIWnbKWVbqrDTh0fbECwLXMtEJG2RspNSPpIeLzI+v7jfETqSOzbKQtiFJG3O2elo7hmVSGklllZYWY3kIhUHr0yno/GjMQSftO9sSZJpba5b4LX85wm7iMi7bPuBR6a3PNGhm3reccDFljTOqqqEsL1INDaY4YkMh0XqbQUKvbaRX8u0grdpDFUbwyv6Ie32IiWeTYjJqNwt55KHU0KoyVBIJGOf3LMka8uYETA0Nniv1Z3WJyac/NOKwkpbStT2LjZrZjkHbYsSE7bJWJLe34A9DjvN4UllBLM4m+1K2IwdTibQQmmed1hY/s+3FUg+RQBtVxdWs966K/c0Hu2Cbt5s11BO4x/ji/6urESYa2o01KvajJUfGxBE2+YRUq0RXGjoB+50zvm3nG7OaeUpcc82SbmmRK0mkxXCzuiQvLRlqISKszNRbEuJSZNkxT5uL6Z2qqH9lhtCv5x+bhvdYkzc4YA9SuwkbZZYj9xX+mb0WJ7lwUFxUBYJW9LXAlPZXNjD+jIZMyGhWITyXaBXVPrkSBVttou/2LmS92/HAmNQje1/ho/ntpEf81eA1S7WDYbk1mKVfdNKc+O79g/1Lb1KxqqpQXV1NZKUsBOm81QlS77TRjBpJjQohtpp6qZJsFoyrBE+bhFwuOUaBR3OLGQnIVuDXBOER5/Xq/prr77jle+EYr2cZCPkLpkg5cqKEWKWY1bu5eQ5TdY68n37XuF1lu7TiC9Ny4J+NaZNI8HBWsGYLyvsrG5L2EaHXS6ItEDCpoRNwpbYcXEmVz4ntmbQDoFvKUT5TkA9SApY56VAa9wxrq3Tdgz6l4UkL+uGQgiLlJ1qadFFkqjKM0o8Pm6bANEuEnRCTtiZ5/YH4XW5dc/GoFQSoeZmhJuaUCGmcsUqVC5Zisr5C1E5dwEq5y1E1ZwFxsh5xZIlCEtrIJhMwJ9J6VZgPjdX2uMaI1n4cxkEUkm115hYq0nKdSqBYFqe08j3wVgUAbHLm+Wep0biLgTjq8OUjw4IV7T56xJGr3FKJ03IHzN7NBJHp65D8LtfX4Y//unv2GfPbfHM888j0rxcO3RKCe7S0Zld6A1NwAXnY+q7kzD65n8C+x2Aljgbk+J38TenBbd7SIFnZx91rJy6XMmWy7x5qDv+OMzye7H1I48C3XqiQcIV4PhiK23aAraErZC4YnO6mqqlhx7Ea7+8DNv95SqEjj0OLZGIVpBm15L2CVbRJOS0UFOVxKErEkXu3PPx5vTp2OXRR5DZZBM0C3lzgSXGdVtEo5mI49LRHMFYAq5Fi5FZsRzZWAtali5BelW9ChV8Kyv+cXHt9phI+2mhT/GHribIZ3LuqggCtTXwdeuCQG01/BVheAN+eEQCp3CUjMSQqm9Clns3UorWPiQB04XfU2pnuHjN82QWdZKv+uy0A9C/HxISJ+zYbMPs4+A70E4Ie2P8/re/xRVXXo09J4zB8y+9IIS9yhSAEsIQtvixTpq7556ND6ZNwZhbbwH22lsIm5o/8bs8ZhHmebvOoxJ37ZGwXydh//kqBMUfzS0R9V97JmwzOYaEnUWFSJhutgAvvBgvv/Y6Jghh50aPRn1jo66et86ErZ9ZMrx8T72wj+7MnoNl770P19QP4V68BNF4C+JCykKbTF7t6JOmKVxeHzIkTZ9PSVXXOhG7cmwl0p50ShqMKVWRcF9N7oBO1QnVIVzhj2QtwjbcXpI9vcOv6Rvzq36TB+GcB4GsBx82NGPMb3+F2kMPQmMsAr/Yq584KDrKX1KY8wRrrtZn7pYYdqajrlLXZpBz7rCxhm/K4rc2RF4lYq6sYwlApwqc7QjxSLLiL1tVKntKZaer4CVTyDU3SRgYChOodVUFGBeY6y2yTqTR8tYkzLr5JiQmvwNXcwMiH38Mv7jVc7/9MPC44zDwpJMx4OSTsfGZZ2DI2WdgkwvOwSY/Pxcb//wcDP35+djkwgswTM6HnSXPTjwZ/fc/EJ232Q6hQUPh6dEHudpu8Pbsg4rNt0C3cbug5957oMceu6Pnnruj1157idkD3Sfshq7jx6HLLrug0w47ofNOO6JLZQXCS5fC09gs7CEEn89HDkqB8hO2leD5qenWsD6byEsOupsnbDmn9GAVSKIjkMx3gQSjhcxqNpcvnq1jB4CmvvjXTPOWfFpdjUwii0xToz4wpGWbdQNzPQ1nHWLBYsy88WZERHLvf/SR6DZiMzTkUuh5xGGoPuN0uA45WI3v4IO19YfddgN22hm5bbYRiX8MMmNGIz16K2TGjkVu1/FwHbAfak44AT3OOgt9Lvg5+kkLYcDFF2MjOfY9/wJ0Pe101Jx0EqppTj4JlSedIOZE1JxyMmpPPQWdTzsVXU77GYKnnQz06S5lwoVKLvTEvFOu/PMTRfkJW8Gp6STGAsIuC+iuZEAWQEr6zIxWRbImyuXDdYcpWAySEoxOd2PT2jSvzUPrWAp0kAikN42UzeFscmRkcXq6RF86GtWnRk22flA1Ei1hfluwEMs//wwj9hYy3n4sEvPmIda5EzB2B+TCYaS8Hh3twVEjGSkvnAiTlvRMZ11IiyV6nZZrycJ6TyqZdCiEdJcuSPXtg/TgAUhvPATpAXLs0RPpmhqkq6pajUjRKZrqKqSkNZHg2tqdxUgrOMFFpDpV656QHNHFlrHWV6XMOz9htBPC5m4WXKyGgzNSknONPq+kKHRQ3DebAQtEmmB+JPhKR8+XZtiihEhLmYBhNWdFwuox1lHjkHFkZjvKSVU1AlJyshGuJ7LmOIkfD9qthhZRYKkKoSLoQ5xqh5Y4Gucvgq9vX6BbD52nkJQ8qeOoRchJe71quIluVog8R8HH64fLG5C865d7Pn1GHXdK/EyTFHfSUstwPDdNhgs9ueUdHsVwYwROsEnJvaSYOKV+sRPNLYgsX4Fgt27akRkXoUbzU5FzkINWlJ2wTVJbi6wLElzDw9rNo/Sgm1YGZMeNXrYSNk/sNzo8bMIuejznY89AnLNdXONJuwX9y2pN8wOvRFr1yyHHZUsZjzy3X1xHsCCqDpyqql7dUNupCnUiZSMSRyIShVekYG5QkCJJZinQiGN0Vwwn1PDIz9WoyE//GmOaAPKNvKPfcDSIGN7grfwD9QW7WT3yOrs22R3MzlS2fr1AUxTRphb4KW2HQ+BGvCb4aouDEqDshG2Ds8eIWDSmpF3qESIK5naCUg4LjuZjiSLLK5ox9Z2Om0HpfeVqLWkmHMUJjTpSYATikHHLuu5IUPLjifjd5zU7hJOwJa8YKXPdQ8WvbV7VYRqVFSLA1iKybDkLBLLJFPwVFbrqnvCo+MPsnk4VDQ2XJDbnPGata3Nc7Vz8qiNI5Gg/oz2rGwmSHM36L8zx8scpvyTtFiHseNxsPxbwq70m5IJ1DbyDH4WyE7bJ6y5UVlbpdVzIOi6ZQndFKQuYYzOSudnck0v5KcyL+Qy6QaBYpYz22qYAQgQU7Fo76ToO8pU1MwWHz8kh0dysYcpjPYLEfEU31AqvD8FgCNlYQifnJBNxeCnQeL26wJKOl7YqCYtS5c/yoxijUFzd2Pc4O9Fs6CuXBeBz3qLJf2W/p2GUO+KfhLR+fTXV4hcOH+R9B6VEO5CwTfYISxOLSCSSSKa4eQDvlwk5NvUy8Kh0LUby5QaRNS2pyq6Iig3jQmHMCWHwJqU3RceIVe2Y1TPxLwPg4wA7yauc7ci7Gh7zxvqAtmiMuL2S90SKp53JNNJCkh7u1yiXJEmSNb1BX+lRr9fNyI+agtM8eJq/5ANpUVCH7q8S4cpDwi547qAkKC9h5xM8I0ILp4BL/pTmHwfza2YqJfJlTk5UN0eZg7o7GhtSWKyzDgeGTQp+iv0DbL1w3HuRAkOn1pp6IiEyXXXXccavpvFa32x3aM2PcvRxJxaJzhhHiRRG47qHZXU7JI6kEvCzs08IkioKHwWafJwVgB+2qeGPDcstvSXnIkzxsZt+kTzE2+seYgfrgvIStsDkv7S0Ag0xpoSsWYuXLSMwR6oOWwoHC4x2uEgBEg+pDtO0EflmO4f4kX7WozlHxkhrhrALK6I2xtqih+4L0TG9ueuMTT7fIKB2DA0W/Stxp1yaSGheMXMI2jAc4gZVcn5WqvE44lzTg2oIScf8jkwlwDeSUfzCxoSP+nRpeXZg8aXDoryELXncJHpWx3MS8XgW8QQX1SmD10jWJLdsWrhNKg2uciamNVvSt5z221EyKv1J31r+FbJOc4oyZ+t5uUNI8cKRpy+msX1BwpaD2XHGkhbzL7ZDqN8KUt/U2BoOr9eFDAk7I4TdhpWOVGF6zEhaBcUdRJuFsBOo6NRJvULCbjvXvh2ac8QhjkChGk3vpMwuTN6ASNgS5tWEcQclQXkJW2Dn9UDAj4BI2Qkpyy3NzYYsiVLkzjwkB9I9IRROPYY/YHrmNffqj2XaP2xfuuwWAcMllRDJ0hcImg4sS8pt6xBpkhVYqqe86VetLFJCQHrS3ku85T3No/Kj29jRz8Gg5te0SJy6qqMVQA33+oKOCSsynUKsWFctQ07KRbBnLz40u86XCHRJDd2kSaeUxM2mHgK78DooGcpL2JIJVMrKpVFVWYXqipDW4M3NLcwVmlHyxaDIeYMZM49YDPFYHF7ukM0ZYhwxog80+8o5j7xTZE+tB1r9y4McGc9CAlkhba/fr2oR08vftmEotM0+t3yhrRXlIyn4rU/b1v22hvqO8WTHFTNoSAg7FECSE2dSSW0NmlCsf1g0v4tbbslzPsbT7FkISj509+4jwrzct97Lx2mRkG8VCTToNCL1U+I26jTxabE94eAbKC9hWzU0C3BVdSUqqBsTRHQGWdtLft8GZk41zJn0E8eCi/QU0MkKwQLCLqWv1hMMCo2cqtaTYZNwIZWVJq20HEjY/CtSqbPjazWImyS3HKfFi38MERTH/bZCq45djtaIIRGv5T+IJMdhJ83yohoUfW/dQFdI1mpHLoswVYRLlwGffwGvm+orcYNCDCsMibM2kue/E7YyzfhK0kwqJ1WOeMVvxXfewVpQXsK2kOUi6gEffNJkJqIsCHaWlAKzPgXhR4MEIu6z89NXGdbV2dJZrtpgwKLSEXKr7UvGnWnSyom0GrLpnMSzSNhcA8I81d+SgJ11JDf1Dwm7hG6vI0wcGl+a1qCc+CSviskkkip1muGffKMNQqMOZhCm/nrREmDWXLU/F4/p7ETOTzCVSDFjjnYXGh7kKIIVCdvFykS8wJKpwXZQMpSdsO3M5/W4hLSN3rqhvoFP9LytUNjEK4RK1jyaS4HcaGpCMpVDsKZKpCmv9tjztnnHWPQt1rUrmHBZxYoXQtjCBfAFg0rYWRa/UrZrSTiS3uxQY0XcMWLRikeNQvlhfHm98IuU7WY/RzK53p2OhTFhp4mHUizTKxpFjyGD4e7SCYl0wqx3Le8VNdXUM7YrliFhS8uIV2wpKfTCQSlRdsLWLZYyGYTCQdSQIAXLlktTMJ+FrQyTv/7xsMnaPvKwpm18ppFBp1auhAjYCHLNBJH6KWGZP0N+xtj+ap9Q3wmR0K9GwypGCj9b1L7KCqvTsVA3X2yIG1anXUpITs95rxROryMYN/SeMXIl/7oji0jXFZVVyEbj1N9ZszftL9YB+W/NGCQ95do6mRyiEk3dJuwCV4+uOnrKjNgoIow3jJH806p6kRsUXAQssw7Kg7ITNnvemQlD4RBquUaBIKIzyIqTKdZmK/Mmi4FGBjNlYwOScjNHnboUHGZaQ9BEB8ms4k36mCZP2PE4OQDuYEjVExwlUlIJ25Kq2fFpzum/Erq/DrCJ2D5qnFElUlVjRolwiy7GrXm8nqA7Yj8zoggKTKt6EWRcwzdHNhSUeJNcypmq5uUiQ6so+ZUqxAReywaTrVAlYz1xUCK0A8I2mZTrYVdVVeo90+nIpqFeFhV2huNRR1xzyNmqlciI2+7aaiE2kbC/kSt5wzbtE7bvSCZcO0KYRiVsykhurksh8V6qop+HkE1WmtWU+Qm6XmIfrBNsOVPVOcwMHHJaWWnGk0uckr9MC2zdwXqTbqgtVDlUhJGSU65LjapaJLNcQc8taVmKGLM8IzlE1YEaMjGWdK98LdccMqrnpfCSA0V5CVsyv03YRDhkVuxr1J08uOaF/ay4OcLKjvAx98VjwMoV4HLCoe7dxGl2ztkyql10CfmiA2RUjT0NoBS2uBC2nHtEWqPn9ZkGogQBYdwKwXG1OK9XCI+Ot3Os5kW5YGFRyiKhSqWno10oZTMuNZ+ub6CErmkPp1GGK5SwOawUoSpp8Un8aV4sMiwHmFz0C41qr6wHa+YWI207KBXKStjMAvn0lhN7idXmpib5ZfOLuUZvFR10hpuTkrCzjQ3whVzw1naS+yIPUqIq8EdHyaKtlQthyCUrQXSTsK2I15Xb9KztUGgfoy0fdRxWKJJ+kJ2e1t2CaG2XsP3HMKmumhfMJ4xDidJsXFpkhDxQzl4P0A0dj8QNi6urkBBnslRf+QNK3uTs9XTiR4FuMZtop6qWRblDT9JoYC3flNJTP3GUlbCZ7oRKFS4PamuNDruFOmzVlxmdoXmv7XMF7S+0283hSuJ2sr4e7rCI2FXVRiKVAlrY4G17n7Q97Ca2nvOCnWUxkbAliF5pbjMUhe+0NWhvodFIa24RQV8I21J95eO0WJ5oAxgNhFHi8JRLQythC5Fyp/FMzEjYJigM0bpHKq3glCLd6Ld3T8Q4P4ULLfn9yFj6YyvGSgS2gO1hhAI5Gp42YdRyy+t1DK+DHw9mv/LByoGa8JLqnbhegiAqkpiumaAZhM+KDyl7xj9C2PGWCHIVQirc0y6ThouFRd8y4Llel8Zr6wRV3tB/En+ayCRsjjKQC5eqROQoz1eXwtcfdJJxSaPRIz/akOeNxmY9+Ku5kJG4S0Poi+0PrRKtiUsqkXQdahJ2IKD7OtqE3TaxmDMzCelGj25ICGG7OFqEI3pKtIZIITQPFaYTZzhKPGSoCpJ7ytclKp8ODMpL2AImt53mtkqEGxhw8SWzAFRpMoSRjCRjihQYj8Tg5oYKVVUq2Zie+bYqlKUF/UxBTXdkjcV0xxJdDF/YyA5RW8awkpwYEg/tpRseZjMy9fKVOvnDyw1lRdJWEmz3BZ4BET/Sm3LUfMKWWMCvYUrpJC8Tzya05mxdoF8yD3L52W5dkAvKOcsA3cun0rrbv67QFQKpyBZJn1GR5pR5OapAxRdsrzkoOpgTyg47k3spTQi4iQF3gdbFdoqIfD7jCQ0LS1MTEtE0PNU1gEjZGXlAX9CHa6oQSl90fjgsalEJSIfNcklTqQi5WqyPelENPAtc24fCjk7LCXgZrxylsmqVELY0sblUqPirVSXVvkGSYhBUwuYNkqhIvcwP2SQlbCssDAyNvrRuUImWhF1bA3eII5SELCnZlhiGjOVPAq9CCzORlE8GTSc+WS1gB6VFOyDs1kT3eMx5PJ7QqeFuEvZ6ZP5vw5rZjNcelkqKhQ2NXB4C/trOqqekDrvDQhiF42g1vJwJZBG2i6v18W4xC5xYrVEnP0rYdL+pGTlKppUVctsiP6KI3lh/0JeMQx5pGG+SL7lUrFxmEkLYQl75uST5QP14GCvkl3aINNu6YiUrA2OsG9axjZG3vtUtErYZry/XknYe+o0drbxXLH84+FaUmbALEzyn64kQMWlmJiRTcN2EYunIbFvpAxod30opsL5Be+TDXbsK0wSQlnvF8UHxQX/T91r4UimkI1G4OeU5XGGkRHlhzVZDW6HV3pwUcjlLiPstETMGvLJSSYCbyRbH9baCiUEa25d6poTtk4pICDsWkXxj9XHw1XUNDiPMnEjaCFFThSTp5uYQPwucq1B6qVb8xbxC/4WCoEyVkXxEv5XeLw5YYkoIJvCaiSzXmvA5Kcdm9AC3CeO+jrxfDMK2y5XtEy0bdIedKc0tOmlGO8ZEwsmSxDssLDmWAeXWa+wg80qlSJWIkI4UOflr2/DZRJ2PXxZsOiESdkIqYg+H9IXMMrokP3W9bb1QBNCDNPlQSTx6lLyy3MSAfRxy3jZZVSwiQUoEMXW0H8ey117GtVhCTCHyLjD9rPLJdcApYetu8bzHMJu3HJQIJSbsb4PJEH5uGCAgSXJ9EWaKYmdO2q6EzYJBNzlCRW66SSxyz+wwTf91TOSbs+zITSTh4kp9XF5V7mvMMo6LUuxMadb0o/uZNJJCbrq0q9d0XpGQ9L12jbXFjfjZ69W+wBw7c7NcAWQ945GfapwQ/OXYGquyk8hqjanC3+KATqp76h85Y/oRUtGygZbkeHrxE8sN05HvOygN2glhG9hNLHZKMyNodpFbxcgQdoYkOFRLF7RhZwonztBNdoDKPZdKOh0P9DODx0KlkShSUSaZgJubHYvRWXqC4pB1IcRtiqIStyRsD93XmY6kAvNnfNvBIBWPSthcsY/kJZmJ+WZdYcdCqxXmTCs80xyx7+hvSUGH6Q8StoeEbdRA9IlZv68MfvqJosyEbSe2GPk3w/g0Lwhpq9wr/3YWto9tBHHPNMhJWTkz9C0jhU9IRamM+nR128hOHQ0mZCxQEhoGIxpFOhGHly0HkbLzunn9aeO4FRgb5deOOolbXaWPZO3hEqGMZduX9kvtHCpOWiYYUsKOtRjyYhiUXNcxKK2fWXFGAULyn5YDsdfEZzFS6psodKvVPfFUKAif14WU5CVVH8pDfb6OYXbw49EOJGw7tYU02dnCM7mV3/iTF4o2zhWS02wbKWlzSyZdbyMtpCKx4glK010ecEeWNna5dGAY6XlWPJFmJGJxBLgCoZB2hmEVUtDH+nIbgiokVSOJ/XRAE9QsJJQhEXnMzFETszQdA/Spqpgo8Qphe30uRBsbtUOX07fbbOlTTRu31G1eyY6SH8VNj9hfjGUEvg22O1o2mH8Ybsk7fr8PaapEpMXkZSeoVbE4KA3aiUpEMoPAlrD1yvrhoWjZgXlNDnTVpZIMCTutN73Up8vR+Gzt+K5n7QEsbDSKSATJhBQyrv7m85tV5wTFCINJLztmBXRL4jaXk2Y0R1iIsZzveLD9HQ7DH/Qho/s6pqQOMqFuEzAvin0eJWxp9UkFod2NpYwzcYshWi1UUtFzP9BMPC7lJKNr75huUEEbBt/Bt6MdELbd3JNMaRM2y7eW6OLlgsK8r5pUSgmqi0mrwODRMbBGw9oRQdmZfjcFXQx12MID/qoqHZKmw+oYC3xsPikuhLAzmYwOTaP0mJ9q3aGkM4lTEjPzZjiEUEVIpM0W7dD1SuvQrDiyflAbGCckbIkrnVVIwpZKjs9KGVv5yt6G5Bu3LfUz/eQ5y6n6qSSZyEE7IGw7C7YSNgUMbXoWGXRBXdHyIW5TuuYMSznVhaDWUjzsb+zv2i0sv2mh4+yfxmad7BjgcEWRkgxhmsJWrGCoVkQjSiDuUSXCAk+QvPmoY1WJ9jA7yaDBEMIVYSSbG7nNv3BsG88ZEHc8Xo/R+zPeSOKW9WWLMUk7l1QiGfpJygl33zHT1q3nDooOw5BlA1PaTm3JjVaVrvm+DfP+mihw0UBOtEWrNYXJgJxCTf/wnTV8ab6zb7RLWNKzwEOPcrjiyhXK2z7uBC9EQPUEo1uNvtl2sFXY9IHxhcAu3KwI5Zmt77X92VHAlpi2DQJBhMIVcEVEwm5qkIDk2mRWrLFCfpWwvcipEGGt1CfGelpi0GFxVdKOe0pmOUdCKhHLOw5KiDIT9uowu1u0PYF8F5j5ld5YS9BYhG0PMVR1iR47Fky4LMJOiURUx3U8RDDkDE4hA65RwclCzADFCJtxn+QmZ4xLlcgknq145TObgDoaMvS4Lwh/ZQ3csSQyXL9danwzxG0dURgXzIdCjD4Ov0xJmSBBMr7M0/JB/WRXImnJRmbmJb1blEzk4BtoF4RtMmLOSGClhpXR8s1Z8QNPjXqGum1zezV0gMxpaRbNcEUWeCHsjF8Iu3t38X8bN9/XAtpuS9mGsDMFbtJvtg87FuhnFSuETF2VVXBRY8GORyGz9YpR6+N8nIh9fq8PLpKjpB8fs3SslxvrC5Gw/T7xE8sppX5W/GstIA6KhXYiYUs2lIRPURIUlDoPsBDkdakkFZ4qYZviob/mtIOAAfj/9q4DMKsi6570nhB6U3q1FywoYkFUxF53V8GOYlcEBBtdsO+6VhS7sv6ua9lVFEFF6b0pSu8QIKT35D/nzntfvsSA1BA0N5nvvTdvyp07M2fu1Of6BvbZs7w8FG5JQUlsOEL12TO9tfS5ZO2PpJk0KUvLS/3wXoDtTmBUjLLz3FVFKsdYsIxs9F07SOJiEUb0LszMdmnZm8TQszVhupp4QhER5mmz3keLtTlHy0wrjZQeL99cYxvKZIcbWFuPie8tT+W2Etn6M1MVAWxRCHQOtt3tTcHfXbLKEXRmgwqm4rdB7YOVNNygr9Hr48ZMV1oasrenIqxGAlCntnXdQ3So0H5Koj8ubhDkbtxQk2TryVmirtJUAYO+lQ19aI92Qpx9daYg3f/KP40ue0B+2LraPcPRBG2JTjkUaDM6adgylUmEamab5h/IFTMzTOUmsB2fF7++VFOlEItB1aECG6uzckFTyaXAj89qS9D1IC2NGp22sVZ2rbFtG3KyMhGir8DXTLZdjpZevlcyA0ndRySJOdD2QpeFhkQYr7/RotLzdw8pmEtfVgaa2uYYHWUVqFiHakmme0jKJpMWrxaKLxs2biHSZm1uR3tDfQ72PK7dJ9f3LBZP6h2JJ/GjSWvyob9qqjyqQoAdgnwtFyJJCQtXl7OSCoPF4tUR/xoYb+XVrPz3BwkJVAwUpRGlpyE3Lx9h+nBAQiIVJFU4525/kWnXvJocxUdhATG70FY+WKUP9GCqrmDFmW8MVD1WLU0qpPrKP2+Dz9bYU5Jfr6R54XiReW9Evkwrh4ISTLJGivmoobTiYqf1Kwv9alJNlUNVCLCDNGxyZRssKo3U7XNXv5BqjenBTarcTI8SlpGJvPwiROkrOtHR1r0NHgrd1yCgoANGy/cUASu41l5rWZgtD2PFD2LhoKDSdDFBKqQ+YOdkE9Fssd9epanUr0JyuWJ5aDHuTch7SGWiVJppBNg2hs28pJ3jspoqi6oGYHsFQxqYSCfnuTFlFlQVkv1ICl3Ru7E4Vyh1669YCWjaBxmJ61ClQZUrPdOOSImI1xnfOtpUqXaVbX9I17r2Fji5EGBLhtSwVdFNw+Y7ydvFfXDJ1/GsBLJ8RkZZkSnOz+OPt1aaby3te0EmETUINHZOO/8VZOVr2KXkhj40lMWGVuVKxjGqn2qqJKoagG0UEgBJTZS5ZXUOsK1c7OeCYbFo+CB4stGrKAcfiesShOuz3rpNz7B5orDYeOgs6v2dLuWXy0lWcI3tyhQUoriwhBinM89DTNs+aMlH5ogomyIIVc/QjjTYez1Y/i0MK4taRe9ySsBtd3sbwR6SX15UN4tVmLRKRLzsz4JUTb+hKgTYarRdNRdYuzMbVDf8ErH3JbXiFVGepim1yD54yEoiNlgg3VtnDjZSUu07ldJwc7JMIUJUDIXrtoZXKomPwkJjxT60zDx1eX0wSlayJd9KE9OiRTjqPVhPZgfJ8Xscu6p5WzGVhq1hI8tDmkA9qETyonQX8eAdH+E1wo6lA8DXn5gOOGAbXHp5XuSBZER4hB3d6A9H2Gt3u0dkKxY8/7r4xo9Yx1baMIEAW2tfWfcK7UOj9vogJaZH8tMZ37n6Bh+T5n1FR3JVQ+gaQ0u887KP0qtQZUoD5FVL05i9OovC1XTn4mAkGx4Q+zFRdry3fYGFPQgbLgikuWwKA5LYQbL1voxPyYjGdv8WOe1d+bQD7/uclA7jx9jQMCGf2DqFRIRTw2ZeslfhVB3alzJeTfuZDixgl8lodZPdGHZkVKTbliuVzKf9WFJV8GzZkjYFaHeZAXbuwV0QybtVcsk0J9OGXMP0xXLZ87VeOZHufTe+PAUaSBlFJPImlO3wJ43N+vYHIRmUqeZER7GchiLPB2w1hs7JblOwNFwYzsaUGK3IkGa7v8lnXlcBNPNIt+LExq2Vd0xzodaGU6GxA6mqqVLpgGvYpSU1hOXSA+xIVYQIahdBGoVfmPYBlQ9KQrBTNQTYOgdbdcQ28ahqioODr2AqjWHqVov02TNaGFiyIpqGTWvTnOTSKqdzuq+oVGoKn5eCfIsmlBpaAMQPVjL2mZhIDYmE2bcyBap7myznnb+SlwJjb8RWZFjYnn0lUWlUjJdx2+fPNP4TE4OSgmIUsZEKt/LlNfh6X037nbwaXTWodEgk3Jb12TinCup+LgwK3nX52F2PirLda/n6DJLAjfFXYj3Z9ySZ5hMsJcYIDUd49kG0v9LnwjXpmgYaaDQo0/2cpfuZyL0EygY+TJqv9g94ewj2VJaulLmG1GnwDFfH4Fr+afjBRbmn4e82MSJx4+LzeqAC6Ohoqx8lOdmmYYuvaqo8qlKA7Q+BqPvnrxLZX1Q+ZNtF5lWScBVI78vQQTr+QUfaWWjLQ9SFZdJCbcKPN17idSkvh31FgbFaXVXZCwtMww7Rhiivoh+skjXuJTgCdrgmxwXWTJ/rsew++fMrvkysFqgsKr+ktHjjxbIPyHU/kwNr34gn8qN8jIpEGBkJ9XugzFRjaU8SXk27TcyFqkIlLJduSMRWiezngukH7xc2A2x1+eLiEMFbA2xqN46P/czMfiLj2hsDVX2y4YhKpAC4KHKPBzfp6NkdpBRobgjYEUqPDi0jqOq7i9Yq7RW5Xp3VTOZXqPIvJ88eVUYrU2wG1koqyQE208r6EUYminQOuBQs7301VQ4deMBm5rsJqJKgw5/0XHklQdWg0NacURzxcSaUkhwCNrUbVc6DFVucJkjuqQFKpGHsPZjAffJEvD/T58LmLzV93YeoUWS8itqL/iAkci4k09AdTZHKCsuuAFtp3BN5+lq2yG4lHDYGYewlFWfn8rGyy6Hik1Yv0HZX0/prJCGcjOSnbbf6IesDQsoC/Vm3zT3vkTnI6MADNoXmNJYS5Kjgy8qGQyqPFLsbEuFNfLztWSjIpAahmX9VQqFdcG2p3JqzR2Qsim8Ni2hSjGkL1yqRcuTc2e0+p4CYdKPKravlraej8tnu9lP8+42sPJD56GjbCFSocpuRYedBBdK8F2QgJKGER7jjW70lphLTb2B7f8nOC9cmG41c7EhKQgQvOampHmBXdkNCUpyKlEa7ogvZe5PR0Ra6arVZkWenb2IG7Ip0Jrs2/HhArzAC6Ts46MADtsiEVkJFkAWzsomZJlAOfEMyIc42A+ampQHZOSwQ7mB6762jgyCTA8vqlC4VVPLsf09R7AcnIeB0f6aLldviMMB2y98Un3Xy9XBQkRgn03HxiKQJYYNYkp6BcAOSPU+Mny9Oa+RdlJvgK1aDSyGpcfP/ArHsR9mJF7taHHwST4kJiI6gDrCdGrbG1v0hrt015akiNxUZkYlHHykOp05VxEYzFhGRbDxl7D4GEVE0fHb2kewMRVhdNr2BSoz8W09eafPDPQjowAN2UIHztyubICuBArHoxuIkM7HMZBbIAn1FRGtNNank8aPD483YE+2CeK+yJA27iGApdm1bXsVM+7b7FrS9wBQ4a4pfP0SB1Tey3KdxVgKRX2vgY2IQEheDMAJXcWaWfY7NT9/ukY0Wez0Ohq1QJJfIKNvUVRRQZPRddreGXX97Kzt59U15Ml5oQlkg9N7aIRWOBAJ2VCg1bAK2VlLRSrKoyPiabHkTEJIXuQVdgbsKjbww3RGUzZdfjsPjI0bh24nfY/GiJVi/fhM2rN+MjRu3YPOmbWa2bk1D2vZsZGXmsX0huNNfJBtCrUBTeApL1wqFUAWpamjYHgW2pkuIgVzdf2RxqNCT7FcZF6VdlrzPL7CZfx/inDbojFyrilXlXDbOlDYBtse1A+P9zHMgeE+DCRDBho+F7J6KH/ESACbfU7DzSiXxUYExuVVsCvQ+NooaJzVsrUvOyPBkvRvkJ51GioArVQIR2fGH2qvkVFggwKY9HwjXpX98Z07NXyAoOiUfOzG+Ox8Eg+1kVP9kNCavXoMt3/MVl9hYREZHI3d7ugG2q6si+SxLzl5v3J9/51kGKNin77aiP3srfthLC2c3eN68BfjHP9/EoEFP4qGHH8eDA4bjwQeH0gxD/weH2H3//sMwcMBQDBnyBJ575kX85+P/YsmSpWSO6bOKzlCVLp/ZKk5VCLCZ8So8uqusMWxG5xUDl1/KOFuqZdzYUIIKs+OrtFg5Lg8CsoKoRrCUd5/74F+f9mW6fBCR/Aypddg/5VqY5SZzxZvAyNG+jHl3iXFXCM6SW0X2TFdIEQr1ZceYSKBmEgEbyErZZOVFlb+soZeKqEzanXqi8WIZk4sseFVZRImGRNwEuINsmRJqvx7QevHYfeB5J2ZH7nx7Gg1a6SyacBobwLIqSZnExSM6Lg6FmWygCNgCdPPLPFa9LWNsR6vuPTc0PvmNhW/41v7seQd/fKl/c6Oz87t1645be/VC7Vq1kckGc/GixZg9ew5mTJ+BqVOmYQrNxAnf4WOC9Btj3iO4j8HQYc9iwMARGDv2Q0QQ9E1J9GR9MFAlIeOuUIjVY3dXCeRFYgWB9/ao0kCyOmIWxU7b0O1BRpYuS5tLqClIpgG6Z5ded+9T2ac9JCdCw0At/7I41a9PSrDJquJUambsmprWpvfOtf36fiuVLGpFrMIXbCqyowkRcFKjFmBHRgDJyQjlbcG2bTama61SEO0wSZZ292d5RKPNKUXe1ZaYFuRjOzskhTabaXtxndzIgz955mLwjNJi73duyhDDkG+7esYf0rDGXvF4wwe2RDQ+CVEJCShMTwNR0r4ZqhD8IZAKSUFZLO5XRE7san546/NlPLhoyxoLQ4CudrGYosnHYYe1x/339cYjjz2IwYMfwfDhj2DokAEYNvQhXgdiGM2QwQPw8CP9cO+9d+Kvf7sahzY5FBMmTMDIJ17EunUbEEo575DvKkhVA4sMOFzrao+VIUAvCrvwxwqM4s3Pcz1bVTx2SVVBwoh2FfLk2K4ipER4xu51YUnX7kZv92aetwqnbEpcIlwF4q+XF79vfp+kmUl+OisadWsiIS4S2eupiWbl2rZmP05H/r0AoPSeGRNkZOXdmzulxftj/vhAY4aZKO1p14zvfkemvHtq2LwaA8m1EUkR56dqkjqbUF5igFLE93bdqSHse/fa0Sg/JUUCLAasvCMwptephehGhzK5YW6dt9doqHi6YQpakSwH+d4UDL70jXZiBoyWCXomPJw9SRlNyOnUQV1ZTszwXs+hkVG8RtmknSb0bDY+mfzUb4CCdDa8GensAcQiim4i2HjpOIkyRnY0Ck9jzjIKK4ImPMLFr4lDt+/C8S/NXEUwOC+LKAtdlceWz5SPrlr5kZgUj8MPa4uTTu6Ac87tggsv7IZLLumGyy6/AJddcQGuvvpi3HTTNeh9x03o1+9B9Lq5p1WRlSvWIj0j0+I/mOgAA3ZZ6PBLX3nb/U3MfnejCsFKp+HrUHbhtWzLP6zd1wACpDrlmQDJSUVmvxOZ8IHaN3wuEVCycmhmv4SaWk4aK5nemlux5v2xhvjXUqZ31fhUPn73NlxrJAlCqFsXCaxc2Rs2A6nbCXK0NwHKndOcDKj9iusZJ2Pnzo9PWaHJYAc+BIRwAQNBhWCjCaXIqBgzEVGxNHE7MVpRwKtnIj1Txo7uIqN5rytNVEQcYmmiYhLYENYAGh6izX/I2rrFeIyLqMEwkuiXJiqRfpyJCrqPjE6iSeZ7Gbl3fqIjkhh2AmKjGW4EAbJLV7Tvdz/iTj6NCRYwRttKn7AwgqlnBOQ2aFHiDHGfQEYwKyxBIa8FvBYUFrNMF9mkW15eAbJz8ghWWUhLy0QqG5pt22i2bnfXgEkvvd+ahlQ+b6YbZGQjPD4RYawk21euxtYNm7B58zZs2ZyKTZu2YsOGFKxfv7nU8HnDxhRs3LQFKSnbsI3xbd+ejszMHOTm6rNxyl9r2pke5mVEFGVF+VJGpSaZdjV5rWHPkdHxvCqfmX76LCrMo8mh1p3DNOfS8FmmOJ9uFWYIkmsoD8LwzTfjkZ1bjGOPaY9GjZsgLzfPytnBQiHZGb9aVahMsoqoLJKg+K/CFZtQC7fd0hsvvfoBTjiuFX74cSIzsoCFLN9aYDrfL2QYRSpgSU9SPP94Fqsf/yfQ/XQc+vw/kE4ACOM7W4vtkX9XevXueDHwcU9BtAfMy0tplI6C7coEyQez9yxZAXKZlET2FsJUIx55GHPe+RR1+tyIxgMHIT03BxEEwVBW9iJeBYihtmXdjSXuHhEhLH4Xt4+tCkXVEIWFiJImuCUFOXfcg3nL1+GYF15ABDWijLw8dgDCWR4ENEUOgJkHWn5l2qMLwdJTmj7yaPdeV13aFv8KCCB5Wq3B9Poatt5LWRVT+rO00bO8u0qqZy9oI4/zgIXT9TX8IB4ZGv+0NIzxkd/6FG3sxK+w8ZGHsKlJY9QaNgLbajdBcX6h05ipASpetwZYvJBf8cb7fLqRhq3yrbXCuvffq6ENIdiEaugotxB51EzzyFpBAcGoUO6p4VOupmWqUZYc+N7vLdh6Y08uZicNlc9Ki9zrtD3tKvb5siMhlHQRHbl9B5STWdMv8zaP+RKbX4S25LvLz/MRl7UVs1q2wjc1myCL7lV1XNwmcBcWyTW8zEm5CQsxzVsfQYiMiKQ+JHCW1i27cDZyOkwrFHHx8YiNiTNtW+6jo2MIuDX5PhzJyUmIj4+lDhKLuNhYutExzIrDpbWEmonmGFw+hrAxSUHd2nWRxQZixPCRxJe3USMpCc8+PRwXXXoRMtK2EPgjyHIpz1WZqghgs+AHAPv9SgNsRu2CFRvM9OjMLODBvljx0TjUuv1aJD72GLYSBKIC3XdH/l2pjUeW6b8F7IogvGIKClG3wd5+ExmJ7yVH/8E0UbsNZQWjTFnBqacBz/0di58ejbC/dkObp5/GdlbacBbukJBwU34VhOWFH1QQ+dGWf+Xs+WtA7YyCkJ1lK2WmLrzC1Vg2itlteXQoJr/zf2j/+CjUuPZa5FEzkqZcIjAjPwKaPIK47vPy89nZybXn3Nx821SVkZlBsMlHLu1ycrKRzedcakiagMrMzERWdpaNbQoQC32QZAIteoEPb8SbfYKON2qjbFLM0iHeRe7Gfr20CfxUBgmpIByYglFQUoRDqal12LQJnVbNw4bkRPxf7ZaYS+2vmBqt0mRgSv8a6jAwkWGQuhfgGnjapg6GbO9cHspo7D/UQDbElIl8gqo2g8iPpct3T54sgQrX8+u/E/nhlX8uH18ZUuJZH/jCHvVbxEedsdOc5v5w4OL2DfEytebBm9iA8J3kKue/CUph6Spj8ha4y4TZmfdaqaETD9VAq8GW+2hqzwJyudXHuDWMEh+fYIfCxSfEE3DjUK9eHTRq1JAAXhO1atdBrZrJiCWAx8ZGISZWmjewcMFCvPnWh+h1U0/MnTMXjw0ZhRgqYEMGP4S/XXM1XajRY7kUc+UZr6J04AGbVMTSEJtQG7fedBtefu09nNShDb6fNIEyzN/3gM0offC17+WRillYoktYWDZuxta7bsfShYtw/IjBCLv8cqTk5SJG3Xer8HTv+VddtlBcUGYnqohNBr+LFByGfn2Pv61Ydq9KZU4YO2Vp4COZ0r4gtASRRfmIVi35+GOsuLcfsk48Coe/MQa5STURaisPIhmy3DME8+fCqpgqsLdP88iIJBMHRAU0ZNB4lDaXlZWF+gV5iBw9BnPe/hDFV/8VOd26Y1tOph1HsH3rNgJ0HrWgLKRuT0VuTi4yMjII0ARras4C5HyCdDZBW6CVz0ZUQC6j3W2+nQ9+JisCEvHO0mQXXS19Lj+s6OlqP37uVUQuHZIt7yy1pr3SQzzr+vl8frxxOLJqJeOuxSn4mnaaL9Q8oURvUfLeGi4NZ7As2xiyzgmhA93bGK5AzMs/PQvQpHX648MO5Fweu8ZG92Ld+Sn158ar3SoN3875c+7kJ/hZFvq3F+LWEd+7MXMnNIGySktz3l+6cRMabFiOH6kJf9v6SKQxXXKlMCQj/fshldqrnrsGSr0glRHla+nuRNcgqdFR45udnW3ule9qvOVWZSm/oITAHUJQjkFCQgLi4+KQmJSIRG3oIRjHxUVR845mg12MX39dganT5uCC8zpj8c/LsGHDejz6cH/cefc95CGbSWRPxjj2lA0xWcXpwAA2C5CrBC4zC5gJMbHJuOmG2/DGOx+i44nt8c2EL+lSmVlgLTCd/Q4FSZwXv+BYdlhttX//pXPt1WBVwhh2dSMzspH+4Vhs374Fh17TAyVswTPYvdI4rPUa+RMo5IZTLiw/HCOfT/dKL90j/Qa5KkdWXXhxLvw4LB7vWWQVW/YmP8rEyIuQ/KgSiE8r6NQAw4oLEZ2Xj9ipU7CtX1+sZaFOHjYMBa3aIqdABTbSuuaFea5LropjYESebVjB1xK9ZyVAccidKlo+GzPTZHVOCN/LXkCblZWNvNwchl2ALGrC29Mz0Tw7H+etWI4m7Op/SFl/Gl/LhkTyyF9WVqarjKyUuQrTuuwCYqaZyYyOdt3nmJhYA7EaNWrYs7rBGrdWpVW3Whqbdt4ZOHpAKCPSs9PgHIr65cJpmhQfr2ard/zxV2HoT8hvk2G6D2EY/CugwGuy13Bmbha6LpmNdSynU47tiEWNmtlmkwi6D4twfrQSQZqk7bhT15/dfGmQ0h4FzD6oOk3TgbjS6QN2eKQm5krLhANblQu/bMhOjQLtLTzfjRqB0nsVFT6ZW/ese9koCP3anbvSD33xjymgnCUdfSM0mWlrsGAeNj7yMDY0b4LaI0YgK7Y237Klog8Trhk/rFIyUPZ6BxqOKTSwZo+B5dS3k8wzMthbYiOvMpnHBj2L4J2WlsaGPAfpqqPpGUjdlorNKSlmn56Wjky6z8lR/0d5rY+hlLCMRFAzj0cmw1NZvO3Wnnj4kUEE+DjkZqfZ2HYJ64mvOFZMynPv9jfkvVByK4kqHbAtK01AAmwfuDV+VRfX/vUveP/DT9Gp4xGYMHE8MzGXFXdHB984wFcF2xFZYaTxgY4+aOsqsIVpfr3CyPuIXBa61G20Yhc0KRnsXCOP3SY3Jqplh97kI/9VmJXRVtlUwazS0daLi3XGYrFfXhS3i788yc6vNC4xAiJGZrLR+KPGG3OyNaFSYIUvk13/nBwBXTZysnKQQ3DM5bMKrwpmPkEwT+DLChCelYFmS1birCUzURAXjy9btMK34QnILeF7pqKwgBVGY67W1fa0U89oTLIUyMgT/wvpxsBdhgBb2t13XX9f6zXApZsC8pCfX4QGxP1b2ZW+6Li2GL12Pf7FyhVTI9kAKSYqErExMVa5bOKQwCbtSeOc8XExBGhqUvFxSEhMtLWztWvXskknLW8TUEvbksZqmiWFbaAXyAfmN4XrQFG5psyQXCVpL626837soj9z4DWyTJeNleopJMLCoK6PZDY+DTevR+QjAzB31Wo0ffIp5HY+mw0g5c64tJxRf8p/gaYBqfjgvcZxrSyJH58Ct4rBPFkZkx+fV/FoafTcOv7FpeycpZ8WI7m1sNyjb1/6678oJVdOPX9WOygv3mt8OI7+w5avQO5Nt+An9oravfoKoo45Eek56eTVNRY7Crc8BafB+LLyz3rGeyt3euSzypEac7uybGtITCC9lT2z7du3Y/PmzdiyZSvNdmrjagjcfEi9erXxv//+FwsXr8SF55+B5/7+DOrWq88k5TNojXVLll7cOyLj6bfvnReXAFMCRDsLZx9R5WvYQfmojAoLDWc3pxhLlqzHnbffjqkzF+CCbp0w9sMPKCuqWKyUEj4I6k5wCsCNDdqtce8nwXcjQyBhBkv7U3db4KNullpnnT+QTaAT4GWw+yVwSd/OFjwtk4WCAEnwymG33IAwnxqfgRlDDcoQVQ6BQqQmRWLcmJtNqNDOur7kOVpalE2ysAtMEHIfZnDLiEwMqkxeZis8HyA1TJBNvjKpeWoyTV3ErVu3utn9TII03+fnamzXDQuoyyitVPZKrwp2EcOyyaSCfLTPyMXQmBAc1aIenqemO2r5NuRrcJt8kVt2fQVkLm2mpVFDMVAhv9IOHcBIOw3xgNFphlqWpXdKYwwBV5ND+h6negBxbBwEpDapRECuR7+nU+NscWgdLGdcPzO8+Lp1EEs/0ZRNVHQsw4gzGUrzjBUIU1byG20yJB/GQ4nTpAPAQDJh+sDlyKy8399QcMUiX2XIf5QT7151VqBpMRCUpGXn8D5ZXYClPwG39cKitWtx2OuvIa/TmShk46lg2YSZHwekMkHxlifypLcOvDwr+pFfGR/U/PBK2eSf3NPCxaKc9OyctfdTAZVGFUQWg9lbWF5ATssuQhx7EtFMHwY8jPEfT0DLQX3R5M47sDVtGyJZHlSeqYTTg/Nnt7+J34vVZ06PAYZdev0enU1A89k1BHIr7kK990qnm8AVoKv8s/ijSJO1YQmYMP5/ePjRoTZB+c7bo3F8h+Ot52ftH3HFpdKLV6Qogh7twXgsY+nqF3FCnzEUf5onkWKlMlrOacUUaAQs8FLaBb8HDLAFTKqc2uv/4gujMXXaQsyaMQOp6dlo0eJQnH/embYUJzEpAXXr1EGitDFW/jq8j2IlZh5aRopUqDQJpaVIusqkp7OrxNZXYJdCsCtgy7wtjUDojY0J6HIIgAJHdeWz2aVS6y3QdFqkxmPZZVM3TeBn8Vhs+iGpYGm80gGWQETg5gqX0+YcgLturk2wyI1Ki3i3IPTrVT7eKx2KXyAtLSIvjwBMXmyogA2IJrIiojRrHm2TMFG8j42LRaKWWRHkHGhGG3BKc7UwQ4pwTHQoLvjlZySvXIJJtetj+WlnIyMhGiXqnmsplUCa6RI7ThMUOJJ/Aqnf+Jh2Sgc2oy87NqCKU+6lEUdHa1gimnYO4DVkoSV2EVpvSxPH8JNZUMPCWRkjQ5HFChimrr5kZsu6lH5Pxiz8bozWJONETjun7buehyv0zr1z5fLIJ1+m+4ICYdEIfEqYvize1FNezp2FtTdcj83M62PHjEFW28NslYivvRn8Sb7BrJTjq+xTMCkyXbxrmRTuJ/KicjG5PBGZdAlyoUX5iNOX9//3Jab84w0c8pfL0Pjmm5Gele7qAGViXnyPHunJLSctay8qk36mVc9ae616FygDRuSHdn4QeuWMA3VTfngfGRGNNWtScNllV2H2nAUYOrgP+vXrw7qfZaBq+aIyZkEHBVaOZ5GzUen076W0RBGgw1HM3r96v6pvOja40EYDdkYKwRmTp5EfssOTClq3MnRAxrBF+dT8EpNqYurk6bjgor8hdVsmIqnZFbC1iomNIvsFrPCxpr0msnscqw8LsFIk6XhHXi2DPPEo8QJbjZ/aBAXBTsCslQUCOx+kJRTNJAv4pcGpmy2AU0GLT0wg8CUYCAmgFEcM49ZEhp59MduN7pnhAnrFJ4DV+JvGfNXSurE6NQrUhDU8IJ5onAatFQFehqmABIL0AiaPapDimN54pjuKYKj7xMRE8hKJBPKsCZYayckGnho6iI1LMu1TzwJPGWm6AjUN6tQnMCZ99Sk2DxqONa3bov3ro5HHhrCIhSOclc9kSb7Fj3GhZ4lWFYD/4skvRgboLJxGHu/WCDmHDMJPh67Ol59LMiElWmvhQNfiECkc6wG7Smo+LX/tRj/mxrkvX4n3M3lRWbLEk1gxwAbqUOZYthRLB/RHePPmaPpAP6Sr8eS7UIFTJbK5P8gaJyZCSbfkM3/CmFHRkgN7pKmLf0ZcoyYIb9oE2VRulFzVFZHlr905vzKukbW735C9EpkmzWZZBcJIIC1wlez5zqzlxpUfxWNelUG0CA2V8hCPUY8/gf4PjcRpp56Ad98djVq1arB+FtpQWlGhhvKEB/LCUsf6qlB83i1AC1vvHT8qlyrn4ZExWLVyFWbPXoiFC+YhLS0dDerXw5VXX4HGjRoQwN0xAnIrBUP+dRWf6iWo7lijYelUnXHr6EMg3CLgq875sqiADhhgS3ONomBXrViDm2++Fz/+MM2W2zY99BA80Oc+at4pSNVkQkY6tmzbYqC4dds2pKamGji7MS1pMiEGutb1ZhdFazg1FiptM4YtXwLBTSAtAE4mSNVIrmEgqJnlGB1ko80I1DQ1hiqAtq43hS0t0k72oj8HSJKjAzV3rzWnbnzZLbcS2Chj1HsQMGuzAnlkQS6Qpq4xZXuncWIbX/HyRb+eUQ1herQRRLxH2xBBONOnMV42LBFOa4/0GhWlXUDtDxfZEIiC4ZPeid+ColzECWAnT8KyG29FasuWOP6Dd5EfE8UOrgZEpHHwvQow/cuveLCCRh5VcczOI92rePnkUqG43dXsgjwIdhmU94bkedVFcbjNOiQ68Hy7X8mHt+ZGFvoJBHJgSUfECp7iyWBYdiYyFy1AFBvQ8GatkMn0aGes0mwoVEV43lNyoM3iwavOLtEpA4I1lj6mk+WOzwW0L9CN3nt1xXpDfHbAFEx0pzB18V85K4vHbuy9PfHGAZ6N//sezVHpxYj3msCMi6+Fpb8uRffuV2HdujV4683XcOllFyEjfbvFt3XbVvbYazMux6vqrA+k/hp+r8R5fGgMnT1bDf+xt/zFuPF4842xWLp0OdavW0dljyGFROC6npdjxIjhxKU8+il03sUTw1Qv24ZLaCGs0FCrev7p6ZlIS89g7z4bjRrXR6uWzQ3nTGZe8svTAQNsRSqMiIxOwPChozBk6NPWePa9704MGzEKmembkMsuRq6GNzKymBnSoLVDKgOF7HJKey1k4lUpNFZss+lajE8Q1moCaZkCZgG3wNyGDKih+kCncVJ1u1wrp64fOfILCd/7measfBH513Ik90F+DLDpUXKntdMW6FXg6makg8PRvTN+XArLbJw32qsh0BiZ4pG998yCoIInfwbPZq84HT8aQdV4fILmATZuQuoLLyO/QQPU63WzDUlAFY41URLwOrLGsI0Pik39KD7eWQXUHd8HA7bs9OdclSXnSr+l78q6KpWZaVjGN90ofvt3sjA3QfZVgYrZyLFTjHDmg/FsjTSBnCCg5yrD6D4ggbaabSVLgO3qDBt70wbZX7JL2fQqr0wMzFhXnsvlney8MmXAqbxVTsuTtF7/mRfVJxsi458frl4HGgOz0Hc68lGj5iF44vHh6Pvg4+h65on410cfklP2Cqj8fPzvsZgzZw4GDx3sHdMQar3Z6TOmsxeeiU6dTrE4BNA20cuEKx6dDCiseeed9/Dyq+9g0cJF6Nq1Kzqe3JH1uQiPDRqKli0bYTKVoti4eCxeNA//+eQ/uO66nqhbrym2pKzB2jXr8POSJdiwfgNWrVqNlK1ZyGHPXytgtBKmZ8/LcEuvW5CTlenJwKWpPB1AwFZrU0INuCZGjXwa/QYMw+mdTsRLLz+P5i1aoaggiyArdxQeBesqr8t8yzhpqvqzDGTqLJUk7+oqN4298lLPjFdXyPwzXKftmvMg8sIxVy6InVEZUBHxorhVgM2ez1aWaWdagsdfaTx+BC4tusqNwpUf59W58bUX54dSsWf586x0rzdeHLqX9MKp0UezJwCCNksoiurUsZ1rLJVyYJyY8fy5yuIFaZWC4TIRJmu6cWl1buydoa337FuTXGilVNaXyIUVcOff6GWQZ7mwlAWFXRVI7Eg8tp6f/8Wq4B7fEm1V43dvyD/OQKReEfsWuuOfa7BcYnXjXWmp+iXNVJP6zsoHZudG8z+6N0XDbORI7iRLlVze8IWv9QpEpaEa0V6ALc3V3tMTvaCwOBJndj4Ds+Ytx7/eG40rrr6Cyl+qLTTo0qU7jjmmFUa//i62b93A3mqkLTzo2fNGZFMx/Oijt1CzVi1beRVCZUarXtRYjPvqa8yZPRfvffAfbN+eirvv7I3zu1+ENm0Px9IlC3DCyZ1wxGHN8d13ExEVHYU777gdH3/8JaZO/QZLl62llv8O1m/cTI1/va1q0ZLC+ISaaNiwIRo0qI/DD2+Piy/qiqOOPsJ65MImP43l6YABtnJGS+U0JDFz5mz894vxFPSp6ETjFtC7iRvHdamxjGGBYVYyCI91K0AeqUDYS99PRSQH/jv/KjvPlPFmge2Egv2XXhyK8kE8lnNSIQX43gdk8bnwXNQEbZYB7VZzT6wEVssoR583kidV+nGWDnz4YxXGheVciFz43l2ASt/vBlUUQLBdVaVgofCqLJTsJFpr/A6GNOwGufLgJapE/Sz96bk0obrTZPWnn36GhYsW4tZetyIxKcnmdATQNsRGENQKoy1bUsxP3Tr1bPjQrwNyFwxaTsMWuLu+nc6P0QsNPbhepXsfFR2HyZOmoUvXi3HUkUfjnnt60y4MF198Fb7+6mOce/61ePetZ/HXa2/GNmq9iTXq4PNPP8WVV12PBvXjCbAT0aBRI2SyR8+2BnEJtTBh/Nfo2/8xrKZWrEnXAf374PobbyGPIUhMqIFXX30RvXo/gFtvvhL/fHE0Nq5fjmOPPQWHHNII48d/hiuvvBoTJs5Bhw5HoknTpqhTuw4aNnC7NBsyruSatdDkkPoE8FgmiZEy3X6P3BJbKlojSeGAEXv0bH1zcfTRh+Pee2/Hyad0YMbqMBZvB5Iyl5kRbFwGSTumYdfFjOykAXpaoG9Ewc+lJjhcufHdOXsTlEe03eFfWWm650C49uTFo6vd78Toj57UGLnrrhlXi2h09Y3ILgJaaSrsWRBA/KEa2Qqo3U7PUiMeVWCC7ezZazhLK6dM2dsABTvZVRNMFdlVVQri024pJwNr/h00adgNco27K5960LLFAvu4gtOyBcoa580g4I0a9Q+8//6HiI7RgVdaJ8+eHf2ZskVw1WFazz73D7zz9vsE+Hi+CIUO2YqMSrAwWKWt0bOoeLVFA/QrJe/dd97HmDfesr0HslMdkxsdHvXFl+OQR4W+Xt06ePbvL2HunDkIDY/Dv//9MeJigBNOOIE4kWPzRNp8887b76GAQderV9OGT7USS/mnBiWfAb34wsuYO+8n24V76y3X4cabbmYnNYw9hxKsW7scb731poV70UUXMP4oLFu23IY7TjjhSMQnJvPaAX363I5hw4fioYcG4oG+96B371647LKLceqpJ+OIw9siITGO6XLDu4Y/PgXd+nQAAdtyz5hUyxUTHc5HTcx5k3JlgMMnoZAhES+qGWTfruWMR2USv0tkVa0M6XlHpiIq64Z/vNktw/Ty8jum9M/oN8n0XfrkZKwhFC25q6Z9TBIvxS3QMM36j0yWVpZST0vWqYVKspQOkYBQJxK6TVxF+OWXpXjxxZfNZGU5oBRoh4aG44v/jcO8+QuJQnHUtrdh+vQZ+PSTT5CyRQcyRVn9NZlSm1XZjYyujWlTZ2HEyOcxctQL1Fy/I/A7d+IlKyMdP/ww2fiYPW8BFi6Yi7POOhO52Vvw7bffoXmzhmh8yKHIz81BbFwyvvjvF/jmW+e+Vq3atmBBDYNgQ8tUf168GJMmTbH3J590HG7t3RuRkWEoKqD/+ER89O+PMHP2Qpze+WScfPLJFEIu1qxZS6UI1LAPsXmzXr1uxt133YKTTjwOTZs0RM3kBDZeklch8nJ19k221+hRXbIhWnrm/47owNZegrUASpldXOSWw8g4Tc/TVgLGVYZSE2SvoIJNwM3uG6OdCGy/028SU4HZFbI07InHatojkrx9czDT7xQTqyJMowBSS9oWEdQ0Nh1OzTgqJs7mpTas32hLT7dsycGDDw7BE0+8gCU/L7GFAarxWjddkK99BgVYuWI1nnv2KfTtOwgDB47AG2NeN81WwyqGXfyJoHau7eobN6ynRvsefl22BqtWbcB774611WJiSA3BihXLsXjRUoSTx3Xk4YQOx+CEk07BL0vmYfWarTjuuGOp8ccY+KekpLAReQmZ6VmWrrp16zPOGBQWEosYbyjD++GHH5GanoPkpDjcdlsvgnBjgmyGTSz+MOk7vPTKW6hVMwl33XUn7ahmhxRg06bNFl69evXIls7r1l6SeIKy9nnoCIZc8qrVXpSZGPWwzh8l+D2qEuqW2LZNGLoTzz7f/v3vGaOgh8CtQt4NE/CzD0lDFDLl46rQ7AJ5Sfx9YnhaJ2lG97sWfnDw6vwEX3dEu+ruoCE/OyoyVZ32ls/fyUNfs9aE3N///k/06zcE77//b0yc8ANef+1dPPLIMNx//0AsX7EJ6Rl5yM7KxE03XI+bbrrD9jRoR65WcGlZm4B54eIVeP7vz2L+gvlo3Lghrr76aoJnXdvJKy1cIyFa/fXKK6Px9+eewLivvkXbVs1wxGFt8O33M7B61SpbBaYBGu1ezsvPMQgUXXXlFXZG0ezZs5BLXD/xpBMpG6etvz76Fcyaswh1atU0twJsLY/1x9oLCwsxdepUFDGwc7ueha7ndaemnk3NOhkzZszAgIFD8OsvK3DbrdejU+fOtspEix3VsxDFUwNXRhR4W+U1zKM9JdpPMmXqFLz66svQURPaaOZ61a438Xt0YAE7uHDs88rOxPtAtatmr0r6zqhcPHtjdpvHPfFTSrsKwn8YsBYpLTsyVYnKZKuXzz6f9sgfM96zyL+WIc9BGff62TmtWrUG48f/iMefeAmPPDoCI594Hq+//jbWU7uN1k5b0j139cadd92Gdu1aUFvWeeWF0JEDudm52LItF82bHUqAvw8jhj9GDfsBXHjRhQRobffWsGiIjYFPnTLD1j7PnTsfm1JSceUVF+Pcc7rQfyaWLl2GCGr3OsqhecvWOPPMzqYhN25YG2eddQbDKMCSJUuMl3bt2vE3FpMnT8arbFyaNDmEbs6yd4mJSfwNs/0UUdEx2LxxI6ZNm4642HDceOP1doa2eg/jv55AsB6KH3+cgd63XYfrr+9JLossXeLXB93Q0AgCdTFiYuKZhnjel+Cnxb/grTffxUMPjcJ777/vRKxuhETuy/13qEpo2NVUASnzfFNNlUeqN6w8wYY/nvHcVAUiPzbxTmM8esz599pEok0Y7tRDNzZq7Y39eESn9kg/wg0dHGZjqHzhX8uTxpOlhep8nd6390b/fnfglI4n4IjD2+GC7uehb98HMHLkKJx00vHmvk2bVkiIj0VhfqYbo9Xyi5BQO7wpO6cQnU87ETfefAeB9nQ0b96ErGhDmibgQPcl0GfFPnh/LNav0+FO28QqrrjiUhx99JEW/q+/LqPbSKazGPGx8aY9i848/RQc2qw5gTILK1euho67bda0BYF4PR5/fCRWrdmIO3rfglM7dTT3FqeGY5ns8IhofPfdd1i1djO6djkdGZnpGDliGJ56+hk89thwTKfmfftt16PPA33tgwpFhbmMV6GUEODjdINZs+Zg4ICH8eorr7Hn8QZGjBiJ/gOG4fGRz+OXJT/joosuJZjHmSbv8oxkmbFzCrWMrDYH3ujP7lVoeGVhDZhgdwerCaQv6Lm83T43ToGp+F054/0JAAVIvnEg4+XJroa1v43Hp+2gC2c3PlBGBDzunZv8c+e5yI1wUiRMCA5LnpROgYY2sQnwbEMLX9mKovJptrg051SII45oj9tvvx79+t+Fvv3upqZ8K2644W8444yOqFmzhsVXVJRPPxresJgZpuaoIrB23Vp737RZEwKkGphcgnq2Aba5Iw/iRR+pmDt3IXSo06/L1qJ1i8Zo1aYd6tbVka76NuMahl+ImLhE/PrLUvw4ZbZpoeec0xWREZQNG6yNGzcjPi4cyTVqETxfxoRvp+OMzifg6r/2QJ06tSyctWtXW/q0sU7Hvn7++X8tzvO7dcMXX3yBZ/7+Ip5/YTQyMtLw4IN9cM/dtxOsE5k+Ai4jdPW2GLVq+eGtNQ39qWdfwqgnn8ero9/F4kUL0LhxAzzYvw969rzBxsttVdhu1PFqDftAExtXa2GZGTauoMY2cPXMH4GYJI3USUVSZdSWfhlpUbLb9wnejXAYvyqDtFHNo0RGRyEiOtquImWNhWfXA0xiQxWXYCZ+Zfzdu2ZoHxkdS0AttvFUabKSs8Z57es7Vs68sCxP1H13Y7aLFy6w83d0oqTsSyVYTpbey+LiAiTXTMAhh9QnENVBnbr65qKOStDREdnmVGO0AjK5t2yWX4QTXH/RDZo2OYS/BPUSLRF0R/LKjd/oaFx669ZUWxKYmZWHCy441xqWOnXrIDIcWLZsNfJy8tgwxWPcuG+wOSUVh7VvgU6ndUJ+XralKzs7B4kJcfj440/w8qtvo1EjgeZ9qFkrEe3atUK9OvEG4p9/9gmiY2qStyV8nkaNPcxO+Du7y9l2ZEbKljS0adUMt/a+i/HXpjxzKSsvUXYpRJOmTZQs690MHDgQ1177V1x2yYXoTW1+6JCHMWToIPTo0cM+eaZegdLr8kSj2CacnVK1hn0gDf9UMK2Qkvx7tbiBvPNuzXVFYVRJIy3K10ppyL+SZOvAmVStyY2MSjKjFQDurHHnhs53YILD34dGnDJygVZkdCIreBGWL1+JJT/9iqVLV7Ai6evekebGXFcURqUZV0ZsqCAiAm+88SaeeeZZCocCNjTUeRqF+Oijj3DPPf1x510P4Y47B2Lw4CH46aefbeWFyGl0Tq4qbxGR0bZ+WBOIy5atQFhEJMFOqy/cUEnFvGiSzB1wVFiQR+1YGrIOOBMA6Vz0XItLzBXbUl3nx2xKCvDLr7/a/aGHNuGzyn+JrTLRmm05UxrVeObl5iMrM9uSGB8Tjm7nd+P7PGrGtVG7ZhIWLvyZbgqxfVsa/vPJJxbmBRecgwYNG9i5HtKA1Xhtz8jDyCf/jm1bN6Pv/Xfi5JNPoPa+hRp+I1x7zaXYvHkDPv3k3wgNi6VmPAMbN21Du7bN0bx5U5x33rl4+OH+qFMrAQsXL8OSn39CuJ1BxHLradYiyUATp0kJEVi0eBFOOOF43HVXL9x55824846bcAmB+8gj27M8hZp87aC26Bose+oBuTCC5VuRqdawy5AKfXmzn4hBKwNU8SLsq9wJpiUINFRobXu4V1ncGFcl8LSvKMCiq6C6qPLpV9uB83IL8MX//mdrbnUAjlYdmHboXJP8dJY3u0++/BTHb4LgswBHB3xJS53BLuwDDzyE++4bhD4PDGYXfxDGjHnLND1lR4DDPWNln5AaN7eWPgT/++JLvPjSe9iyZYvxHx4Vh7lz52HYsOcwe/ZMrFu7CosXz8Nrr32IPn2HWjddZUug7oiAQ9U1LDwKs+fMxjcTJ9s7HYamA8v8Ld/88Z1XQLIkP+RJEOsPqQhkRaatMxzJT6RDljT0sWDBIgJbOJo1a0HbCMTFJ2La1GmYNXO2AZnlG8PSV921pE901JGH4ehjO1CjTrMdgkcccQTWb9xik5/ff/c95s7/GY0aJOOqqy5DUbHAmqAYFWFbvjMyc5GTnUbN+l5ccdVVlCPTSbZDQ4vR69ab8OzTQ3HpJZeguDAL338/yeI7u8tZtt5am/vOOrsret3cE8tXrsWokcNsaES9Fn11XWmT/LVbU1vNjzqqrW1JnzV7NjXxxrbEMTZWB9BTIWPjJnFGsnHanppq29lTU7e7YSvK7feoWsMOGFXu8sa3L+92Lw3/lDnK5M2bUjDxm/F4//338K9/jcVnBLHlK1ZR64ln9oSxAknrZivOvKRXI10qDLcKGxsPpdYURo169OgxGDT4SQwZ8jTGjv2XaXTunAmXxor877axP1XIMD6HsMJSSysXtl9BUren4amnnsGAgcPw2Wef2yRdnVq1MZ/g99TTr1LjXmUgYr0f/ZmGeiCMsWtj1gJIHW62cVO6nYchkFX3RZ9Lu/ii7pTtoxg+4hE88cQoXHzJBfh6/CSM/3o83UXZuRp+mCJd582bZ+ei6EjfYgN0N7lop1DKrdztIN1G5kA3IdS4i8iTW9+sMi45W69LWjPRKic7E6tXr0LD+rWRui0dC+fPw+uvj8HAgcPxyX+o5bIBsfIe4pbJZWU5bf2cc8620zd1WJI+m3ZyxxPsOOY33hiD0a++gqzsPFxy8Tlo064d8nPZYNgEZgGuu+4a9O/bG0MGP4jrr+/BuqXGhb0qasg6VK5+/fq4+uorbMXI9tRNmDptmq3l7nz6aYxVp23mUrR5uOmmG3FKx2MxfsJkvPryK1Zuo23jkBtSkzavjwCf3aULcvKK8dKLL2L50l+pjMXTLXsPVMZi4mrYsNO0qZMxaNAgau7DTfY6tlVLAMvLtrwJydj+syfxPyH5GoNX0KQhqFA5C2kLcuA/70NisNLW9DWVPn36YMrUn21dqppenWPd+JDG+NtfL8ElrHgq7FqvKffSOBzLv98SH1CyiSOSXcQxKz/lqhPTli9bhfPPv4IVGXaWxBGHt8K4r8cRLNyZ5k6Zq0jeO8gHP4uCiXYs26bdaTPEB++/j3Fffo++/W5D69atbHxRlUwHgcXEJuLpp57Ac/9409bbdjmrM1q2PpIaXw2MHP4w3nn/c4z73zvUsM5EZro0ITKuwA8IqQvuhj2Skmuhx9/+gvfGTsQvP32P5q1aU/PMsvFqfWVewJ1Pd4lJdfD1uM9x3vnX4r67/4pRbJhSt26yEy4VnkAgJjYOXc8+GzNn/YT586exW9/IDjnSwU3KEDt+VDKVoL2ksw0MkJ9lCiuMDUJoKEHr7HMwecpCLFkyGY0a1iHo6WPakl2YabtHH3Us7Q+xVSRbt2dj6dKlSEiIxoD+d+PSy69Aetp21KjZAF99MQ7dL/wLatdKwKf/GYvjOhyDTGq3sXEJmD5tFi67/K+MM5qgnolGjWozr8egdZvWyM/PsTxWXqnR0dea4mNjaeeBNbVrl42u4Vb9ikuogdkz56DzGRegZfND8dXXn5KnWNfrYOOhc4++/XYSet12N/2G4K47b8IFF3SjVl3LZGTh0N2a1Rtw+ZU92KPZyDJ1Gs459zy6aWDhpKRsxozpU+yzZfPZULVo3gRjXn8e7Q87jL2SNNcT3AnpiFtj/M9obEyVRn9OiyVgRkaxRdSXUiJo57/3x/J2YihMZyr4C3Yn42nLyuAGDRqiY8cOuPyyi3DRBefjuGOPwczp09itfYYt7wLykkyNj7wpt8yPF54edT1IjMbo1PX++qtxWLFqA3r2YCWsmWRHTQpAlSDnVrLegbx9GQeeJQv7LbXXlfKVnDSUoYN8Rr86Gu+P/TQwdOD7F9QwJuuy3nqLVjv0waWXXsKudju0bduK2pJboqVK5LRLL44DaciH0FLrlLOznebpcMkb2yavSUyP5OJ31/3xUZ3v7odh9rpSAjpjftmylahRQx80jncAZed5+PXCqwfyy3DsuhMjknauI6BNw5a9V+Ylc+V3Tk4BG8VYNG/RgvKPt8nEx9kjOPNMaqfZ2d4wVDh7EBvN/3HHHI62h7VDLhslKQTa1q18uv66qwnWWwnWdTDgwfusAcjLU29KaVb61JMNRVKSlvzJRmlzDZXT+iU/l1adQDhv3lzk5Bahc+eT7eQ+fenJGhpSbm4OTju9M7X1e63cPPPsy7j3vocx9oN/WY9YstKXrFq0asmG5z40bdIY//n0azw+8jk88uhwPDbocTz++HN4+92P8cuSReh+/rkYNvQhNGvW3MJ2w0dOTjsyTMKflZyKoMIu4IyIjGBBLbKlQfPmzrdusARoH1+VpOSwIgqyNidyy8wsNRUQ3Um7Uxfommuvwz339rYdUzL9+g3AnXf0wuKfVuC///3CurDSEDQ2qAhUrHYQatUhAopjMlg4+gnFzz+71QHNm7ek1qWP6EbbzjLThnZClgd+eLyUOlc3W+/VqLl7vRfI6DAgjaVqjFMLPurUqevlpfNpKy3y83DhRZfillt6oH69OtTMcokH+SjMz7BxYHaC7FwInffgeDzw0tfwjFZGaBu0VkqEEdw0HKKyp/QJLDXMbYfmE4Q04Shq2rS5PRsxKUqPxrRTU7dhU0qO7TDUuKzKpVJqn4Lzyp0Tqvk0kk3FspAdZU8/ni8a51pX1TV9UETL/lav3ogePXrioYcetWVynTp1RlKNGqY0rVi+knnovsIi6nrOWYiLY11gb9MAF2wQmPYbbuiBIUMexOBB/XB+93ORXyD3jgex7eeZliGqjOjRgbnHl5c29V5F8+fPt6vOxlavwuodg1OIildfq7nsskswZPBAKldHYPWqZXamtX2FibKXzFWGzj23KwY9NgA33tgTLVs0YQxFCA8LQTNq7tf1vIZA/TAeZANz6qmnKvoAT79HIWnbfqpI6n94UqKVmRp30qe11qzWOQXvYsasJVY59Z22q67sxpa/OzMhxD4jVqFQJWyCQwG1Eheqy1hpFgrf4YMKRVnyYVcrEFwg6uqyMCfUw/w503H8iV1w5aVn4x223tu3rmVFojuFZ90uC9SP7iCgEPvyRkJSTbz2yqu46+5HbLPF9BmzeT0an/33MxQXuq+tO1LCShMnEHL1qoSVwZ0dIZn65yFLzgICq1wmGFWsEsQn1rBzLU4+uaNpSjNnTbb1u/qMk7q4IlVUaXOKW9umC6kl1Uiug4WsuKed3g1HH9kGX3z5Od8FLeE6YOQ2xMQlJGLj+s04/vhOBLFwS1ccQVDvzJXKCa/6VF44Nb8rCDDf/zAbP076AkcecwzSthHotcyPMhNg/zDpe5xzXg9cdcUZeOPNd9lY5TAQDVHlWeMgUj0xuVtGiBiDLw7Z8aqyrkZSX7Y/77zumPTDfPy0eJIto8tnnZLMCwrcV2HuvecuvDr6X3js0QdwzTXXITk5zuJQYzPxuwkYPfo9DCEIJyQk4fUxb+OmG/+KRo0bEXi9L7IoatY7KVQqE+oF2dnYDEPg6cqMA9EAi7qxH5EDaEuE5EX72Ph4jH75FXwzYQqefGKordFWb8PA3MITXgiUnRL3y9IVSEnZiNatm6F+/QZs6NwnvtRDVFpLSkKxZVsae3Zb7ctZ4jomLtbOGamVnGg7OvXdWLa2fOfztXPyuf7TkavkFH5oODLSszFq1JN49bUPsHL5UhP89999h5FPvIiZM6hlRcdZBpnEy5HsBRSafIiOSaJJRFRMLN+4jLNCUwEZ4PBPB5arkJnG7X0Pbvv2dHNTu7Y2BwRr+H6Fodm1/K0yJBnl5WajS5cu6N/vHktrdm4hDj/8cFYwN6FXkYBV3dQlVfdfY7Pa5utkTBOdwIoaZfa+RAVCpSQ5qZHTdxsiWEE0zKXNMLTgK8lSMarSqPIbOCnPQiPw1VfjqTkVolu3cxmf25F2wMnKrCbLIrFu3TpsTc3GYYe1QjxBTd8O9UlFQxOnMXHxmDVzGhvGRTjh+CNsw4mWngnQBNhTpkxhb+5evPTSS+Zv8+bN+PBfY/HRR/+HsWPHYuiwIQTLMQZQPkiZwIJJz4Gy6DR8XXWwkdZOS24+yCsvdS/869nzOrRt0wwvvvwG+vS5H//4xwv45/MvoX//BzF06DOYO2cm01qEVq1bkMcb7fxot/27lFwDrXzT2Sa8s7qocXLlq0CWr5XHFr/sePXuS4mO6E82+qK6NtwMePAe6wHoM4Z679IkZ27sW+vPKWFqzk1x8kkd7Ixrayj4UuG49kTlsNgOh2rbphU6HH8MOnQ4Foe1b2u7I104ko1kIve7Rn/CVSKWPxSWuo4l0Lm8b7zxLj76eDzatW2DESMew7DhI9DrluuxZMlKvPMuNQ5WaBuLY2VhCGXCE8luyuQfMGHCeHb5f0bq1jRq5FHMuHCrOCKtknC7vMr6Vwju1xVugfz3339nz6ecciqfNUkinjWO6PnXX3AYVdGU4VMaBNNHkNYxlr1634G2bVtbGo8/vgPB0i0hk7uA4Z/SK7lr48PgIcPwQJ+BGENt6/PPviSofIrXXnsbI4Y/ifvvf8jAxwDZZOjLmnInQNt39dh/VoUKHGFJsvd0p7FH1RqVB43zrluzxs5yrlMrhoDdjWE4rS6QtgNuQuyjH+K/Y8dTCcBRVs70TjJzIBlKrS4HL734EjIytMLhekRHhbshH6ZV7vQt1NTUrZg9a5bJY87cpRg+4jk8PupFjBz1EmX9b8yYPs3Clex48eKn0Z9/H7BTvdJwTJj1UEUZmZlOdqxvcuAa7hy0b38YHn1kIA4/rB2+nTgRL7w0Bi8QvD/66BP2FiLx0EN9bPIwLy8HNWokMlwPPC0OtyVfRj1OvxHWvdkzTwPGt/OM+PgN37ZOXOvJCxhXDTRv3sye+WN+6MmenVuVFZUv7YTV6hFt/Wf5VdiB8Hz3WgOex/e5dKtv0Mrk0S6XZVI7QFlWVR7L+N25Cdm+dbFk8Och67I4DSQ6NhGTvv8Bt952H3KyszDm9RfQqRNBEuFI2bIJ557T3VZv/PjjOHbHDrFZXBsXDJKYtBV9lf26667H5pR8JCXVQHJSIoGoPa688nJ2weswc7Qqwbn3tQ2R+NCzdaNULghrhYWh6HzaWdiWmoofvv8GhzRtgoy0FIKRJr4IfCz8CsEKThUniSmQXD6ozoaFRqOgMAzdCYRLfl1G+X+NZs0Pse63cytfEozSCDsoKD0jE7f26o2vv56C+g0bID4+wUBJy6P0jc+Qkhw8++zjuOLKywhOGTbEoeGlhKTaWLNyNTWbE20d7LTpkxAXF20VXOvBFYkqgdOqdeSnhhtq4tVXXsJ99z+C63pcaofsq4KpspXyd6BIQ0s6UCgRPa7pgY8+mYjxX43FKaeeYlu49cFmpc0Nm9TBm2NeRf8BQ3DSCcfizbdeJWBrGEiA48LS2SErV6Vi5IgB+Og/P6Jrl5Os/Gp4SBpgy1atcE7XTjjpxJOYau0EpQycV5c5dvUtHAnf4hKT0Oumm/HG2//D/z57HWd1OZN1J5N1hVp6sdyGMfxwy6MlS37BvLnzsHb9Rj6zQadme8yxh9sa63idQWJg6GvWpfHsiOQiuI7tDqn+WcNCsgZKf0qm6qjZ+iQ3XvpFetS981qWjBfvhf/e/JVzzDK4KxSSumVRRdH8sUhjvpZKZYIqqYAjHLNmz0X/B4dixsx5uO6aS/Hc8y8gLycVUriSa9XBpRdegHEEiXlzJ6BlmzbITN9mGp8F4BPlrEryxpg3MH+h+5LyggULCQDR6NzpWIwcOdS+1G4ttZHza9mj4RIvo6Txx8Yn4Z233sStvQfghusuw9PPPkfWCzytyPl0/ngXzENVIjFI1lTIxaFk4xd4VdD4RK1vXogzu3QnkBxJjWosgdyNS7sPFIs8WSkMykWy0cTZpEnTsWHjRttMIS0zPj7Oho2aNqmHM87sZOPTbkwwlPGCgF0Hq5atIGCfhMTEWEyZ9l0pYGvuwAtf+aCT1aJj47F501ZcfOHlWLthLf772Uc48qijqOVlsbyIQ/J1AOVuSyOpuW7csBkdTzmPAA1Mn/YtEhK0skOTcGE2SRcVE4958xbi5pvvRHbWdpbNF9GRikjG9q1Wfl1vQckPRUxsTdzR+0aMHvM5PnjvH9Rqj6N8dKZHKOWZiESGbflpfqgJqhx7eex+/DxzJB41dzCwfz889ey7ePmFR9HzuuusYbWPRlu8mt/x79WzKUJuvjRPnYMdYevLFbRGN3zN1Ytwl+i3w5D0u0velZZA4vjrruXheoeBlXp1pHpqVN59ufDsdfk4KqbyKfvjkQmNRvKgUeGIio7FmjXrMHzYcANrzSXpU/hR0ZEscNKGmVV0l5enCQd6MyDxx5rKCZ+PqgTX9OiBvn3vx6DBj+GpJ4fitE4dMHXqZKzfsMF20slvqXfx4wqqK4yhrGTJWLhgAZ55djRatKiPW265ieGKX/Eg8FNT45H5qaIk1pg2gbPqtraeazxRww4a9tCk1DfffIvsnHx07Xo2tUXKnCDrZCvy0qY8oHuBpL5wf9zxx+LGm3vinnvvsuV3Mvfdfw96334zrrz6StSvX49xOk3M8suTkYZDZK2VFNLWA0Q35oRX44/MCsRffullLPp5Gf5y5aU44sjjbdxdwVmj426c/8okJYcXgVd4ZKyd07x5y3acecYpqFGzkU26GVjzqgP616xehYEPDsJyNlb33H0rOpx4in1lxZQNY9/UFqafrVpIPrK0VI506CGHok3rZmjVqjnatmlpwwNaEqi4/aEEI+/iBVZKXtgyNb1zppct12l60uxJJkNd5UZDhTpLRryzcY2PQVKNRMREa9MM6wXfW+PAOJ3Ynfx3zVhUAROg4PsdkuNfptR/qZ0zO6Dyryp0ygAtGF09s2uMGf3pxrAFkmHhcQSNCZg5cw5OOfkYHNq4Flq3bmnbUgWO2ryyZXOKddfq101iQUoigGtslPItF55vtByqYcO6aN+uFS68sDsB5R488cRwAxJt81UmmVvLLYE1AUJgFhKOlJRUrFy+AiNGjMDKlctZ2e5H27Zt2M1ND4CQyHyXi7cqGSmrSp1WaPhDDps2piBfhw/FJFBzimWacvDVuHHWSHbseKIdOO83qoGxP4K0rhoPlb0qjbrjkRFhBJEENGpUD40b12X3OYEVPILu1AuRlm7ODVwUiniSnNVj8leTOF5dj8a/14RdTGwCJk74Hm+/83846cRj0fuO+23iTNq+lpJpPFTp8dNa2cbJgfETxL79dqJSirO7nmVDcpqw1hCf1mBrTfXwYUMx6ccZuOXmv+CKKy5Dbk6mjRt76OPA1wTFfwKGPizgiDIvymFY+bBPV1GmilMOTdMNyGzHRm41NnvM0UchuYY+sh1pcZUZ4yW/GuYQKLs4C1jO89jL0XivekjGmPOjP8W7q8aPY1+YvQ6TyVCbU95Y8ipy//vmj69hlyEVPpkwLFq0mJU4HA8/1B+PjxyK5JpJLKDSNIoJLjH2bbiNKWk4vXMnAnZdmzCzwqsyWZ5op+28mmDQp840IdGyZXOcd143FtoaBroStojtP+91pkYUu7YpePLJZ3F/n4fQv19/jPvqR/vu2wkndGRcYbaBR4VWW3Ft2RnDkcYtrdHCc/WvSpEm7tR4rVu3ASNHPom7730YfR8YgC+//Io9mFpYtnQ55sz/CUcd2RZt27VBbp40P403SD6lRukLYV44jHHgLSAptm3Cnil28lZvKEC+TCw8t0lDH1kVTxrbljxFPnhro0NUdCL5WmY9rs2bt+DUjifzXRG2bS1q9jAAAAu4SURBVN1oyynVI1NDLwCzcBWHbyqLGK2AdUvKRkyYMBn16sShw/HHMe1uR5+Wkubm5WLY0GH49LOJuPqq7rjz7n523KcOfVKZdg2ix79PTGeH4zugZfPaNn4t8HfF3DUQejBR7gopaLrXsMyRRx6Bp58aiu7dzy/V7ssHFPyo+4riqchuT+l3w9oRE3tLfmEJFvyeUVjfB257zLv/g1LZTJDGFRWdhK/HfYEZMxcSKPvgWBb8An1aiIU1nF12dedHDB+JJb+swMCB99vSIo0jBwr7DvJUYCySO3Ulfa3CDtFxDjxAi0FmZhYGDx6O9z74BPMJYMuWr0I4cSufCvUv7JKnpW2zr2AkJSXZOQMR4dEIo4apbr3WhPurKnbGT+USGWFl1VhqTGwS/vn883jl1fdNu5szezbmzvsVdevUsmWSX4ybgJ49LsfZ55yHrMxUG/IIpMMERYimZuPwwgGGyZ7/ejajP7mlEbjYe18QbBDdl0MSsW7Naowe8y6aNWmAG2641psP0MeIdeBUqM1l/PTTLxj5+Cg7/Eh4npGVTQ31R8yfOxMpW1Jso0etmskIYw9BAOe0cy869Q68aPcnSdPT2PTkH3/Ay6PH2vxIz+uvY0OeZ2PDAkR9o/Blyvzoo9rjkUf6opB+FsyfjcmTf7RdhbVr12W5LF3+J77Vc6hVsxbatW+Nww5rT7lIh3OJk0wtaZZYkWvsdkheHirMSPawWrdubauC/EbSyA+qEskvOz5/BzOF9Xug9x8csEmq2ZZR1NmYeVq/m05A/L9/f4GG9WuhYyednesAW99s++Q/n+ClV95G17NOw22338JCnkefDICV07SOXSQVdwNx+7cQTEuOjauF8eO+wsgnNcmZbSCtL2T0uuUGat4R+GHSJPve3IyZc7Fq5a92Wpk0a201zsvLt22sWhEg8FblsDgONFEuaj/Ua8klj/3YY8hMz8Yzz4zEcccej6+/Go8Zs+YxXXMRExWOhwb0Q4NGDU1r1hCUKrXJlmDLJs7uBR6ungWlz5Ols9KPexd4NGI+q2GOScLKFSvw5ttjccxRbXHVX65gA5JtKxS0YUlruHVG8hNP/hPfT5pKviLRtOkhtpRsyZLFWLj4V2tMZ86YQ812A5KTk22CTw2um9x0UToe9yNJtiy32uSiSelJP8zFbbf2wIknn4IsnavBMvv1V19g6PC/IycnHcce3Q4rV67EO+98hC/HfYu5syej48kn2Y5NlT8rwsa0k5MapBYtWlreWRYI4LxhKmf2gBiOVlrYzR4GsUdkGWE/RqV3fwwK69vnj65hk/wCo7LDwqhJxTq1a9tutgnf/ohGDeuhJQtsZFSsLTHSN9vyc7MwbNijaNbsUBZyAjbLngHFnhQ+lRr6k55RZKsRauC9d9/CxO9m2LvTTj0R/fvfjzPPOgNHHX0k2rRuDn2wc/GiRaycMzBnzkL88ON0jB//HSZ+MxGf/3cCDmlcB02b62yFTK9iHGBi+oqI2PaF67QMjHriGTRqUB+PPjYIRxxxJGrXqokvvvwSq9duxKGN6uFv1/zN1gWvXLnCAFugYUM9noAF2HbH/BJ+2INf+/zn35BnSdBXL0kTuUsWz8f7Y/+D8845FV26drV5gRCEMQ9qYuqUyRj48AjMpnyPPeZwguBNuOTiC3DaaaewkTnKysj21G2YPm0uFv30K2bOWoAN61Zbr6d+vfo20eePs1fMzz4iTwDqiWhSdMkv6+yQpHp169lwmVa3vPzSi/hmwgwD3NTtWZg6fS4b9CIcc/ThuPLKS3BchxPZACoohaUbC7JUpnzQrb3WC/9axuwG0bmLK8jfbgaxR2RRWuRmjIfKiLeSKOyBP/yQSFmy/CwuRHR0FEG6GaZOnYYJE37A8uVLMXPmLLz2+nvUypai3wP34Lzu3VCQp3MCCNWmluwdWdlR1zY6BuvXrsaCBXNx5hmn24qHw9q3IQCEUIurgdatWuDIo4+lVtjetKK42Cg7Ozd1W4qNYWo48Kwup6Mx36lnUCUAm9VdlUPjxPpKyMsvjbYldzfccCNi4pII4ml4//3/o6siZOfmY8nPv2La9MkY+6/PER8XhSOOOomND8GUaVHDaIBtFW135O7XTDc0o52nGhL46OP/4dZe16L94YchN1tjvgLsBIwYNhTfTJyGDse1x+BBD6Fz585o3qIpG+mmOPzw9jj6mKNxYodjKWftsitgWPMJ7ovZgC7Gr7/Mx+FHHIb4RM19aA35/s4DN++xZs1qlomGuOrKyygfN3avT2FpHbsORGrRogmOOupwnHduF/TscRXO7daVjdHRbvLPBFqxPEtf+TKspqpIISmb5v8Jc8jt9NJuxNmz5+LD//scc2ZPZ6EvQFJybfztL5ehW/dzERsXbdq11gfvuKjvOkmHUcXQ+J5m8+fNX8jK1xStWrYwTdniYCTaXhvCbnsINVaBW2pqFrZtTUFuXqbNpGs8sk0r9Qj8Slg1iG0RteVI5GTn4dROp9na5u+/+wGr123EwAcfwY9TpuHeu25BBkHz6y/HMY2FqN/gEDtl7Ywu5yAzbbM1WmXaRi95vua9Y9J7300otFIlNi4Z8+fNxdvvfIC77roJDRs1tGElaeDxSbXw+PAhmDJlNu65+w50Pv1M5ORkUPbWXNjqC4UTxufUtEybRF3y03z8xIZmwYIFbPBLMHjwIDRv2RKZ6dpQtfNjMfcFaWliSsoWW27auGF9FFLxEK8aw9ZZNitWrqerYsTHJ7LhT7Adgxpv1yoXScbK8U7LS/kS/nsyr6bKppDNG+f9+XJFiKBU86o1uFrTumL5ampfWahdp7atQRVwqPDLqcaJVc4NSPZKWgqAxv7dvYKzL0lbBPbkudNFDjW7buMx5FRuHD8C8yCXB5bEhJgRUBY5zfb6nj3wxbgfcfkl52L5qhRMmToDN17/FzzQ525bibB44ULkUTNt0KAe2rVrh8hogovWnAdk4Mjd8bfUascU4k1uaTs/jSYUdVj/ttQtqMd8VbwmZgJcJLXV9RvWYeuWrWjTpq0BroBNK1YEan50gm0dpC+Q1/LBzKwMbNy4wXYctmjWxNY921r5SsoJLQMV2YSzkYtXGr43Y2K8q2S5ZXOSnZeaQD5V08FKf07AJqnLrQlIlWJNPulg9RBVVAKGKqaM3PhDIVaF95mkpOl4jYAfqPWoy0WgKM1K4+4CbfKiSTkBtnizQUlzWUUoBDpAPzY2AZO+/x5PPqVP+rMXcWgLdOt2Hq648mr74KnS4Y+nin39an2xtFuRJh29m90jA3sSZeQEqtUgoQyNYfNJm6LEo3++sWSo4SQbOyeY+x+IKKOFOpYsH8L8PCDZUZsEao1hu9PczHq/k8+aXy4dqUzwoh+XALs6N5XEWDVVCoVs2jD3z5mjgbKsks0K5ysstHTL5QSSeiWNS9auEuyz8l8mLIW9s4DlOPhK2ld87EuiwDRGL0DU12O0nXzFihVo0qQJWrVqhdj4BCaz0EuGlwDKVX8GLgYwNKY96l5y0bMc7i554Rl4++EpX713fph6tnvF5d2bG1LATZBFwI7GCobIf38gKZgHn69q+qPRnxewfbKK5xV2SsItkyOASNtjRRWQ7BfA/g39XsDBFbKKkS8XicweJDMH3Gr8pMVqzsCGPKSNGplQaYLTFRwQTQAQ95SCw95JWL6z3YluT/xUUzXtJYVsXD+nusip8kkKwghqiMKKQDdXdrrud8D+A1GQPG0mUmRC5bUi+Xmv9CttO0B7K+vg+HZ0X03VdBCRr+78ucmvvLxKsw5ogQ5Fqml3yMBQAqUhWNuOTHvhC7kC4iv/rRt39U3pZY8oOMod3VdTNR1EFLJx3ezq4uuTgY2uQShhdrSsltKuEeVVZtLOv6W9gfHvydFkr3mEwG01VVM1eVStYQeTDw4G0MHGs6+m3yfKSsBckfldORpAV8u7mqppRxSyYe2s6upRTVWPqrXraqqm31C1hl1NVZOqwbqaqqkcAf8PDihNx2tWHCcAAAAASUVORK5CYII=)"
      ],
      "metadata": {
        "id": "QVmrYkKrRefq"
      }
    },
    {
      "cell_type": "markdown",
      "source": [
        "### Monthly charges"
      ],
      "metadata": {
        "id": "D67jNulGR7P2"
      }
    },
    {
      "cell_type": "code",
      "source": [
        "# Churn rate for cutomers with monthly charges less than $20\n",
        "df_full_train[df_full_train.monthlycharges <=20].churn.mean()"
      ],
      "metadata": {
        "colab": {
          "base_uri": "https://localhost:8080/"
        },
        "outputId": "1a427860-5c9c-45c6-dfcf-8bd7363ac23c",
        "id": "7AoMli0yR32A"
      },
      "execution_count": null,
      "outputs": [
        {
          "output_type": "execute_result",
          "data": {
            "text/plain": [
              "0.08795411089866156"
            ]
          },
          "metadata": {},
          "execution_count": 42
        }
      ]
    },
    {
      "cell_type": "code",
      "source": [
        "# Churn rate for cutomers with monthly charges betweem $20 and $50\n",
        "df_full_train[(df_full_train.monthlycharges>20)&(df_full_train.monthlycharges<=50)].churn.mean()"
      ],
      "metadata": {
        "colab": {
          "base_uri": "https://localhost:8080/"
        },
        "outputId": "a3ba2b33-3205-4da7-9f5e-c509ddf4e403",
        "id": "nGjAPPX4R32D"
      },
      "execution_count": null,
      "outputs": [
        {
          "output_type": "execute_result",
          "data": {
            "text/plain": [
              "0.18340943683409436"
            ]
          },
          "metadata": {},
          "execution_count": 43
        }
      ]
    },
    {
      "cell_type": "code",
      "source": [
        "# Churn rate for cutomers with monthly charges more than $50\n",
        "df_full_train[df_full_train.monthlycharges>50].churn.mean()"
      ],
      "metadata": {
        "colab": {
          "base_uri": "https://localhost:8080/"
        },
        "outputId": "7aa3c47b-6117-47d7-8bc6-329ae3cda5d6",
        "id": "Ko7MRvB9R32E"
      },
      "execution_count": null,
      "outputs": [
        {
          "output_type": "execute_result",
          "data": {
            "text/plain": [
              "0.32499341585462205"
            ]
          },
          "metadata": {},
          "execution_count": 44
        }
      ]
    },
    {
      "cell_type": "markdown",
      "source": [
        "![image.png](data:image/png;base64,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)"
      ],
      "metadata": {
        "id": "fxqICvylSzh7"
      }
    },
    {
      "cell_type": "markdown",
      "source": [
        "# 9. One-hot encoding\n",
        "\n",
        "Use Scikit-Learn to encode categorical features.\n",
        "\n",
        "Converting a categorical variable into a bunch of binary variables.\n",
        "\n",
        "Hot means value that is activated (1s) and is encoded as 1"
      ],
      "metadata": {
        "id": "Q0kZ4T3qh0uE"
      }
    },
    {
      "cell_type": "markdown",
      "source": [
        "**Steps:**\n",
        "1. Turn df into dictionary\n",
        "2. Fit `DictVictorizer()` by passing to it the dictionaries\n",
        "3. See what are the feature names by `dv.get_feature_names()`, which based on that it creates the feature matrix\n",
        "4. Use `dv.transform(dicts)` to get the encoded matrix"
      ],
      "metadata": {
        "id": "5nUwXEYsym25"
      }
    },
    {
      "cell_type": "markdown",
      "source": [
        "`DictVictorizer()` is smart enough to recognize numerical variables, and it leaves it as it is."
      ],
      "metadata": {
        "id": "4xw_whwpzTZj"
      }
    },
    {
      "cell_type": "markdown",
      "source": [
        "## Turn records into dictionary and fit to DictVectorizer()"
      ],
      "metadata": {
        "id": "7jBK6F4ikxlC"
      }
    },
    {
      "cell_type": "code",
      "source": [
        "train_dicts = df_train[categorical+numerical].to_dict(orient='records')"
      ],
      "metadata": {
        "id": "W9RJltjtk2K2"
      },
      "execution_count": null,
      "outputs": []
    },
    {
      "cell_type": "code",
      "source": [
        "# Create a new instance of DictVectorizer\n",
        "\n",
        "# Set sparse to false so it won't generate spicy.sparse matrix\n",
        "# (way of encoding data when there are a lot of 0s)\n",
        "# A compressed sparse row format\n",
        "# A sparse matrix consists of mostly 0s \n",
        "dv = DictVectorizer(sparse=False)"
      ],
      "metadata": {
        "id": "-WLJaW34k2CU"
      },
      "execution_count": null,
      "outputs": []
    },
    {
      "cell_type": "code",
      "source": [
        "# We can fit and transform at the same time\n",
        "# same as doing:\n",
        "# dv.fit(train_dicts)\n",
        "# X_train = dv.transform(train_dicts)\n",
        "X_train = dv.fit_transform(train_dicts)"
      ],
      "metadata": {
        "id": "JuPHnAc3l0CB"
      },
      "execution_count": null,
      "outputs": []
    },
    {
      "cell_type": "code",
      "source": [
        "X_train.shape"
      ],
      "metadata": {
        "colab": {
          "base_uri": "https://localhost:8080/"
        },
        "id": "jOUThzED19aS",
        "outputId": "0607101c-81c1-4a2b-cd85-30fdeadeb973"
      },
      "execution_count": null,
      "outputs": [
        {
          "output_type": "execute_result",
          "data": {
            "text/plain": [
              "(4225, 45)"
            ]
          },
          "metadata": {},
          "execution_count": 48
        }
      ]
    },
    {
      "cell_type": "code",
      "source": [
        "# Feature names\n",
        "dv.get_feature_names()"
      ],
      "metadata": {
        "id": "9iPfkVT6yNth",
        "colab": {
          "base_uri": "https://localhost:8080/"
        },
        "outputId": "0f9ab053-90da-4653-f733-dfc44149547d"
      },
      "execution_count": null,
      "outputs": [
        {
          "output_type": "stream",
          "name": "stderr",
          "text": [
            "/usr/local/lib/python3.7/dist-packages/sklearn/utils/deprecation.py:87: FutureWarning: Function get_feature_names is deprecated; get_feature_names is deprecated in 1.0 and will be removed in 1.2. Please use get_feature_names_out instead.\n",
            "  warnings.warn(msg, category=FutureWarning)\n"
          ]
        },
        {
          "output_type": "execute_result",
          "data": {
            "text/plain": [
              "['contract=month-to-month',\n",
              " 'contract=one_year',\n",
              " 'contract=two_year',\n",
              " 'dependents=no',\n",
              " 'dependents=yes',\n",
              " 'deviceprotection=no',\n",
              " 'deviceprotection=no_internet_service',\n",
              " 'deviceprotection=yes',\n",
              " 'gender=female',\n",
              " 'gender=male',\n",
              " 'internetservice=dsl',\n",
              " 'internetservice=fiber_optic',\n",
              " 'internetservice=no',\n",
              " 'monthlycharges',\n",
              " 'multiplelines=no',\n",
              " 'multiplelines=no_phone_service',\n",
              " 'multiplelines=yes',\n",
              " 'onlinebackup=no',\n",
              " 'onlinebackup=no_internet_service',\n",
              " 'onlinebackup=yes',\n",
              " 'onlinesecurity=no',\n",
              " 'onlinesecurity=no_internet_service',\n",
              " 'onlinesecurity=yes',\n",
              " 'paperlessbilling=no',\n",
              " 'paperlessbilling=yes',\n",
              " 'partner=no',\n",
              " 'partner=yes',\n",
              " 'paymentmethod=bank_transfer_(automatic)',\n",
              " 'paymentmethod=credit_card_(automatic)',\n",
              " 'paymentmethod=electronic_check',\n",
              " 'paymentmethod=mailed_check',\n",
              " 'phoneservice=no',\n",
              " 'phoneservice=yes',\n",
              " 'seniorcitizen',\n",
              " 'streamingmovies=no',\n",
              " 'streamingmovies=no_internet_service',\n",
              " 'streamingmovies=yes',\n",
              " 'streamingtv=no',\n",
              " 'streamingtv=no_internet_service',\n",
              " 'streamingtv=yes',\n",
              " 'techsupport=no',\n",
              " 'techsupport=no_internet_service',\n",
              " 'techsupport=yes',\n",
              " 'tenure',\n",
              " 'totalcharges']"
            ]
          },
          "metadata": {},
          "execution_count": 49
        }
      ]
    },
    {
      "cell_type": "markdown",
      "source": [
        "### Validation data\n",
        "\n",
        "*Note: We don't fit on validation dataset*"
      ],
      "metadata": {
        "id": "4aqa_MD12d5j"
      }
    },
    {
      "cell_type": "code",
      "source": [
        "val_dicts = df_val[categorical+numerical].to_dict(orient='records')\n",
        "\n",
        "X_val = dv.transform(val_dicts)"
      ],
      "metadata": {
        "id": "3rgG2Pl_yBFP"
      },
      "execution_count": null,
      "outputs": []
    },
    {
      "cell_type": "markdown",
      "source": [
        "# 10. Logistic Regression\n",
        "- Binary Classification\n",
        "- Linear vs Logistic Regression"
      ],
      "metadata": {
        "id": "jCBGfNEb6R8p"
      }
    },
    {
      "cell_type": "markdown",
      "source": [
        "Logstic Regression deals with **binary classification**. \n",
        "\n",
        "- Target values can only be 0s and 1s. \n",
        "  - 1s: Positive (churn)\n",
        "  - 0s: Negative (no churn)\n",
        "\n",
        "\n",
        "---"
      ],
      "metadata": {
        "id": "cI1EsxB-7xvY"
      }
    },
    {
      "cell_type": "markdown",
      "source": [
        "g(xi) = yi\n",
        "\n",
        "- g -> model\n",
        "- yi -> target\n",
        "\n",
        "Depending on the type of y, we have different types of supervised machine learning:\n",
        "- Regression\n",
        "- Classification\n",
        "  - Binary (this is the problem that logistic regression is solving)\n",
        "  - Multiclass\n",
        "  - ...\n",
        "\n",
        "\n",
        "\n",
        "---\n",
        "\n"
      ],
      "metadata": {
        "id": "dr4m35mUcR0e"
      }
    },
    {
      "cell_type": "markdown",
      "source": [
        "**Binary Classification**\n",
        "\n",
        "Target values can only be:\n",
        "- 0s (negative, No Churn)\n",
        "- 1s (positive, Churn) \n",
        "\n",
        "g(xi) -> 0-1 (probability of xi belonging to the positive class)"
      ],
      "metadata": {
        "id": "p8MMadKjq420"
      }
    },
    {
      "cell_type": "markdown",
      "source": [
        "## Sigmoid\n",
        "\n",
        "We use this function to convert a score to a probability."
      ],
      "metadata": {
        "id": "jhaGjqgf6At7"
      }
    },
    {
      "cell_type": "code",
      "source": [
        "def sigmoid(z):\n",
        "  return 1/(1+np.exp(-z))"
      ],
      "metadata": {
        "id": "MY0u_YY-q22F"
      },
      "execution_count": null,
      "outputs": []
    },
    {
      "cell_type": "code",
      "source": [
        "z = np.linspace(-7, 7, 51)\n",
        "z"
      ],
      "metadata": {
        "colab": {
          "base_uri": "https://localhost:8080/"
        },
        "id": "hiMFE0oA4JCb",
        "outputId": "3d2d6408-ba75-46de-d475-4aea39421acd"
      },
      "execution_count": null,
      "outputs": [
        {
          "output_type": "execute_result",
          "data": {
            "text/plain": [
              "array([-7.0000000e+00, -6.7200000e+00, -6.4400000e+00, -6.1600000e+00,\n",
              "       -5.8800000e+00, -5.6000000e+00, -5.3200000e+00, -5.0400000e+00,\n",
              "       -4.7600000e+00, -4.4800000e+00, -4.2000000e+00, -3.9200000e+00,\n",
              "       -3.6400000e+00, -3.3600000e+00, -3.0800000e+00, -2.8000000e+00,\n",
              "       -2.5200000e+00, -2.2400000e+00, -1.9600000e+00, -1.6800000e+00,\n",
              "       -1.4000000e+00, -1.1200000e+00, -8.4000000e-01, -5.6000000e-01,\n",
              "       -2.8000000e-01,  8.8817842e-16,  2.8000000e-01,  5.6000000e-01,\n",
              "        8.4000000e-01,  1.1200000e+00,  1.4000000e+00,  1.6800000e+00,\n",
              "        1.9600000e+00,  2.2400000e+00,  2.5200000e+00,  2.8000000e+00,\n",
              "        3.0800000e+00,  3.3600000e+00,  3.6400000e+00,  3.9200000e+00,\n",
              "        4.2000000e+00,  4.4800000e+00,  4.7600000e+00,  5.0400000e+00,\n",
              "        5.3200000e+00,  5.6000000e+00,  5.8800000e+00,  6.1600000e+00,\n",
              "        6.4400000e+00,  6.7200000e+00,  7.0000000e+00])"
            ]
          },
          "metadata": {},
          "execution_count": 52
        }
      ]
    },
    {
      "cell_type": "code",
      "source": [
        "sigmoid(z)"
      ],
      "metadata": {
        "colab": {
          "base_uri": "https://localhost:8080/"
        },
        "id": "djW7Dhqr4d6I",
        "outputId": "8fe740dc-ddfe-4856-bf73-ab610bd73362"
      },
      "execution_count": null,
      "outputs": [
        {
          "output_type": "execute_result",
          "data": {
            "text/plain": [
              "array([9.11051194e-04, 1.20508423e-03, 1.59386223e-03, 2.10780106e-03,\n",
              "       2.78699622e-03, 3.68423990e-03, 4.86893124e-03, 6.43210847e-03,\n",
              "       8.49286285e-03, 1.12064063e-02, 1.47740317e-02, 1.94550846e-02,\n",
              "       2.55807883e-02, 3.35692233e-02, 4.39398154e-02, 5.73241759e-02,\n",
              "       7.44679452e-02, 9.62155417e-02, 1.23467048e-01, 1.57095469e-01,\n",
              "       1.97816111e-01, 2.46011284e-01, 3.01534784e-01, 3.63547460e-01,\n",
              "       4.30453776e-01, 5.00000000e-01, 5.69546224e-01, 6.36452540e-01,\n",
              "       6.98465216e-01, 7.53988716e-01, 8.02183889e-01, 8.42904531e-01,\n",
              "       8.76532952e-01, 9.03784458e-01, 9.25532055e-01, 9.42675824e-01,\n",
              "       9.56060185e-01, 9.66430777e-01, 9.74419212e-01, 9.80544915e-01,\n",
              "       9.85225968e-01, 9.88793594e-01, 9.91507137e-01, 9.93567892e-01,\n",
              "       9.95131069e-01, 9.96315760e-01, 9.97213004e-01, 9.97892199e-01,\n",
              "       9.98406138e-01, 9.98794916e-01, 9.99088949e-01])"
            ]
          },
          "metadata": {},
          "execution_count": 53
        }
      ]
    },
    {
      "cell_type": "markdown",
      "source": [
        "We can see that the numbers are now ranging from 0 to 1."
      ],
      "metadata": {
        "id": "peIkGMSU5Xqb"
      }
    },
    {
      "cell_type": "code",
      "source": [
        "plt.plot(z, sigmoid(z));"
      ],
      "metadata": {
        "colab": {
          "base_uri": "https://localhost:8080/",
          "height": 265
        },
        "id": "9E_kQ3Ly4lBo",
        "outputId": "02da8261-e858-4307-9368-537344dd2fe8"
      },
      "execution_count": null,
      "outputs": [
        {
          "output_type": "display_data",
          "data": {
            "text/plain": [
              "<Figure size 432x288 with 1 Axes>"
            ],
            "image/png": "[encoded data removed]"
          },
          "metadata": {
            "needs_background": "light"
          }
        }
      ]
    },
    {
      "cell_type": "markdown",
      "source": [
        "This is how the Sigmoid function looks like."
      ],
      "metadata": {
        "id": "yQa0geWt5o6i"
      }
    },
    {
      "cell_type": "code",
      "source": [
        "def logistic_regression(xi):\n",
        "  score = w0\n",
        "\n",
        "  for j in range(len(w)):\n",
        "    score = score + xi[j]*w[j]\n",
        "\n",
        "  result = sigmoid(score)\n",
        "  return result"
      ],
      "metadata": {
        "id": "6LRA3oVr5eyI"
      },
      "execution_count": null,
      "outputs": []
    },
    {
      "cell_type": "markdown",
      "source": [
        "It is very similar to linear regression, except that we have scores and we apply sigmoid function to it."
      ],
      "metadata": {
        "id": "Y5wu1Mqg63cy"
      }
    },
    {
      "cell_type": "markdown",
      "source": [
        "Both linear and logistic regression are linear models. The reason they are called linear is because we they use the dot product (which is called linear operator in linear algebra).\n",
        "\n",
        "Linear models pros:\n",
        "- Fast to use and train\n"
      ],
      "metadata": {
        "id": "rgi_NkMS7Fzh"
      }
    },
    {
      "cell_type": "markdown",
      "source": [
        "# 11. Training Logistic Regression with Scikit-Learn\n",
        "\n",
        "- Train a model with Scikit-Learn\n",
        "- Apply it to the validation dataset\n",
        "- Calculate the accuracy"
      ],
      "metadata": {
        "id": "Sz2hw0lm7ojV"
      }
    },
    {
      "cell_type": "markdown",
      "source": [
        "## Train"
      ],
      "metadata": {
        "id": "Rcwm1QXG_ap_"
      }
    },
    {
      "cell_type": "code",
      "source": [
        "model = LogisticRegression()\n",
        "model.fit(X_train, y_train)"
      ],
      "metadata": {
        "colab": {
          "base_uri": "https://localhost:8080/"
        },
        "id": "NUWiuNHl6vfn",
        "outputId": "c4cf53dd-190e-4efd-cc69-bdd163c51ee6"
      },
      "execution_count": null,
      "outputs": [
        {
          "output_type": "execute_result",
          "data": {
            "text/plain": [
              "LogisticRegression()"
            ]
          },
          "metadata": {},
          "execution_count": 56
        }
      ]
    },
    {
      "cell_type": "code",
      "source": [
        "model.intercept_[0]"
      ],
      "metadata": {
        "colab": {
          "base_uri": "https://localhost:8080/"
        },
        "id": "ONl-NGxM_NxP",
        "outputId": "002e1897-3a5e-4db3-94f7-c054a227f4d1"
      },
      "execution_count": null,
      "outputs": [
        {
          "output_type": "execute_result",
          "data": {
            "text/plain": [
              "-0.10903461122930498"
            ]
          },
          "metadata": {},
          "execution_count": 57
        }
      ]
    },
    {
      "cell_type": "markdown",
      "source": [
        "This is the bias term. Here, it is called intercept."
      ],
      "metadata": {
        "id": "rsZoAnYH_SN8"
      }
    },
    {
      "cell_type": "code",
      "source": [
        "model.coef_[0].round(3)"
      ],
      "metadata": {
        "colab": {
          "base_uri": "https://localhost:8080/"
        },
        "id": "kvbCoX2D-_a9",
        "outputId": "5e8a7672-6a7e-4fd4-f59c-9822b05efbb2"
      },
      "execution_count": null,
      "outputs": [
        {
          "output_type": "execute_result",
          "data": {
            "text/plain": [
              "array([ 0.475, -0.175, -0.408, -0.03 , -0.078,  0.063, -0.089, -0.081,\n",
              "       -0.034, -0.073, -0.335,  0.317, -0.089,  0.004, -0.258,  0.141,\n",
              "        0.009,  0.063, -0.089, -0.081,  0.266, -0.089, -0.284, -0.231,\n",
              "        0.124, -0.166,  0.058, -0.087, -0.032,  0.07 , -0.059,  0.141,\n",
              "       -0.249,  0.215, -0.12 , -0.089,  0.102, -0.071, -0.089,  0.052,\n",
              "        0.213, -0.089, -0.232, -0.07 ,  0.   ])"
            ]
          },
          "metadata": {},
          "execution_count": 58
        }
      ]
    },
    {
      "cell_type": "markdown",
      "source": [
        "These are the weights"
      ],
      "metadata": {
        "id": "RZr3_22Q_EPF"
      }
    },
    {
      "cell_type": "markdown",
      "source": [
        "## Predict"
      ],
      "metadata": {
        "id": "MUeCncRM_ciA"
      }
    },
    {
      "cell_type": "code",
      "source": [
        "model.predict(X_val)"
      ],
      "metadata": {
        "colab": {
          "base_uri": "https://localhost:8080/"
        },
        "id": "TbG0Tvjb_DCw",
        "outputId": "8938c541-ae43-4882-8810-8a16af859f03"
      },
      "execution_count": null,
      "outputs": [
        {
          "output_type": "execute_result",
          "data": {
            "text/plain": [
              "array([0, 0, 0, ..., 0, 1, 1])"
            ]
          },
          "metadata": {},
          "execution_count": 59
        }
      ]
    },
    {
      "cell_type": "markdown",
      "source": [
        "What we are interested in is not predictions.\n",
        "\n",
        "These are called **Hard Predictions**, because we have the exact label (0 or 1). We do not know the certainty/probability of these predictions.\n",
        "\n",
        "We want to apply our own threshold to decide if someone will churn or not if they exceed a certain probability."
      ],
      "metadata": {
        "id": "BeyIn2IZ_tjs"
      }
    },
    {
      "cell_type": "code",
      "source": [
        "# To find the probability (soft predictions)\n",
        "model.predict_proba(X_val)"
      ],
      "metadata": {
        "colab": {
          "base_uri": "https://localhost:8080/"
        },
        "id": "FSBpUwj3_h7n",
        "outputId": "0773547a-60ed-4cbd-e000-facf8ad319ca"
      },
      "execution_count": null,
      "outputs": [
        {
          "output_type": "execute_result",
          "data": {
            "text/plain": [
              "array([[0.99100402, 0.00899598],\n",
              "       [0.79547762, 0.20452238],\n",
              "       [0.78777755, 0.21222245],\n",
              "       ...,\n",
              "       [0.86361572, 0.13638428],\n",
              "       [0.20023047, 0.79976953],\n",
              "       [0.16259264, 0.83740736]])"
            ]
          },
          "metadata": {},
          "execution_count": 60
        }
      ]
    },
    {
      "cell_type": "markdown",
      "source": [
        "The left column is the **probablity of not churning**, and the right column is the **probability of churning**. We are interested in the latter.\n"
      ],
      "metadata": {
        "id": "G7MHIrSvBhje"
      }
    },
    {
      "cell_type": "code",
      "source": [
        "# Probabilities of churning\n",
        "y_pred = model.predict_proba(X_val)[:,1]"
      ],
      "metadata": {
        "id": "RnL41KChBcOH"
      },
      "execution_count": null,
      "outputs": []
    },
    {
      "cell_type": "code",
      "source": [
        "# If probability is higher than 0.5, it means the customer will churn\n",
        "churn_decision = (y_pred >= 0.5)"
      ],
      "metadata": {
        "id": "IRTpb6deCJX-"
      },
      "execution_count": null,
      "outputs": []
    },
    {
      "cell_type": "markdown",
      "source": [
        "## Accuracy\n",
        "See how accurate the model is predicting."
      ],
      "metadata": {
        "id": "wuj0M4p5DMZw"
      }
    },
    {
      "cell_type": "code",
      "source": [
        "y_val, churn_decision.astype(int)"
      ],
      "metadata": {
        "colab": {
          "base_uri": "https://localhost:8080/"
        },
        "id": "eJrTVCp9CufI",
        "outputId": "be0a1ffb-e163-4ab2-d683-68cff959c4d9"
      },
      "execution_count": null,
      "outputs": [
        {
          "output_type": "execute_result",
          "data": {
            "text/plain": [
              "(array([0, 0, 0, ..., 0, 1, 1]), array([0, 0, 0, ..., 0, 1, 1]))"
            ]
          },
          "metadata": {},
          "execution_count": 63
        }
      ]
    },
    {
      "cell_type": "code",
      "source": [
        "(y_val == churn_decision).mean()"
      ],
      "metadata": {
        "colab": {
          "base_uri": "https://localhost:8080/"
        },
        "id": "hk5RhTR9Db9i",
        "outputId": "7baa3841-53eb-4d8b-9ce6-3a18c84a6577"
      },
      "execution_count": null,
      "outputs": [
        {
          "output_type": "execute_result",
          "data": {
            "text/plain": [
              "0.8034066713981547"
            ]
          },
          "metadata": {},
          "execution_count": 64
        }
      ]
    },
    {
      "cell_type": "markdown",
      "source": [
        "80% of predictions match the actual value.\n",
        "\n",
        "The model is 80% accurate.\n"
      ],
      "metadata": {
        "id": "1WDMotXtDuif"
      }
    },
    {
      "cell_type": "markdown",
      "source": [
        "# 12. Model Interpretation\n",
        "- Look at the coefficients\n",
        "- Train a smaller model with fewer features"
      ],
      "metadata": {
        "id": "uhJ4YJp2afsD"
      }
    },
    {
      "cell_type": "markdown",
      "source": [
        "## Look at the coefficients"
      ],
      "metadata": {
        "id": "vx7l1-hMawy9"
      }
    },
    {
      "cell_type": "code",
      "source": [
        "# Name of the features\n",
        "dv.get_feature_names()"
      ],
      "metadata": {
        "colab": {
          "base_uri": "https://localhost:8080/"
        },
        "id": "Z9eQQMDja4GI",
        "outputId": "d415b167-4a59-4af7-ce1d-6a4af95fe12e"
      },
      "execution_count": null,
      "outputs": [
        {
          "output_type": "stream",
          "name": "stderr",
          "text": [
            "/usr/local/lib/python3.7/dist-packages/sklearn/utils/deprecation.py:87: FutureWarning: Function get_feature_names is deprecated; get_feature_names is deprecated in 1.0 and will be removed in 1.2. Please use get_feature_names_out instead.\n",
            "  warnings.warn(msg, category=FutureWarning)\n"
          ]
        },
        {
          "output_type": "execute_result",
          "data": {
            "text/plain": [
              "['contract=month-to-month',\n",
              " 'contract=one_year',\n",
              " 'contract=two_year',\n",
              " 'dependents=no',\n",
              " 'dependents=yes',\n",
              " 'deviceprotection=no',\n",
              " 'deviceprotection=no_internet_service',\n",
              " 'deviceprotection=yes',\n",
              " 'gender=female',\n",
              " 'gender=male',\n",
              " 'internetservice=dsl',\n",
              " 'internetservice=fiber_optic',\n",
              " 'internetservice=no',\n",
              " 'monthlycharges',\n",
              " 'multiplelines=no',\n",
              " 'multiplelines=no_phone_service',\n",
              " 'multiplelines=yes',\n",
              " 'onlinebackup=no',\n",
              " 'onlinebackup=no_internet_service',\n",
              " 'onlinebackup=yes',\n",
              " 'onlinesecurity=no',\n",
              " 'onlinesecurity=no_internet_service',\n",
              " 'onlinesecurity=yes',\n",
              " 'paperlessbilling=no',\n",
              " 'paperlessbilling=yes',\n",
              " 'partner=no',\n",
              " 'partner=yes',\n",
              " 'paymentmethod=bank_transfer_(automatic)',\n",
              " 'paymentmethod=credit_card_(automatic)',\n",
              " 'paymentmethod=electronic_check',\n",
              " 'paymentmethod=mailed_check',\n",
              " 'phoneservice=no',\n",
              " 'phoneservice=yes',\n",
              " 'seniorcitizen',\n",
              " 'streamingmovies=no',\n",
              " 'streamingmovies=no_internet_service',\n",
              " 'streamingmovies=yes',\n",
              " 'streamingtv=no',\n",
              " 'streamingtv=no_internet_service',\n",
              " 'streamingtv=yes',\n",
              " 'techsupport=no',\n",
              " 'techsupport=no_internet_service',\n",
              " 'techsupport=yes',\n",
              " 'tenure',\n",
              " 'totalcharges']"
            ]
          },
          "metadata": {},
          "execution_count": 65
        }
      ]
    },
    {
      "cell_type": "code",
      "source": [
        "# Feature weights\n",
        "model.coef_[0].round(3)"
      ],
      "metadata": {
        "colab": {
          "base_uri": "https://localhost:8080/"
        },
        "id": "Wi-SJkjvDry4",
        "outputId": "4f5eb098-2e60-4ce6-9d3e-0490fa4c1809"
      },
      "execution_count": null,
      "outputs": [
        {
          "output_type": "execute_result",
          "data": {
            "text/plain": [
              "array([ 0.475, -0.175, -0.408, -0.03 , -0.078,  0.063, -0.089, -0.081,\n",
              "       -0.034, -0.073, -0.335,  0.317, -0.089,  0.004, -0.258,  0.141,\n",
              "        0.009,  0.063, -0.089, -0.081,  0.266, -0.089, -0.284, -0.231,\n",
              "        0.124, -0.166,  0.058, -0.087, -0.032,  0.07 , -0.059,  0.141,\n",
              "       -0.249,  0.215, -0.12 , -0.089,  0.102, -0.071, -0.089,  0.052,\n",
              "        0.213, -0.089, -0.232, -0.07 ,  0.   ])"
            ]
          },
          "metadata": {},
          "execution_count": 66
        }
      ]
    },
    {
      "cell_type": "code",
      "source": [
        "# See what is the weight for each feature\n",
        "dict(zip(dv.get_feature_names(), model.coef_[0].round(3)))"
      ],
      "metadata": {
        "colab": {
          "base_uri": "https://localhost:8080/"
        },
        "id": "E8NQ0IS_a03Q",
        "outputId": "625f9168-dba4-49c4-c2e4-62fded86fdd5"
      },
      "execution_count": null,
      "outputs": [
        {
          "output_type": "execute_result",
          "data": {
            "text/plain": [
              "{'contract=month-to-month': 0.475,\n",
              " 'contract=one_year': -0.175,\n",
              " 'contract=two_year': -0.408,\n",
              " 'dependents=no': -0.03,\n",
              " 'dependents=yes': -0.078,\n",
              " 'deviceprotection=no': 0.063,\n",
              " 'deviceprotection=no_internet_service': -0.089,\n",
              " 'deviceprotection=yes': -0.081,\n",
              " 'gender=female': -0.034,\n",
              " 'gender=male': -0.073,\n",
              " 'internetservice=dsl': -0.335,\n",
              " 'internetservice=fiber_optic': 0.317,\n",
              " 'internetservice=no': -0.089,\n",
              " 'monthlycharges': 0.004,\n",
              " 'multiplelines=no': -0.258,\n",
              " 'multiplelines=no_phone_service': 0.141,\n",
              " 'multiplelines=yes': 0.009,\n",
              " 'onlinebackup=no': 0.063,\n",
              " 'onlinebackup=no_internet_service': -0.089,\n",
              " 'onlinebackup=yes': -0.081,\n",
              " 'onlinesecurity=no': 0.266,\n",
              " 'onlinesecurity=no_internet_service': -0.089,\n",
              " 'onlinesecurity=yes': -0.284,\n",
              " 'paperlessbilling=no': -0.231,\n",
              " 'paperlessbilling=yes': 0.124,\n",
              " 'partner=no': -0.166,\n",
              " 'partner=yes': 0.058,\n",
              " 'paymentmethod=bank_transfer_(automatic)': -0.087,\n",
              " 'paymentmethod=credit_card_(automatic)': -0.032,\n",
              " 'paymentmethod=electronic_check': 0.07,\n",
              " 'paymentmethod=mailed_check': -0.059,\n",
              " 'phoneservice=no': 0.141,\n",
              " 'phoneservice=yes': -0.249,\n",
              " 'seniorcitizen': 0.215,\n",
              " 'streamingmovies=no': -0.12,\n",
              " 'streamingmovies=no_internet_service': -0.089,\n",
              " 'streamingmovies=yes': 0.102,\n",
              " 'streamingtv=no': -0.071,\n",
              " 'streamingtv=no_internet_service': -0.089,\n",
              " 'streamingtv=yes': 0.052,\n",
              " 'techsupport=no': 0.213,\n",
              " 'techsupport=no_internet_service': -0.089,\n",
              " 'techsupport=yes': -0.232,\n",
              " 'tenure': -0.07,\n",
              " 'totalcharges': 0.0}"
            ]
          },
          "metadata": {},
          "execution_count": 67
        }
      ]
    },
    {
      "cell_type": "markdown",
      "source": [
        "## Train a smaller model with fewer features"
      ],
      "metadata": {
        "id": "Fwrgky4ZglFZ"
      }
    },
    {
      "cell_type": "code",
      "source": [
        "small = ['contract', 'tenure', 'monthlycharges']"
      ],
      "metadata": {
        "id": "OCB7ouSzfteq"
      },
      "execution_count": null,
      "outputs": []
    },
    {
      "cell_type": "code",
      "source": [
        "df_train[small].iloc[:10].to_dict(orient='records')"
      ],
      "metadata": {
        "colab": {
          "base_uri": "https://localhost:8080/"
        },
        "id": "1ZA_a-Togrjf",
        "outputId": "013f0bc2-4447-486d-888b-1f997ea88710"
      },
      "execution_count": null,
      "outputs": [
        {
          "output_type": "execute_result",
          "data": {
            "text/plain": [
              "[{'contract': 'two_year', 'tenure': 72, 'monthlycharges': 115.5},\n",
              " {'contract': 'month-to-month', 'tenure': 10, 'monthlycharges': 95.25},\n",
              " {'contract': 'month-to-month', 'tenure': 5, 'monthlycharges': 75.55},\n",
              " {'contract': 'month-to-month', 'tenure': 5, 'monthlycharges': 80.85},\n",
              " {'contract': 'two_year', 'tenure': 18, 'monthlycharges': 20.1},\n",
              " {'contract': 'month-to-month', 'tenure': 4, 'monthlycharges': 30.5},\n",
              " {'contract': 'month-to-month', 'tenure': 1, 'monthlycharges': 75.1},\n",
              " {'contract': 'month-to-month', 'tenure': 1, 'monthlycharges': 70.3},\n",
              " {'contract': 'two_year', 'tenure': 72, 'monthlycharges': 19.75},\n",
              " {'contract': 'month-to-month', 'tenure': 6, 'monthlycharges': 109.9}]"
            ]
          },
          "metadata": {},
          "execution_count": 69
        }
      ]
    },
    {
      "cell_type": "code",
      "source": [
        "dicts_train_small = df_train[small].to_dict(orient='records')\n",
        "dicts_val_small = df_val[small].to_dict(orient='records')"
      ],
      "metadata": {
        "id": "Ny7ZN566gt6a"
      },
      "execution_count": null,
      "outputs": []
    },
    {
      "cell_type": "code",
      "source": [
        "dv_small = DictVectorizer(sparse=False)\n",
        "dv_small.fit(dicts_train_small)"
      ],
      "metadata": {
        "colab": {
          "base_uri": "https://localhost:8080/"
        },
        "id": "KQqJX47Nh3ov",
        "outputId": "f1233219-ec19-4a11-9a51-5dbe26b0cee7"
      },
      "execution_count": null,
      "outputs": [
        {
          "output_type": "execute_result",
          "data": {
            "text/plain": [
              "DictVectorizer(sparse=False)"
            ]
          },
          "metadata": {},
          "execution_count": 71
        }
      ]
    },
    {
      "cell_type": "code",
      "source": [
        "dv_small.get_feature_names()"
      ],
      "metadata": {
        "colab": {
          "base_uri": "https://localhost:8080/"
        },
        "id": "hLw1AHrliFDP",
        "outputId": "ddf881d2-1f42-4401-f830-8ee30aca2bf3"
      },
      "execution_count": null,
      "outputs": [
        {
          "output_type": "execute_result",
          "data": {
            "text/plain": [
              "['contract=month-to-month',\n",
              " 'contract=one_year',\n",
              " 'contract=two_year',\n",
              " 'monthlycharges',\n",
              " 'tenure']"
            ]
          },
          "metadata": {},
          "execution_count": 72
        }
      ]
    },
    {
      "cell_type": "code",
      "source": [
        "X_train_small = dv_small.transform(dicts_train_small)"
      ],
      "metadata": {
        "id": "Oy9rMRijiKOY"
      },
      "execution_count": null,
      "outputs": []
    },
    {
      "cell_type": "code",
      "source": [
        "model_small = LogisticRegression()\n",
        "model_small.fit(X_train_small, y_train)"
      ],
      "metadata": {
        "colab": {
          "base_uri": "https://localhost:8080/"
        },
        "id": "c29eA4MQitim",
        "outputId": "c45c30b5-6401-4dff-d6a9-91dd1add60ab"
      },
      "execution_count": null,
      "outputs": [
        {
          "output_type": "execute_result",
          "data": {
            "text/plain": [
              "LogisticRegression()"
            ]
          },
          "metadata": {},
          "execution_count": 74
        }
      ]
    },
    {
      "cell_type": "code",
      "source": [
        "# Intercept (bias term)\n",
        "w0 = model_small.intercept_[0]\n",
        "w0"
      ],
      "metadata": {
        "colab": {
          "base_uri": "https://localhost:8080/"
        },
        "id": "LKjqLkqNjAzP",
        "outputId": "4f781fa0-b99c-43e9-9897-ea82521a3cff"
      },
      "execution_count": null,
      "outputs": [
        {
          "output_type": "execute_result",
          "data": {
            "text/plain": [
              "-2.476775663985754"
            ]
          },
          "metadata": {},
          "execution_count": 75
        }
      ]
    },
    {
      "cell_type": "code",
      "source": [
        "# Weights\n",
        "w = model_small.coef_[0]\n",
        "w.round(3)"
      ],
      "metadata": {
        "colab": {
          "base_uri": "https://localhost:8080/"
        },
        "id": "-z9U9uXHjMwM",
        "outputId": "93df98dd-7acf-4e98-87f0-a13242bbae0b"
      },
      "execution_count": null,
      "outputs": [
        {
          "output_type": "execute_result",
          "data": {
            "text/plain": [
              "array([ 0.97 , -0.025, -0.949,  0.027, -0.036])"
            ]
          },
          "metadata": {},
          "execution_count": 76
        }
      ]
    },
    {
      "cell_type": "code",
      "source": [
        "# See what is the weight for each feature\n",
        "dict(zip(dv_small.get_feature_names(), w.round(3)))"
      ],
      "metadata": {
        "colab": {
          "base_uri": "https://localhost:8080/"
        },
        "id": "kfMLTbXZjRwk",
        "outputId": "fb45473e-04b7-4c04-8da1-30ce4696c8b0"
      },
      "execution_count": null,
      "outputs": [
        {
          "output_type": "stream",
          "name": "stderr",
          "text": [
            "/usr/local/lib/python3.7/dist-packages/sklearn/utils/deprecation.py:87: FutureWarning: Function get_feature_names is deprecated; get_feature_names is deprecated in 1.0 and will be removed in 1.2. Please use get_feature_names_out instead.\n",
            "  warnings.warn(msg, category=FutureWarning)\n"
          ]
        },
        {
          "output_type": "execute_result",
          "data": {
            "text/plain": [
              "{'contract=month-to-month': 0.97,\n",
              " 'contract=one_year': -0.025,\n",
              " 'contract=two_year': -0.949,\n",
              " 'monthlycharges': 0.027,\n",
              " 'tenure': -0.036}"
            ]
          },
          "metadata": {},
          "execution_count": 77
        }
      ]
    },
    {
      "cell_type": "markdown",
      "source": [
        "    -0.247 + 0.97 + (-0.025) + (-0.949)\n",
        "\n",
        "           + 0.027\n",
        "\n",
        "           + (-0.036)"
      ],
      "metadata": {
        "id": "CpPfO-RAnARe"
      }
    },
    {
      "cell_type": "markdown",
      "source": [
        "\n",
        "\n",
        "---\n",
        "\n",
        "\n"
      ],
      "metadata": {
        "id": "5fkTE7N3pTrt"
      }
    },
    {
      "cell_type": "markdown",
      "source": [
        "### Small example"
      ],
      "metadata": {
        "id": "VWD8Q0-gO04D"
      }
    },
    {
      "cell_type": "markdown",
      "source": [
        "If we have a customer that has monthly contract, pays $50 per month, and has been with the company for 5 months:\n",
        "\n",
        "    -0.247 + (1 ⋅ 0.97) + (0 ⋅ (-0.025)) + (0 ⋅ (-0.949))\n",
        "\n",
        "           + (50 ⋅ 0.027)\n",
        "\n",
        "           + (5 ⋅ (-0.036))"
      ],
      "metadata": {
        "id": "tnFn3sHznvOS"
      }
    },
    {
      "cell_type": "code",
      "source": [
        "sigmoid(w0)"
      ],
      "metadata": {
        "colab": {
          "base_uri": "https://localhost:8080/"
        },
        "id": "YnjQ06zWjjMa",
        "outputId": "6b4e037e-9ee9-4de1-bcf7-d76288b89c52"
      },
      "execution_count": null,
      "outputs": [
        {
          "output_type": "execute_result",
          "data": {
            "text/plain": [
              "0.07750241477659009"
            ]
          },
          "metadata": {},
          "execution_count": 78
        }
      ]
    },
    {
      "cell_type": "markdown",
      "source": [
        "By default we assume that the probability of someone leaving the company is small.\n",
        "\n",
        "As the score of w0 gives a 7% probability of leaving."
      ],
      "metadata": {
        "id": "dV3L14jZpARC"
      }
    },
    {
      "cell_type": "code",
      "source": [
        "# Add monthly contract\n",
        "sigmoid(w0 + 0.97)"
      ],
      "metadata": {
        "colab": {
          "base_uri": "https://localhost:8080/"
        },
        "id": "owcszCjro7r4",
        "outputId": "1c2d84fa-6ff9-4efa-d95b-64d220632de6"
      },
      "execution_count": null,
      "outputs": [
        {
          "output_type": "execute_result",
          "data": {
            "text/plain": [
              "0.18141713125721085"
            ]
          },
          "metadata": {},
          "execution_count": 80
        }
      ]
    },
    {
      "cell_type": "markdown",
      "source": [
        "When we learn that the customer has a monthly contract, the probability for churning for this customer got bigger."
      ],
      "metadata": {
        "id": "vC6PEGnqNEUI"
      }
    },
    {
      "cell_type": "code",
      "source": [
        "# Add $50 monthly charges\n",
        "sigmoid(w0 + 0.97 + 50*0.027)"
      ],
      "metadata": {
        "colab": {
          "base_uri": "https://localhost:8080/"
        },
        "id": "WcDCXvlJo9U0",
        "outputId": "72da4a0c-aa53-4d15-8c98-9042921696be"
      },
      "execution_count": null,
      "outputs": [
        {
          "output_type": "execute_result",
          "data": {
            "text/plain": [
              "0.46088616484253503"
            ]
          },
          "metadata": {},
          "execution_count": 83
        }
      ]
    },
    {
      "cell_type": "markdown",
      "source": [
        "When we learn that the customer has to pay $50, the probability increased to 46%"
      ],
      "metadata": {
        "id": "88aWYSEONTDq"
      }
    },
    {
      "cell_type": "code",
      "source": [
        "# Add 5 months tenure\n",
        "sigmoid(w0 + 0.97 + 50*0.027 + 5*(-0.036))"
      ],
      "metadata": {
        "colab": {
          "base_uri": "https://localhost:8080/"
        },
        "id": "vKoqAW-aNR80",
        "outputId": "47c0afd6-997a-4892-824f-09d3d02c50db"
      },
      "execution_count": null,
      "outputs": [
        {
          "output_type": "execute_result",
          "data": {
            "text/plain": [
              "0.4165929188253326"
            ]
          },
          "metadata": {},
          "execution_count": 89
        }
      ]
    },
    {
      "cell_type": "markdown",
      "source": [
        "Finally, when we learn that the customer spent 5 months with us, the probability of churning decreased a little bit."
      ],
      "metadata": {
        "id": "TGN41OhyOZSI"
      }
    },
    {
      "cell_type": "markdown",
      "source": [
        "# 13. Using The Model"
      ],
      "metadata": {
        "id": "LuChrSmhQlhe"
      }
    },
    {
      "cell_type": "markdown",
      "source": [
        "## Train"
      ],
      "metadata": {
        "id": "FXalyskVVpaJ"
      }
    },
    {
      "cell_type": "code",
      "source": [
        "dicts_full_train = df_full_train[categorical+numerical].to_dict(orient='records')"
      ],
      "metadata": {
        "id": "ilbtzN8hNjA7"
      },
      "execution_count": null,
      "outputs": []
    },
    {
      "cell_type": "code",
      "source": [
        "dv = DictVectorizer(sparse=False)\n",
        "X_full_train = dv.fit_transform(dicts_full_train)"
      ],
      "metadata": {
        "id": "OxNpBneUOs8I"
      },
      "execution_count": null,
      "outputs": []
    },
    {
      "cell_type": "code",
      "source": [
        "y_full_train = df_full_train.churn.values"
      ],
      "metadata": {
        "id": "bL7gty-eVYGV"
      },
      "execution_count": null,
      "outputs": []
    },
    {
      "cell_type": "code",
      "source": [
        "model = LogisticRegression()\n",
        "model.fit(X_full_train, y_full_train)"
      ],
      "metadata": {
        "colab": {
          "base_uri": "https://localhost:8080/"
        },
        "id": "VeTcbfItVD0Y",
        "outputId": "5ac4e30c-3a61-45ec-8228-72a3b1b70939"
      },
      "execution_count": null,
      "outputs": [
        {
          "output_type": "execute_result",
          "data": {
            "text/plain": [
              "LogisticRegression()"
            ]
          },
          "metadata": {},
          "execution_count": 96
        }
      ]
    },
    {
      "cell_type": "markdown",
      "source": [
        "## Test"
      ],
      "metadata": {
        "id": "OFfbSaumVrV1"
      }
    },
    {
      "cell_type": "code",
      "source": [
        "dicts_test = df_test[categorical+numerical].to_dict(orient='records')"
      ],
      "metadata": {
        "id": "MMHrA53EVf_-"
      },
      "execution_count": null,
      "outputs": []
    },
    {
      "cell_type": "code",
      "source": [
        "# We don't fit in the test sets, transform only\n",
        "X_test = dv.transform(dicts_test)"
      ],
      "metadata": {
        "id": "niLaPyK3V590"
      },
      "execution_count": null,
      "outputs": []
    },
    {
      "cell_type": "code",
      "source": [
        "y_pred = model.predict_proba(X_test)[:,1]"
      ],
      "metadata": {
        "id": "St6DstpaWHqO"
      },
      "execution_count": null,
      "outputs": []
    },
    {
      "cell_type": "code",
      "source": [
        "# Probability higher than 0.5 will churn\n",
        "churn_decision = (y_pred >= 0.5)"
      ],
      "metadata": {
        "id": "XwQHYJ6fWL6N"
      },
      "execution_count": null,
      "outputs": []
    },
    {
      "cell_type": "code",
      "source": [
        "(churn_decision == y_test).mean()"
      ],
      "metadata": {
        "colab": {
          "base_uri": "https://localhost:8080/"
        },
        "id": "Bpl5fPm2WYaJ",
        "outputId": "74630e81-a2b0-4e99-8a6b-d002799347d6"
      },
      "execution_count": null,
      "outputs": [
        {
          "output_type": "execute_result",
          "data": {
            "text/plain": [
              "0.815471965933286"
            ]
          },
          "metadata": {},
          "execution_count": 110
        }
      ]
    },
    {
      "cell_type": "markdown",
      "source": [
        "### Let's test on a customer"
      ],
      "metadata": {
        "id": "_l8krZlKXVkX"
      }
    },
    {
      "cell_type": "code",
      "source": [
        "customer = dicts_test[10]\n",
        "customer"
      ],
      "metadata": {
        "colab": {
          "base_uri": "https://localhost:8080/"
        },
        "id": "FXOB2dFUWfZG",
        "outputId": "bb4ab234-9bba-472d-bf4b-4945f0824592"
      },
      "execution_count": null,
      "outputs": [
        {
          "output_type": "execute_result",
          "data": {
            "text/plain": [
              "{'gender': 'male',\n",
              " 'seniorcitizen': 1,\n",
              " 'partner': 'yes',\n",
              " 'dependents': 'yes',\n",
              " 'phoneservice': 'yes',\n",
              " 'multiplelines': 'no',\n",
              " 'internetservice': 'fiber_optic',\n",
              " 'onlinesecurity': 'no',\n",
              " 'onlinebackup': 'yes',\n",
              " 'deviceprotection': 'no',\n",
              " 'techsupport': 'no',\n",
              " 'streamingtv': 'yes',\n",
              " 'streamingmovies': 'yes',\n",
              " 'contract': 'month-to-month',\n",
              " 'paperlessbilling': 'yes',\n",
              " 'paymentmethod': 'mailed_check',\n",
              " 'tenure': 32,\n",
              " 'monthlycharges': 93.95,\n",
              " 'totalcharges': 2861.45}"
            ]
          },
          "metadata": {},
          "execution_count": 112
        }
      ]
    },
    {
      "cell_type": "code",
      "source": [
        "X_small = dv.transform(customer)"
      ],
      "metadata": {
        "id": "C_ihrokvXM8T"
      },
      "execution_count": null,
      "outputs": []
    },
    {
      "cell_type": "code",
      "source": [
        "X_small.shape"
      ],
      "metadata": {
        "colab": {
          "base_uri": "https://localhost:8080/"
        },
        "id": "B7IF8vslXvdm",
        "outputId": "2e04d83e-90d3-4553-b771-449bd22a3caa"
      },
      "execution_count": null,
      "outputs": [
        {
          "output_type": "execute_result",
          "data": {
            "text/plain": [
              "(1, 45)"
            ]
          },
          "metadata": {},
          "execution_count": 115
        }
      ]
    },
    {
      "cell_type": "code",
      "source": [
        "model.predict_proba(X_small)[0,1]"
      ],
      "metadata": {
        "colab": {
          "base_uri": "https://localhost:8080/"
        },
        "id": "Z_EPDlQFX261",
        "outputId": "ebf9714d-2c9d-4b4d-b62c-81a85ad2fcc9"
      },
      "execution_count": null,
      "outputs": [
        {
          "output_type": "execute_result",
          "data": {
            "text/plain": [
              "0.4056810977859304"
            ]
          },
          "metadata": {},
          "execution_count": 120
        }
      ]
    },
    {
      "cell_type": "markdown",
      "source": [
        "Model predicts that the customer is not going to churn."
      ],
      "metadata": {
        "id": "F4IRLRkOYQJA"
      }
    },
    {
      "cell_type": "code",
      "source": [
        "y_test[10]"
      ],
      "metadata": {
        "colab": {
          "base_uri": "https://localhost:8080/"
        },
        "id": "xKEgoRWqX8dK",
        "outputId": "560e14bf-03d6-4d5d-c7ea-f76dadcc2a30"
      },
      "execution_count": null,
      "outputs": [
        {
          "output_type": "execute_result",
          "data": {
            "text/plain": [
              "0"
            ]
          },
          "metadata": {},
          "execution_count": 122
        }
      ]
    },
    {
      "cell_type": "markdown",
      "source": [
        "We can see here that the actual value is 0 too, meaning the model predicted correctly."
      ],
      "metadata": {
        "id": "6rEH7PXHYT_f"
      }
    },
    {
      "cell_type": "markdown",
      "source": [
        "# 14. Summary\n",
        "- Feature importance: risk, mutual information, correlation\n",
        "- One-hot encoding can be implemented with `DictVectorizer`\n",
        "- Logistic regression - linear model like linear regression\n",
        "- Outpot of log reg - probability\n",
        "- Interpretation of weights is similar to linear regression\n"
      ],
      "metadata": {
        "id": "CvqmhMNvY13G"
      }
    },
    {
      "cell_type": "markdown",
      "source": [
        "15. Explore More\n",
        "\n",
        "More things\n",
        "\n",
        "- Try to exclude least useful features\n",
        "\n",
        "Use scikit-learn in project of last week\n",
        "\n",
        "- Re-implement train/val/test split using scikit-learn in the project from the last week\n",
        "- Also, instead of our own linear regression, use LinearRegression (not regularized) and RidgeRegression (regularized). Find the best regularization parameter for Ridge\n",
        "\n",
        "Other projects\n",
        "\n",
        "- Lead scoring - https://www.kaggle.com/ashydv/leads-dataset\n",
        "- Default prediction - https://archive.ics.uci.edu/ml/datasets/default+of+credit+card+clients\n"
      ],
      "metadata": {
        "id": "Fp3lolaiydVd"
      }
    }
  ]
}
