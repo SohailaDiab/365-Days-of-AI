{
  "nbformat": 4,
  "nbformat_minor": 0,
  "metadata": {
    "colab": {
      "provenance": [],
      "collapsed_sections": [],
      "authorship_tag": "ABX9TyMblneGLEs1SavGDfkkEYvM",
      "include_colab_link": true
    },
    "kernelspec": {
      "name": "python3",
      "display_name": "Python 3"
    },
    "language_info": {
      "name": "python"
    }
  },
  "cells": [
    {
      "cell_type": "markdown",
      "metadata": {
        "id": "view-in-github",
        "colab_type": "text"
      },
      "source": [
        "<a href=\"https://colab.research.google.com/github/SohailaDiab/365-Days-of-AI/blob/main/Week2_CarPricePrediction.ipynb\" target=\"_parent\"><img src=\"https://colab.research.google.com/assets/colab-badge.svg\" alt=\"Open In Colab\"/></a>"
      ]
    },
    {
      "cell_type": "markdown",
      "source": [
        "# Machine Learning for Regression"
      ],
      "metadata": {
        "id": "jTKQ0oo2ruXI"
      }
    },
    {
      "cell_type": "code",
      "execution_count": 496,
      "metadata": {
        "id": "PHwzixf4pBt_"
      },
      "outputs": [],
      "source": [
        "import numpy as np\n",
        "import pandas as pd\n",
        "\n",
        "import matplotlib.pyplot as plt\n",
        "import seaborn as sns\n",
        "%matplotlib inline"
      ]
    },
    {
      "cell_type": "markdown",
      "source": [
        "# 1. Data preparation"
      ],
      "metadata": {
        "id": "Dm6P-usbr_wJ"
      }
    },
    {
      "cell_type": "code",
      "source": [
        "data = 'https://raw.githubusercontent.com/alexeygrigorev/mlbookcamp-code/master/chapter-02-car-price/data.csv'"
      ],
      "metadata": {
        "id": "LM9hTay0r4kB"
      },
      "execution_count": 497,
      "outputs": []
    },
    {
      "cell_type": "code",
      "source": [
        "!wget $data"
      ],
      "metadata": {
        "colab": {
          "base_uri": "https://localhost:8080/"
        },
        "id": "y-8c0sn9sYLc",
        "outputId": "2e3b1694-c673-43f8-b758-32e0dd5a9dfb"
      },
      "execution_count": 498,
      "outputs": [
        {
          "output_type": "stream",
          "name": "stdout",
          "text": [
            "--2022-09-29 18:29:52--  https://raw.githubusercontent.com/alexeygrigorev/mlbookcamp-code/master/chapter-02-car-price/data.csv\n",
            "Resolving raw.githubusercontent.com (raw.githubusercontent.com)... 185.199.111.133, 185.199.108.133, 185.199.110.133, ...\n",
            "Connecting to raw.githubusercontent.com (raw.githubusercontent.com)|185.199.111.133|:443... connected.\n",
            "HTTP request sent, awaiting response... 200 OK\n",
            "Length: 1475504 (1.4M) [text/plain]\n",
            "Saving to: ‘data.csv.5’\n",
            "\n",
            "\rdata.csv.5            0%[                    ]       0  --.-KB/s               \rdata.csv.5          100%[===================>]   1.41M  --.-KB/s    in 0.06s   \n",
            "\n",
            "2022-09-29 18:29:52 (25.5 MB/s) - ‘data.csv.5’ saved [1475504/1475504]\n",
            "\n"
          ]
        }
      ]
    },
    {
      "cell_type": "code",
      "source": [
        "df = pd.read_csv('data.csv')"
      ],
      "metadata": {
        "id": "DwWJKBXYsbQD"
      },
      "execution_count": 499,
      "outputs": []
    },
    {
      "cell_type": "code",
      "source": [
        "df.head()"
      ],
      "metadata": {
        "colab": {
          "base_uri": "https://localhost:8080/",
          "height": 458
        },
        "id": "OETrj8Vxss5w",
        "outputId": "52ffd09a-d7f8-4ff0-f855-5d9e27783c63"
      },
      "execution_count": 500,
      "outputs": [
        {
          "output_type": "execute_result",
          "data": {
            "text/plain": [
              "  Make       Model  Year             Engine Fuel Type  Engine HP  \\\n",
              "0  BMW  1 Series M  2011  premium unleaded (required)      335.0   \n",
              "1  BMW    1 Series  2011  premium unleaded (required)      300.0   \n",
              "2  BMW    1 Series  2011  premium unleaded (required)      300.0   \n",
              "3  BMW    1 Series  2011  premium unleaded (required)      230.0   \n",
              "4  BMW    1 Series  2011  premium unleaded (required)      230.0   \n",
              "\n",
              "   Engine Cylinders Transmission Type     Driven_Wheels  Number of Doors  \\\n",
              "0               6.0            MANUAL  rear wheel drive              2.0   \n",
              "1               6.0            MANUAL  rear wheel drive              2.0   \n",
              "2               6.0            MANUAL  rear wheel drive              2.0   \n",
              "3               6.0            MANUAL  rear wheel drive              2.0   \n",
              "4               6.0            MANUAL  rear wheel drive              2.0   \n",
              "\n",
              "                         Market Category Vehicle Size Vehicle Style  \\\n",
              "0  Factory Tuner,Luxury,High-Performance      Compact         Coupe   \n",
              "1                     Luxury,Performance      Compact   Convertible   \n",
              "2                Luxury,High-Performance      Compact         Coupe   \n",
              "3                     Luxury,Performance      Compact         Coupe   \n",
              "4                                 Luxury      Compact   Convertible   \n",
              "\n",
              "   highway MPG  city mpg  Popularity   MSRP  \n",
              "0           26        19        3916  46135  \n",
              "1           28        19        3916  40650  \n",
              "2           28        20        3916  36350  \n",
              "3           28        18        3916  29450  \n",
              "4           28        18        3916  34500  "
            ],
            "text/html": [
              "\n",
              "  <div id=\"df-1fa16820-58bf-46e7-a3de-2cf4b269e4c8\">\n",
              "    <div class=\"colab-df-container\">\n",
              "      <div>\n",
              "<style scoped>\n",
              "    .dataframe tbody tr th:only-of-type {\n",
              "        vertical-align: middle;\n",
              "    }\n",
              "\n",
              "    .dataframe tbody tr th {\n",
              "        vertical-align: top;\n",
              "    }\n",
              "\n",
              "    .dataframe thead th {\n",
              "        text-align: right;\n",
              "    }\n",
              "</style>\n",
              "<table border=\"1\" class=\"dataframe\">\n",
              "  <thead>\n",
              "    <tr style=\"text-align: right;\">\n",
              "      <th></th>\n",
              "      <th>Make</th>\n",
              "      <th>Model</th>\n",
              "      <th>Year</th>\n",
              "      <th>Engine Fuel Type</th>\n",
              "      <th>Engine HP</th>\n",
              "      <th>Engine Cylinders</th>\n",
              "      <th>Transmission Type</th>\n",
              "      <th>Driven_Wheels</th>\n",
              "      <th>Number of Doors</th>\n",
              "      <th>Market Category</th>\n",
              "      <th>Vehicle Size</th>\n",
              "      <th>Vehicle Style</th>\n",
              "      <th>highway MPG</th>\n",
              "      <th>city mpg</th>\n",
              "      <th>Popularity</th>\n",
              "      <th>MSRP</th>\n",
              "    </tr>\n",
              "  </thead>\n",
              "  <tbody>\n",
              "    <tr>\n",
              "      <th>0</th>\n",
              "      <td>BMW</td>\n",
              "      <td>1 Series M</td>\n",
              "      <td>2011</td>\n",
              "      <td>premium unleaded (required)</td>\n",
              "      <td>335.0</td>\n",
              "      <td>6.0</td>\n",
              "      <td>MANUAL</td>\n",
              "      <td>rear wheel drive</td>\n",
              "      <td>2.0</td>\n",
              "      <td>Factory Tuner,Luxury,High-Performance</td>\n",
              "      <td>Compact</td>\n",
              "      <td>Coupe</td>\n",
              "      <td>26</td>\n",
              "      <td>19</td>\n",
              "      <td>3916</td>\n",
              "      <td>46135</td>\n",
              "    </tr>\n",
              "    <tr>\n",
              "      <th>1</th>\n",
              "      <td>BMW</td>\n",
              "      <td>1 Series</td>\n",
              "      <td>2011</td>\n",
              "      <td>premium unleaded (required)</td>\n",
              "      <td>300.0</td>\n",
              "      <td>6.0</td>\n",
              "      <td>MANUAL</td>\n",
              "      <td>rear wheel drive</td>\n",
              "      <td>2.0</td>\n",
              "      <td>Luxury,Performance</td>\n",
              "      <td>Compact</td>\n",
              "      <td>Convertible</td>\n",
              "      <td>28</td>\n",
              "      <td>19</td>\n",
              "      <td>3916</td>\n",
              "      <td>40650</td>\n",
              "    </tr>\n",
              "    <tr>\n",
              "      <th>2</th>\n",
              "      <td>BMW</td>\n",
              "      <td>1 Series</td>\n",
              "      <td>2011</td>\n",
              "      <td>premium unleaded (required)</td>\n",
              "      <td>300.0</td>\n",
              "      <td>6.0</td>\n",
              "      <td>MANUAL</td>\n",
              "      <td>rear wheel drive</td>\n",
              "      <td>2.0</td>\n",
              "      <td>Luxury,High-Performance</td>\n",
              "      <td>Compact</td>\n",
              "      <td>Coupe</td>\n",
              "      <td>28</td>\n",
              "      <td>20</td>\n",
              "      <td>3916</td>\n",
              "      <td>36350</td>\n",
              "    </tr>\n",
              "    <tr>\n",
              "      <th>3</th>\n",
              "      <td>BMW</td>\n",
              "      <td>1 Series</td>\n",
              "      <td>2011</td>\n",
              "      <td>premium unleaded (required)</td>\n",
              "      <td>230.0</td>\n",
              "      <td>6.0</td>\n",
              "      <td>MANUAL</td>\n",
              "      <td>rear wheel drive</td>\n",
              "      <td>2.0</td>\n",
              "      <td>Luxury,Performance</td>\n",
              "      <td>Compact</td>\n",
              "      <td>Coupe</td>\n",
              "      <td>28</td>\n",
              "      <td>18</td>\n",
              "      <td>3916</td>\n",
              "      <td>29450</td>\n",
              "    </tr>\n",
              "    <tr>\n",
              "      <th>4</th>\n",
              "      <td>BMW</td>\n",
              "      <td>1 Series</td>\n",
              "      <td>2011</td>\n",
              "      <td>premium unleaded (required)</td>\n",
              "      <td>230.0</td>\n",
              "      <td>6.0</td>\n",
              "      <td>MANUAL</td>\n",
              "      <td>rear wheel drive</td>\n",
              "      <td>2.0</td>\n",
              "      <td>Luxury</td>\n",
              "      <td>Compact</td>\n",
              "      <td>Convertible</td>\n",
              "      <td>28</td>\n",
              "      <td>18</td>\n",
              "      <td>3916</td>\n",
              "      <td>34500</td>\n",
              "    </tr>\n",
              "  </tbody>\n",
              "</table>\n",
              "</div>\n",
              "      <button class=\"colab-df-convert\" onclick=\"convertToInteractive('df-1fa16820-58bf-46e7-a3de-2cf4b269e4c8')\"\n",
              "              title=\"Convert this dataframe to an interactive table.\"\n",
              "              style=\"display:none;\">\n",
              "        \n",
              "  <svg xmlns=\"http://www.w3.org/2000/svg\" height=\"24px\"viewBox=\"0 0 24 24\"\n",
              "       width=\"24px\">\n",
              "    <path d=\"M0 0h24v24H0V0z\" fill=\"none\"/>\n",
              "    <path d=\"M18.56 5.44l.94 2.06.94-2.06 2.06-.94-2.06-.94-.94-2.06-.94 2.06-2.06.94zm-11 1L8.5 8.5l.94-2.06 2.06-.94-2.06-.94L8.5 2.5l-.94 2.06-2.06.94zm10 10l.94 2.06.94-2.06 2.06-.94-2.06-.94-.94-2.06-.94 2.06-2.06.94z\"/><path d=\"M17.41 7.96l-1.37-1.37c-.4-.4-.92-.59-1.43-.59-.52 0-1.04.2-1.43.59L10.3 9.45l-7.72 7.72c-.78.78-.78 2.05 0 2.83L4 21.41c.39.39.9.59 1.41.59.51 0 1.02-.2 1.41-.59l7.78-7.78 2.81-2.81c.8-.78.8-2.07 0-2.86zM5.41 20L4 18.59l7.72-7.72 1.47 1.35L5.41 20z\"/>\n",
              "  </svg>\n",
              "      </button>\n",
              "      \n",
              "  <style>\n",
              "    .colab-df-container {\n",
              "      display:flex;\n",
              "      flex-wrap:wrap;\n",
              "      gap: 12px;\n",
              "    }\n",
              "\n",
              "    .colab-df-convert {\n",
              "      background-color: #E8F0FE;\n",
              "      border: none;\n",
              "      border-radius: 50%;\n",
              "      cursor: pointer;\n",
              "      display: none;\n",
              "      fill: #1967D2;\n",
              "      height: 32px;\n",
              "      padding: 0 0 0 0;\n",
              "      width: 32px;\n",
              "    }\n",
              "\n",
              "    .colab-df-convert:hover {\n",
              "      background-color: #E2EBFA;\n",
              "      box-shadow: 0px 1px 2px rgba(60, 64, 67, 0.3), 0px 1px 3px 1px rgba(60, 64, 67, 0.15);\n",
              "      fill: #174EA6;\n",
              "    }\n",
              "\n",
              "    [theme=dark] .colab-df-convert {\n",
              "      background-color: #3B4455;\n",
              "      fill: #D2E3FC;\n",
              "    }\n",
              "\n",
              "    [theme=dark] .colab-df-convert:hover {\n",
              "      background-color: #434B5C;\n",
              "      box-shadow: 0px 1px 3px 1px rgba(0, 0, 0, 0.15);\n",
              "      filter: drop-shadow(0px 1px 2px rgba(0, 0, 0, 0.3));\n",
              "      fill: #FFFFFF;\n",
              "    }\n",
              "  </style>\n",
              "\n",
              "      <script>\n",
              "        const buttonEl =\n",
              "          document.querySelector('#df-1fa16820-58bf-46e7-a3de-2cf4b269e4c8 button.colab-df-convert');\n",
              "        buttonEl.style.display =\n",
              "          google.colab.kernel.accessAllowed ? 'block' : 'none';\n",
              "\n",
              "        async function convertToInteractive(key) {\n",
              "          const element = document.querySelector('#df-1fa16820-58bf-46e7-a3de-2cf4b269e4c8');\n",
              "          const dataTable =\n",
              "            await google.colab.kernel.invokeFunction('convertToInteractive',\n",
              "                                                     [key], {});\n",
              "          if (!dataTable) return;\n",
              "\n",
              "          const docLinkHtml = 'Like what you see? Visit the ' +\n",
              "            '<a target=\"_blank\" href=https://colab.research.google.com/notebooks/data_table.ipynb>data table notebook</a>'\n",
              "            + ' to learn more about interactive tables.';\n",
              "          element.innerHTML = '';\n",
              "          dataTable['output_type'] = 'display_data';\n",
              "          await google.colab.output.renderOutput(dataTable, element);\n",
              "          const docLink = document.createElement('div');\n",
              "          docLink.innerHTML = docLinkHtml;\n",
              "          element.appendChild(docLink);\n",
              "        }\n",
              "      </script>\n",
              "    </div>\n",
              "  </div>\n",
              "  "
            ]
          },
          "metadata": {},
          "execution_count": 500
        }
      ]
    },
    {
      "cell_type": "markdown",
      "source": [
        "We can see that the column headings aren't ideal since they are not lowercase and there are spaces.\n",
        "\n",
        "The values are also inconsistent so we will need to change the string values to lowercase"
      ],
      "metadata": {
        "id": "yziabZ7_uZgf"
      }
    },
    {
      "cell_type": "code",
      "source": [
        "# Make the column names in lowercase and change spaces to underscores\n",
        "df.columns = df.columns.str.lower().str.replace(' ', '_')\n",
        "df.columns"
      ],
      "metadata": {
        "colab": {
          "base_uri": "https://localhost:8080/"
        },
        "id": "8zGTrwoEsuru",
        "outputId": "00c44422-c3b4-487b-8213-0b8ed2145fab"
      },
      "execution_count": 501,
      "outputs": [
        {
          "output_type": "execute_result",
          "data": {
            "text/plain": [
              "Index(['make', 'model', 'year', 'engine_fuel_type', 'engine_hp',\n",
              "       'engine_cylinders', 'transmission_type', 'driven_wheels',\n",
              "       'number_of_doors', 'market_category', 'vehicle_size', 'vehicle_style',\n",
              "       'highway_mpg', 'city_mpg', 'popularity', 'msrp'],\n",
              "      dtype='object')"
            ]
          },
          "metadata": {},
          "execution_count": 501
        }
      ]
    },
    {
      "cell_type": "code",
      "source": [
        "# Get the column names that are of type object (string)\n",
        "strings = list(df.dtypes[df.dtypes == 'object'].index)\n",
        "strings"
      ],
      "metadata": {
        "colab": {
          "base_uri": "https://localhost:8080/"
        },
        "id": "09ZW5rpat6e_",
        "outputId": "17250797-439d-4724-d000-cdeff5ab9309"
      },
      "execution_count": 502,
      "outputs": [
        {
          "output_type": "execute_result",
          "data": {
            "text/plain": [
              "['make',\n",
              " 'model',\n",
              " 'engine_fuel_type',\n",
              " 'transmission_type',\n",
              " 'driven_wheels',\n",
              " 'market_category',\n",
              " 'vehicle_size',\n",
              " 'vehicle_style']"
            ]
          },
          "metadata": {},
          "execution_count": 502
        }
      ]
    },
    {
      "cell_type": "code",
      "source": [
        "# Loop over the column names in `strings` and access these columns\n",
        "# in the df to change the values to lowercase and no spaces\n",
        "for column in strings:\n",
        "  df[column] = df[column].str.lower().str.replace(' ', '_')"
      ],
      "metadata": {
        "id": "4x-Zasc7v4ZW"
      },
      "execution_count": 503,
      "outputs": []
    },
    {
      "cell_type": "code",
      "source": [
        "df.head()"
      ],
      "metadata": {
        "colab": {
          "base_uri": "https://localhost:8080/",
          "height": 288
        },
        "id": "zoJMpCg0wpYn",
        "outputId": "365f00d9-51b0-41de-9cef-4613cf430ef1"
      },
      "execution_count": 504,
      "outputs": [
        {
          "output_type": "execute_result",
          "data": {
            "text/plain": [
              "  make       model  year             engine_fuel_type  engine_hp  \\\n",
              "0  bmw  1_series_m  2011  premium_unleaded_(required)      335.0   \n",
              "1  bmw    1_series  2011  premium_unleaded_(required)      300.0   \n",
              "2  bmw    1_series  2011  premium_unleaded_(required)      300.0   \n",
              "3  bmw    1_series  2011  premium_unleaded_(required)      230.0   \n",
              "4  bmw    1_series  2011  premium_unleaded_(required)      230.0   \n",
              "\n",
              "   engine_cylinders transmission_type     driven_wheels  number_of_doors  \\\n",
              "0               6.0            manual  rear_wheel_drive              2.0   \n",
              "1               6.0            manual  rear_wheel_drive              2.0   \n",
              "2               6.0            manual  rear_wheel_drive              2.0   \n",
              "3               6.0            manual  rear_wheel_drive              2.0   \n",
              "4               6.0            manual  rear_wheel_drive              2.0   \n",
              "\n",
              "                         market_category vehicle_size vehicle_style  \\\n",
              "0  factory_tuner,luxury,high-performance      compact         coupe   \n",
              "1                     luxury,performance      compact   convertible   \n",
              "2                luxury,high-performance      compact         coupe   \n",
              "3                     luxury,performance      compact         coupe   \n",
              "4                                 luxury      compact   convertible   \n",
              "\n",
              "   highway_mpg  city_mpg  popularity   msrp  \n",
              "0           26        19        3916  46135  \n",
              "1           28        19        3916  40650  \n",
              "2           28        20        3916  36350  \n",
              "3           28        18        3916  29450  \n",
              "4           28        18        3916  34500  "
            ],
            "text/html": [
              "\n",
              "  <div id=\"df-75e918d3-3d1a-4594-a022-43b59d626f60\">\n",
              "    <div class=\"colab-df-container\">\n",
              "      <div>\n",
              "<style scoped>\n",
              "    .dataframe tbody tr th:only-of-type {\n",
              "        vertical-align: middle;\n",
              "    }\n",
              "\n",
              "    .dataframe tbody tr th {\n",
              "        vertical-align: top;\n",
              "    }\n",
              "\n",
              "    .dataframe thead th {\n",
              "        text-align: right;\n",
              "    }\n",
              "</style>\n",
              "<table border=\"1\" class=\"dataframe\">\n",
              "  <thead>\n",
              "    <tr style=\"text-align: right;\">\n",
              "      <th></th>\n",
              "      <th>make</th>\n",
              "      <th>model</th>\n",
              "      <th>year</th>\n",
              "      <th>engine_fuel_type</th>\n",
              "      <th>engine_hp</th>\n",
              "      <th>engine_cylinders</th>\n",
              "      <th>transmission_type</th>\n",
              "      <th>driven_wheels</th>\n",
              "      <th>number_of_doors</th>\n",
              "      <th>market_category</th>\n",
              "      <th>vehicle_size</th>\n",
              "      <th>vehicle_style</th>\n",
              "      <th>highway_mpg</th>\n",
              "      <th>city_mpg</th>\n",
              "      <th>popularity</th>\n",
              "      <th>msrp</th>\n",
              "    </tr>\n",
              "  </thead>\n",
              "  <tbody>\n",
              "    <tr>\n",
              "      <th>0</th>\n",
              "      <td>bmw</td>\n",
              "      <td>1_series_m</td>\n",
              "      <td>2011</td>\n",
              "      <td>premium_unleaded_(required)</td>\n",
              "      <td>335.0</td>\n",
              "      <td>6.0</td>\n",
              "      <td>manual</td>\n",
              "      <td>rear_wheel_drive</td>\n",
              "      <td>2.0</td>\n",
              "      <td>factory_tuner,luxury,high-performance</td>\n",
              "      <td>compact</td>\n",
              "      <td>coupe</td>\n",
              "      <td>26</td>\n",
              "      <td>19</td>\n",
              "      <td>3916</td>\n",
              "      <td>46135</td>\n",
              "    </tr>\n",
              "    <tr>\n",
              "      <th>1</th>\n",
              "      <td>bmw</td>\n",
              "      <td>1_series</td>\n",
              "      <td>2011</td>\n",
              "      <td>premium_unleaded_(required)</td>\n",
              "      <td>300.0</td>\n",
              "      <td>6.0</td>\n",
              "      <td>manual</td>\n",
              "      <td>rear_wheel_drive</td>\n",
              "      <td>2.0</td>\n",
              "      <td>luxury,performance</td>\n",
              "      <td>compact</td>\n",
              "      <td>convertible</td>\n",
              "      <td>28</td>\n",
              "      <td>19</td>\n",
              "      <td>3916</td>\n",
              "      <td>40650</td>\n",
              "    </tr>\n",
              "    <tr>\n",
              "      <th>2</th>\n",
              "      <td>bmw</td>\n",
              "      <td>1_series</td>\n",
              "      <td>2011</td>\n",
              "      <td>premium_unleaded_(required)</td>\n",
              "      <td>300.0</td>\n",
              "      <td>6.0</td>\n",
              "      <td>manual</td>\n",
              "      <td>rear_wheel_drive</td>\n",
              "      <td>2.0</td>\n",
              "      <td>luxury,high-performance</td>\n",
              "      <td>compact</td>\n",
              "      <td>coupe</td>\n",
              "      <td>28</td>\n",
              "      <td>20</td>\n",
              "      <td>3916</td>\n",
              "      <td>36350</td>\n",
              "    </tr>\n",
              "    <tr>\n",
              "      <th>3</th>\n",
              "      <td>bmw</td>\n",
              "      <td>1_series</td>\n",
              "      <td>2011</td>\n",
              "      <td>premium_unleaded_(required)</td>\n",
              "      <td>230.0</td>\n",
              "      <td>6.0</td>\n",
              "      <td>manual</td>\n",
              "      <td>rear_wheel_drive</td>\n",
              "      <td>2.0</td>\n",
              "      <td>luxury,performance</td>\n",
              "      <td>compact</td>\n",
              "      <td>coupe</td>\n",
              "      <td>28</td>\n",
              "      <td>18</td>\n",
              "      <td>3916</td>\n",
              "      <td>29450</td>\n",
              "    </tr>\n",
              "    <tr>\n",
              "      <th>4</th>\n",
              "      <td>bmw</td>\n",
              "      <td>1_series</td>\n",
              "      <td>2011</td>\n",
              "      <td>premium_unleaded_(required)</td>\n",
              "      <td>230.0</td>\n",
              "      <td>6.0</td>\n",
              "      <td>manual</td>\n",
              "      <td>rear_wheel_drive</td>\n",
              "      <td>2.0</td>\n",
              "      <td>luxury</td>\n",
              "      <td>compact</td>\n",
              "      <td>convertible</td>\n",
              "      <td>28</td>\n",
              "      <td>18</td>\n",
              "      <td>3916</td>\n",
              "      <td>34500</td>\n",
              "    </tr>\n",
              "  </tbody>\n",
              "</table>\n",
              "</div>\n",
              "      <button class=\"colab-df-convert\" onclick=\"convertToInteractive('df-75e918d3-3d1a-4594-a022-43b59d626f60')\"\n",
              "              title=\"Convert this dataframe to an interactive table.\"\n",
              "              style=\"display:none;\">\n",
              "        \n",
              "  <svg xmlns=\"http://www.w3.org/2000/svg\" height=\"24px\"viewBox=\"0 0 24 24\"\n",
              "       width=\"24px\">\n",
              "    <path d=\"M0 0h24v24H0V0z\" fill=\"none\"/>\n",
              "    <path d=\"M18.56 5.44l.94 2.06.94-2.06 2.06-.94-2.06-.94-.94-2.06-.94 2.06-2.06.94zm-11 1L8.5 8.5l.94-2.06 2.06-.94-2.06-.94L8.5 2.5l-.94 2.06-2.06.94zm10 10l.94 2.06.94-2.06 2.06-.94-2.06-.94-.94-2.06-.94 2.06-2.06.94z\"/><path d=\"M17.41 7.96l-1.37-1.37c-.4-.4-.92-.59-1.43-.59-.52 0-1.04.2-1.43.59L10.3 9.45l-7.72 7.72c-.78.78-.78 2.05 0 2.83L4 21.41c.39.39.9.59 1.41.59.51 0 1.02-.2 1.41-.59l7.78-7.78 2.81-2.81c.8-.78.8-2.07 0-2.86zM5.41 20L4 18.59l7.72-7.72 1.47 1.35L5.41 20z\"/>\n",
              "  </svg>\n",
              "      </button>\n",
              "      \n",
              "  <style>\n",
              "    .colab-df-container {\n",
              "      display:flex;\n",
              "      flex-wrap:wrap;\n",
              "      gap: 12px;\n",
              "    }\n",
              "\n",
              "    .colab-df-convert {\n",
              "      background-color: #E8F0FE;\n",
              "      border: none;\n",
              "      border-radius: 50%;\n",
              "      cursor: pointer;\n",
              "      display: none;\n",
              "      fill: #1967D2;\n",
              "      height: 32px;\n",
              "      padding: 0 0 0 0;\n",
              "      width: 32px;\n",
              "    }\n",
              "\n",
              "    .colab-df-convert:hover {\n",
              "      background-color: #E2EBFA;\n",
              "      box-shadow: 0px 1px 2px rgba(60, 64, 67, 0.3), 0px 1px 3px 1px rgba(60, 64, 67, 0.15);\n",
              "      fill: #174EA6;\n",
              "    }\n",
              "\n",
              "    [theme=dark] .colab-df-convert {\n",
              "      background-color: #3B4455;\n",
              "      fill: #D2E3FC;\n",
              "    }\n",
              "\n",
              "    [theme=dark] .colab-df-convert:hover {\n",
              "      background-color: #434B5C;\n",
              "      box-shadow: 0px 1px 3px 1px rgba(0, 0, 0, 0.15);\n",
              "      filter: drop-shadow(0px 1px 2px rgba(0, 0, 0, 0.3));\n",
              "      fill: #FFFFFF;\n",
              "    }\n",
              "  </style>\n",
              "\n",
              "      <script>\n",
              "        const buttonEl =\n",
              "          document.querySelector('#df-75e918d3-3d1a-4594-a022-43b59d626f60 button.colab-df-convert');\n",
              "        buttonEl.style.display =\n",
              "          google.colab.kernel.accessAllowed ? 'block' : 'none';\n",
              "\n",
              "        async function convertToInteractive(key) {\n",
              "          const element = document.querySelector('#df-75e918d3-3d1a-4594-a022-43b59d626f60');\n",
              "          const dataTable =\n",
              "            await google.colab.kernel.invokeFunction('convertToInteractive',\n",
              "                                                     [key], {});\n",
              "          if (!dataTable) return;\n",
              "\n",
              "          const docLinkHtml = 'Like what you see? Visit the ' +\n",
              "            '<a target=\"_blank\" href=https://colab.research.google.com/notebooks/data_table.ipynb>data table notebook</a>'\n",
              "            + ' to learn more about interactive tables.';\n",
              "          element.innerHTML = '';\n",
              "          dataTable['output_type'] = 'display_data';\n",
              "          await google.colab.output.renderOutput(dataTable, element);\n",
              "          const docLink = document.createElement('div');\n",
              "          docLink.innerHTML = docLinkHtml;\n",
              "          element.appendChild(docLink);\n",
              "        }\n",
              "      </script>\n",
              "    </div>\n",
              "  </div>\n",
              "  "
            ]
          },
          "metadata": {},
          "execution_count": 504
        }
      ]
    },
    {
      "cell_type": "markdown",
      "source": [
        "The data now looks cleaner"
      ],
      "metadata": {
        "id": "q7WIFXwhwspE"
      }
    },
    {
      "cell_type": "markdown",
      "source": [
        "# 2. Exploratory Data Analysis"
      ],
      "metadata": {
        "id": "RyLdTWdxtJ4B"
      }
    },
    {
      "cell_type": "code",
      "source": [
        "# First 5 unique values and number of unique values for each column\n",
        "for col in df.columns:\n",
        "  print(col)\n",
        "  print(f'First 5 unique values: {df[col].unique()[:5]}')\n",
        "  print(f'Number of unique values: {df[col].nunique()}\\n')"
      ],
      "metadata": {
        "colab": {
          "base_uri": "https://localhost:8080/"
        },
        "id": "vLQXZj2ZtIhh",
        "outputId": "1134faad-ad4d-4b7c-af8d-5bf814aa8bc7"
      },
      "execution_count": 505,
      "outputs": [
        {
          "output_type": "stream",
          "name": "stdout",
          "text": [
            "make\n",
            "First 5 unique values: ['bmw' 'audi' 'fiat' 'mercedes-benz' 'chrysler']\n",
            "Number of unique values: 48\n",
            "\n",
            "model\n",
            "First 5 unique values: ['1_series_m' '1_series' '100' '124_spider' '190-class']\n",
            "Number of unique values: 914\n",
            "\n",
            "year\n",
            "First 5 unique values: [2011 2012 2013 1992 1993]\n",
            "Number of unique values: 28\n",
            "\n",
            "engine_fuel_type\n",
            "First 5 unique values: ['premium_unleaded_(required)' 'regular_unleaded'\n",
            " 'premium_unleaded_(recommended)' 'flex-fuel_(unleaded/e85)' 'diesel']\n",
            "Number of unique values: 10\n",
            "\n",
            "engine_hp\n",
            "First 5 unique values: [335. 300. 230. 320. 172.]\n",
            "Number of unique values: 356\n",
            "\n",
            "engine_cylinders\n",
            "First 5 unique values: [ 6.  4.  5.  8. 12.]\n",
            "Number of unique values: 9\n",
            "\n",
            "transmission_type\n",
            "First 5 unique values: ['manual' 'automatic' 'automated_manual' 'direct_drive' 'unknown']\n",
            "Number of unique values: 5\n",
            "\n",
            "driven_wheels\n",
            "First 5 unique values: ['rear_wheel_drive' 'front_wheel_drive' 'all_wheel_drive'\n",
            " 'four_wheel_drive']\n",
            "Number of unique values: 4\n",
            "\n",
            "number_of_doors\n",
            "First 5 unique values: [ 2.  4.  3. nan]\n",
            "Number of unique values: 3\n",
            "\n",
            "market_category\n",
            "First 5 unique values: ['factory_tuner,luxury,high-performance' 'luxury,performance'\n",
            " 'luxury,high-performance' 'luxury' 'performance']\n",
            "Number of unique values: 71\n",
            "\n",
            "vehicle_size\n",
            "First 5 unique values: ['compact' 'midsize' 'large']\n",
            "Number of unique values: 3\n",
            "\n",
            "vehicle_style\n",
            "First 5 unique values: ['coupe' 'convertible' 'sedan' 'wagon' '4dr_hatchback']\n",
            "Number of unique values: 16\n",
            "\n",
            "highway_mpg\n",
            "First 5 unique values: [26 28 27 25 24]\n",
            "Number of unique values: 59\n",
            "\n",
            "city_mpg\n",
            "First 5 unique values: [19 20 18 17 16]\n",
            "Number of unique values: 69\n",
            "\n",
            "popularity\n",
            "First 5 unique values: [3916 3105  819  617 1013]\n",
            "Number of unique values: 48\n",
            "\n",
            "msrp\n",
            "First 5 unique values: [46135 40650 36350 29450 34500]\n",
            "Number of unique values: 6049\n",
            "\n"
          ]
        }
      ]
    },
    {
      "cell_type": "markdown",
      "source": [
        "### Distribution of msrp (price)"
      ],
      "metadata": {
        "id": "dI7DDRky9Egj"
      }
    },
    {
      "cell_type": "code",
      "source": [
        "sns.histplot(df.msrp, bins=50)\n",
        "plt.title('Histogram for msrp')\n",
        "plt.xlabel('msrp ($ in millions)');"
      ],
      "metadata": {
        "colab": {
          "base_uri": "https://localhost:8080/",
          "height": 295
        },
        "id": "AepyPjaV0zpi",
        "outputId": "3dc26d9b-43b5-49db-a5a4-f472d7de984c"
      },
      "execution_count": 506,
      "outputs": [
        {
          "output_type": "display_data",
          "data": {
            "text/plain": [
              "<Figure size 432x288 with 1 Axes>"
            ],
            "image/png": "[encoded data removed]"
          },
          "metadata": {
            "needs_background": "light"
          }
        }
      ]
    },
    {
      "cell_type": "markdown",
      "source": [
        "This type of distribution is called **Long Tail Distribution**.\n",
        "\n",
        "Let's zoom in the histogram to see it a bit clearer."
      ],
      "metadata": {
        "id": "qDLGCGSS2c7w"
      }
    },
    {
      "cell_type": "code",
      "source": [
        "sns.histplot(df.msrp[df.msrp < 100000], bins=50)\n",
        "plt.title('Histogram for msrp')\n",
        "plt.xlabel('msrp');"
      ],
      "metadata": {
        "colab": {
          "base_uri": "https://localhost:8080/",
          "height": 295
        },
        "id": "Ifagm8Op1kZL",
        "outputId": "c6e48870-4be8-4811-ff9a-eec1bae62529"
      },
      "execution_count": 507,
      "outputs": [
        {
          "output_type": "display_data",
          "data": {
            "text/plain": [
              "<Figure size 432x288 with 1 Axes>"
            ],
            "image/png": "[encoded data removed]"
          },
          "metadata": {
            "needs_background": "light"
          }
        }
      ]
    },
    {
      "cell_type": "markdown",
      "source": [
        "The peak cost of cars is $1000. The reason could possibly be that this is the lowest value that is possible to put in the platform.\n",
        "\n",
        "The average would be about $25,000"
      ],
      "metadata": {
        "id": "vMS0xxsF8s1p"
      }
    },
    {
      "cell_type": "markdown",
      "source": [
        "This kind of distribution is not really good for ML (the tail will confuse the model).\n",
        "\n",
        "To get rid of this long tail, we will apply **logarithmic distribution** to get more compact values"
      ],
      "metadata": {
        "id": "bFRb1cxP99od"
      }
    },
    {
      "cell_type": "markdown",
      "source": [
        "### Logarithmic distribution\n",
        "\n",
        "Since we cannot apply the log function to 0 (undefined), we will add 1 to each value to be sure that there are no 0s.\n",
        "\n",
        ">`np.log([0+1, 1+1, 10+1, 1000+1, 100000+1])`\n",
        "\n",
        ">output:\n",
        "`array([ 0.        ,  0.69314718,  2.39789527,  6.90875478, 11.51293546])`\n",
        "\n",
        "A NumPy function adds 1s manually, called `np.log1p()`"
      ],
      "metadata": {
        "id": "ch5CJmo1-npV"
      }
    },
    {
      "cell_type": "code",
      "source": [
        "# Apply logarithmic dist. to msrp\n",
        "price_logs = np.log1p(df.msrp)"
      ],
      "metadata": {
        "id": "V_EgI2qa8WkM"
      },
      "execution_count": 508,
      "outputs": []
    },
    {
      "cell_type": "code",
      "source": [
        "sns.histplot(price_logs, bins=50)\n",
        "plt.title('Histogram for msrp')\n",
        "plt.xlabel('msrp ($)');"
      ],
      "metadata": {
        "colab": {
          "base_uri": "https://localhost:8080/",
          "height": 295
        },
        "id": "J5w4XyO7-4E6",
        "outputId": "549470e7-dc62-4f61-e53c-a5596eb67352"
      },
      "execution_count": 509,
      "outputs": [
        {
          "output_type": "display_data",
          "data": {
            "text/plain": [
              "<Figure size 432x288 with 1 Axes>"
            ],
            "image/png": "[encoded data removed]"
          },
          "metadata": {
            "needs_background": "light"
          }
        }
      ]
    },
    {
      "cell_type": "markdown",
      "source": [
        "The tail is now gone and we can visualize it better.\n",
        "\n",
        "The bell curve shape represents normal distribution."
      ],
      "metadata": {
        "id": "ocL_qekKBgFm"
      }
    },
    {
      "cell_type": "markdown",
      "source": [
        "### Missing values"
      ],
      "metadata": {
        "id": "4PVq9bNRDk0m"
      }
    },
    {
      "cell_type": "code",
      "source": [
        "# Number of missing values for each column\n",
        "df.isnull().sum()"
      ],
      "metadata": {
        "colab": {
          "base_uri": "https://localhost:8080/"
        },
        "id": "C6BCCpXzBeUC",
        "outputId": "3db1217b-dcf8-4184-8bf6-a733c0f940bc"
      },
      "execution_count": 510,
      "outputs": [
        {
          "output_type": "execute_result",
          "data": {
            "text/plain": [
              "make                    0\n",
              "model                   0\n",
              "year                    0\n",
              "engine_fuel_type        3\n",
              "engine_hp              69\n",
              "engine_cylinders       30\n",
              "transmission_type       0\n",
              "driven_wheels           0\n",
              "number_of_doors         6\n",
              "market_category      3742\n",
              "vehicle_size            0\n",
              "vehicle_style           0\n",
              "highway_mpg             0\n",
              "city_mpg                0\n",
              "popularity              0\n",
              "msrp                    0\n",
              "dtype: int64"
            ]
          },
          "metadata": {},
          "execution_count": 510
        }
      ]
    },
    {
      "cell_type": "markdown",
      "source": [
        "# 3. Setting up the validation framework"
      ],
      "metadata": {
        "id": "PIC8Fo_KUe9H"
      }
    },
    {
      "cell_type": "markdown",
      "source": [
        "### Shuffle and split the dataset"
      ],
      "metadata": {
        "id": "fTz97Uk2bI45"
      }
    },
    {
      "cell_type": "markdown",
      "source": [
        "We will split the dataset into 3 parts:\n",
        "\n",
        "- **Train:** 60%\n",
        "- **Validation:** 20%\n",
        "- **Test:** 20%\n",
        "\n",
        "We will do it manually without using a library for it"
      ],
      "metadata": {
        "id": "nf_VB20OZleC"
      }
    },
    {
      "cell_type": "code",
      "source": [
        "# Size of whole dataset\n",
        "n = len(df)\n",
        "\n",
        "n_val = int(n*0.2) # Validation set size\n",
        "n_test= int(n*0.2) # Test set size\n",
        "n_train = n - n_val - n_test # Train set size\n",
        "\n",
        "n_train, n_val, n_test"
      ],
      "metadata": {
        "id": "Q588TXLsEERv",
        "colab": {
          "base_uri": "https://localhost:8080/"
        },
        "outputId": "f037622a-0dbe-45db-d823-1b3f72bcb605"
      },
      "execution_count": 511,
      "outputs": [
        {
          "output_type": "execute_result",
          "data": {
            "text/plain": [
              "(7150, 2382, 2382)"
            ]
          },
          "metadata": {},
          "execution_count": 511
        }
      ]
    },
    {
      "cell_type": "code",
      "source": [
        "np.random.seed(2)\n",
        "# Generate the indices\n",
        "idx = np.arange(n)\n",
        "# Shuffle indices\n",
        "np.random.shuffle(idx)\n",
        "idx"
      ],
      "metadata": {
        "colab": {
          "base_uri": "https://localhost:8080/"
        },
        "id": "l5phYFyEcDVj",
        "outputId": "bb90a83a-6d65-4eaf-9561-c79a2bc49365"
      },
      "execution_count": 512,
      "outputs": [
        {
          "output_type": "execute_result",
          "data": {
            "text/plain": [
              "array([2735, 6720, 5878, ..., 6637, 2575, 7336])"
            ]
          },
          "metadata": {},
          "execution_count": 512
        }
      ]
    },
    {
      "cell_type": "code",
      "source": [
        "# Split the dataset\n",
        "df_train = df.iloc[idx[:n_train]].reset_index(drop=True)\n",
        "df_val = df.iloc[idx[n_train : n_train+n_val]].reset_index(drop=True)\n",
        "df_test = df.iloc[idx[n_train+n_val:]].reset_index(drop=True)"
      ],
      "metadata": {
        "id": "zmETrjYMemxV"
      },
      "execution_count": 513,
      "outputs": []
    },
    {
      "cell_type": "code",
      "source": [
        "len(df_train), len(df_val), len(df_test)"
      ],
      "metadata": {
        "colab": {
          "base_uri": "https://localhost:8080/"
        },
        "id": "dSnqHphtflXG",
        "outputId": "73b8e2d5-92bd-4707-c85b-871ed4fc2636"
      },
      "execution_count": 514,
      "outputs": [
        {
          "output_type": "execute_result",
          "data": {
            "text/plain": [
              "(7150, 2382, 2382)"
            ]
          },
          "metadata": {},
          "execution_count": 514
        }
      ]
    },
    {
      "cell_type": "markdown",
      "source": [
        "### Apply log transformation to target variable y (msrp)"
      ],
      "metadata": {
        "id": "-aZI0Kq1hTtt"
      }
    },
    {
      "cell_type": "code",
      "source": [
        "y_train = np.log1p(df_train.msrp.values)\n",
        "y_val = np.log1p(df_val.msrp.values)\n",
        "y_test = np.log1p(df_test.msrp.values)\n",
        "\n",
        "y_test"
      ],
      "metadata": {
        "colab": {
          "base_uri": "https://localhost:8080/"
        },
        "id": "HWkKZJ09frly",
        "outputId": "84c8da6e-6ba7-41bd-ff7c-05e3c0a5fcaf"
      },
      "execution_count": 515,
      "outputs": [
        {
          "output_type": "execute_result",
          "data": {
            "text/plain": [
              "array([ 7.60140233,  8.07464908, 10.34563811, ..., 10.27852782,\n",
              "       10.00789261, 10.40414162])"
            ]
          },
          "metadata": {},
          "execution_count": 515
        }
      ]
    },
    {
      "cell_type": "markdown",
      "source": [
        "### Remove target variable from dataframe\n"
      ],
      "metadata": {
        "id": "EhkBddLSirS2"
      }
    },
    {
      "cell_type": "code",
      "source": [
        "del df_train['msrp']\n",
        "del df_val['msrp']\n",
        "del df_test['msrp']"
      ],
      "metadata": {
        "id": "0PYB_J96iJTc"
      },
      "execution_count": 516,
      "outputs": []
    },
    {
      "cell_type": "markdown",
      "source": [
        "This is to avoid using it as a feature"
      ],
      "metadata": {
        "id": "gYCC8W2SivUH"
      }
    },
    {
      "cell_type": "markdown",
      "source": [
        "# 4. Linear Regression"
      ],
      "metadata": {
        "id": "uqtoSP78jQT4"
      }
    },
    {
      "cell_type": "markdown",
      "source": [
        "Linear regression is a model that is used to solve **regression** problems. \n",
        "\n",
        "The output of the model is a number.\n",
        "\n",
        "``g(X) ≈ y``\n",
        "\n",
        "* g-> Model *(Linear regression)*\n",
        "* X -> Feature matrix \n",
        "* y -> Target vector\n",
        "\n",
        "The LR formula is the sum of the bias term w0\n",
        "``g(xi) = w0 + w1⋅xi1 + w2⋅xi2 + w3⋅xi3 + ...``\n",
        "\n",
        "w0 -> bias term (prediction we make without knowing anything about the features)\n",
        "\n",
        "wi -> weight for each feature\n",
        "\n",
        "***Compact generalized form:***\n",
        "\n",
        "![`g(xi) = w0 + Σ wj ⋅ xij`](data:image/png;base64,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)\n",
        "\n"
      ],
      "metadata": {
        "id": "KwetKH_PnlO1"
      }
    },
    {
      "cell_type": "markdown",
      "source": [
        "## 4.1 Mock code implementation"
      ],
      "metadata": {
        "id": "AV1YIDo3mlsA"
      }
    },
    {
      "cell_type": "code",
      "source": [
        "xi = [453, 11, 86] # feature vector for car i\n",
        "w0 = 7.17 # bias term\n",
        "w = [0.01, 0.04, 0.002] # weights vector"
      ],
      "metadata": {
        "id": "1tSK70uylNAZ"
      },
      "execution_count": 517,
      "outputs": []
    },
    {
      "cell_type": "code",
      "source": [
        "def LinearRegression(xi):\n",
        "  n = len(xi) # length of feature and weights vector\n",
        "\n",
        "  pred = w0\n",
        "\n",
        "  for j in range(n):\n",
        "    pred += w[j] * xi[j]\n",
        "  return pred"
      ],
      "metadata": {
        "id": "u4a5yEg5iyJh"
      },
      "execution_count": 518,
      "outputs": []
    },
    {
      "cell_type": "code",
      "source": [
        "# Prediction\n",
        "\n",
        "# To undo the logarithm we did before (np.log1p())\n",
        "np.expm1(LinearRegression(xi))"
      ],
      "metadata": {
        "id": "M6DweXzki2h5",
        "colab": {
          "base_uri": "https://localhost:8080/"
        },
        "outputId": "66a1f7db-392d-436d-b57d-afe66709d502"
      },
      "execution_count": 519,
      "outputs": [
        {
          "output_type": "execute_result",
          "data": {
            "text/plain": [
              "222347.2221101062"
            ]
          },
          "metadata": {},
          "execution_count": 519
        }
      ]
    },
    {
      "cell_type": "markdown",
      "source": [
        "## 4.2 Vector form"
      ],
      "metadata": {
        "id": "vjI_Dw7J3Nel"
      }
    },
    {
      "cell_type": "markdown",
      "source": [
        "![image.png](data:image/png;base64,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)"
      ],
      "metadata": {
        "id": "OBwZPA2pAp-u"
      }
    },
    {
      "cell_type": "markdown",
      "source": [
        "More compact annotation:\n",
        "\n",
        "![image.png](data:image/png;base64,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)"
      ],
      "metadata": {
        "id": "onGJEbUkBEb6"
      }
    },
    {
      "cell_type": "code",
      "source": [
        "# Dot product (vector-vector multiplication)\n",
        "def dot(xi, w):\n",
        "  n = len(xi) # length of feature and weights vector\n",
        "  res = 0.0\n",
        "\n",
        "  for j in range(n):\n",
        "    res += xi[j]*w[j]\n",
        "\n",
        "  return res"
      ],
      "metadata": {
        "id": "SMJ_hU3HeC8m"
      },
      "execution_count": 520,
      "outputs": []
    },
    {
      "cell_type": "code",
      "source": [
        "def LinearRegression(xi):\n",
        "  return w0 + dot(xi, w)"
      ],
      "metadata": {
        "id": "T3qSFj3hBgfL"
      },
      "execution_count": 521,
      "outputs": []
    },
    {
      "cell_type": "code",
      "source": [
        "# Add w0 in the Linear Regression function, by making w vector start with w0\n",
        "# and xi vector start with 1, since w0*1 = w0\n",
        "\n",
        "w_new = [w0] + w \n",
        "\n",
        "def LinearRegression(xi):\n",
        "  xi = [1] + xi\n",
        "  return dot(xi, w_new)"
      ],
      "metadata": {
        "id": "9Sp9qpu_CKCK"
      },
      "execution_count": 522,
      "outputs": []
    },
    {
      "cell_type": "code",
      "source": [
        "LinearRegression(xi)"
      ],
      "metadata": {
        "colab": {
          "base_uri": "https://localhost:8080/"
        },
        "id": "Mp7gtlaSDXI7",
        "outputId": "6bef2f65-461f-44b0-ce43-bbadf7f1355a"
      },
      "execution_count": 523,
      "outputs": [
        {
          "output_type": "execute_result",
          "data": {
            "text/plain": [
              "12.312"
            ]
          },
          "metadata": {},
          "execution_count": 523
        }
      ]
    },
    {
      "cell_type": "markdown",
      "source": [
        "![image.png](data:image/png;base64,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)"
      ],
      "metadata": {
        "id": "JHGgvEFXGE3A"
      }
    },
    {
      "cell_type": "markdown",
      "source": [
        "To apply Linear Regression to get `ypred`:\n",
        "\n",
        "Multiply matrix `X` with vector `w`"
      ],
      "metadata": {
        "id": "EcyuivAQGJac"
      }
    },
    {
      "cell_type": "code",
      "source": [
        "w0 = 7.17 # bias term\n",
        "w = [0.01, 0.04, 0.002] # weights vector\n",
        "w_new = [w0] + w\n",
        "w_new"
      ],
      "metadata": {
        "colab": {
          "base_uri": "https://localhost:8080/"
        },
        "id": "7Ubu853nDZe8",
        "outputId": "2abdaaff-9ec2-4b19-d08e-421559777fed"
      },
      "execution_count": 524,
      "outputs": [
        {
          "output_type": "execute_result",
          "data": {
            "text/plain": [
              "[7.17, 0.01, 0.04, 0.002]"
            ]
          },
          "metadata": {},
          "execution_count": 524
        }
      ]
    },
    {
      "cell_type": "code",
      "source": [
        "# 3 different observations\n",
        "x1 = [1, 148, 24, 1385]\n",
        "x2 = [1, 132, 25, 2031]\n",
        "x10 = [1, 453, 11, 86]\n",
        "\n",
        "# Feature matrix\n",
        "X = [x1, x2, x10]\n",
        "X = np.array(X)\n",
        "X"
      ],
      "metadata": {
        "colab": {
          "base_uri": "https://localhost:8080/"
        },
        "id": "ZQc5sWsTHCre",
        "outputId": "f199df87-dc23-4fe1-e230-417860744024"
      },
      "execution_count": 525,
      "outputs": [
        {
          "output_type": "execute_result",
          "data": {
            "text/plain": [
              "array([[   1,  148,   24, 1385],\n",
              "       [   1,  132,   25, 2031],\n",
              "       [   1,  453,   11,   86]])"
            ]
          },
          "metadata": {},
          "execution_count": 525
        }
      ]
    },
    {
      "cell_type": "code",
      "source": [
        "# Now multiply the X matrix and w vector \n",
        "# to get the prediction for each of the 3 cars\n",
        "def LinearRegression(X):\n",
        "  return X.dot(w_new)"
      ],
      "metadata": {
        "id": "ctdYQcE2KClc"
      },
      "execution_count": 526,
      "outputs": []
    },
    {
      "cell_type": "code",
      "source": [
        "LinearRegression(X)"
      ],
      "metadata": {
        "colab": {
          "base_uri": "https://localhost:8080/"
        },
        "id": "6h5LXvAIKZ41",
        "outputId": "f078acab-343d-4f34-f5ca-114757cc04b9"
      },
      "execution_count": 527,
      "outputs": [
        {
          "output_type": "execute_result",
          "data": {
            "text/plain": [
              "array([12.38 , 13.552, 12.312])"
            ]
          },
          "metadata": {},
          "execution_count": 527
        }
      ]
    },
    {
      "cell_type": "markdown",
      "source": [
        "# 5. Training Linear Regression: Normal Equation\n",
        "\n"
      ],
      "metadata": {
        "id": "yiQQKlngDPgU"
      }
    },
    {
      "cell_type": "markdown",
      "source": [
        "`Xw = y`\n",
        "\n",
        "How to solve for `w` if inverse for `X` exists:\n",
        "`w = X^-1 y`\n",
        "\n",
        "**Issue:**\n",
        "\n",
        "This `X` is usually a rectangular matrix, so for that matrix the **inverse does not exist**.\n",
        "\n",
        "**Solution:**\n",
        "\n",
        "We can find an approximate solution for this by multiplying by the **transpose of X**, giving us the **Gram Matrix** `XT X`: \n",
        "\n",
        "![image.png](data:image/png;base64,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)\n",
        "\n",
        "\n",
        "\n",
        "After that, we multiply by the inverse of the Gram Matrix:\n",
        "\n",
        "![image.png](data:image/png;base64,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)\n",
        "\n",
        "The Gram Matrix multiplied by its inverse becomes an identity matrix, so they cancel out:\n",
        "\n",
        "![image.png](data:image/png;base64,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)"
      ],
      "metadata": {
        "id": "kLuGh7G_k8JJ"
      }
    },
    {
      "cell_type": "code",
      "source": [
        "# Feature matrix\n",
        "X = [   \n",
        "    [148, 24, 1385],\n",
        "    [132, 25, 2031],\n",
        "    [453, 11, 86],\n",
        "    [158, 24, 185],\n",
        "    [172, 25, 201],\n",
        "    [413, 11, 86],\n",
        "    [38, 54, 185],\n",
        "    [142, 25, 431],\n",
        "    [453, 31, 86],\n",
        "]\n",
        "X = np.array(X)\n",
        "X"
      ],
      "metadata": {
        "colab": {
          "base_uri": "https://localhost:8080/"
        },
        "id": "UfvwMmcg23go",
        "outputId": "1ae2629b-b0a7-4051-8810-e95ee1222ecc"
      },
      "execution_count": 528,
      "outputs": [
        {
          "output_type": "execute_result",
          "data": {
            "text/plain": [
              "array([[ 148,   24, 1385],\n",
              "       [ 132,   25, 2031],\n",
              "       [ 453,   11,   86],\n",
              "       [ 158,   24,  185],\n",
              "       [ 172,   25,  201],\n",
              "       [ 413,   11,   86],\n",
              "       [  38,   54,  185],\n",
              "       [ 142,   25,  431],\n",
              "       [ 453,   31,   86]])"
            ]
          },
          "metadata": {},
          "execution_count": 528
        }
      ]
    },
    {
      "cell_type": "code",
      "source": [
        "# Bias term gives us the baseline \n",
        "# eg. how much a car should cost if we don't know anything about it)\n",
        "\n",
        "# So, we need to add the bias term on the left of every vector in the X matrix\n",
        "# Bias term here will be 1s\n",
        "ones = np.ones(X.shape[0])\n",
        "\n",
        "# Take add `ones` vector to the left of `X` column \n",
        "X = np.column_stack([ones, X])"
      ],
      "metadata": {
        "id": "7DEsJc7vA9ya"
      },
      "execution_count": 529,
      "outputs": []
    },
    {
      "cell_type": "code",
      "source": [
        "y = [10000, 20000, 15000, 20050, 10000, 20000, 15000, 25000, 12000]"
      ],
      "metadata": {
        "id": "kN1FQxSMAapG"
      },
      "execution_count": 530,
      "outputs": []
    },
    {
      "cell_type": "code",
      "source": [
        "# Gram Matrix\n",
        "XTX = X.T.dot(X)\n",
        "XTX"
      ],
      "metadata": {
        "colab": {
          "base_uri": "https://localhost:8080/"
        },
        "id": "Sw3RLatE4rgq",
        "outputId": "3070f2a1-9504-42a3-e540-8c82721a70fe"
      },
      "execution_count": 531,
      "outputs": [
        {
          "output_type": "execute_result",
          "data": {
            "text/plain": [
              "array([[9.000000e+00, 2.109000e+03, 2.300000e+02, 4.676000e+03],\n",
              "       [2.109000e+03, 6.964710e+05, 4.411500e+04, 7.185400e+05],\n",
              "       [2.300000e+02, 4.411500e+04, 7.146000e+03, 1.188030e+05],\n",
              "       [4.676000e+03, 7.185400e+05, 1.188030e+05, 6.359986e+06]])"
            ]
          },
          "metadata": {},
          "execution_count": 531
        }
      ]
    },
    {
      "cell_type": "code",
      "source": [
        "# Inverse Gram Matrix\n",
        "XTX_inv = np.linalg.inv(XTX)\n",
        "XTX_inv"
      ],
      "metadata": {
        "colab": {
          "base_uri": "https://localhost:8080/"
        },
        "id": "eRQaN4Dw-YFr",
        "outputId": "c4947651-fa96-49fa-ea1e-773ae929dbed"
      },
      "execution_count": 532,
      "outputs": [
        {
          "output_type": "execute_result",
          "data": {
            "text/plain": [
              "array([[ 3.30686958e+00, -5.39612291e-03, -6.21325581e-02,\n",
              "        -6.61016816e-04],\n",
              "       [-5.39612291e-03,  1.11633857e-05,  8.66973393e-05,\n",
              "         1.08664195e-06],\n",
              "       [-6.21325581e-02,  8.66973393e-05,  1.46189255e-03,\n",
              "         8.57849603e-06],\n",
              "       [-6.61016816e-04,  1.08664195e-06,  8.57849603e-06,\n",
              "         3.60215866e-07]])"
            ]
          },
          "metadata": {},
          "execution_count": 532
        }
      ]
    },
    {
      "cell_type": "code",
      "source": [
        "# Dot product between XTX and XTX_inv\n",
        "XTX.dot(XTX_inv).round(1)"
      ],
      "metadata": {
        "colab": {
          "base_uri": "https://localhost:8080/"
        },
        "id": "_G0A-nMT-Z6u",
        "outputId": "3a5d7273-38dd-422f-bdba-a6bfada54c90"
      },
      "execution_count": 533,
      "outputs": [
        {
          "output_type": "execute_result",
          "data": {
            "text/plain": [
              "array([[ 1., -0.,  0.,  0.],\n",
              "       [-0.,  1.,  0.,  0.],\n",
              "       [-0.,  0.,  1.,  0.],\n",
              "       [-0., -0.,  0.,  1.]])"
            ]
          },
          "metadata": {},
          "execution_count": 533
        }
      ]
    },
    {
      "cell_type": "markdown",
      "source": [
        "We can see that this is an identity matrix"
      ],
      "metadata": {
        "id": "VmIqheMg_yEz"
      }
    },
    {
      "cell_type": "code",
      "source": [
        "# all the weights\n",
        "w_full = XTX_inv.dot(X.T).dot(y)\n",
        "w_full"
      ],
      "metadata": {
        "colab": {
          "base_uri": "https://localhost:8080/"
        },
        "id": "5x-bN2T-_vo7",
        "outputId": "1139d034-513f-4cb8-fec1-3066ff9f967e"
      },
      "execution_count": 534,
      "outputs": [
        {
          "output_type": "execute_result",
          "data": {
            "text/plain": [
              "array([ 2.58447541e+04, -1.60890647e+01, -1.99472549e+02, -1.22802883e+00])"
            ]
          },
          "metadata": {},
          "execution_count": 534
        }
      ]
    },
    {
      "cell_type": "code",
      "source": [
        "# Bias term\n",
        "w0 = w_full[0]\n",
        "\n",
        "# The rest of the weights\n",
        "w = w_full[1:]"
      ],
      "metadata": {
        "id": "FyHi0RiGAt05"
      },
      "execution_count": 535,
      "outputs": []
    },
    {
      "cell_type": "code",
      "source": [
        "w0, w"
      ],
      "metadata": {
        "colab": {
          "base_uri": "https://localhost:8080/"
        },
        "id": "gSFflx09DTAW",
        "outputId": "a862d50f-eb40-4490-decc-27738c6bca07"
      },
      "execution_count": 536,
      "outputs": [
        {
          "output_type": "execute_result",
          "data": {
            "text/plain": [
              "(25844.754055766753, array([ -16.08906468, -199.47254894,   -1.22802883]))"
            ]
          },
          "metadata": {},
          "execution_count": 536
        }
      ]
    },
    {
      "cell_type": "markdown",
      "source": [
        "Negative weights mean the price goes down as that certain feature increases in value."
      ],
      "metadata": {
        "id": "2iWrFFIcFppr"
      }
    },
    {
      "cell_type": "markdown",
      "source": [
        "## **Now let's put all of this into a function**"
      ],
      "metadata": {
        "id": "KtegSK4JGFHf"
      }
    },
    {
      "cell_type": "code",
      "source": [
        "def train_linear_regression(X, y):\n",
        "  '''\n",
        "    inputs:\n",
        "      X : Feature matrix\n",
        "      y : Target values\n",
        "\n",
        "    output:\n",
        "      bias \n",
        "      vector of weights\n",
        "  '''\n",
        "  ones = np.ones(X.shape[0])\n",
        "  X = np.column_stack([ones, X])\n",
        "\n",
        "  XTX = X.T.dot(X)\n",
        "  XTX_inv = np.linalg.inv(XTX)\n",
        "  w_full = XTX_inv.dot(X.T).dot(y)\n",
        "\n",
        "  return w_full[0], w_full[1:]"
      ],
      "metadata": {
        "id": "qcRjdQcjDVKQ"
      },
      "execution_count": 537,
      "outputs": []
    },
    {
      "cell_type": "code",
      "source": [
        "X, y"
      ],
      "metadata": {
        "colab": {
          "base_uri": "https://localhost:8080/"
        },
        "id": "DEwfIG1FJYE4",
        "outputId": "71494448-88db-41db-e015-ac5d6bb3af17"
      },
      "execution_count": 538,
      "outputs": [
        {
          "output_type": "execute_result",
          "data": {
            "text/plain": [
              "(array([[1.000e+00, 1.480e+02, 2.400e+01, 1.385e+03],\n",
              "        [1.000e+00, 1.320e+02, 2.500e+01, 2.031e+03],\n",
              "        [1.000e+00, 4.530e+02, 1.100e+01, 8.600e+01],\n",
              "        [1.000e+00, 1.580e+02, 2.400e+01, 1.850e+02],\n",
              "        [1.000e+00, 1.720e+02, 2.500e+01, 2.010e+02],\n",
              "        [1.000e+00, 4.130e+02, 1.100e+01, 8.600e+01],\n",
              "        [1.000e+00, 3.800e+01, 5.400e+01, 1.850e+02],\n",
              "        [1.000e+00, 1.420e+02, 2.500e+01, 4.310e+02],\n",
              "        [1.000e+00, 4.530e+02, 3.100e+01, 8.600e+01]]),\n",
              " [10000, 20000, 15000, 20050, 10000, 20000, 15000, 25000, 12000])"
            ]
          },
          "metadata": {},
          "execution_count": 538
        }
      ]
    },
    {
      "cell_type": "code",
      "source": [
        "# Feature matrix\n",
        "X = [   \n",
        "    [148, 24, 1385],\n",
        "    [132, 25, 2031],\n",
        "    [453, 11, 86],\n",
        "    [158, 24, 185],\n",
        "    [172, 25, 201],\n",
        "    [413, 11, 86],\n",
        "    [38, 54, 185],\n",
        "    [142, 25, 431],\n",
        "    [453, 31, 86],\n",
        "]\n",
        "X = np.array(X)\n",
        "X"
      ],
      "metadata": {
        "colab": {
          "base_uri": "https://localhost:8080/"
        },
        "id": "Ho0u7AI9ZwNV",
        "outputId": "ef86d909-2ac7-420d-a381-4fc4230e6d2b"
      },
      "execution_count": 539,
      "outputs": [
        {
          "output_type": "execute_result",
          "data": {
            "text/plain": [
              "array([[ 148,   24, 1385],\n",
              "       [ 132,   25, 2031],\n",
              "       [ 453,   11,   86],\n",
              "       [ 158,   24,  185],\n",
              "       [ 172,   25,  201],\n",
              "       [ 413,   11,   86],\n",
              "       [  38,   54,  185],\n",
              "       [ 142,   25,  431],\n",
              "       [ 453,   31,   86]])"
            ]
          },
          "metadata": {},
          "execution_count": 539
        }
      ]
    },
    {
      "cell_type": "code",
      "source": [
        "train_linear_regression(X, y)"
      ],
      "metadata": {
        "colab": {
          "base_uri": "https://localhost:8080/"
        },
        "id": "jhzq-pk2G7oB",
        "outputId": "9e1f1960-a9c4-49d9-e5bf-3e00ab631911"
      },
      "execution_count": 540,
      "outputs": [
        {
          "output_type": "execute_result",
          "data": {
            "text/plain": [
              "(25844.754055766753, array([ -16.08906468, -199.47254894,   -1.22802883]))"
            ]
          },
          "metadata": {},
          "execution_count": 540
        }
      ]
    },
    {
      "cell_type": "markdown",
      "source": [
        "# 6. Baseline Model for Car Price Prediction "
      ],
      "metadata": {
        "id": "M8UVTiS8Jnj9"
      }
    },
    {
      "cell_type": "code",
      "source": [
        "df_train.dtypes"
      ],
      "metadata": {
        "colab": {
          "base_uri": "https://localhost:8080/"
        },
        "id": "WYTWgSE1JNRn",
        "outputId": "20825e42-df5e-4d5e-9ea7-dfd663b8f2d3"
      },
      "execution_count": 541,
      "outputs": [
        {
          "output_type": "execute_result",
          "data": {
            "text/plain": [
              "make                  object\n",
              "model                 object\n",
              "year                   int64\n",
              "engine_fuel_type      object\n",
              "engine_hp            float64\n",
              "engine_cylinders     float64\n",
              "transmission_type     object\n",
              "driven_wheels         object\n",
              "number_of_doors      float64\n",
              "market_category       object\n",
              "vehicle_size          object\n",
              "vehicle_style         object\n",
              "highway_mpg            int64\n",
              "city_mpg               int64\n",
              "popularity             int64\n",
              "dtype: object"
            ]
          },
          "metadata": {},
          "execution_count": 541
        }
      ]
    },
    {
      "cell_type": "code",
      "source": [
        "# Numerical features\n",
        "base = ['engine_hp', 'engine_cylinders', 'highway_mpg', 'city_mpg', 'popularity']\n",
        "# Extract values into a matrix\n",
        "X_train = df_train[base].values\n",
        "X_train"
      ],
      "metadata": {
        "colab": {
          "base_uri": "https://localhost:8080/"
        },
        "id": "gz8QiVshQ1qh",
        "outputId": "4a348cc2-c6a5-4f68-c067-7b264f9e770f"
      },
      "execution_count": 542,
      "outputs": [
        {
          "output_type": "execute_result",
          "data": {
            "text/plain": [
              "array([[ 148.,    4.,   33.,   24., 1385.],\n",
              "       [ 132.,    4.,   32.,   25., 2031.],\n",
              "       [ 148.,    4.,   37.,   28.,  640.],\n",
              "       ...,\n",
              "       [ 285.,    6.,   22.,   17.,  549.],\n",
              "       [ 563.,   12.,   21.,   13.,   86.],\n",
              "       [ 200.,    4.,   31.,   22.,  873.]])"
            ]
          },
          "metadata": {},
          "execution_count": 542
        }
      ]
    },
    {
      "cell_type": "code",
      "source": [
        "y_train"
      ],
      "metadata": {
        "colab": {
          "base_uri": "https://localhost:8080/"
        },
        "id": "Hc4WYx4KSe2V",
        "outputId": "d01d8596-1209-4c8a-fb15-09db30355b04"
      },
      "execution_count": 543,
      "outputs": [
        {
          "output_type": "execute_result",
          "data": {
            "text/plain": [
              "array([ 9.57574708,  9.887663  ,  9.89323518, ..., 10.45380308,\n",
              "       12.62248099, 10.54061978])"
            ]
          },
          "metadata": {},
          "execution_count": 543
        }
      ]
    },
    {
      "cell_type": "markdown",
      "source": [
        "## Train"
      ],
      "metadata": {
        "id": "nFJhADOqW3Rl"
      }
    },
    {
      "cell_type": "code",
      "source": [
        "# Train\n",
        "train_linear_regression(X_train, y_train)"
      ],
      "metadata": {
        "colab": {
          "base_uri": "https://localhost:8080/"
        },
        "id": "yFtYynDnS4Ss",
        "outputId": "6f9a280b-b9c4-49a5-e1b6-7cb9682334b1"
      },
      "execution_count": 544,
      "outputs": [
        {
          "output_type": "execute_result",
          "data": {
            "text/plain": [
              "(nan, array([nan, nan, nan, nan, nan]))"
            ]
          },
          "metadata": {},
          "execution_count": 544
        }
      ]
    },
    {
      "cell_type": "markdown",
      "source": [
        "There are NaNs.. The reason is that there are missing values as you can see below:"
      ],
      "metadata": {
        "id": "4Et_5Gr5TIHD"
      }
    },
    {
      "cell_type": "code",
      "source": [
        "df_train[base].isnull().sum()"
      ],
      "metadata": {
        "colab": {
          "base_uri": "https://localhost:8080/"
        },
        "id": "yJfuXjeUTAOr",
        "outputId": "194c183c-1d75-4162-d4e4-7b59e62a3b21"
      },
      "execution_count": 545,
      "outputs": [
        {
          "output_type": "execute_result",
          "data": {
            "text/plain": [
              "engine_hp           40\n",
              "engine_cylinders    14\n",
              "highway_mpg          0\n",
              "city_mpg             0\n",
              "popularity           0\n",
              "dtype: int64"
            ]
          },
          "metadata": {},
          "execution_count": 545
        }
      ]
    },
    {
      "cell_type": "code",
      "source": [
        "# Fill NaNs with 0\n",
        "X_train = df_train[base].fillna(0).values"
      ],
      "metadata": {
        "id": "ccfXLk35TSry"
      },
      "execution_count": 546,
      "outputs": []
    },
    {
      "cell_type": "code",
      "source": [
        "# Train again\n",
        "w0, w = train_linear_regression(X_train, y_train)"
      ],
      "metadata": {
        "id": "tsR-0nnmWpg6"
      },
      "execution_count": 547,
      "outputs": []
    },
    {
      "cell_type": "markdown",
      "source": [
        "## Predict"
      ],
      "metadata": {
        "id": "Npef-0b3W6mI"
      }
    },
    {
      "cell_type": "code",
      "source": [
        "y_pred = w0 + X_train.dot(w)\n",
        "y_pred"
      ],
      "metadata": {
        "colab": {
          "base_uri": "https://localhost:8080/"
        },
        "id": "sBJRxb2cWtOu",
        "outputId": "9ad99674-6978-4636-90cd-aae8254fb1d6"
      },
      "execution_count": 548,
      "outputs": [
        {
          "output_type": "execute_result",
          "data": {
            "text/plain": [
              "array([ 9.54792783,  9.38733977,  9.67197758, ..., 10.30423015,\n",
              "       11.9778914 ,  9.99863111])"
            ]
          },
          "metadata": {},
          "execution_count": 548
        }
      ]
    },
    {
      "cell_type": "markdown",
      "source": [
        "## Plot predictions against target variables"
      ],
      "metadata": {
        "id": "biq0idt_XHAw"
      }
    },
    {
      "cell_type": "code",
      "source": [
        "sns.histplot(y_pred, color='red', alpha=0.5, bins=50)\n",
        "sns.histplot(y_train, color='blue', alpha=0.5, bins=50);"
      ],
      "metadata": {
        "colab": {
          "base_uri": "https://localhost:8080/",
          "height": 265
        },
        "id": "G-om1fA4XB08",
        "outputId": "30f129b0-90b6-4852-bd4f-d08b4d46dff6"
      },
      "execution_count": 549,
      "outputs": [
        {
          "output_type": "display_data",
          "data": {
            "text/plain": [
              "<Figure size 432x288 with 1 Axes>"
            ],
            "image/png": "[encoded data removed]"
          },
          "metadata": {
            "needs_background": "light"
          }
        }
      ]
    },
    {
      "cell_type": "markdown",
      "source": [
        "# 7. Evaluating Regression Models - RMSE"
      ],
      "metadata": {
        "id": "RgyFYh60bD1v"
      }
    },
    {
      "cell_type": "markdown",
      "source": [
        "## Root Mean Squared Error\n",
        "\n",
        "**Mean Squared Error:**\n",
        "The sum of the difference between the prediction and actual value squared, divided by the number of predictions.\n",
        "\n",
        "To find the **RMSE**, take the **root of MSE**.\n",
        "\n",
        "![image.png](data:image/png;base64,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)\n",
        "\n",
        "(g(xi) - yi)^2 -> squared difference\n",
        "\n",
        "g(xi) -> prediction for xi\n",
        "\n",
        "yi -> actual value"
      ],
      "metadata": {
        "id": "7q4KBSjeb70R"
      }
    },
    {
      "cell_type": "code",
      "source": [
        "def rmse(y, y_pred):\n",
        "  ''' \n",
        "    Find the RMSE (Root Mean Squared Error)\n",
        "\n",
        "    input:\n",
        "      y: actual values\n",
        "      y_pred: prediction\n",
        "    output:\n",
        "      root mean squared error\n",
        "  '''\n",
        "  se = (y - y_pred) ** 2\n",
        "  mse = se.mean()\n",
        "  \n",
        "  return np.sqrt(mse)"
      ],
      "metadata": {
        "id": "9fOHtuvOXquO"
      },
      "execution_count": 550,
      "outputs": []
    },
    {
      "cell_type": "code",
      "source": [
        "rmse(y_train, y_pred)"
      ],
      "metadata": {
        "colab": {
          "base_uri": "https://localhost:8080/"
        },
        "id": "qb1QX33nsP9-",
        "outputId": "1d76fc8e-e272-4e0d-a7b9-024b5b6df1a6"
      },
      "execution_count": 551,
      "outputs": [
        {
          "output_type": "execute_result",
          "data": {
            "text/plain": [
              "0.7554192603920132"
            ]
          },
          "metadata": {},
          "execution_count": 551
        }
      ]
    },
    {
      "cell_type": "markdown",
      "source": [
        "# 8. Validating the model"
      ],
      "metadata": {
        "id": "PqJZ-kBw8l-T"
      }
    },
    {
      "cell_type": "markdown",
      "source": [
        "Instead of finding the RMSE on training data, we should do so on validation data"
      ],
      "metadata": {
        "id": "57hBGjlH9Cbo"
      }
    },
    {
      "cell_type": "code",
      "source": [
        "base = ['engine_hp', 'engine_cylinders', 'highway_mpg', 'city_mpg', 'popularity']\n",
        "\n",
        "X_train = df_train[base].fillna(0).values\n",
        "\n",
        "w0, w = train_linear_regression(X_train, y_train)\n",
        "\n",
        "y_pred = w0 + X_train.dot(w)"
      ],
      "metadata": {
        "id": "b259CA5UvxFy"
      },
      "execution_count": 552,
      "outputs": []
    },
    {
      "cell_type": "code",
      "source": [
        "# Prepare feature matrix\n",
        "\n",
        "def prepare_X(df):\n",
        "  # Selecting numerical columns\n",
        "  df_num = df[base]\n",
        "  # Filling missing values\n",
        "  df_num = df_num.fillna(0)\n",
        "  # Extracting the feature matrix np array\n",
        "  X = df_num.values\n",
        "  return X"
      ],
      "metadata": {
        "id": "KNUpadEe9yOs"
      },
      "execution_count": 553,
      "outputs": []
    },
    {
      "cell_type": "code",
      "source": [
        "# Training\n",
        "X_train = prepare_X(df_train)\n",
        "w0, w = train_linear_regression(X_train, y_train)\n",
        "\n",
        "# Validation\n",
        "X_val = prepare_X(df_val)\n",
        "y_pred = w0 + X_val.dot(w)\n",
        "\n",
        "rmse(y_val, y_pred)"
      ],
      "metadata": {
        "colab": {
          "base_uri": "https://localhost:8080/"
        },
        "id": "KqiXKgLt-T1p",
        "outputId": "32568ced-5058-40e7-f00e-962ba3ae78cd"
      },
      "execution_count": 554,
      "outputs": [
        {
          "output_type": "execute_result",
          "data": {
            "text/plain": [
              "0.761653099130156"
            ]
          },
          "metadata": {},
          "execution_count": 554
        }
      ]
    },
    {
      "cell_type": "markdown",
      "source": [
        "# 9. Simple Feature Engineering"
      ],
      "metadata": {
        "id": "i8y3_PxvtMK-"
      }
    },
    {
      "cell_type": "markdown",
      "source": [
        "## Compute the age of the car instead of `year`"
      ],
      "metadata": {
        "id": "J0Lr7523tj7n"
      }
    },
    {
      "cell_type": "code",
      "source": [
        "df_train.year.max() - df_train.year"
      ],
      "metadata": {
        "colab": {
          "base_uri": "https://localhost:8080/"
        },
        "id": "wp5PaYpR-oyu",
        "outputId": "e6c386ca-4bb5-4509-fe9e-bee28da50bf2"
      },
      "execution_count": 555,
      "outputs": [
        {
          "output_type": "execute_result",
          "data": {
            "text/plain": [
              "0        9\n",
              "1        5\n",
              "2        1\n",
              "3       26\n",
              "4        0\n",
              "        ..\n",
              "7145     2\n",
              "7146     2\n",
              "7147     2\n",
              "7148     3\n",
              "7149     0\n",
              "Name: year, Length: 7150, dtype: int64"
            ]
          },
          "metadata": {},
          "execution_count": 555
        }
      ]
    },
    {
      "cell_type": "code",
      "source": [
        "df_train.year.max()"
      ],
      "metadata": {
        "colab": {
          "base_uri": "https://localhost:8080/"
        },
        "id": "vVgrM25tvPYb",
        "outputId": "a5b0379b-e593-4f8e-88b5-4bac718411ea"
      },
      "execution_count": 556,
      "outputs": [
        {
          "output_type": "execute_result",
          "data": {
            "text/plain": [
              "2017"
            ]
          },
          "metadata": {},
          "execution_count": 556
        }
      ]
    },
    {
      "cell_type": "code",
      "source": [
        "# Prepare feature matrix\n",
        "\n",
        "\n",
        "\n",
        "def prepare_X(df):\n",
        "  # This function should not modify the original df we have, \n",
        "  # so we will work with a copy\n",
        "  df = df.copy()\n",
        "\n",
        "  # Add age column\n",
        "  df['age'] = df.year.max() - df.year\n",
        "  features = base + ['age']\n",
        "\n",
        "  # Selecting numerical columns\n",
        "  df_num = df[features]\n",
        "  # Filling missing values\n",
        "  df_num = df_num.fillna(0)\n",
        "  # Extracting the feature matrix np array\n",
        "  X = df_num.values\n",
        "  return X"
      ],
      "metadata": {
        "id": "0YH51SPgtYAY"
      },
      "execution_count": 557,
      "outputs": []
    },
    {
      "cell_type": "code",
      "source": [
        "X_train = prepare_X(df_train)"
      ],
      "metadata": {
        "id": "JKaHu-hbuBHN"
      },
      "execution_count": 558,
      "outputs": []
    },
    {
      "cell_type": "code",
      "source": [
        "# Training\n",
        "X_train = prepare_X(df_train)\n",
        "w0, w = train_linear_regression(X_train, y_train)\n",
        "\n",
        "# Validation\n",
        "X_val = prepare_X(df_val)\n",
        "y_pred = w0 + X_val.dot(w)\n",
        "\n",
        "rmse(y_val, y_pred)"
      ],
      "metadata": {
        "colab": {
          "base_uri": "https://localhost:8080/"
        },
        "id": "3igz3FepuDmQ",
        "outputId": "8e37a4db-ecfc-4a0b-eb34-f455d0fc8a20"
      },
      "execution_count": 559,
      "outputs": [
        {
          "output_type": "execute_result",
          "data": {
            "text/plain": [
              "0.5172055461058299"
            ]
          },
          "metadata": {},
          "execution_count": 559
        }
      ]
    },
    {
      "cell_type": "markdown",
      "source": [
        "We can see that the model improved (lower RMSE value)"
      ],
      "metadata": {
        "id": "hScBjF9Bvd62"
      }
    },
    {
      "cell_type": "code",
      "source": [
        "sns.histplot(y_pred, color='red', alpha=0.5, bins=50)\n",
        "sns.histplot(y_val, color='blue', alpha=0.5, bins=50);"
      ],
      "metadata": {
        "colab": {
          "base_uri": "https://localhost:8080/",
          "height": 265
        },
        "id": "XniecyYauw_G",
        "outputId": "cffd9da1-fb45-4aa0-8214-f079afdb339b"
      },
      "execution_count": 560,
      "outputs": [
        {
          "output_type": "display_data",
          "data": {
            "text/plain": [
              "<Figure size 432x288 with 1 Axes>"
            ],
            "image/png": "[encoded data removed]"
          },
          "metadata": {
            "needs_background": "light"
          }
        }
      ]
    },
    {
      "cell_type": "markdown",
      "source": [
        "# 10. Categorical Variables"
      ],
      "metadata": {
        "id": "MCp0WbHy5ywl"
      }
    },
    {
      "cell_type": "code",
      "source": [
        "df_train.dtypes"
      ],
      "metadata": {
        "colab": {
          "base_uri": "https://localhost:8080/"
        },
        "id": "dGwfD8G8vsUC",
        "outputId": "d6de89f7-d0ad-4457-f20a-bd58b17656de"
      },
      "execution_count": 561,
      "outputs": [
        {
          "output_type": "execute_result",
          "data": {
            "text/plain": [
              "make                  object\n",
              "model                 object\n",
              "year                   int64\n",
              "engine_fuel_type      object\n",
              "engine_hp            float64\n",
              "engine_cylinders     float64\n",
              "transmission_type     object\n",
              "driven_wheels         object\n",
              "number_of_doors      float64\n",
              "market_category       object\n",
              "vehicle_size          object\n",
              "vehicle_style         object\n",
              "highway_mpg            int64\n",
              "city_mpg               int64\n",
              "popularity             int64\n",
              "dtype: object"
            ]
          },
          "metadata": {},
          "execution_count": 561
        }
      ]
    },
    {
      "cell_type": "markdown",
      "source": [
        "## Number of doors"
      ],
      "metadata": {
        "id": "DnP1gpve9H1U"
      }
    },
    {
      "cell_type": "markdown",
      "source": [
        "The object (string) variables are categorical, but numerical values can be categorial as well, such as `number_of_doors` since it is distinct and not continuous."
      ],
      "metadata": {
        "id": "tSqkkDjJ6JHG"
      }
    },
    {
      "cell_type": "markdown",
      "source": [
        "The way to represent a categorical column such as `number_of_doors` is as multiple binary columns."
      ],
      "metadata": {
        "id": "ww9BjW-u7BuO"
      }
    },
    {
      "cell_type": "code",
      "source": [
        "# Prepare feature matrix\n",
        "\n",
        "def prepare_X(df):\n",
        "  # This function should not modify the original df we have, \n",
        "  # so we will work with a copy\n",
        "  df = df.copy()\n",
        "\n",
        "  # Add age column\n",
        "  features = base.copy()\n",
        "  df['age'] = df.year.max() - df.year\n",
        "  features.append('age')\n",
        "\n",
        "  # Change `number of doors` to multiple binary columns\n",
        "  for v in sorted(pd.unique(df['number_of_doors'][~np.isnan(df['number_of_doors'])]).astype('int')):\n",
        "    df['num_doors_%s'%v] = (df.number_of_doors == v).astype('int')\n",
        "    features.append('num_doors_%s'%v)\n",
        "\n",
        "  # Selecting numerical columns\n",
        "  df_num = df[features]\n",
        "  # Filling missing values\n",
        "  df_num = df_num.fillna(0)\n",
        "  # Extracting the feature matrix np array\n",
        "  X = df_num.values\n",
        "  return X"
      ],
      "metadata": {
        "id": "pf8RDe3J6HSE"
      },
      "execution_count": 562,
      "outputs": []
    },
    {
      "cell_type": "code",
      "source": [
        "# Training\n",
        "X_train = prepare_X(df_train)\n",
        "w0, w = train_linear_regression(X_train, y_train)\n",
        "\n",
        "# Validation\n",
        "X_val = prepare_X(df_val)\n",
        "y_pred = w0 + X_val.dot(w)\n",
        "\n",
        "rmse(y_val, y_pred)"
      ],
      "metadata": {
        "colab": {
          "base_uri": "https://localhost:8080/"
        },
        "id": "7v4uSRG09XnS",
        "outputId": "d87929c5-cfc0-4075-f3d4-1e71b434dc6a"
      },
      "execution_count": 563,
      "outputs": [
        {
          "output_type": "execute_result",
          "data": {
            "text/plain": [
              "0.5157995641501678"
            ]
          },
          "metadata": {},
          "execution_count": 563
        }
      ]
    },
    {
      "cell_type": "markdown",
      "source": [
        "## Car Makes"
      ],
      "metadata": {
        "id": "CGVg_ZGB9Cu0"
      }
    },
    {
      "cell_type": "code",
      "source": [
        "# Prepare feature matrix\n",
        "\n",
        "def prepare_X(df):\n",
        "  # This function should not modify the original df we have, \n",
        "  # so we will work with a copy\n",
        "  df = df.copy()\n",
        "\n",
        "  # Add age column\n",
        "  features = base.copy()\n",
        "  df['age'] = df.year.max() - df.year\n",
        "  features.append('age')\n",
        "  \n",
        "  # Change `number of doors` to multiple binary columns\n",
        "  for v in sorted(pd.unique(df['number_of_doors'][~np.isnan(df['number_of_doors'])]).astype('int')):\n",
        "    df['num_doors_%s'%v] = (df.number_of_doors == v).astype('int')\n",
        "    features.append('num_doors_%s'%v)\n",
        "\n",
        "  # The most popular 5 makes of cars to binary columns\n",
        "  makes = list(df.make.value_counts().head().index)\n",
        "  for v in makes:\n",
        "    df['make_%s'%v] = (df.make == v).astype('int')\n",
        "    features.append('make_%s' %v)\n",
        "\n",
        "  # Selecting numerical columns\n",
        "  df_num = df[features]\n",
        "  # Filling missing values\n",
        "  df_num = df_num.fillna(0)\n",
        "  # Extracting the feature matrix np array\n",
        "  X = df_num.values\n",
        "  return X"
      ],
      "metadata": {
        "id": "HU2UanyqB3H-"
      },
      "execution_count": 564,
      "outputs": []
    },
    {
      "cell_type": "code",
      "source": [
        "# Training\n",
        "X_train = prepare_X(df_train)\n",
        "w0, w = train_linear_regression(X_train, y_train)\n",
        "\n",
        "# Validation\n",
        "X_val = prepare_X(df_val)\n",
        "y_pred = w0 + X_val.dot(w)\n",
        "\n",
        "rmse(y_val, y_pred)"
      ],
      "metadata": {
        "colab": {
          "base_uri": "https://localhost:8080/"
        },
        "id": "PPLMRNN5-asP",
        "outputId": "6433641c-ff25-4c41-df3c-c659462f19c8"
      },
      "execution_count": 565,
      "outputs": [
        {
          "output_type": "execute_result",
          "data": {
            "text/plain": [
              "0.5076038849556795"
            ]
          },
          "metadata": {},
          "execution_count": 565
        }
      ]
    },
    {
      "cell_type": "markdown",
      "source": [
        "RMSE decreased by 1%"
      ],
      "metadata": {
        "id": "mOdlpnLsLHua"
      }
    },
    {
      "cell_type": "markdown",
      "source": [
        "## Dealing with all categories"
      ],
      "metadata": {
        "id": "jatPIkAWMOJI"
      }
    },
    {
      "cell_type": "code",
      "source": [
        "df.dtypes"
      ],
      "metadata": {
        "colab": {
          "base_uri": "https://localhost:8080/"
        },
        "id": "7C4klXpS_4EQ",
        "outputId": "38619c41-29c3-4370-c7f5-60d4651337cb"
      },
      "execution_count": 566,
      "outputs": [
        {
          "output_type": "execute_result",
          "data": {
            "text/plain": [
              "make                  object\n",
              "model                 object\n",
              "year                   int64\n",
              "engine_fuel_type      object\n",
              "engine_hp            float64\n",
              "engine_cylinders     float64\n",
              "transmission_type     object\n",
              "driven_wheels         object\n",
              "number_of_doors      float64\n",
              "market_category       object\n",
              "vehicle_size          object\n",
              "vehicle_style         object\n",
              "highway_mpg            int64\n",
              "city_mpg               int64\n",
              "popularity             int64\n",
              "msrp                   int64\n",
              "dtype: object"
            ]
          },
          "metadata": {},
          "execution_count": 566
        }
      ]
    },
    {
      "cell_type": "code",
      "source": [
        "categorical_variables = [\n",
        "    'make', 'engine_fuel_type', 'transmission_type', 'driven_wheels', \n",
        "    'market_category', 'vehicle_size', 'vehicle_style'\n",
        "]"
      ],
      "metadata": {
        "id": "d3xa7MIxLbbj"
      },
      "execution_count": 567,
      "outputs": []
    },
    {
      "cell_type": "code",
      "source": [
        "# Dictionary with categorical variables\n",
        "categories = {}\n",
        "\n",
        "for c in categorical_variables:\n",
        "  categories[c] = list(df[c].value_counts().head().index)"
      ],
      "metadata": {
        "id": "U35ei2sUL-BH"
      },
      "execution_count": 568,
      "outputs": []
    },
    {
      "cell_type": "code",
      "source": [
        "# Prepare feature matrix\n",
        "\n",
        "def prepare_X(df):\n",
        "  # This function should not modify the original df we have, \n",
        "  # so we will work with a copy\n",
        "  df = df.copy()\n",
        "\n",
        "  # Add age column\n",
        "  df['age'] = df.year.max() - df.year\n",
        "  features = base + ['age']  \n",
        "  \n",
        "  # Change `number of doors` to multiple binary columns\n",
        "  for v in sorted(pd.unique(df['number_of_doors'][~np.isnan(df['number_of_doors'])]).astype('int')):\n",
        "    df['num_doors_%s'%v] = (df.number_of_doors == v).astype('int')\n",
        "    features.append('num_doors_%s'%v)\n",
        "  \n",
        "  # Change all categorical variables to binary columns\n",
        "  for c, values in categories.items():\n",
        "    for v in values:\n",
        "      df['%s_%s'%(c, v)] = (df[c] == v).astype('int')\n",
        "      features.append('%s_%s'%(c, v))\n",
        "\n",
        "  # Selecting numerical columns\n",
        "  df_num = df[features]\n",
        "  # Filling missing values\n",
        "  df_num = df_num.fillna(0)\n",
        "  # Extracting the feature matrix np array\n",
        "  X = df_num.values\n",
        "  return X"
      ],
      "metadata": {
        "id": "QKQV64jwN_Dy"
      },
      "execution_count": 670,
      "outputs": []
    },
    {
      "cell_type": "code",
      "source": [
        "# Training\n",
        "X_train = prepare_X(df_train)\n",
        "w0, w = train_linear_regression(X_train, y_train)\n",
        "\n",
        "# Validation\n",
        "X_val = prepare_X(df_val)\n",
        "y_pred = w0 + X_val.dot(w)\n",
        "\n",
        "rmse(y_val, y_pred)"
      ],
      "metadata": {
        "colab": {
          "base_uri": "https://localhost:8080/"
        },
        "id": "pMjD1fUvOozJ",
        "outputId": "a59afc27-8c4d-426c-8d9d-16e5511a225e"
      },
      "execution_count": 671,
      "outputs": [
        {
          "output_type": "execute_result",
          "data": {
            "text/plain": [
              "85.39382195965916"
            ]
          },
          "metadata": {},
          "execution_count": 671
        }
      ]
    },
    {
      "cell_type": "code",
      "source": [
        "w0, w"
      ],
      "metadata": {
        "colab": {
          "base_uri": "https://localhost:8080/"
        },
        "id": "XEsgm3D9OuCE",
        "outputId": "6c16145b-bef2-4660-93e0-817fdeaa4ee2"
      },
      "execution_count": 672,
      "outputs": [
        {
          "output_type": "execute_result",
          "data": {
            "text/plain": [
              "(-9997028153895118.0,\n",
              " array([-6.96947346e-01,  3.53869850e+01,  1.55017553e+00, -4.85296906e+00,\n",
              "         3.62399332e-03, -3.42861199e+00,  3.90755479e+03,  3.84941660e+03,\n",
              "         3.87626212e+03, -6.49863155e-01, -5.07631490e+00,  1.00996114e+00,\n",
              "         3.30934628e+01,  1.00988816e+01, -5.70041743e+02, -5.14452192e+02,\n",
              "        -5.43816371e+02, -5.50657469e+02, -5.91483075e+02,  3.42504994e+16,\n",
              "         3.42504994e+16,  3.42504994e+16,  3.42504994e+16,  3.42504994e+16,\n",
              "        -2.42534712e+16, -2.42534712e+16, -2.42534712e+16, -2.42534712e+16,\n",
              "         1.51507180e+01,  1.43501133e+01,  2.95563861e+01,  6.43137968e+01,\n",
              "        -2.63311261e+01,  7.64598334e+01,  9.41928586e+01,  8.92966808e+01,\n",
              "        -4.85492239e-02,  5.44797374e-02,  1.78241160e-01,  3.41906701e-01,\n",
              "        -1.64412078e-01]))"
            ]
          },
          "metadata": {},
          "execution_count": 672
        }
      ]
    },
    {
      "cell_type": "markdown",
      "source": [
        "The RMSE is very high, we will know why that happened in the next section.\n",
        "\n",
        "More about it [here](https://www.youtube.com/watch?v=91ve3EJlHBc&list=PL3MmuxUbc_hIhxl5Ji8t4O6lPAOpHaCLR&index=23)"
      ],
      "metadata": {
        "id": "1Kt74ZKzsywA"
      }
    },
    {
      "cell_type": "markdown",
      "source": [
        "# 11. Regularization"
      ],
      "metadata": {
        "id": "VSAT1jI9PYI2"
      }
    },
    {
      "cell_type": "markdown",
      "source": [
        "## Problem with Linear duplication\n"
      ],
      "metadata": {
        "id": "UP53FKhjvPIf"
      }
    },
    {
      "cell_type": "markdown",
      "source": [
        "The inverse of a matrix does not exist if we have duplicate columns, therefore we would not be able to find the Gram Matrix."
      ],
      "metadata": {
        "id": "YVMt1Ew0uGrG"
      }
    },
    {
      "cell_type": "code",
      "source": [
        "X = [\n",
        "    [4, 4, 4],\n",
        "    [3, 5, 5],\n",
        "    [5, 1, 1],\n",
        "    [5, 4, 4],\n",
        "    [7, 5, 5],\n",
        "    [4, 5, 5.0000001],\n",
        "]\n",
        "\n",
        "X = np.array(X)\n",
        "X"
      ],
      "metadata": {
        "colab": {
          "base_uri": "https://localhost:8080/"
        },
        "id": "PV-7_JnVO1dR",
        "outputId": "892f16e0-1ff2-49a3-9877-f1dc70f0e6ea"
      },
      "execution_count": 673,
      "outputs": [
        {
          "output_type": "execute_result",
          "data": {
            "text/plain": [
              "array([[4.       , 4.       , 4.       ],\n",
              "       [3.       , 5.       , 5.       ],\n",
              "       [5.       , 1.       , 1.       ],\n",
              "       [5.       , 4.       , 4.       ],\n",
              "       [7.       , 5.       , 5.       ],\n",
              "       [4.       , 5.       , 5.0000001]])"
            ]
          },
          "metadata": {},
          "execution_count": 673
        }
      ]
    },
    {
      "cell_type": "markdown",
      "source": [
        "The 2nd and 3rd columns are almost the same, except for a very slight difference which is the last value"
      ],
      "metadata": {
        "id": "HU0G-e_jv1uJ"
      }
    },
    {
      "cell_type": "code",
      "source": [
        "y = [1, 2, 3, 1, 2, 3]"
      ],
      "metadata": {
        "id": "UMmOXseqvyro"
      },
      "execution_count": 674,
      "outputs": []
    },
    {
      "cell_type": "code",
      "source": [
        "XTX = X.T.dot(X)\n",
        "XTX"
      ],
      "metadata": {
        "colab": {
          "base_uri": "https://localhost:8080/"
        },
        "id": "q21smpfkwEvE",
        "outputId": "2ca1ea30-a5b1-4a92-ec7b-076ed6d3c08b"
      },
      "execution_count": 675,
      "outputs": [
        {
          "output_type": "execute_result",
          "data": {
            "text/plain": [
              "array([[140.       , 111.       , 111.0000004],\n",
              "       [111.       , 108.       , 108.0000005],\n",
              "       [111.0000004, 108.0000005, 108.000001 ]])"
            ]
          },
          "metadata": {},
          "execution_count": 675
        }
      ]
    },
    {
      "cell_type": "code",
      "source": [
        "XTX_inv = np.linalg.inv(XTX)\n",
        "XTX_inv.dot(X.T).dot(y)"
      ],
      "metadata": {
        "colab": {
          "base_uri": "https://localhost:8080/"
        },
        "id": "yQ7Jp51zwHNg",
        "outputId": "3faa8944-c491-48d5-f9ed-ec41a5faa90e"
      },
      "execution_count": 676,
      "outputs": [
        {
          "output_type": "execute_result",
          "data": {
            "text/plain": [
              "array([ 2.73776578e-01, -4.41093100e+06,  4.41093113e+06])"
            ]
          },
          "metadata": {},
          "execution_count": 676
        }
      ]
    },
    {
      "cell_type": "markdown",
      "source": [
        "Finding the inverse is not supposed to work here; however, since there is a very slight change in the values the program tries to find the inverse, resulting in either very large or very small values."
      ],
      "metadata": {
        "id": "EefQRxHgwg5i"
      }
    },
    {
      "cell_type": "markdown",
      "source": [
        "## The Solution - Regularization\n",
        "\n",
        "Regularization here means controlling, so we control the weights so that they do not grow too much."
      ],
      "metadata": {
        "id": "gXn5OzA5w0El"
      }
    },
    {
      "cell_type": "markdown",
      "source": [
        "To solve this, we can add a small number to the diagonal of the `XTX` matrix"
      ],
      "metadata": {
        "id": "VXkFoV2OyGfu"
      }
    },
    {
      "cell_type": "markdown",
      "source": [
        "The reason it works is because by adding something on the diagonal we make sure that now it's less possible that a column is a duplicate of another column."
      ],
      "metadata": {
        "id": "0wTgAGuGz9OM"
      }
    },
    {
      "cell_type": "code",
      "source": [
        "# Add small numbers to the diagonal\n",
        "# The larger the numbers added to the diagonal, the more we have\n",
        "# the weights under control\n",
        "XTX = [\n",
        "      [1, 2, 2],\n",
        "      [2, 1, 1.0000001],\n",
        "      [2, 1.0000001, 1],\n",
        "]\n",
        "\n",
        "XTX = np.array(XTX)\n",
        "np.linalg.inv(XTX)"
      ],
      "metadata": {
        "colab": {
          "base_uri": "https://localhost:8080/"
        },
        "id": "wowkUcmkwQNk",
        "outputId": "027a8cc3-daf8-4336-873f-25473b67e311"
      },
      "execution_count": 677,
      "outputs": [
        {
          "output_type": "execute_result",
          "data": {
            "text/plain": [
              "array([[-3.33333356e-01,  3.33333339e-01,  3.33333339e-01],\n",
              "       [ 3.33333339e-01, -5.00000008e+06,  4.99999991e+06],\n",
              "       [ 3.33333339e-01,  4.99999991e+06, -5.00000008e+06]])"
            ]
          },
          "metadata": {},
          "execution_count": 677
        }
      ]
    },
    {
      "cell_type": "code",
      "source": [
        "# Adding XTX to identity matrix adds 1 to the diagonal\n",
        "# multiply the identity matrix by a small number (it is a regularization parameter)\n",
        "XTX = XTX + 0.01 * np.eye(3)"
      ],
      "metadata": {
        "id": "fFItowqDzYjh"
      },
      "execution_count": 678,
      "outputs": []
    },
    {
      "cell_type": "code",
      "source": [
        "np.linalg.inv(XTX)"
      ],
      "metadata": {
        "colab": {
          "base_uri": "https://localhost:8080/"
        },
        "id": "T5L0oHNS1J78",
        "outputId": "73c43dea-a469-4a2a-f3b8-3530298bf77d"
      },
      "execution_count": 679,
      "outputs": [
        {
          "output_type": "execute_result",
          "data": {
            "text/plain": [
              "array([[ -0.33668908,   0.33501399,   0.33501399],\n",
              "       [  0.33501399,  49.91590897, -50.08509104],\n",
              "       [  0.33501399, -50.08509104,  49.91590897]])"
            ]
          },
          "metadata": {},
          "execution_count": 679
        }
      ]
    },
    {
      "cell_type": "markdown",
      "source": [
        "Now we don't have that issue anymore"
      ],
      "metadata": {
        "id": "7Ic2U1SV1jMS"
      }
    },
    {
      "cell_type": "code",
      "source": [
        "def train_linear_regression_reg(X, y, r=0.001):\n",
        "  '''\n",
        "    inputs:\n",
        "      X : Feature matrix\n",
        "      y : Target values\n",
        "      r : Regularization parameter\n",
        "\n",
        "    output:\n",
        "      bias \n",
        "      vector of weights\n",
        "  '''\n",
        "  ones = np.ones(X.shape[0])\n",
        "  X = np.column_stack([ones, X])\n",
        "\n",
        "  XTX = X.T.dot(X)\n",
        "  XTX = XTX + r*np.eye(XTX.shape[0])\n",
        "\n",
        "  XTX_inv = np.linalg.inv(XTX)\n",
        "  w_full = XTX_inv.dot(X.T).dot(y)\n",
        "\n",
        "  return w_full[0], w_full[1:]"
      ],
      "metadata": {
        "id": "HsdKpLcS1dLm"
      },
      "execution_count": 680,
      "outputs": []
    },
    {
      "cell_type": "code",
      "source": [
        "# Training\n",
        "X_train = prepare_X(df_train)\n",
        "w0, w = train_linear_regression_reg(X_train, y_train, r=0.01)\n",
        "\n",
        "# Validation\n",
        "X_val = prepare_X(df_val)\n",
        "y_pred = w0 + X_val.dot(w)\n",
        "\n",
        "rmse(y_val, y_pred)"
      ],
      "metadata": {
        "colab": {
          "base_uri": "https://localhost:8080/"
        },
        "id": "o1TuDxgC3XST",
        "outputId": "07aaf6de-52ac-42eb-fe07-7143b0bac78b"
      },
      "execution_count": 681,
      "outputs": [
        {
          "output_type": "execute_result",
          "data": {
            "text/plain": [
              "0.4565219901382523"
            ]
          },
          "metadata": {},
          "execution_count": 681
        }
      ]
    },
    {
      "cell_type": "markdown",
      "source": [
        "We can see RMSE here is much better than the RMSE without regularization."
      ],
      "metadata": {
        "id": "IFEvSm5A4Is6"
      }
    },
    {
      "cell_type": "markdown",
      "source": [
        "# 12. Tuning the model\n",
        "Finding the best regularization parameter.\n",
        "\n",
        "We will use the validation set for it."
      ],
      "metadata": {
        "id": "RJrZDxxCRl4_"
      }
    },
    {
      "cell_type": "code",
      "source": [
        "for r in [0.0, 0.00001, 0.0001,0.001, 0.1, 1, 10]:\n",
        "  # Training\n",
        "  X_train = prepare_X(df_train)\n",
        "  w0, w = train_linear_regression_reg(X_train, y_train, r=r)\n",
        "\n",
        "  # Validation\n",
        "  X_val = prepare_X(df_val)\n",
        "  y_pred = w0 + X_val.dot(w)\n",
        "\n",
        "  score = rmse(y_val, y_pred)\n",
        "\n",
        "  print(f'r parameter: {r},       w0: {w0},       RMSE: {score}')"
      ],
      "metadata": {
        "colab": {
          "base_uri": "https://localhost:8080/"
        },
        "id": "wlQl9QT44F0f",
        "outputId": "a79f83e2-36ab-4768-9641-57a65b0e9311"
      },
      "execution_count": 682,
      "outputs": [
        {
          "output_type": "stream",
          "name": "stdout",
          "text": [
            "r parameter: 0.0,       w0: -9997028153895118.0,       RMSE: 85.39382195965916\n",
            "r parameter: 1e-05,       w0: -2.5197574150112447,       RMSE: 0.45651699218840697\n",
            "r parameter: 0.0001,       w0: 6.31036643754584,       RMSE: 0.4565170637682569\n",
            "r parameter: 0.001,       w0: 6.2852258235523,       RMSE: 0.456517508494148\n",
            "r parameter: 0.1,       w0: 6.191208653420819,       RMSE: 0.45656927630296296\n",
            "r parameter: 1,       w0: 5.634896668581476,       RMSE: 0.4572204317994219\n",
            "r parameter: 10,       w0: 4.2839801089591205,       RMSE: 0.4701456932099694\n"
          ]
        }
      ]
    },
    {
      "cell_type": "code",
      "source": [
        "# Training\n",
        "X_train = prepare_X(df_train)\n",
        "w0, w = train_linear_regression_reg(X_train, y_train, r=0.001)\n",
        "\n",
        "# Validation\n",
        "X_val = prepare_X(df_val)\n",
        "y_pred = w0 + X_val.dot(w)\n",
        "\n",
        "rmse(y_val, y_pred)"
      ],
      "metadata": {
        "colab": {
          "base_uri": "https://localhost:8080/"
        },
        "id": "HQ4muBq2UhLu",
        "outputId": "15f7c231-02c1-4624-8b74-a30f53167b7f"
      },
      "execution_count": 683,
      "outputs": [
        {
          "output_type": "execute_result",
          "data": {
            "text/plain": [
              "0.456517508494148"
            ]
          },
          "metadata": {},
          "execution_count": 683
        }
      ]
    },
    {
      "cell_type": "markdown",
      "source": [
        "# 13. Using the model"
      ],
      "metadata": {
        "id": "nMsWWLMPWNi9"
      }
    },
    {
      "cell_type": "code",
      "source": [
        "# Concat the train and val datasets\n",
        "df_full_train = pd.concat([df_train, df_val])"
      ],
      "metadata": {
        "id": "9SdHpy3mWIms"
      },
      "execution_count": 684,
      "outputs": []
    },
    {
      "cell_type": "code",
      "source": [
        "df_full_train = df_full_train.reset_index(drop=True)"
      ],
      "metadata": {
        "id": "2xHn2FLWc6GG"
      },
      "execution_count": 685,
      "outputs": []
    },
    {
      "cell_type": "code",
      "source": [
        "X_full_train = prepare_X(df_full_train)\n",
        "X_full_train"
      ],
      "metadata": {
        "colab": {
          "base_uri": "https://localhost:8080/"
        },
        "id": "8x4bI5sic772",
        "outputId": "56849ab6-8001-48b2-e26a-db629a6dae84"
      },
      "execution_count": 686,
      "outputs": [
        {
          "output_type": "execute_result",
          "data": {
            "text/plain": [
              "array([[148.,   4.,  33., ...,   1.,   0.,   0.],\n",
              "       [132.,   4.,  32., ...,   0.,   0.,   1.],\n",
              "       [148.,   4.,  37., ...,   0.,   0.,   1.],\n",
              "       ...,\n",
              "       [332.,   8.,  23., ...,   0.,   0.,   0.],\n",
              "       [148.,   4.,  34., ...,   0.,   0.,   0.],\n",
              "       [290.,   6.,  25., ...,   0.,   0.,   0.]])"
            ]
          },
          "metadata": {},
          "execution_count": 686
        }
      ]
    },
    {
      "cell_type": "code",
      "source": [
        "# Concat y train and y val\n",
        "y_full_train = np.concatenate([y_train, y_val])"
      ],
      "metadata": {
        "id": "2mdB8Mr3dEaA"
      },
      "execution_count": 687,
      "outputs": []
    },
    {
      "cell_type": "code",
      "source": [
        "w0, w = train_linear_regression_reg(X_full_train, y_full_train, r=0.001)"
      ],
      "metadata": {
        "id": "suIbVEN5do5e"
      },
      "execution_count": 688,
      "outputs": []
    },
    {
      "cell_type": "markdown",
      "source": [
        "## Test"
      ],
      "metadata": {
        "id": "wmSejPiNeOVO"
      }
    },
    {
      "cell_type": "code",
      "source": [
        "X_test = prepare_X(df_test)\n",
        "y_pred = w0 + X_test.dot(w)\n",
        "\n",
        "rmse(y_test, y_pred)"
      ],
      "metadata": {
        "colab": {
          "base_uri": "https://localhost:8080/"
        },
        "id": "rZbXkTdBd5ul",
        "outputId": "f24fb5d8-5ba8-4fd4-aa1b-5f46c8162af8"
      },
      "execution_count": 689,
      "outputs": [
        {
          "output_type": "execute_result",
          "data": {
            "text/plain": [
              "0.4517749308921107"
            ]
          },
          "metadata": {},
          "execution_count": 689
        }
      ]
    },
    {
      "cell_type": "markdown",
      "source": [
        "We can see that the model has almost the same score as before, which is a good sign because it means that it can generalize well."
      ],
      "metadata": {
        "id": "cvH8aMM8ef2h"
      }
    },
    {
      "cell_type": "markdown",
      "source": [
        "# Predict on a random car"
      ],
      "metadata": {
        "id": "oPykIBP6f-eV"
      }
    },
    {
      "cell_type": "markdown",
      "source": [
        "Turn it into dict, as if the data was extracted from the website."
      ],
      "metadata": {
        "id": "dUv2-ov3gYEA"
      }
    },
    {
      "cell_type": "code",
      "source": [
        "car = df_test.iloc[28].to_dict()\n",
        "car"
      ],
      "metadata": {
        "colab": {
          "base_uri": "https://localhost:8080/"
        },
        "id": "OyVSfZ5Xd7Dy",
        "outputId": "d75d3c09-6629-4a47-f42d-d6baed4b2b03"
      },
      "execution_count": 700,
      "outputs": [
        {
          "output_type": "execute_result",
          "data": {
            "text/plain": [
              "{'make': 'audi',\n",
              " 'model': 'tt_rs',\n",
              " 'year': 2012,\n",
              " 'engine_fuel_type': 'premium_unleaded_(required)',\n",
              " 'engine_hp': 360.0,\n",
              " 'engine_cylinders': 5.0,\n",
              " 'transmission_type': 'manual',\n",
              " 'driven_wheels': 'all_wheel_drive',\n",
              " 'number_of_doors': 2.0,\n",
              " 'market_category': 'factory_tuner,luxury,high-performance',\n",
              " 'vehicle_size': 'compact',\n",
              " 'vehicle_style': 'coupe',\n",
              " 'highway_mpg': 25,\n",
              " 'city_mpg': 18,\n",
              " 'popularity': 3105}"
            ]
          },
          "metadata": {},
          "execution_count": 700
        }
      ]
    },
    {
      "cell_type": "markdown",
      "source": [
        "Turn the dict into a DataFrame "
      ],
      "metadata": {
        "id": "utkXt6P8gdR4"
      }
    },
    {
      "cell_type": "code",
      "source": [
        "df_small = pd.DataFrame([car])\n",
        "df_small"
      ],
      "metadata": {
        "colab": {
          "base_uri": "https://localhost:8080/",
          "height": 162
        },
        "id": "jRBz6gptgLzb",
        "outputId": "02d758a9-54e1-4590-f2c2-f78fde38b4d2"
      },
      "execution_count": 701,
      "outputs": [
        {
          "output_type": "execute_result",
          "data": {
            "text/plain": [
              "   make  model  year             engine_fuel_type  engine_hp  \\\n",
              "0  audi  tt_rs  2012  premium_unleaded_(required)      360.0   \n",
              "\n",
              "   engine_cylinders transmission_type    driven_wheels  number_of_doors  \\\n",
              "0               5.0            manual  all_wheel_drive              2.0   \n",
              "\n",
              "                         market_category vehicle_size vehicle_style  \\\n",
              "0  factory_tuner,luxury,high-performance      compact         coupe   \n",
              "\n",
              "   highway_mpg  city_mpg  popularity  \n",
              "0           25        18        3105  "
            ],
            "text/html": [
              "\n",
              "  <div id=\"df-6e27bf23-f8de-4f04-9f3f-22d22192f5e4\">\n",
              "    <div class=\"colab-df-container\">\n",
              "      <div>\n",
              "<style scoped>\n",
              "    .dataframe tbody tr th:only-of-type {\n",
              "        vertical-align: middle;\n",
              "    }\n",
              "\n",
              "    .dataframe tbody tr th {\n",
              "        vertical-align: top;\n",
              "    }\n",
              "\n",
              "    .dataframe thead th {\n",
              "        text-align: right;\n",
              "    }\n",
              "</style>\n",
              "<table border=\"1\" class=\"dataframe\">\n",
              "  <thead>\n",
              "    <tr style=\"text-align: right;\">\n",
              "      <th></th>\n",
              "      <th>make</th>\n",
              "      <th>model</th>\n",
              "      <th>year</th>\n",
              "      <th>engine_fuel_type</th>\n",
              "      <th>engine_hp</th>\n",
              "      <th>engine_cylinders</th>\n",
              "      <th>transmission_type</th>\n",
              "      <th>driven_wheels</th>\n",
              "      <th>number_of_doors</th>\n",
              "      <th>market_category</th>\n",
              "      <th>vehicle_size</th>\n",
              "      <th>vehicle_style</th>\n",
              "      <th>highway_mpg</th>\n",
              "      <th>city_mpg</th>\n",
              "      <th>popularity</th>\n",
              "    </tr>\n",
              "  </thead>\n",
              "  <tbody>\n",
              "    <tr>\n",
              "      <th>0</th>\n",
              "      <td>audi</td>\n",
              "      <td>tt_rs</td>\n",
              "      <td>2012</td>\n",
              "      <td>premium_unleaded_(required)</td>\n",
              "      <td>360.0</td>\n",
              "      <td>5.0</td>\n",
              "      <td>manual</td>\n",
              "      <td>all_wheel_drive</td>\n",
              "      <td>2.0</td>\n",
              "      <td>factory_tuner,luxury,high-performance</td>\n",
              "      <td>compact</td>\n",
              "      <td>coupe</td>\n",
              "      <td>25</td>\n",
              "      <td>18</td>\n",
              "      <td>3105</td>\n",
              "    </tr>\n",
              "  </tbody>\n",
              "</table>\n",
              "</div>\n",
              "      <button class=\"colab-df-convert\" onclick=\"convertToInteractive('df-6e27bf23-f8de-4f04-9f3f-22d22192f5e4')\"\n",
              "              title=\"Convert this dataframe to an interactive table.\"\n",
              "              style=\"display:none;\">\n",
              "        \n",
              "  <svg xmlns=\"http://www.w3.org/2000/svg\" height=\"24px\"viewBox=\"0 0 24 24\"\n",
              "       width=\"24px\">\n",
              "    <path d=\"M0 0h24v24H0V0z\" fill=\"none\"/>\n",
              "    <path d=\"M18.56 5.44l.94 2.06.94-2.06 2.06-.94-2.06-.94-.94-2.06-.94 2.06-2.06.94zm-11 1L8.5 8.5l.94-2.06 2.06-.94-2.06-.94L8.5 2.5l-.94 2.06-2.06.94zm10 10l.94 2.06.94-2.06 2.06-.94-2.06-.94-.94-2.06-.94 2.06-2.06.94z\"/><path d=\"M17.41 7.96l-1.37-1.37c-.4-.4-.92-.59-1.43-.59-.52 0-1.04.2-1.43.59L10.3 9.45l-7.72 7.72c-.78.78-.78 2.05 0 2.83L4 21.41c.39.39.9.59 1.41.59.51 0 1.02-.2 1.41-.59l7.78-7.78 2.81-2.81c.8-.78.8-2.07 0-2.86zM5.41 20L4 18.59l7.72-7.72 1.47 1.35L5.41 20z\"/>\n",
              "  </svg>\n",
              "      </button>\n",
              "      \n",
              "  <style>\n",
              "    .colab-df-container {\n",
              "      display:flex;\n",
              "      flex-wrap:wrap;\n",
              "      gap: 12px;\n",
              "    }\n",
              "\n",
              "    .colab-df-convert {\n",
              "      background-color: #E8F0FE;\n",
              "      border: none;\n",
              "      border-radius: 50%;\n",
              "      cursor: pointer;\n",
              "      display: none;\n",
              "      fill: #1967D2;\n",
              "      height: 32px;\n",
              "      padding: 0 0 0 0;\n",
              "      width: 32px;\n",
              "    }\n",
              "\n",
              "    .colab-df-convert:hover {\n",
              "      background-color: #E2EBFA;\n",
              "      box-shadow: 0px 1px 2px rgba(60, 64, 67, 0.3), 0px 1px 3px 1px rgba(60, 64, 67, 0.15);\n",
              "      fill: #174EA6;\n",
              "    }\n",
              "\n",
              "    [theme=dark] .colab-df-convert {\n",
              "      background-color: #3B4455;\n",
              "      fill: #D2E3FC;\n",
              "    }\n",
              "\n",
              "    [theme=dark] .colab-df-convert:hover {\n",
              "      background-color: #434B5C;\n",
              "      box-shadow: 0px 1px 3px 1px rgba(0, 0, 0, 0.15);\n",
              "      filter: drop-shadow(0px 1px 2px rgba(0, 0, 0, 0.3));\n",
              "      fill: #FFFFFF;\n",
              "    }\n",
              "  </style>\n",
              "\n",
              "      <script>\n",
              "        const buttonEl =\n",
              "          document.querySelector('#df-6e27bf23-f8de-4f04-9f3f-22d22192f5e4 button.colab-df-convert');\n",
              "        buttonEl.style.display =\n",
              "          google.colab.kernel.accessAllowed ? 'block' : 'none';\n",
              "\n",
              "        async function convertToInteractive(key) {\n",
              "          const element = document.querySelector('#df-6e27bf23-f8de-4f04-9f3f-22d22192f5e4');\n",
              "          const dataTable =\n",
              "            await google.colab.kernel.invokeFunction('convertToInteractive',\n",
              "                                                     [key], {});\n",
              "          if (!dataTable) return;\n",
              "\n",
              "          const docLinkHtml = 'Like what you see? Visit the ' +\n",
              "            '<a target=\"_blank\" href=https://colab.research.google.com/notebooks/data_table.ipynb>data table notebook</a>'\n",
              "            + ' to learn more about interactive tables.';\n",
              "          element.innerHTML = '';\n",
              "          dataTable['output_type'] = 'display_data';\n",
              "          await google.colab.output.renderOutput(dataTable, element);\n",
              "          const docLink = document.createElement('div');\n",
              "          docLink.innerHTML = docLinkHtml;\n",
              "          element.appendChild(docLink);\n",
              "        }\n",
              "      </script>\n",
              "    </div>\n",
              "  </div>\n",
              "  "
            ]
          },
          "metadata": {},
          "execution_count": 701
        }
      ]
    },
    {
      "cell_type": "code",
      "source": [
        "#################################################\n",
        "categorical_columns = [\n",
        "    'make', 'model', 'engine_fuel_type', 'driven_wheels', 'market_category',\n",
        "    'vehicle_size', 'vehicle_style']\n",
        "\n",
        "categorical = {}\n",
        "\n",
        "for c in categorical_columns:\n",
        "    categorical[c] = list(df_train[c].value_counts().head().index)\n",
        "def prepare_X(df):\n",
        "    df = df.copy()\n",
        "    \n",
        "    df['age'] = 2017 - df['year']\n",
        "    features = base + ['age']\n",
        "\n",
        "    for v in [2, 3, 4]:\n",
        "        df['num_doors_%d' % v] = (df.number_of_doors == v).astype(int)\n",
        "        features.append('num_doors_%d' % v)\n",
        "\n",
        "    for name, values in categorical.items():\n",
        "        for value in values:\n",
        "            df['%s_%s' % (name, value)] = (df[name] == value).astype(int)\n",
        "            features.append('%s_%s' % (name, value))\n",
        "\n",
        "    df_num = df[features]\n",
        "    df_num = df_num.fillna(0)\n",
        "    X = df_num.values\n",
        "\n",
        "    return X\n",
        "#################################################"
      ],
      "metadata": {
        "id": "P0osj9eUr_xd"
      },
      "execution_count": 702,
      "outputs": []
    },
    {
      "cell_type": "code",
      "source": [
        "X_small = prepare_X(df_small)"
      ],
      "metadata": {
        "id": "x_xWBegxfrW-"
      },
      "execution_count": 703,
      "outputs": []
    },
    {
      "cell_type": "code",
      "source": [
        "y_pred = w0 + X_small.dot(w)\n",
        "y_pred = y_pred[0]\n",
        "y_pred"
      ],
      "metadata": {
        "colab": {
          "base_uri": "https://localhost:8080/"
        },
        "id": "ePapc2pxhT4_",
        "outputId": "ec8a0713-16f3-4c10-cb96-037f82efb88b"
      },
      "execution_count": 704,
      "outputs": [
        {
          "output_type": "execute_result",
          "data": {
            "text/plain": [
              "10.681780782276203"
            ]
          },
          "metadata": {},
          "execution_count": 704
        }
      ]
    },
    {
      "cell_type": "code",
      "source": [
        "# Undo the logarithm to find the price\n",
        "np.expm1(y_pred)"
      ],
      "metadata": {
        "colab": {
          "base_uri": "https://localhost:8080/"
        },
        "id": "O9OvAlgkidMd",
        "outputId": "f744f3ce-8006-47a2-b2f1-ca33ae54446e"
      },
      "execution_count": 705,
      "outputs": [
        {
          "output_type": "execute_result",
          "data": {
            "text/plain": [
              "43554.04338181253"
            ]
          },
          "metadata": {},
          "execution_count": 705
        }
      ]
    },
    {
      "cell_type": "code",
      "source": [
        "np.expm1(y_test[28])"
      ],
      "metadata": {
        "colab": {
          "base_uri": "https://localhost:8080/"
        },
        "id": "E-1RY3IZmDCx",
        "outputId": "f569d6dc-d89c-4c36-9a49-13ccbb2cd010"
      },
      "execution_count": 707,
      "outputs": [
        {
          "output_type": "execute_result",
          "data": {
            "text/plain": [
              "56849.999999999956"
            ]
          },
          "metadata": {},
          "execution_count": 707
        }
      ]
    }
  ]
}
