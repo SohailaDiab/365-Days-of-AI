{
  "cells": [
    {
      "cell_type": "markdown",
      "metadata": {
        "id": "view-in-github",
        "colab_type": "text"
      },
      "source": [
        "<a href=\"https://colab.research.google.com/github/SohailaDiab/365-Days-of-AI/blob/main/Week3_HW.ipynb\" target=\"_parent\"><img src=\"https://colab.research.google.com/assets/colab-badge.svg\" alt=\"Open In Colab\"/></a>"
      ]
    },
    {
      "cell_type": "markdown",
      "metadata": {
        "id": "XqzdbTEm_p5C"
      },
      "source": [
        "# Imports"
      ]
    },
    {
      "cell_type": "code",
      "execution_count": 47,
      "metadata": {
        "id": "wXQOl7Qt_vZH"
      },
      "outputs": [],
      "source": [
        "import pandas as pd\n",
        "import numpy as np\n",
        "# Visuals\n",
        "import matplotlib.pyplot as plt\n",
        "import seaborn as sns\n",
        "# Split\n",
        "from sklearn.model_selection import train_test_split\n",
        "# Mutual information\n",
        "from sklearn.metrics import mutual_info_score \n",
        "# One-hot encoding\n",
        "from sklearn.feature_extraction import DictVectorizer\n",
        "# Logistic Regression\n",
        "from sklearn.linear_model import LogisticRegression\n",
        "# Accuracy / error\n",
        "from sklearn.metrics import accuracy_score\n",
        "from sklearn.metrics import mean_squared_error\n",
        "# Ridge Regression\n",
        "from sklearn.linear_model import Ridge"
      ]
    },
    {
      "cell_type": "markdown",
      "metadata": {
        "id": "BpUHmyqEAI36"
      },
      "source": [
        "# Dataset"
      ]
    },
    {
      "cell_type": "code",
      "execution_count": 2,
      "metadata": {
        "id": "WjlFPR-U-2En"
      },
      "outputs": [],
      "source": [
        "df = pd.read_csv(\"https://raw.githubusercontent.com/alexeygrigorev/datasets/master/housing.csv\")"
      ]
    },
    {
      "cell_type": "code",
      "execution_count": 3,
      "metadata": {
        "colab": {
          "base_uri": "https://localhost:8080/",
          "height": 206
        },
        "id": "wkns4NKBAJ4T",
        "outputId": "50741737-0b40-459b-f0d0-8a2c7ec34e68"
      },
      "outputs": [
        {
          "output_type": "execute_result",
          "data": {
            "text/plain": [
              "   longitude  latitude  housing_median_age  total_rooms  total_bedrooms  \\\n",
              "0    -122.23     37.88                41.0        880.0           129.0   \n",
              "1    -122.22     37.86                21.0       7099.0          1106.0   \n",
              "2    -122.24     37.85                52.0       1467.0           190.0   \n",
              "3    -122.25     37.85                52.0       1274.0           235.0   \n",
              "4    -122.25     37.85                52.0       1627.0           280.0   \n",
              "\n",
              "   population  households  median_income  median_house_value ocean_proximity  \n",
              "0       322.0       126.0         8.3252            452600.0        NEAR BAY  \n",
              "1      2401.0      1138.0         8.3014            358500.0        NEAR BAY  \n",
              "2       496.0       177.0         7.2574            352100.0        NEAR BAY  \n",
              "3       558.0       219.0         5.6431            341300.0        NEAR BAY  \n",
              "4       565.0       259.0         3.8462            342200.0        NEAR BAY  "
            ],
            "text/html": [
              "\n",
              "  <div id=\"df-694d67d8-8747-4ff4-ad74-1a8d92878ed3\">\n",
              "    <div class=\"colab-df-container\">\n",
              "      <div>\n",
              "<style scoped>\n",
              "    .dataframe tbody tr th:only-of-type {\n",
              "        vertical-align: middle;\n",
              "    }\n",
              "\n",
              "    .dataframe tbody tr th {\n",
              "        vertical-align: top;\n",
              "    }\n",
              "\n",
              "    .dataframe thead th {\n",
              "        text-align: right;\n",
              "    }\n",
              "</style>\n",
              "<table border=\"1\" class=\"dataframe\">\n",
              "  <thead>\n",
              "    <tr style=\"text-align: right;\">\n",
              "      <th></th>\n",
              "      <th>longitude</th>\n",
              "      <th>latitude</th>\n",
              "      <th>housing_median_age</th>\n",
              "      <th>total_rooms</th>\n",
              "      <th>total_bedrooms</th>\n",
              "      <th>population</th>\n",
              "      <th>households</th>\n",
              "      <th>median_income</th>\n",
              "      <th>median_house_value</th>\n",
              "      <th>ocean_proximity</th>\n",
              "    </tr>\n",
              "  </thead>\n",
              "  <tbody>\n",
              "    <tr>\n",
              "      <th>0</th>\n",
              "      <td>-122.23</td>\n",
              "      <td>37.88</td>\n",
              "      <td>41.0</td>\n",
              "      <td>880.0</td>\n",
              "      <td>129.0</td>\n",
              "      <td>322.0</td>\n",
              "      <td>126.0</td>\n",
              "      <td>8.3252</td>\n",
              "      <td>452600.0</td>\n",
              "      <td>NEAR BAY</td>\n",
              "    </tr>\n",
              "    <tr>\n",
              "      <th>1</th>\n",
              "      <td>-122.22</td>\n",
              "      <td>37.86</td>\n",
              "      <td>21.0</td>\n",
              "      <td>7099.0</td>\n",
              "      <td>1106.0</td>\n",
              "      <td>2401.0</td>\n",
              "      <td>1138.0</td>\n",
              "      <td>8.3014</td>\n",
              "      <td>358500.0</td>\n",
              "      <td>NEAR BAY</td>\n",
              "    </tr>\n",
              "    <tr>\n",
              "      <th>2</th>\n",
              "      <td>-122.24</td>\n",
              "      <td>37.85</td>\n",
              "      <td>52.0</td>\n",
              "      <td>1467.0</td>\n",
              "      <td>190.0</td>\n",
              "      <td>496.0</td>\n",
              "      <td>177.0</td>\n",
              "      <td>7.2574</td>\n",
              "      <td>352100.0</td>\n",
              "      <td>NEAR BAY</td>\n",
              "    </tr>\n",
              "    <tr>\n",
              "      <th>3</th>\n",
              "      <td>-122.25</td>\n",
              "      <td>37.85</td>\n",
              "      <td>52.0</td>\n",
              "      <td>1274.0</td>\n",
              "      <td>235.0</td>\n",
              "      <td>558.0</td>\n",
              "      <td>219.0</td>\n",
              "      <td>5.6431</td>\n",
              "      <td>341300.0</td>\n",
              "      <td>NEAR BAY</td>\n",
              "    </tr>\n",
              "    <tr>\n",
              "      <th>4</th>\n",
              "      <td>-122.25</td>\n",
              "      <td>37.85</td>\n",
              "      <td>52.0</td>\n",
              "      <td>1627.0</td>\n",
              "      <td>280.0</td>\n",
              "      <td>565.0</td>\n",
              "      <td>259.0</td>\n",
              "      <td>3.8462</td>\n",
              "      <td>342200.0</td>\n",
              "      <td>NEAR BAY</td>\n",
              "    </tr>\n",
              "  </tbody>\n",
              "</table>\n",
              "</div>\n",
              "      <button class=\"colab-df-convert\" onclick=\"convertToInteractive('df-694d67d8-8747-4ff4-ad74-1a8d92878ed3')\"\n",
              "              title=\"Convert this dataframe to an interactive table.\"\n",
              "              style=\"display:none;\">\n",
              "        \n",
              "  <svg xmlns=\"http://www.w3.org/2000/svg\" height=\"24px\"viewBox=\"0 0 24 24\"\n",
              "       width=\"24px\">\n",
              "    <path d=\"M0 0h24v24H0V0z\" fill=\"none\"/>\n",
              "    <path d=\"M18.56 5.44l.94 2.06.94-2.06 2.06-.94-2.06-.94-.94-2.06-.94 2.06-2.06.94zm-11 1L8.5 8.5l.94-2.06 2.06-.94-2.06-.94L8.5 2.5l-.94 2.06-2.06.94zm10 10l.94 2.06.94-2.06 2.06-.94-2.06-.94-.94-2.06-.94 2.06-2.06.94z\"/><path d=\"M17.41 7.96l-1.37-1.37c-.4-.4-.92-.59-1.43-.59-.52 0-1.04.2-1.43.59L10.3 9.45l-7.72 7.72c-.78.78-.78 2.05 0 2.83L4 21.41c.39.39.9.59 1.41.59.51 0 1.02-.2 1.41-.59l7.78-7.78 2.81-2.81c.8-.78.8-2.07 0-2.86zM5.41 20L4 18.59l7.72-7.72 1.47 1.35L5.41 20z\"/>\n",
              "  </svg>\n",
              "      </button>\n",
              "      \n",
              "  <style>\n",
              "    .colab-df-container {\n",
              "      display:flex;\n",
              "      flex-wrap:wrap;\n",
              "      gap: 12px;\n",
              "    }\n",
              "\n",
              "    .colab-df-convert {\n",
              "      background-color: #E8F0FE;\n",
              "      border: none;\n",
              "      border-radius: 50%;\n",
              "      cursor: pointer;\n",
              "      display: none;\n",
              "      fill: #1967D2;\n",
              "      height: 32px;\n",
              "      padding: 0 0 0 0;\n",
              "      width: 32px;\n",
              "    }\n",
              "\n",
              "    .colab-df-convert:hover {\n",
              "      background-color: #E2EBFA;\n",
              "      box-shadow: 0px 1px 2px rgba(60, 64, 67, 0.3), 0px 1px 3px 1px rgba(60, 64, 67, 0.15);\n",
              "      fill: #174EA6;\n",
              "    }\n",
              "\n",
              "    [theme=dark] .colab-df-convert {\n",
              "      background-color: #3B4455;\n",
              "      fill: #D2E3FC;\n",
              "    }\n",
              "\n",
              "    [theme=dark] .colab-df-convert:hover {\n",
              "      background-color: #434B5C;\n",
              "      box-shadow: 0px 1px 3px 1px rgba(0, 0, 0, 0.15);\n",
              "      filter: drop-shadow(0px 1px 2px rgba(0, 0, 0, 0.3));\n",
              "      fill: #FFFFFF;\n",
              "    }\n",
              "  </style>\n",
              "\n",
              "      <script>\n",
              "        const buttonEl =\n",
              "          document.querySelector('#df-694d67d8-8747-4ff4-ad74-1a8d92878ed3 button.colab-df-convert');\n",
              "        buttonEl.style.display =\n",
              "          google.colab.kernel.accessAllowed ? 'block' : 'none';\n",
              "\n",
              "        async function convertToInteractive(key) {\n",
              "          const element = document.querySelector('#df-694d67d8-8747-4ff4-ad74-1a8d92878ed3');\n",
              "          const dataTable =\n",
              "            await google.colab.kernel.invokeFunction('convertToInteractive',\n",
              "                                                     [key], {});\n",
              "          if (!dataTable) return;\n",
              "\n",
              "          const docLinkHtml = 'Like what you see? Visit the ' +\n",
              "            '<a target=\"_blank\" href=https://colab.research.google.com/notebooks/data_table.ipynb>data table notebook</a>'\n",
              "            + ' to learn more about interactive tables.';\n",
              "          element.innerHTML = '';\n",
              "          dataTable['output_type'] = 'display_data';\n",
              "          await google.colab.output.renderOutput(dataTable, element);\n",
              "          const docLink = document.createElement('div');\n",
              "          docLink.innerHTML = docLinkHtml;\n",
              "          element.appendChild(docLink);\n",
              "        }\n",
              "      </script>\n",
              "    </div>\n",
              "  </div>\n",
              "  "
            ]
          },
          "metadata": {},
          "execution_count": 3
        }
      ],
      "source": [
        "df.head()"
      ]
    },
    {
      "cell_type": "markdown",
      "metadata": {
        "id": "rgeer0FCAP7H"
      },
      "source": [
        "# Features\n",
        "\n",
        "For the rest of the homework, you'll need to use only these columns:\n",
        "\n",
        "- 'latitude',\n",
        "- 'longitude',\n",
        "- 'housing_median_age',\n",
        "- 'total_rooms',\n",
        "- 'total_bedrooms',\n",
        "- 'population',\n",
        "- 'households',\n",
        "- 'median_income',\n",
        "- 'median_house_value',\n",
        "- 'ocean_proximity',"
      ]
    },
    {
      "cell_type": "code",
      "execution_count": 4,
      "metadata": {
        "colab": {
          "base_uri": "https://localhost:8080/"
        },
        "id": "obtnaWXiAKrw",
        "outputId": "66d54458-e0a3-4f31-ce8f-64e002a57382"
      },
      "outputs": [
        {
          "output_type": "execute_result",
          "data": {
            "text/plain": [
              "(20640, 10)"
            ]
          },
          "metadata": {},
          "execution_count": 4
        }
      ],
      "source": [
        "df.shape"
      ]
    },
    {
      "cell_type": "code",
      "execution_count": 5,
      "metadata": {
        "colab": {
          "base_uri": "https://localhost:8080/"
        },
        "id": "-mGeURp1AZxe",
        "outputId": "031a35f2-20c4-43b3-c159-a5c16abf6200"
      },
      "outputs": [
        {
          "output_type": "execute_result",
          "data": {
            "text/plain": [
              "(20640, 10)"
            ]
          },
          "metadata": {},
          "execution_count": 5
        }
      ],
      "source": [
        "df[['latitude',\n",
        "'longitude',\n",
        "'housing_median_age',\n",
        "'total_rooms',\n",
        "'total_bedrooms',\n",
        "'population',\n",
        "'households',\n",
        "'median_income',\n",
        "'median_house_value',\n",
        "'ocean_proximity']].shape"
      ]
    },
    {
      "cell_type": "markdown",
      "metadata": {
        "id": "P_UghPFVAwHE"
      },
      "source": [
        "We already have these columns only."
      ]
    },
    {
      "cell_type": "markdown",
      "metadata": {
        "id": "ubFW9OxoA1uW"
      },
      "source": [
        "# Data preparation\n",
        "- Select only the features from above and fill in the missing values with 0.\n",
        "- Create a new column `rooms_per_household` by dividing the column `total_rooms` by the column `households` from dataframe.\n",
        "- Create a new column `bedrooms_per_room` by dividing the column `total_bedrooms` by the column `total_rooms` from dataframe.\n",
        "- Create a new column `population_per_household` by dividing the column `population` by the column `households` from dataframe."
      ]
    },
    {
      "cell_type": "markdown",
      "metadata": {
        "id": "puruCtXTA_VP"
      },
      "source": [
        "## Select only the features from above and fill in the missing values with 0."
      ]
    },
    {
      "cell_type": "code",
      "execution_count": 6,
      "metadata": {
        "colab": {
          "base_uri": "https://localhost:8080/"
        },
        "id": "ceFhhxjpAoTV",
        "outputId": "2ae1afb0-fd0c-421e-d623-96379f7be519"
      },
      "outputs": [
        {
          "output_type": "execute_result",
          "data": {
            "text/plain": [
              "longitude               0\n",
              "latitude                0\n",
              "housing_median_age      0\n",
              "total_rooms             0\n",
              "total_bedrooms        207\n",
              "population              0\n",
              "households              0\n",
              "median_income           0\n",
              "median_house_value      0\n",
              "ocean_proximity         0\n",
              "dtype: int64"
            ]
          },
          "metadata": {},
          "execution_count": 6
        }
      ],
      "source": [
        "df.isna().sum()"
      ]
    },
    {
      "cell_type": "markdown",
      "metadata": {
        "id": "fEIGtbXoBYsi"
      },
      "source": [
        "> We have 207 missing values in `total_bedrooms`"
      ]
    },
    {
      "cell_type": "code",
      "execution_count": 7,
      "metadata": {
        "id": "kgaCTDN_BKmo"
      },
      "outputs": [],
      "source": [
        "# Fill missing values with 0\n",
        "df.fillna(0, inplace=True)"
      ]
    },
    {
      "cell_type": "markdown",
      "metadata": {
        "id": "S_B7wLDSCB8h"
      },
      "source": [
        "## Create a new column `rooms_per_household` by dividing the column `total_rooms` by the column `households` from dataframe."
      ]
    },
    {
      "cell_type": "code",
      "execution_count": 8,
      "metadata": {
        "id": "pqdfytdcBRyj"
      },
      "outputs": [],
      "source": [
        "df['rooms_per_household'] = df.total_rooms / df.households "
      ]
    },
    {
      "cell_type": "markdown",
      "metadata": {
        "id": "b0X3wuBMCc8L"
      },
      "source": [
        "## Create a new column `bedrooms_per_room` by dividing the column `total_bedrooms` by the column `total_rooms` from dataframe."
      ]
    },
    {
      "cell_type": "code",
      "execution_count": 9,
      "metadata": {
        "id": "Op-UxozBBWZb"
      },
      "outputs": [],
      "source": [
        "df['bedrooms_per_room'] = df.total_bedrooms / df.total_rooms "
      ]
    },
    {
      "cell_type": "markdown",
      "metadata": {
        "id": "U8Ppod1jC68W"
      },
      "source": [
        "## Create a new column `population_per_household` by dividing the column `population` by the column `households` from dataframe."
      ]
    },
    {
      "cell_type": "code",
      "execution_count": 10,
      "metadata": {
        "id": "MgI2weqOCP7O"
      },
      "outputs": [],
      "source": [
        "df['population_per_household'] = df.population / df.households"
      ]
    },
    {
      "cell_type": "markdown",
      "metadata": {
        "id": "q9n-V7zbQLoV"
      },
      "source": [
        "# Question 1\n",
        "What is the most frequent observation (mode) for the column `ocean_proximity`?\n",
        "\n",
        "Options:\n",
        "\n",
        "- `NEAR BAY`\n",
        "- `<1H OCEAN`\n",
        "- `INLAND`\n",
        "- `NEAR OCEAN`"
      ]
    },
    {
      "cell_type": "code",
      "execution_count": 11,
      "metadata": {
        "colab": {
          "base_uri": "https://localhost:8080/"
        },
        "id": "bX0lqmoBCtg1",
        "outputId": "559c9913-ec32-4813-f4ca-950a55b80d22"
      },
      "outputs": [
        {
          "output_type": "execute_result",
          "data": {
            "text/plain": [
              "0    <1H OCEAN\n",
              "dtype: object"
            ]
          },
          "metadata": {},
          "execution_count": 11
        }
      ],
      "source": [
        "df.ocean_proximity.mode()"
      ]
    },
    {
      "cell_type": "code",
      "execution_count": 12,
      "metadata": {
        "colab": {
          "base_uri": "https://localhost:8080/",
          "height": 265
        },
        "id": "hGgbY2viQkuX",
        "outputId": "168a08b8-c001-42af-aa23-75a1d26f172e"
      },
      "outputs": [
        {
          "output_type": "display_data",
          "data": {
            "text/plain": [
              "<Figure size 432x288 with 1 Axes>"
            ],
            "image/png": "[encoded data removed]"
          },
          "metadata": {
            "needs_background": "light"
          }
        }
      ],
      "source": [
        "plt.bar(df.ocean_proximity.value_counts().index, df.ocean_proximity.value_counts().values);"
      ]
    },
    {
      "cell_type": "markdown",
      "metadata": {
        "id": "KvArHuFkRALv"
      },
      "source": [
        "> **Answer:** <br/>\n",
        "`<1H OCEAN`"
      ]
    },
    {
      "cell_type": "markdown",
      "metadata": {
        "id": "6sy2UBH-RN1I"
      },
      "source": [
        "# Question 2\n",
        "- Create the correlation matrix for the numerical features of your train dataset.\n",
        "  - In a correlation matrix, you compute the correlation coefficient between every pair of features in the dataset.\n",
        "- What are the two features that have the biggest correlation in this dataset?\n",
        "\n",
        "Options:\n",
        "\n",
        "- `total_bedrooms` and `households`\n",
        "- `total_bedrooms` and `total_rooms`\n",
        "- `population` and `households`\n",
        "- `population_per_household` and `total_rooms`"
      ]
    },
    {
      "cell_type": "code",
      "execution_count": 13,
      "metadata": {
        "colab": {
          "base_uri": "https://localhost:8080/"
        },
        "id": "bIPrvSB7QrJs",
        "outputId": "4977c273-ea4d-4236-8eef-50fdf8a6c9f4"
      },
      "outputs": [
        {
          "output_type": "execute_result",
          "data": {
            "text/plain": [
              "longitude                   float64\n",
              "latitude                    float64\n",
              "housing_median_age          float64\n",
              "total_rooms                 float64\n",
              "total_bedrooms              float64\n",
              "population                  float64\n",
              "households                  float64\n",
              "median_income               float64\n",
              "median_house_value          float64\n",
              "ocean_proximity              object\n",
              "rooms_per_household         float64\n",
              "bedrooms_per_room           float64\n",
              "population_per_household    float64\n",
              "dtype: object"
            ]
          },
          "metadata": {},
          "execution_count": 13
        }
      ],
      "source": [
        "df.dtypes"
      ]
    },
    {
      "cell_type": "code",
      "execution_count": 14,
      "metadata": {
        "colab": {
          "base_uri": "https://localhost:8080/"
        },
        "id": "WheGf6MTRirH",
        "outputId": "ed2e1f83-b322-4e05-8922-c739878c192b"
      },
      "outputs": [
        {
          "output_type": "execute_result",
          "data": {
            "text/plain": [
              "['longitude',\n",
              " 'latitude',\n",
              " 'housing_median_age',\n",
              " 'total_rooms',\n",
              " 'total_bedrooms',\n",
              " 'population',\n",
              " 'households',\n",
              " 'median_income',\n",
              " 'rooms_per_household',\n",
              " 'bedrooms_per_room',\n",
              " 'population_per_household']"
            ]
          },
          "metadata": {},
          "execution_count": 14
        }
      ],
      "source": [
        "# Get numerical features\n",
        "numerical_features = list(df.select_dtypes([np.number]).columns)\n",
        "numerical_features.remove('median_house_value')\n",
        "numerical_features"
      ]
    },
    {
      "cell_type": "code",
      "execution_count": 15,
      "metadata": {
        "id": "c5RFUBkvSZ-Y"
      },
      "outputs": [],
      "source": [
        "# Numerical df\n",
        "df_numeric = df.copy()\n",
        "df_numeric = df[numerical_features]"
      ]
    },
    {
      "cell_type": "code",
      "execution_count": 16,
      "metadata": {
        "colab": {
          "base_uri": "https://localhost:8080/",
          "height": 458
        },
        "id": "-iHaVnLOTzmg",
        "outputId": "4f7bdcbe-ed13-4356-a075-83f8685971b3"
      },
      "outputs": [
        {
          "output_type": "execute_result",
          "data": {
            "text/plain": [
              "                          longitude  latitude  housing_median_age  \\\n",
              "longitude                  1.000000 -0.924664           -0.108197   \n",
              "latitude                  -0.924664  1.000000            0.011173   \n",
              "housing_median_age        -0.108197  0.011173            1.000000   \n",
              "total_rooms                0.044568 -0.036100           -0.361262   \n",
              "total_bedrooms             0.068082 -0.065318           -0.317063   \n",
              "population                 0.099773 -0.108785           -0.296244   \n",
              "households                 0.055310 -0.071035           -0.302916   \n",
              "median_income             -0.015176 -0.079809           -0.119034   \n",
              "rooms_per_household       -0.027540  0.106389           -0.153277   \n",
              "bedrooms_per_room          0.084836 -0.104112            0.125396   \n",
              "population_per_household   0.002476  0.002366            0.013191   \n",
              "\n",
              "                          total_rooms  total_bedrooms  population  households  \\\n",
              "longitude                    0.044568        0.068082    0.099773    0.055310   \n",
              "latitude                    -0.036100       -0.065318   -0.108785   -0.071035   \n",
              "housing_median_age          -0.361262       -0.317063   -0.296244   -0.302916   \n",
              "total_rooms                  1.000000        0.920196    0.857126    0.918484   \n",
              "total_bedrooms               0.920196        1.000000    0.866266    0.966507   \n",
              "population                   0.857126        0.866266    1.000000    0.907222   \n",
              "households                   0.918484        0.966507    0.907222    1.000000   \n",
              "median_income                0.198050       -0.007295    0.004834    0.013033   \n",
              "rooms_per_household          0.133798        0.002717   -0.072213   -0.080598   \n",
              "bedrooms_per_room           -0.174583        0.122205    0.031397    0.059818   \n",
              "population_per_household    -0.024581       -0.028019    0.069863   -0.027309   \n",
              "\n",
              "                          median_income  rooms_per_household  \\\n",
              "longitude                     -0.015176            -0.027540   \n",
              "latitude                      -0.079809             0.106389   \n",
              "housing_median_age            -0.119034            -0.153277   \n",
              "total_rooms                    0.198050             0.133798   \n",
              "total_bedrooms                -0.007295             0.002717   \n",
              "population                     0.004834            -0.072213   \n",
              "households                     0.013033            -0.080598   \n",
              "median_income                  1.000000             0.326895   \n",
              "rooms_per_household            0.326895             1.000000   \n",
              "bedrooms_per_room             -0.573836            -0.387465   \n",
              "population_per_household       0.018766            -0.004852   \n",
              "\n",
              "                          bedrooms_per_room  population_per_household  \n",
              "longitude                          0.084836                  0.002476  \n",
              "latitude                          -0.104112                  0.002366  \n",
              "housing_median_age                 0.125396                  0.013191  \n",
              "total_rooms                       -0.174583                 -0.024581  \n",
              "total_bedrooms                     0.122205                 -0.028019  \n",
              "population                         0.031397                  0.069863  \n",
              "households                         0.059818                 -0.027309  \n",
              "median_income                     -0.573836                  0.018766  \n",
              "rooms_per_household               -0.387465                 -0.004852  \n",
              "bedrooms_per_room                  1.000000                  0.003047  \n",
              "population_per_household           0.003047                  1.000000  "
            ],
            "text/html": [
              "\n",
              "  <div id=\"df-e36668da-e59c-4d24-98a4-1a956abab4a3\">\n",
              "    <div class=\"colab-df-container\">\n",
              "      <div>\n",
              "<style scoped>\n",
              "    .dataframe tbody tr th:only-of-type {\n",
              "        vertical-align: middle;\n",
              "    }\n",
              "\n",
              "    .dataframe tbody tr th {\n",
              "        vertical-align: top;\n",
              "    }\n",
              "\n",
              "    .dataframe thead th {\n",
              "        text-align: right;\n",
              "    }\n",
              "</style>\n",
              "<table border=\"1\" class=\"dataframe\">\n",
              "  <thead>\n",
              "    <tr style=\"text-align: right;\">\n",
              "      <th></th>\n",
              "      <th>longitude</th>\n",
              "      <th>latitude</th>\n",
              "      <th>housing_median_age</th>\n",
              "      <th>total_rooms</th>\n",
              "      <th>total_bedrooms</th>\n",
              "      <th>population</th>\n",
              "      <th>households</th>\n",
              "      <th>median_income</th>\n",
              "      <th>rooms_per_household</th>\n",
              "      <th>bedrooms_per_room</th>\n",
              "      <th>population_per_household</th>\n",
              "    </tr>\n",
              "  </thead>\n",
              "  <tbody>\n",
              "    <tr>\n",
              "      <th>longitude</th>\n",
              "      <td>1.000000</td>\n",
              "      <td>-0.924664</td>\n",
              "      <td>-0.108197</td>\n",
              "      <td>0.044568</td>\n",
              "      <td>0.068082</td>\n",
              "      <td>0.099773</td>\n",
              "      <td>0.055310</td>\n",
              "      <td>-0.015176</td>\n",
              "      <td>-0.027540</td>\n",
              "      <td>0.084836</td>\n",
              "      <td>0.002476</td>\n",
              "    </tr>\n",
              "    <tr>\n",
              "      <th>latitude</th>\n",
              "      <td>-0.924664</td>\n",
              "      <td>1.000000</td>\n",
              "      <td>0.011173</td>\n",
              "      <td>-0.036100</td>\n",
              "      <td>-0.065318</td>\n",
              "      <td>-0.108785</td>\n",
              "      <td>-0.071035</td>\n",
              "      <td>-0.079809</td>\n",
              "      <td>0.106389</td>\n",
              "      <td>-0.104112</td>\n",
              "      <td>0.002366</td>\n",
              "    </tr>\n",
              "    <tr>\n",
              "      <th>housing_median_age</th>\n",
              "      <td>-0.108197</td>\n",
              "      <td>0.011173</td>\n",
              "      <td>1.000000</td>\n",
              "      <td>-0.361262</td>\n",
              "      <td>-0.317063</td>\n",
              "      <td>-0.296244</td>\n",
              "      <td>-0.302916</td>\n",
              "      <td>-0.119034</td>\n",
              "      <td>-0.153277</td>\n",
              "      <td>0.125396</td>\n",
              "      <td>0.013191</td>\n",
              "    </tr>\n",
              "    <tr>\n",
              "      <th>total_rooms</th>\n",
              "      <td>0.044568</td>\n",
              "      <td>-0.036100</td>\n",
              "      <td>-0.361262</td>\n",
              "      <td>1.000000</td>\n",
              "      <td>0.920196</td>\n",
              "      <td>0.857126</td>\n",
              "      <td>0.918484</td>\n",
              "      <td>0.198050</td>\n",
              "      <td>0.133798</td>\n",
              "      <td>-0.174583</td>\n",
              "      <td>-0.024581</td>\n",
              "    </tr>\n",
              "    <tr>\n",
              "      <th>total_bedrooms</th>\n",
              "      <td>0.068082</td>\n",
              "      <td>-0.065318</td>\n",
              "      <td>-0.317063</td>\n",
              "      <td>0.920196</td>\n",
              "      <td>1.000000</td>\n",
              "      <td>0.866266</td>\n",
              "      <td>0.966507</td>\n",
              "      <td>-0.007295</td>\n",
              "      <td>0.002717</td>\n",
              "      <td>0.122205</td>\n",
              "      <td>-0.028019</td>\n",
              "    </tr>\n",
              "    <tr>\n",
              "      <th>population</th>\n",
              "      <td>0.099773</td>\n",
              "      <td>-0.108785</td>\n",
              "      <td>-0.296244</td>\n",
              "      <td>0.857126</td>\n",
              "      <td>0.866266</td>\n",
              "      <td>1.000000</td>\n",
              "      <td>0.907222</td>\n",
              "      <td>0.004834</td>\n",
              "      <td>-0.072213</td>\n",
              "      <td>0.031397</td>\n",
              "      <td>0.069863</td>\n",
              "    </tr>\n",
              "    <tr>\n",
              "      <th>households</th>\n",
              "      <td>0.055310</td>\n",
              "      <td>-0.071035</td>\n",
              "      <td>-0.302916</td>\n",
              "      <td>0.918484</td>\n",
              "      <td>0.966507</td>\n",
              "      <td>0.907222</td>\n",
              "      <td>1.000000</td>\n",
              "      <td>0.013033</td>\n",
              "      <td>-0.080598</td>\n",
              "      <td>0.059818</td>\n",
              "      <td>-0.027309</td>\n",
              "    </tr>\n",
              "    <tr>\n",
              "      <th>median_income</th>\n",
              "      <td>-0.015176</td>\n",
              "      <td>-0.079809</td>\n",
              "      <td>-0.119034</td>\n",
              "      <td>0.198050</td>\n",
              "      <td>-0.007295</td>\n",
              "      <td>0.004834</td>\n",
              "      <td>0.013033</td>\n",
              "      <td>1.000000</td>\n",
              "      <td>0.326895</td>\n",
              "      <td>-0.573836</td>\n",
              "      <td>0.018766</td>\n",
              "    </tr>\n",
              "    <tr>\n",
              "      <th>rooms_per_household</th>\n",
              "      <td>-0.027540</td>\n",
              "      <td>0.106389</td>\n",
              "      <td>-0.153277</td>\n",
              "      <td>0.133798</td>\n",
              "      <td>0.002717</td>\n",
              "      <td>-0.072213</td>\n",
              "      <td>-0.080598</td>\n",
              "      <td>0.326895</td>\n",
              "      <td>1.000000</td>\n",
              "      <td>-0.387465</td>\n",
              "      <td>-0.004852</td>\n",
              "    </tr>\n",
              "    <tr>\n",
              "      <th>bedrooms_per_room</th>\n",
              "      <td>0.084836</td>\n",
              "      <td>-0.104112</td>\n",
              "      <td>0.125396</td>\n",
              "      <td>-0.174583</td>\n",
              "      <td>0.122205</td>\n",
              "      <td>0.031397</td>\n",
              "      <td>0.059818</td>\n",
              "      <td>-0.573836</td>\n",
              "      <td>-0.387465</td>\n",
              "      <td>1.000000</td>\n",
              "      <td>0.003047</td>\n",
              "    </tr>\n",
              "    <tr>\n",
              "      <th>population_per_household</th>\n",
              "      <td>0.002476</td>\n",
              "      <td>0.002366</td>\n",
              "      <td>0.013191</td>\n",
              "      <td>-0.024581</td>\n",
              "      <td>-0.028019</td>\n",
              "      <td>0.069863</td>\n",
              "      <td>-0.027309</td>\n",
              "      <td>0.018766</td>\n",
              "      <td>-0.004852</td>\n",
              "      <td>0.003047</td>\n",
              "      <td>1.000000</td>\n",
              "    </tr>\n",
              "  </tbody>\n",
              "</table>\n",
              "</div>\n",
              "      <button class=\"colab-df-convert\" onclick=\"convertToInteractive('df-e36668da-e59c-4d24-98a4-1a956abab4a3')\"\n",
              "              title=\"Convert this dataframe to an interactive table.\"\n",
              "              style=\"display:none;\">\n",
              "        \n",
              "  <svg xmlns=\"http://www.w3.org/2000/svg\" height=\"24px\"viewBox=\"0 0 24 24\"\n",
              "       width=\"24px\">\n",
              "    <path d=\"M0 0h24v24H0V0z\" fill=\"none\"/>\n",
              "    <path d=\"M18.56 5.44l.94 2.06.94-2.06 2.06-.94-2.06-.94-.94-2.06-.94 2.06-2.06.94zm-11 1L8.5 8.5l.94-2.06 2.06-.94-2.06-.94L8.5 2.5l-.94 2.06-2.06.94zm10 10l.94 2.06.94-2.06 2.06-.94-2.06-.94-.94-2.06-.94 2.06-2.06.94z\"/><path d=\"M17.41 7.96l-1.37-1.37c-.4-.4-.92-.59-1.43-.59-.52 0-1.04.2-1.43.59L10.3 9.45l-7.72 7.72c-.78.78-.78 2.05 0 2.83L4 21.41c.39.39.9.59 1.41.59.51 0 1.02-.2 1.41-.59l7.78-7.78 2.81-2.81c.8-.78.8-2.07 0-2.86zM5.41 20L4 18.59l7.72-7.72 1.47 1.35L5.41 20z\"/>\n",
              "  </svg>\n",
              "      </button>\n",
              "      \n",
              "  <style>\n",
              "    .colab-df-container {\n",
              "      display:flex;\n",
              "      flex-wrap:wrap;\n",
              "      gap: 12px;\n",
              "    }\n",
              "\n",
              "    .colab-df-convert {\n",
              "      background-color: #E8F0FE;\n",
              "      border: none;\n",
              "      border-radius: 50%;\n",
              "      cursor: pointer;\n",
              "      display: none;\n",
              "      fill: #1967D2;\n",
              "      height: 32px;\n",
              "      padding: 0 0 0 0;\n",
              "      width: 32px;\n",
              "    }\n",
              "\n",
              "    .colab-df-convert:hover {\n",
              "      background-color: #E2EBFA;\n",
              "      box-shadow: 0px 1px 2px rgba(60, 64, 67, 0.3), 0px 1px 3px 1px rgba(60, 64, 67, 0.15);\n",
              "      fill: #174EA6;\n",
              "    }\n",
              "\n",
              "    [theme=dark] .colab-df-convert {\n",
              "      background-color: #3B4455;\n",
              "      fill: #D2E3FC;\n",
              "    }\n",
              "\n",
              "    [theme=dark] .colab-df-convert:hover {\n",
              "      background-color: #434B5C;\n",
              "      box-shadow: 0px 1px 3px 1px rgba(0, 0, 0, 0.15);\n",
              "      filter: drop-shadow(0px 1px 2px rgba(0, 0, 0, 0.3));\n",
              "      fill: #FFFFFF;\n",
              "    }\n",
              "  </style>\n",
              "\n",
              "      <script>\n",
              "        const buttonEl =\n",
              "          document.querySelector('#df-e36668da-e59c-4d24-98a4-1a956abab4a3 button.colab-df-convert');\n",
              "        buttonEl.style.display =\n",
              "          google.colab.kernel.accessAllowed ? 'block' : 'none';\n",
              "\n",
              "        async function convertToInteractive(key) {\n",
              "          const element = document.querySelector('#df-e36668da-e59c-4d24-98a4-1a956abab4a3');\n",
              "          const dataTable =\n",
              "            await google.colab.kernel.invokeFunction('convertToInteractive',\n",
              "                                                     [key], {});\n",
              "          if (!dataTable) return;\n",
              "\n",
              "          const docLinkHtml = 'Like what you see? Visit the ' +\n",
              "            '<a target=\"_blank\" href=https://colab.research.google.com/notebooks/data_table.ipynb>data table notebook</a>'\n",
              "            + ' to learn more about interactive tables.';\n",
              "          element.innerHTML = '';\n",
              "          dataTable['output_type'] = 'display_data';\n",
              "          await google.colab.output.renderOutput(dataTable, element);\n",
              "          const docLink = document.createElement('div');\n",
              "          docLink.innerHTML = docLinkHtml;\n",
              "          element.appendChild(docLink);\n",
              "        }\n",
              "      </script>\n",
              "    </div>\n",
              "  </div>\n",
              "  "
            ]
          },
          "metadata": {},
          "execution_count": 16
        }
      ],
      "source": [
        "df_numeric.corr()"
      ]
    },
    {
      "cell_type": "code",
      "execution_count": 17,
      "metadata": {
        "colab": {
          "base_uri": "https://localhost:8080/",
          "height": 729
        },
        "id": "OvVuf0wwUGr0",
        "outputId": "383b8040-d326-4185-da9d-1372556fb3c1"
      },
      "outputs": [
        {
          "output_type": "display_data",
          "data": {
            "text/plain": [
              "<Figure size 1080x720 with 2 Axes>"
            ],
            "image/png": "[encoded data removed]"
          },
          "metadata": {
            "needs_background": "light"
          }
        }
      ],
      "source": [
        "plt.figure(figsize=(15,10))  \n",
        "sns.heatmap(df_numeric.corr(), annot=True, linewidths=0.5, cmap='Blues')\n",
        "plt.title('Heatmap showing correlations between numerical data')\n",
        "plt.show();"
      ]
    },
    {
      "cell_type": "code",
      "execution_count": 18,
      "metadata": {
        "colab": {
          "base_uri": "https://localhost:8080/"
        },
        "id": "KHz6J0iLWeat",
        "outputId": "c94da2b3-1e3d-4482-e3fb-891482173572"
      },
      "outputs": [
        {
          "output_type": "execute_result",
          "data": {
            "text/plain": [
              "longitude            longitude              1.000000\n",
              "latitude             latitude               1.000000\n",
              "bedrooms_per_room    bedrooms_per_room      1.000000\n",
              "rooms_per_household  rooms_per_household    1.000000\n",
              "median_income        median_income          1.000000\n",
              "                                              ...   \n",
              "rooms_per_household  bedrooms_per_room     -0.387465\n",
              "bedrooms_per_room    median_income         -0.573836\n",
              "median_income        bedrooms_per_room     -0.573836\n",
              "longitude            latitude              -0.924664\n",
              "latitude             longitude             -0.924664\n",
              "Length: 121, dtype: float64"
            ]
          },
          "metadata": {},
          "execution_count": 18
        }
      ],
      "source": [
        "df_numeric.corr().unstack().sort_values(ascending=False)"
      ]
    },
    {
      "cell_type": "markdown",
      "metadata": {
        "id": "IIigLJrsFLyt"
      },
      "source": [
        "Remove the 1s and get the top 15 highest correlations:"
      ]
    },
    {
      "cell_type": "code",
      "execution_count": 19,
      "metadata": {
        "colab": {
          "base_uri": "https://localhost:8080/"
        },
        "id": "Lmfng65TkFXk",
        "outputId": "54b346e5-cef3-43e0-a9a8-7326df400124"
      },
      "outputs": [
        {
          "output_type": "execute_result",
          "data": {
            "text/plain": [
              "total_bedrooms       households             0.966507\n",
              "households           total_bedrooms         0.966507\n",
              "total_bedrooms       total_rooms            0.920196\n",
              "total_rooms          total_bedrooms         0.920196\n",
              "                     households             0.918484\n",
              "households           total_rooms            0.918484\n",
              "population           households             0.907222\n",
              "households           population             0.907222\n",
              "population           total_bedrooms         0.866266\n",
              "total_bedrooms       population             0.866266\n",
              "population           total_rooms            0.857126\n",
              "total_rooms          population             0.857126\n",
              "rooms_per_household  median_income          0.326895\n",
              "median_income        rooms_per_household    0.326895\n",
              "total_rooms          median_income          0.198050\n",
              "dtype: float64"
            ]
          },
          "metadata": {},
          "execution_count": 19
        }
      ],
      "source": [
        "corr = df_numeric.corr() \n",
        "corr[corr !=1].unstack().sort_values(ascending=False)[:15]"
      ]
    },
    {
      "cell_type": "markdown",
      "metadata": {
        "id": "L8Yq7FzEFdAS"
      },
      "source": [
        "> **Answer:** <br/>\n",
        "`total_bedrooms` and `households`"
      ]
    },
    {
      "cell_type": "markdown",
      "metadata": {
        "id": "Tbb7O0R-FqtG"
      },
      "source": [
        "# Make `median_house_value` binary\n",
        "- We need to turn the `median_house_value` variable from numeric into binary.\n",
        "- Let's create a variable `above_average` which is 1 if the `median_house_value` is above its mean value and 0 otherwise."
      ]
    },
    {
      "cell_type": "code",
      "execution_count": 20,
      "metadata": {
        "colab": {
          "base_uri": "https://localhost:8080/"
        },
        "id": "LWqHa8_6mi39",
        "outputId": "38f43c42-09c9-4edf-92c4-b636a6cdc093"
      },
      "outputs": [
        {
          "output_type": "execute_result",
          "data": {
            "text/plain": [
              "206855.81690891474"
            ]
          },
          "metadata": {},
          "execution_count": 20
        }
      ],
      "source": [
        "house_value_mean = df.median_house_value.mean()\n",
        "house_value_mean "
      ]
    },
    {
      "cell_type": "code",
      "execution_count": 21,
      "metadata": {
        "colab": {
          "base_uri": "https://localhost:8080/",
          "height": 270
        },
        "id": "ZBxM6zhCF4I1",
        "outputId": "6fc1d9db-91a5-442e-fbc5-5459400bc5ac"
      },
      "outputs": [
        {
          "output_type": "execute_result",
          "data": {
            "text/plain": [
              "   longitude  latitude  housing_median_age  total_rooms  total_bedrooms  \\\n",
              "0    -122.23     37.88                41.0        880.0           129.0   \n",
              "1    -122.22     37.86                21.0       7099.0          1106.0   \n",
              "2    -122.24     37.85                52.0       1467.0           190.0   \n",
              "3    -122.25     37.85                52.0       1274.0           235.0   \n",
              "4    -122.25     37.85                52.0       1627.0           280.0   \n",
              "\n",
              "   population  households  median_income  median_house_value ocean_proximity  \\\n",
              "0       322.0       126.0         8.3252            452600.0        NEAR BAY   \n",
              "1      2401.0      1138.0         8.3014            358500.0        NEAR BAY   \n",
              "2       496.0       177.0         7.2574            352100.0        NEAR BAY   \n",
              "3       558.0       219.0         5.6431            341300.0        NEAR BAY   \n",
              "4       565.0       259.0         3.8462            342200.0        NEAR BAY   \n",
              "\n",
              "   rooms_per_household  bedrooms_per_room  population_per_household  \\\n",
              "0             6.984127           0.146591                  2.555556   \n",
              "1             6.238137           0.155797                  2.109842   \n",
              "2             8.288136           0.129516                  2.802260   \n",
              "3             5.817352           0.184458                  2.547945   \n",
              "4             6.281853           0.172096                  2.181467   \n",
              "\n",
              "   above_average  \n",
              "0              1  \n",
              "1              1  \n",
              "2              1  \n",
              "3              1  \n",
              "4              1  "
            ],
            "text/html": [
              "\n",
              "  <div id=\"df-aa9c500f-ac85-4bc4-9e84-e83622f3ba3c\">\n",
              "    <div class=\"colab-df-container\">\n",
              "      <div>\n",
              "<style scoped>\n",
              "    .dataframe tbody tr th:only-of-type {\n",
              "        vertical-align: middle;\n",
              "    }\n",
              "\n",
              "    .dataframe tbody tr th {\n",
              "        vertical-align: top;\n",
              "    }\n",
              "\n",
              "    .dataframe thead th {\n",
              "        text-align: right;\n",
              "    }\n",
              "</style>\n",
              "<table border=\"1\" class=\"dataframe\">\n",
              "  <thead>\n",
              "    <tr style=\"text-align: right;\">\n",
              "      <th></th>\n",
              "      <th>longitude</th>\n",
              "      <th>latitude</th>\n",
              "      <th>housing_median_age</th>\n",
              "      <th>total_rooms</th>\n",
              "      <th>total_bedrooms</th>\n",
              "      <th>population</th>\n",
              "      <th>households</th>\n",
              "      <th>median_income</th>\n",
              "      <th>median_house_value</th>\n",
              "      <th>ocean_proximity</th>\n",
              "      <th>rooms_per_household</th>\n",
              "      <th>bedrooms_per_room</th>\n",
              "      <th>population_per_household</th>\n",
              "      <th>above_average</th>\n",
              "    </tr>\n",
              "  </thead>\n",
              "  <tbody>\n",
              "    <tr>\n",
              "      <th>0</th>\n",
              "      <td>-122.23</td>\n",
              "      <td>37.88</td>\n",
              "      <td>41.0</td>\n",
              "      <td>880.0</td>\n",
              "      <td>129.0</td>\n",
              "      <td>322.0</td>\n",
              "      <td>126.0</td>\n",
              "      <td>8.3252</td>\n",
              "      <td>452600.0</td>\n",
              "      <td>NEAR BAY</td>\n",
              "      <td>6.984127</td>\n",
              "      <td>0.146591</td>\n",
              "      <td>2.555556</td>\n",
              "      <td>1</td>\n",
              "    </tr>\n",
              "    <tr>\n",
              "      <th>1</th>\n",
              "      <td>-122.22</td>\n",
              "      <td>37.86</td>\n",
              "      <td>21.0</td>\n",
              "      <td>7099.0</td>\n",
              "      <td>1106.0</td>\n",
              "      <td>2401.0</td>\n",
              "      <td>1138.0</td>\n",
              "      <td>8.3014</td>\n",
              "      <td>358500.0</td>\n",
              "      <td>NEAR BAY</td>\n",
              "      <td>6.238137</td>\n",
              "      <td>0.155797</td>\n",
              "      <td>2.109842</td>\n",
              "      <td>1</td>\n",
              "    </tr>\n",
              "    <tr>\n",
              "      <th>2</th>\n",
              "      <td>-122.24</td>\n",
              "      <td>37.85</td>\n",
              "      <td>52.0</td>\n",
              "      <td>1467.0</td>\n",
              "      <td>190.0</td>\n",
              "      <td>496.0</td>\n",
              "      <td>177.0</td>\n",
              "      <td>7.2574</td>\n",
              "      <td>352100.0</td>\n",
              "      <td>NEAR BAY</td>\n",
              "      <td>8.288136</td>\n",
              "      <td>0.129516</td>\n",
              "      <td>2.802260</td>\n",
              "      <td>1</td>\n",
              "    </tr>\n",
              "    <tr>\n",
              "      <th>3</th>\n",
              "      <td>-122.25</td>\n",
              "      <td>37.85</td>\n",
              "      <td>52.0</td>\n",
              "      <td>1274.0</td>\n",
              "      <td>235.0</td>\n",
              "      <td>558.0</td>\n",
              "      <td>219.0</td>\n",
              "      <td>5.6431</td>\n",
              "      <td>341300.0</td>\n",
              "      <td>NEAR BAY</td>\n",
              "      <td>5.817352</td>\n",
              "      <td>0.184458</td>\n",
              "      <td>2.547945</td>\n",
              "      <td>1</td>\n",
              "    </tr>\n",
              "    <tr>\n",
              "      <th>4</th>\n",
              "      <td>-122.25</td>\n",
              "      <td>37.85</td>\n",
              "      <td>52.0</td>\n",
              "      <td>1627.0</td>\n",
              "      <td>280.0</td>\n",
              "      <td>565.0</td>\n",
              "      <td>259.0</td>\n",
              "      <td>3.8462</td>\n",
              "      <td>342200.0</td>\n",
              "      <td>NEAR BAY</td>\n",
              "      <td>6.281853</td>\n",
              "      <td>0.172096</td>\n",
              "      <td>2.181467</td>\n",
              "      <td>1</td>\n",
              "    </tr>\n",
              "  </tbody>\n",
              "</table>\n",
              "</div>\n",
              "      <button class=\"colab-df-convert\" onclick=\"convertToInteractive('df-aa9c500f-ac85-4bc4-9e84-e83622f3ba3c')\"\n",
              "              title=\"Convert this dataframe to an interactive table.\"\n",
              "              style=\"display:none;\">\n",
              "        \n",
              "  <svg xmlns=\"http://www.w3.org/2000/svg\" height=\"24px\"viewBox=\"0 0 24 24\"\n",
              "       width=\"24px\">\n",
              "    <path d=\"M0 0h24v24H0V0z\" fill=\"none\"/>\n",
              "    <path d=\"M18.56 5.44l.94 2.06.94-2.06 2.06-.94-2.06-.94-.94-2.06-.94 2.06-2.06.94zm-11 1L8.5 8.5l.94-2.06 2.06-.94-2.06-.94L8.5 2.5l-.94 2.06-2.06.94zm10 10l.94 2.06.94-2.06 2.06-.94-2.06-.94-.94-2.06-.94 2.06-2.06.94z\"/><path d=\"M17.41 7.96l-1.37-1.37c-.4-.4-.92-.59-1.43-.59-.52 0-1.04.2-1.43.59L10.3 9.45l-7.72 7.72c-.78.78-.78 2.05 0 2.83L4 21.41c.39.39.9.59 1.41.59.51 0 1.02-.2 1.41-.59l7.78-7.78 2.81-2.81c.8-.78.8-2.07 0-2.86zM5.41 20L4 18.59l7.72-7.72 1.47 1.35L5.41 20z\"/>\n",
              "  </svg>\n",
              "      </button>\n",
              "      \n",
              "  <style>\n",
              "    .colab-df-container {\n",
              "      display:flex;\n",
              "      flex-wrap:wrap;\n",
              "      gap: 12px;\n",
              "    }\n",
              "\n",
              "    .colab-df-convert {\n",
              "      background-color: #E8F0FE;\n",
              "      border: none;\n",
              "      border-radius: 50%;\n",
              "      cursor: pointer;\n",
              "      display: none;\n",
              "      fill: #1967D2;\n",
              "      height: 32px;\n",
              "      padding: 0 0 0 0;\n",
              "      width: 32px;\n",
              "    }\n",
              "\n",
              "    .colab-df-convert:hover {\n",
              "      background-color: #E2EBFA;\n",
              "      box-shadow: 0px 1px 2px rgba(60, 64, 67, 0.3), 0px 1px 3px 1px rgba(60, 64, 67, 0.15);\n",
              "      fill: #174EA6;\n",
              "    }\n",
              "\n",
              "    [theme=dark] .colab-df-convert {\n",
              "      background-color: #3B4455;\n",
              "      fill: #D2E3FC;\n",
              "    }\n",
              "\n",
              "    [theme=dark] .colab-df-convert:hover {\n",
              "      background-color: #434B5C;\n",
              "      box-shadow: 0px 1px 3px 1px rgba(0, 0, 0, 0.15);\n",
              "      filter: drop-shadow(0px 1px 2px rgba(0, 0, 0, 0.3));\n",
              "      fill: #FFFFFF;\n",
              "    }\n",
              "  </style>\n",
              "\n",
              "      <script>\n",
              "        const buttonEl =\n",
              "          document.querySelector('#df-aa9c500f-ac85-4bc4-9e84-e83622f3ba3c button.colab-df-convert');\n",
              "        buttonEl.style.display =\n",
              "          google.colab.kernel.accessAllowed ? 'block' : 'none';\n",
              "\n",
              "        async function convertToInteractive(key) {\n",
              "          const element = document.querySelector('#df-aa9c500f-ac85-4bc4-9e84-e83622f3ba3c');\n",
              "          const dataTable =\n",
              "            await google.colab.kernel.invokeFunction('convertToInteractive',\n",
              "                                                     [key], {});\n",
              "          if (!dataTable) return;\n",
              "\n",
              "          const docLinkHtml = 'Like what you see? Visit the ' +\n",
              "            '<a target=\"_blank\" href=https://colab.research.google.com/notebooks/data_table.ipynb>data table notebook</a>'\n",
              "            + ' to learn more about interactive tables.';\n",
              "          element.innerHTML = '';\n",
              "          dataTable['output_type'] = 'display_data';\n",
              "          await google.colab.output.renderOutput(dataTable, element);\n",
              "          const docLink = document.createElement('div');\n",
              "          docLink.innerHTML = docLinkHtml;\n",
              "          element.appendChild(docLink);\n",
              "        }\n",
              "      </script>\n",
              "    </div>\n",
              "  </div>\n",
              "  "
            ]
          },
          "metadata": {},
          "execution_count": 21
        }
      ],
      "source": [
        "df['above_average'] = (df['median_house_value'] > house_value_mean).astype(int)\n",
        "df.head()"
      ]
    },
    {
      "cell_type": "markdown",
      "source": [
        "# Split the data\n",
        "- Split your data in train/val/test sets, with 60%/20%/20% distribution.\n",
        "- Use Scikit-Learn for that (the train_test_split function) and set the seed to 42.\n",
        "- Make sure that the target value (median_house_value) is not in your dataframe."
      ],
      "metadata": {
        "id": "hauzRH1oKRH9"
      }
    },
    {
      "cell_type": "code",
      "source": [
        "# Drop median house value, since we will use it as `above_average`\n",
        "df = df.drop('median_house_value', axis=1)"
      ],
      "metadata": {
        "id": "mmksRYm1r6nQ"
      },
      "execution_count": 22,
      "outputs": []
    },
    {
      "cell_type": "code",
      "execution_count": 23,
      "metadata": {
        "id": "UIPPsJ_6HGMx"
      },
      "outputs": [],
      "source": [
        "# Split data\n",
        "df_train, df_excess = train_test_split(df, train_size=0.6, random_state=42)\n",
        "\n",
        "df_val, df_test = train_test_split(df_excess, train_size=0.5, random_state=42)"
      ]
    },
    {
      "cell_type": "code",
      "execution_count": 24,
      "metadata": {
        "id": "7wOBkfqzIVA6",
        "colab": {
          "base_uri": "https://localhost:8080/"
        },
        "outputId": "603e3df9-8e72-4d1c-b951-87b6d0f0c43f"
      },
      "outputs": [
        {
          "output_type": "execute_result",
          "data": {
            "text/plain": [
              "((12384, 13), (4128, 13), (4128, 13))"
            ]
          },
          "metadata": {},
          "execution_count": 24
        }
      ],
      "source": [
        "df_train.shape, df_val.shape, df_test.shape "
      ]
    },
    {
      "cell_type": "code",
      "source": [
        "# Target variable\n",
        "y_train = df_train['above_average'].values\n",
        "y_val = df_val['above_average'].values\n",
        "y_test = df_test['above_average'].values"
      ],
      "metadata": {
        "id": "e0bbG9IuZqS6"
      },
      "execution_count": 25,
      "outputs": []
    },
    {
      "cell_type": "markdown",
      "source": [
        "# Question 3\n",
        "- Calculate the mutual information score between `above_average` and `ocean_proximity`. Use the training set only.\n",
        "- Round it to 2 decimals using round(score, 2)\n",
        "- What is their mutual information score?\n",
        "\n",
        "Options:\n",
        "\n",
        "- 0.26\n",
        "- 0\n",
        "- 0.10\n",
        "- 0.16"
      ],
      "metadata": {
        "id": "k86EEjgWORiL"
      }
    },
    {
      "cell_type": "code",
      "source": [
        "score = mutual_info_score(df_train['above_average'], df_train['ocean_proximity'])\n",
        "print(score, round(score, 2))"
      ],
      "metadata": {
        "colab": {
          "base_uri": "https://localhost:8080/"
        },
        "id": "eanDA0MOL2YO",
        "outputId": "39b8af86-f051-4ad8-fb40-8371dafe8eff"
      },
      "execution_count": 26,
      "outputs": [
        {
          "output_type": "stream",
          "name": "stdout",
          "text": [
            "0.10266844079906365 0.1\n"
          ]
        }
      ]
    },
    {
      "cell_type": "markdown",
      "source": [
        "> **Answer:** <br/>\n",
        "0.10"
      ],
      "metadata": {
        "id": "MHx0vEJgP8E_"
      }
    },
    {
      "cell_type": "code",
      "source": [
        "# Drop target class\n",
        "df_train = df_train.drop('above_average', axis=1)\n",
        "df_val = df_val.drop('above_average', axis=1)\n",
        "df_test = df_test.drop('above_average', axis=1)"
      ],
      "metadata": {
        "id": "sTJgBKYZuCpj"
      },
      "execution_count": 27,
      "outputs": []
    },
    {
      "cell_type": "markdown",
      "source": [
        "# Question 4\n",
        "- Now let's train a logistic regression\n",
        "- Remember that we have one categorical variable `ocean_proximity` in the data. Include it using one-hot encoding.\n",
        "- Fit the model on the training dataset.\n",
        "  - To make sure the results are reproducible across different versions of Scikit-Learn, fit the model with these parameters:\n",
        "  - model = LogisticRegression(solver=\"liblinear\", C=1.0, max_iter=1000, random_state=42)\n",
        "- Calculate the accuracy on the validation dataset and round it to 2 decimal digits.\n",
        "\n",
        "Options:\n",
        "\n",
        "- 0.60\n",
        "- 0.72\n",
        "- 0.84\n",
        "- 0.95"
      ],
      "metadata": {
        "id": "fsi2wycDQJ00"
      }
    },
    {
      "cell_type": "markdown",
      "source": [
        "## One-hot encoding for `ocean_proximity`"
      ],
      "metadata": {
        "id": "xyOIyzsFVFEb"
      }
    },
    {
      "cell_type": "code",
      "source": [
        "# Turn train data to dict\n",
        "dict_train = df_train.to_dict(orient='records')"
      ],
      "metadata": {
        "id": "Ly7RNomyVTfX"
      },
      "execution_count": 28,
      "outputs": []
    },
    {
      "cell_type": "code",
      "source": [
        "dv = DictVectorizer(sparse=False)"
      ],
      "metadata": {
        "id": "e_vKKwTfNykh"
      },
      "execution_count": 29,
      "outputs": []
    },
    {
      "cell_type": "code",
      "source": [
        "# Fit and transform\n",
        "X_train = dv.fit_transform(dict_train)"
      ],
      "metadata": {
        "id": "uf4gvnLtNzJh"
      },
      "execution_count": 30,
      "outputs": []
    },
    {
      "cell_type": "code",
      "source": [
        "# Feature names\n",
        "dv.get_feature_names()"
      ],
      "metadata": {
        "colab": {
          "base_uri": "https://localhost:8080/"
        },
        "id": "QvRc40IcWMmZ",
        "outputId": "7f4fbbeb-3d24-4eaa-d04a-612d7bf138d7"
      },
      "execution_count": 31,
      "outputs": [
        {
          "output_type": "stream",
          "name": "stderr",
          "text": [
            "/usr/local/lib/python3.7/dist-packages/sklearn/utils/deprecation.py:87: FutureWarning: Function get_feature_names is deprecated; get_feature_names is deprecated in 1.0 and will be removed in 1.2. Please use get_feature_names_out instead.\n",
            "  warnings.warn(msg, category=FutureWarning)\n"
          ]
        },
        {
          "output_type": "execute_result",
          "data": {
            "text/plain": [
              "['bedrooms_per_room',\n",
              " 'households',\n",
              " 'housing_median_age',\n",
              " 'latitude',\n",
              " 'longitude',\n",
              " 'median_income',\n",
              " 'ocean_proximity=<1H OCEAN',\n",
              " 'ocean_proximity=INLAND',\n",
              " 'ocean_proximity=ISLAND',\n",
              " 'ocean_proximity=NEAR BAY',\n",
              " 'ocean_proximity=NEAR OCEAN',\n",
              " 'population',\n",
              " 'population_per_household',\n",
              " 'rooms_per_household',\n",
              " 'total_bedrooms',\n",
              " 'total_rooms']"
            ]
          },
          "metadata": {},
          "execution_count": 31
        }
      ]
    },
    {
      "cell_type": "markdown",
      "source": [
        "## Fit the model on the training dataset"
      ],
      "metadata": {
        "id": "hP_7e3h6W_hZ"
      }
    },
    {
      "cell_type": "code",
      "source": [
        "model = LogisticRegression(solver=\"liblinear\", C=1.0, max_iter=1000, random_state=42)"
      ],
      "metadata": {
        "id": "5Dk-WngSWcCU"
      },
      "execution_count": 32,
      "outputs": []
    },
    {
      "cell_type": "code",
      "source": [
        "model.fit(X_train, y_train) "
      ],
      "metadata": {
        "colab": {
          "base_uri": "https://localhost:8080/"
        },
        "id": "Nz8OnlHyWqMh",
        "outputId": "52d2d9d4-c7f8-43b1-fbd6-5baa3d9da315"
      },
      "execution_count": 33,
      "outputs": [
        {
          "output_type": "execute_result",
          "data": {
            "text/plain": [
              "LogisticRegression(max_iter=1000, random_state=42, solver='liblinear')"
            ]
          },
          "metadata": {},
          "execution_count": 33
        }
      ]
    },
    {
      "cell_type": "code",
      "source": [
        "X_train.shape, y_train.shape"
      ],
      "metadata": {
        "colab": {
          "base_uri": "https://localhost:8080/"
        },
        "id": "vUy5i_owYDFP",
        "outputId": "026d3fe4-7928-46da-a05c-fa4be08123ce"
      },
      "execution_count": 34,
      "outputs": [
        {
          "output_type": "execute_result",
          "data": {
            "text/plain": [
              "((12384, 16), (12384,))"
            ]
          },
          "metadata": {},
          "execution_count": 34
        }
      ]
    },
    {
      "cell_type": "markdown",
      "source": [
        "## Calculate accuracy on validation set"
      ],
      "metadata": {
        "id": "O6N3jRXnsep8"
      }
    },
    {
      "cell_type": "code",
      "source": [
        "val_dict = df_val.to_dict(orient='records')\n",
        "X_val = dv.transform(val_dict)\n",
        "y_pred = model.predict(X_val)\n",
        "\n",
        "score = accuracy_score(y_val, y_pred)\n",
        "print(np.round(score,2))"
      ],
      "metadata": {
        "colab": {
          "base_uri": "https://localhost:8080/"
        },
        "id": "1daACpDXasog",
        "outputId": "0ad23c6e-e527-42c1-81d3-0e9c12918eb9"
      },
      "execution_count": 35,
      "outputs": [
        {
          "output_type": "stream",
          "name": "stdout",
          "text": [
            "0.83\n"
          ]
        }
      ]
    },
    {
      "cell_type": "markdown",
      "source": [
        "> **Answer:** <br/>\n",
        "~= 0.84"
      ],
      "metadata": {
        "id": "2XancazsuHvm"
      }
    },
    {
      "cell_type": "markdown",
      "source": [
        "# Question 5\n",
        "- Let's find the least useful feature using the feature elimination technique.\n",
        "- Train a model with all these features (using the same parameters as in Q4).\n",
        "- Now exclude each feature from this set and train a model without it. Record the accuracy for each model.\n",
        "- For each feature, calculate the difference between the original accuracy and the accuracy without the feature.\n",
        "- Which of following feature has the smallest difference?\n",
        "  - `total_rooms`\n",
        "  - `total_bedrooms`\n",
        "  - `population`\n",
        "  - `households`\n",
        "\n",
        ">Note: the difference doesn't have to be positive"
      ],
      "metadata": {
        "id": "2ORE6oE3uTLv"
      }
    },
    {
      "cell_type": "code",
      "source": [
        "features = ['bedrooms_per_room',\n",
        " 'households',\n",
        " 'housing_median_age',\n",
        " 'latitude',\n",
        " 'longitude',\n",
        " 'median_income',\n",
        " 'ocean_proximity',\n",
        " 'population',\n",
        " 'population_per_household',\n",
        " 'rooms_per_household',\n",
        " 'total_bedrooms',\n",
        " 'total_rooms']"
      ],
      "metadata": {
        "id": "35yuTcL304yG"
      },
      "execution_count": 36,
      "outputs": []
    },
    {
      "cell_type": "code",
      "source": [
        "diff_least = 1\n",
        "\n",
        "for feature in features:\n",
        "  new_features = features.copy()\n",
        "  new_features.remove(feature)\n",
        "\n",
        "  train_dict = df_train[new_features].to_dict(orient='records')\n",
        "\n",
        "  dv = DictVectorizer(sparse=False)\n",
        "  X_train = dv.fit_transform(train_dict)\n",
        "\n",
        "  model = LogisticRegression(solver=\"liblinear\", C=1.0, max_iter=1000, random_state=42)\n",
        "  model.fit(X_train, y_train) \n",
        "\n",
        "  val_dict = df_val[new_features].to_dict(orient='records')\n",
        "  X_val = dv.transform(val_dict)\n",
        "\n",
        "  y_pred = model.predict(X_val)\n",
        "\n",
        "  new_score = accuracy_score(y_val, y_pred)\n",
        "\n",
        "  diff = abs(score - new_score)\n",
        "  if diff<diff_least:\n",
        "    diff_least = diff\n",
        "    feature_least = feature\n",
        "\n",
        "  print(f'{feature},      {diff},      {new_score}')\n",
        "  print('-----------------------------------------------------------------------')\n",
        "\n",
        "print(f'Feature {feature_least} has the least difference of {diff_least}')"
      ],
      "metadata": {
        "colab": {
          "base_uri": "https://localhost:8080/"
        },
        "id": "vnoIYC5ltNHT",
        "outputId": "3e23113b-efb8-4046-fb36-1bfa8c819de7"
      },
      "execution_count": 37,
      "outputs": [
        {
          "output_type": "stream",
          "name": "stdout",
          "text": [
            "bedrooms_per_room,      0.0002422480620154488,      0.8275193798449613\n",
            "-----------------------------------------------------------------------\n",
            "households,      0.004602713178294526,      0.8231589147286822\n",
            "-----------------------------------------------------------------------\n",
            "housing_median_age,      0.006056201550387552,      0.8217054263565892\n",
            "-----------------------------------------------------------------------\n",
            "latitude,      0.0031492248062015005,      0.8246124031007752\n",
            "-----------------------------------------------------------------------\n",
            "longitude,      0.0004844961240310086,      0.8272771317829457\n",
            "-----------------------------------------------------------------------\n",
            "median_income,      0.04093992248062017,      0.7868217054263565\n",
            "-----------------------------------------------------------------------\n",
            "ocean_proximity,      0.017926356589147208,      0.8098352713178295\n",
            "-----------------------------------------------------------------------\n",
            "population,      0.009689922480620172,      0.8180717054263565\n",
            "-----------------------------------------------------------------------\n",
            "population_per_household,      0.0014534883720930258,      0.8263081395348837\n",
            "-----------------------------------------------------------------------\n",
            "rooms_per_household,      0.0002422480620154488,      0.8275193798449613\n",
            "-----------------------------------------------------------------------\n",
            "total_bedrooms,      0.002664728682170603,      0.8304263565891473\n",
            "-----------------------------------------------------------------------\n",
            "total_rooms,      0.0002422480620154488,      0.8275193798449613\n",
            "-----------------------------------------------------------------------\n",
            "Feature bedrooms_per_room has the least difference of 0.0002422480620154488\n"
          ]
        }
      ]
    },
    {
      "cell_type": "markdown",
      "source": [
        "> **Answer:** <br/>\n",
        "`total_bedrooms` "
      ],
      "metadata": {
        "id": "qRBhHVB42kzU"
      }
    },
    {
      "cell_type": "markdown",
      "source": [
        "# Question 6\n",
        "- For this question, we'll see how to use a linear regression model from Scikit-Learn\n",
        "- We'll need to use the original column `'median_house_value'`. Apply the logarithmic transformation to this column.\n",
        "- Fit the Ridge regression model (`model = Ridge(alpha=a, solver=\"sag\", random_state=42)`) on the training data.\n",
        "- This model has a parameter `alpha`. Let's try the following values: `[0, 0.01, 0.1, 1, 10]`\n",
        "- Which of these alphas leads to the best RMSE on the validation set? Round your RMSE scores to 3 decimal digits.\n",
        "- If there are multiple options, select the smallest `alpha`.\n",
        "\n",
        "Options:\n",
        "\n",
        "- 0\n",
        "- 0.01\n",
        "- 0.1\n",
        "- 1\n",
        "- 10"
      ],
      "metadata": {
        "id": "RMHU70wduk_p"
      }
    },
    {
      "cell_type": "code",
      "source": [
        "dict_train = df_train.to_dict(orient='records')"
      ],
      "metadata": {
        "id": "b5KTyg-0uuih"
      },
      "execution_count": 44,
      "outputs": []
    },
    {
      "cell_type": "code",
      "source": [
        "dv = DictVectorizer(sparse=False)\n",
        "X_train = dv.fit_transform(train_dict)\n",
        "\n",
        "val_dict = df_val.to_dict(orient='records')\n",
        "X_val = dv.transform(val_dict)"
      ],
      "metadata": {
        "id": "yBXAjh3GHkPS"
      },
      "execution_count": 45,
      "outputs": []
    },
    {
      "cell_type": "code",
      "source": [
        "for a in [0, 0.01, 0.1, 1, 10]:\n",
        "  model = Ridge(alpha=a, solver=\"sag\", random_state=42)\n",
        "  model.fit(X_train, y_train)\n",
        "  y_pred = model.predict(X_val)\n",
        "  \n",
        "  score = np.sqrt(mean_squared_error(y_val, y_pred))\n",
        "  \n",
        "  print(a, round(score, 4))"
      ],
      "metadata": {
        "colab": {
          "base_uri": "https://localhost:8080/"
        },
        "id": "lTyToo5UHol7",
        "outputId": "9688d630-9671-4ca5-8c97-1fe79118baf2"
      },
      "execution_count": 49,
      "outputs": [
        {
          "output_type": "stream",
          "name": "stdout",
          "text": [
            "0 0.4727\n",
            "0.01 0.4727\n",
            "0.1 0.4727\n",
            "1 0.4727\n",
            "10 0.4727\n"
          ]
        }
      ]
    },
    {
      "cell_type": "markdown",
      "source": [
        "> **Answer:** <br/>\n",
        "0"
      ],
      "metadata": {
        "id": "5YDjeNDoJdeP"
      }
    }
  ],
  "metadata": {
    "colab": {
      "collapsed_sections": [],
      "provenance": [],
      "authorship_tag": "ABX9TyOZca8SQFUM94zPWgsuitmd",
      "include_colab_link": true
    },
    "kernelspec": {
      "display_name": "Python 3",
      "name": "python3"
    },
    "language_info": {
      "name": "python"
    }
  },
  "nbformat": 4,
  "nbformat_minor": 0
}